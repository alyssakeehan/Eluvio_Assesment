{
 "cells": [
  {
   "cell_type": "code",
   "execution_count": 1,
   "id": "otherwise-rough",
   "metadata": {},
   "outputs": [],
   "source": [
    "import pandas as pd\n",
    "import math"
   ]
  },
  {
   "cell_type": "code",
   "execution_count": 2,
   "id": "scientific-occupation",
   "metadata": {},
   "outputs": [],
   "source": [
    "use_data = pd.read_csv('Eluvio_DS_Challenge.csv')"
   ]
  },
  {
   "cell_type": "code",
   "execution_count": 3,
   "id": "stuffed-punishment",
   "metadata": {
    "scrolled": true
   },
   "outputs": [
    {
     "data": {
      "text/html": [
       "<div>\n",
       "<style scoped>\n",
       "    .dataframe tbody tr th:only-of-type {\n",
       "        vertical-align: middle;\n",
       "    }\n",
       "\n",
       "    .dataframe tbody tr th {\n",
       "        vertical-align: top;\n",
       "    }\n",
       "\n",
       "    .dataframe thead th {\n",
       "        text-align: right;\n",
       "    }\n",
       "</style>\n",
       "<table border=\"1\" class=\"dataframe\">\n",
       "  <thead>\n",
       "    <tr style=\"text-align: right;\">\n",
       "      <th></th>\n",
       "      <th>time_created</th>\n",
       "      <th>date_created</th>\n",
       "      <th>up_votes</th>\n",
       "      <th>down_votes</th>\n",
       "      <th>title</th>\n",
       "      <th>over_18</th>\n",
       "      <th>author</th>\n",
       "      <th>category</th>\n",
       "    </tr>\n",
       "  </thead>\n",
       "  <tbody>\n",
       "    <tr>\n",
       "      <th>0</th>\n",
       "      <td>1201232046</td>\n",
       "      <td>2008-01-25</td>\n",
       "      <td>3</td>\n",
       "      <td>0</td>\n",
       "      <td>Scores killed in Pakistan clashes</td>\n",
       "      <td>False</td>\n",
       "      <td>polar</td>\n",
       "      <td>worldnews</td>\n",
       "    </tr>\n",
       "    <tr>\n",
       "      <th>1</th>\n",
       "      <td>1201232075</td>\n",
       "      <td>2008-01-25</td>\n",
       "      <td>2</td>\n",
       "      <td>0</td>\n",
       "      <td>Japan resumes refuelling mission</td>\n",
       "      <td>False</td>\n",
       "      <td>polar</td>\n",
       "      <td>worldnews</td>\n",
       "    </tr>\n",
       "    <tr>\n",
       "      <th>2</th>\n",
       "      <td>1201232523</td>\n",
       "      <td>2008-01-25</td>\n",
       "      <td>3</td>\n",
       "      <td>0</td>\n",
       "      <td>US presses Egypt on Gaza border</td>\n",
       "      <td>False</td>\n",
       "      <td>polar</td>\n",
       "      <td>worldnews</td>\n",
       "    </tr>\n",
       "    <tr>\n",
       "      <th>3</th>\n",
       "      <td>1201233290</td>\n",
       "      <td>2008-01-25</td>\n",
       "      <td>1</td>\n",
       "      <td>0</td>\n",
       "      <td>Jump-start economy: Give health care to all</td>\n",
       "      <td>False</td>\n",
       "      <td>fadi420</td>\n",
       "      <td>worldnews</td>\n",
       "    </tr>\n",
       "    <tr>\n",
       "      <th>4</th>\n",
       "      <td>1201274720</td>\n",
       "      <td>2008-01-25</td>\n",
       "      <td>4</td>\n",
       "      <td>0</td>\n",
       "      <td>Council of Europe bashes EU&amp;UN terror blacklist</td>\n",
       "      <td>False</td>\n",
       "      <td>mhermans</td>\n",
       "      <td>worldnews</td>\n",
       "    </tr>\n",
       "  </tbody>\n",
       "</table>\n",
       "</div>"
      ],
      "text/plain": [
       "   time_created date_created  up_votes  down_votes  \\\n",
       "0    1201232046   2008-01-25         3           0   \n",
       "1    1201232075   2008-01-25         2           0   \n",
       "2    1201232523   2008-01-25         3           0   \n",
       "3    1201233290   2008-01-25         1           0   \n",
       "4    1201274720   2008-01-25         4           0   \n",
       "\n",
       "                                             title  over_18    author  \\\n",
       "0                Scores killed in Pakistan clashes    False     polar   \n",
       "1                 Japan resumes refuelling mission    False     polar   \n",
       "2                  US presses Egypt on Gaza border    False     polar   \n",
       "3     Jump-start economy: Give health care to all     False   fadi420   \n",
       "4  Council of Europe bashes EU&UN terror blacklist    False  mhermans   \n",
       "\n",
       "    category  \n",
       "0  worldnews  \n",
       "1  worldnews  \n",
       "2  worldnews  \n",
       "3  worldnews  \n",
       "4  worldnews  "
      ]
     },
     "execution_count": 3,
     "metadata": {},
     "output_type": "execute_result"
    }
   ],
   "source": [
    "use_data.head()"
   ]
  },
  {
   "cell_type": "markdown",
   "id": "muslim-carpet",
   "metadata": {},
   "source": [
    "Based on looks alone, it looks like this data is taken from reddit. I can tell from the up votes and downvotes. All of them under then thread regarding world news. The variables taken into account are the data created, number of up and down votes, titels, whether the content is open to those over 18 years old and the author. "
   ]
  },
  {
   "cell_type": "markdown",
   "id": "treated-disabled",
   "metadata": {},
   "source": [
    "# Clean and Tidy the Data"
   ]
  },
  {
   "cell_type": "code",
   "execution_count": 4,
   "id": "critical-context",
   "metadata": {
    "scrolled": true
   },
   "outputs": [
    {
     "data": {
      "text/html": [
       "<div>\n",
       "<style scoped>\n",
       "    .dataframe tbody tr th:only-of-type {\n",
       "        vertical-align: middle;\n",
       "    }\n",
       "\n",
       "    .dataframe tbody tr th {\n",
       "        vertical-align: top;\n",
       "    }\n",
       "\n",
       "    .dataframe thead th {\n",
       "        text-align: right;\n",
       "    }\n",
       "</style>\n",
       "<table border=\"1\" class=\"dataframe\">\n",
       "  <thead>\n",
       "    <tr style=\"text-align: right;\">\n",
       "      <th></th>\n",
       "      <th>time_created</th>\n",
       "      <th>date_created</th>\n",
       "      <th>up_votes</th>\n",
       "      <th>down_votes</th>\n",
       "      <th>title</th>\n",
       "      <th>over_18</th>\n",
       "      <th>author</th>\n",
       "      <th>category</th>\n",
       "    </tr>\n",
       "  </thead>\n",
       "  <tbody>\n",
       "  </tbody>\n",
       "</table>\n",
       "</div>"
      ],
      "text/plain": [
       "Empty DataFrame\n",
       "Columns: [time_created, date_created, up_votes, down_votes, title, over_18, author, category]\n",
       "Index: []"
      ]
     },
     "execution_count": 4,
     "metadata": {},
     "output_type": "execute_result"
    }
   ],
   "source": [
    "use_data[use_data.category != 'worldnews']"
   ]
  },
  {
   "cell_type": "markdown",
   "id": "alternative-process",
   "metadata": {},
   "source": [
    "Getting rid of the category column since they are all worldnews"
   ]
  },
  {
   "cell_type": "code",
   "execution_count": 5,
   "id": "detailed-dance",
   "metadata": {
    "scrolled": true
   },
   "outputs": [
    {
     "data": {
      "text/html": [
       "<div>\n",
       "<style scoped>\n",
       "    .dataframe tbody tr th:only-of-type {\n",
       "        vertical-align: middle;\n",
       "    }\n",
       "\n",
       "    .dataframe tbody tr th {\n",
       "        vertical-align: top;\n",
       "    }\n",
       "\n",
       "    .dataframe thead th {\n",
       "        text-align: right;\n",
       "    }\n",
       "</style>\n",
       "<table border=\"1\" class=\"dataframe\">\n",
       "  <thead>\n",
       "    <tr style=\"text-align: right;\">\n",
       "      <th></th>\n",
       "      <th>time_created</th>\n",
       "      <th>date_created</th>\n",
       "      <th>up_votes</th>\n",
       "      <th>down_votes</th>\n",
       "      <th>title</th>\n",
       "      <th>over_18</th>\n",
       "      <th>author</th>\n",
       "    </tr>\n",
       "  </thead>\n",
       "  <tbody>\n",
       "    <tr>\n",
       "      <th>0</th>\n",
       "      <td>1201232046</td>\n",
       "      <td>2008-01-25</td>\n",
       "      <td>3</td>\n",
       "      <td>0</td>\n",
       "      <td>Scores killed in Pakistan clashes</td>\n",
       "      <td>False</td>\n",
       "      <td>polar</td>\n",
       "    </tr>\n",
       "    <tr>\n",
       "      <th>1</th>\n",
       "      <td>1201232075</td>\n",
       "      <td>2008-01-25</td>\n",
       "      <td>2</td>\n",
       "      <td>0</td>\n",
       "      <td>Japan resumes refuelling mission</td>\n",
       "      <td>False</td>\n",
       "      <td>polar</td>\n",
       "    </tr>\n",
       "    <tr>\n",
       "      <th>2</th>\n",
       "      <td>1201232523</td>\n",
       "      <td>2008-01-25</td>\n",
       "      <td>3</td>\n",
       "      <td>0</td>\n",
       "      <td>US presses Egypt on Gaza border</td>\n",
       "      <td>False</td>\n",
       "      <td>polar</td>\n",
       "    </tr>\n",
       "    <tr>\n",
       "      <th>3</th>\n",
       "      <td>1201233290</td>\n",
       "      <td>2008-01-25</td>\n",
       "      <td>1</td>\n",
       "      <td>0</td>\n",
       "      <td>Jump-start economy: Give health care to all</td>\n",
       "      <td>False</td>\n",
       "      <td>fadi420</td>\n",
       "    </tr>\n",
       "    <tr>\n",
       "      <th>4</th>\n",
       "      <td>1201274720</td>\n",
       "      <td>2008-01-25</td>\n",
       "      <td>4</td>\n",
       "      <td>0</td>\n",
       "      <td>Council of Europe bashes EU&amp;UN terror blacklist</td>\n",
       "      <td>False</td>\n",
       "      <td>mhermans</td>\n",
       "    </tr>\n",
       "  </tbody>\n",
       "</table>\n",
       "</div>"
      ],
      "text/plain": [
       "   time_created date_created  up_votes  down_votes  \\\n",
       "0    1201232046   2008-01-25         3           0   \n",
       "1    1201232075   2008-01-25         2           0   \n",
       "2    1201232523   2008-01-25         3           0   \n",
       "3    1201233290   2008-01-25         1           0   \n",
       "4    1201274720   2008-01-25         4           0   \n",
       "\n",
       "                                             title  over_18    author  \n",
       "0                Scores killed in Pakistan clashes    False     polar  \n",
       "1                 Japan resumes refuelling mission    False     polar  \n",
       "2                  US presses Egypt on Gaza border    False     polar  \n",
       "3     Jump-start economy: Give health care to all     False   fadi420  \n",
       "4  Council of Europe bashes EU&UN terror blacklist    False  mhermans  "
      ]
     },
     "execution_count": 5,
     "metadata": {},
     "output_type": "execute_result"
    }
   ],
   "source": [
    "use_data = use_data.drop(columns = ['category'])\n",
    "use_data.head()"
   ]
  },
  {
   "cell_type": "markdown",
   "id": "stable-burlington",
   "metadata": {},
   "source": [
    "Separate the data into two tables: The news stories safe for minors or not safe."
   ]
  },
  {
   "cell_type": "code",
   "execution_count": 6,
   "id": "crucial-night",
   "metadata": {},
   "outputs": [],
   "source": [
    "over_18 = use_data[use_data.over_18 == True].drop(columns = ['over_18'])\n",
    "under_18 = use_data[use_data.over_18 == False].drop(columns = ['over_18'])"
   ]
  },
  {
   "cell_type": "code",
   "execution_count": 7,
   "id": "copyrighted-shower",
   "metadata": {},
   "outputs": [
    {
     "data": {
      "text/html": [
       "<div>\n",
       "<style scoped>\n",
       "    .dataframe tbody tr th:only-of-type {\n",
       "        vertical-align: middle;\n",
       "    }\n",
       "\n",
       "    .dataframe tbody tr th {\n",
       "        vertical-align: top;\n",
       "    }\n",
       "\n",
       "    .dataframe thead th {\n",
       "        text-align: right;\n",
       "    }\n",
       "</style>\n",
       "<table border=\"1\" class=\"dataframe\">\n",
       "  <thead>\n",
       "    <tr style=\"text-align: right;\">\n",
       "      <th></th>\n",
       "      <th>time_created</th>\n",
       "      <th>date_created</th>\n",
       "      <th>up_votes</th>\n",
       "      <th>down_votes</th>\n",
       "      <th>title</th>\n",
       "      <th>author</th>\n",
       "    </tr>\n",
       "  </thead>\n",
       "  <tbody>\n",
       "    <tr>\n",
       "      <th>1885</th>\n",
       "      <td>1206381438</td>\n",
       "      <td>2008-03-24</td>\n",
       "      <td>189</td>\n",
       "      <td>0</td>\n",
       "      <td>Pics from the Tibetan protests - more graphic ...</td>\n",
       "      <td>pressed</td>\n",
       "    </tr>\n",
       "    <tr>\n",
       "      <th>6721</th>\n",
       "      <td>1211138718</td>\n",
       "      <td>2008-05-18</td>\n",
       "      <td>5</td>\n",
       "      <td>0</td>\n",
       "      <td>MI5 linked to Max Mosley’s Nazi-style, sadomas...</td>\n",
       "      <td>alllie</td>\n",
       "    </tr>\n",
       "    <tr>\n",
       "      <th>8414</th>\n",
       "      <td>1212694925</td>\n",
       "      <td>2008-06-05</td>\n",
       "      <td>0</td>\n",
       "      <td>0</td>\n",
       "      <td>Tabloid Horrifies Germany: Poland s Yellow Pre...</td>\n",
       "      <td>stesch</td>\n",
       "    </tr>\n",
       "    <tr>\n",
       "      <th>12163</th>\n",
       "      <td>1216672016</td>\n",
       "      <td>2008-07-21</td>\n",
       "      <td>0</td>\n",
       "      <td>0</td>\n",
       "      <td>Love Parade Dortmund: Techno Festival Breaks R...</td>\n",
       "      <td>stesch</td>\n",
       "    </tr>\n",
       "    <tr>\n",
       "      <th>12699</th>\n",
       "      <td>1217381380</td>\n",
       "      <td>2008-07-30</td>\n",
       "      <td>5</td>\n",
       "      <td>0</td>\n",
       "      <td>IDF kills young Palestinian boy. Potentially N...</td>\n",
       "      <td>cup</td>\n",
       "    </tr>\n",
       "    <tr>\n",
       "      <th>...</th>\n",
       "      <td>...</td>\n",
       "      <td>...</td>\n",
       "      <td>...</td>\n",
       "      <td>...</td>\n",
       "      <td>...</td>\n",
       "      <td>...</td>\n",
       "    </tr>\n",
       "    <tr>\n",
       "      <th>503776</th>\n",
       "      <td>1477889966</td>\n",
       "      <td>2016-10-31</td>\n",
       "      <td>4</td>\n",
       "      <td>0</td>\n",
       "      <td>Latest Italian Earthquake Devastates Medieval ...</td>\n",
       "      <td>pixelinthe</td>\n",
       "    </tr>\n",
       "    <tr>\n",
       "      <th>508067</th>\n",
       "      <td>1479400229</td>\n",
       "      <td>2016-11-17</td>\n",
       "      <td>12</td>\n",
       "      <td>0</td>\n",
       "      <td>ISIS Release Video Showing Melbourne As A Poss...</td>\n",
       "      <td>halacska</td>\n",
       "    </tr>\n",
       "    <tr>\n",
       "      <th>508176</th>\n",
       "      <td>1479434681</td>\n",
       "      <td>2016-11-18</td>\n",
       "      <td>0</td>\n",
       "      <td>0</td>\n",
       "      <td>Animal welfare activists have released footage...</td>\n",
       "      <td>NinjaDiscoJesus</td>\n",
       "    </tr>\n",
       "    <tr>\n",
       "      <th>508376</th>\n",
       "      <td>1479492875</td>\n",
       "      <td>2016-11-18</td>\n",
       "      <td>6</td>\n",
       "      <td>0</td>\n",
       "      <td>Jungle Justice : Public lynching of a street ...</td>\n",
       "      <td>avivi_</td>\n",
       "    </tr>\n",
       "    <tr>\n",
       "      <th>508706</th>\n",
       "      <td>1479641575</td>\n",
       "      <td>2016-11-20</td>\n",
       "      <td>0</td>\n",
       "      <td>0</td>\n",
       "      <td>[NSFW] Teenage boy run over by  Iraqi army tan...</td>\n",
       "      <td>atyzer</td>\n",
       "    </tr>\n",
       "  </tbody>\n",
       "</table>\n",
       "<p>320 rows × 6 columns</p>\n",
       "</div>"
      ],
      "text/plain": [
       "        time_created date_created  up_votes  down_votes  \\\n",
       "1885      1206381438   2008-03-24       189           0   \n",
       "6721      1211138718   2008-05-18         5           0   \n",
       "8414      1212694925   2008-06-05         0           0   \n",
       "12163     1216672016   2008-07-21         0           0   \n",
       "12699     1217381380   2008-07-30         5           0   \n",
       "...              ...          ...       ...         ...   \n",
       "503776    1477889966   2016-10-31         4           0   \n",
       "508067    1479400229   2016-11-17        12           0   \n",
       "508176    1479434681   2016-11-18         0           0   \n",
       "508376    1479492875   2016-11-18         6           0   \n",
       "508706    1479641575   2016-11-20         0           0   \n",
       "\n",
       "                                                    title           author  \n",
       "1885    Pics from the Tibetan protests - more graphic ...          pressed  \n",
       "6721    MI5 linked to Max Mosley’s Nazi-style, sadomas...           alllie  \n",
       "8414    Tabloid Horrifies Germany: Poland s Yellow Pre...           stesch  \n",
       "12163   Love Parade Dortmund: Techno Festival Breaks R...           stesch  \n",
       "12699   IDF kills young Palestinian boy. Potentially N...              cup  \n",
       "...                                                   ...              ...  \n",
       "503776  Latest Italian Earthquake Devastates Medieval ...       pixelinthe  \n",
       "508067  ISIS Release Video Showing Melbourne As A Poss...         halacska  \n",
       "508176  Animal welfare activists have released footage...  NinjaDiscoJesus  \n",
       "508376   Jungle Justice : Public lynching of a street ...           avivi_  \n",
       "508706  [NSFW] Teenage boy run over by  Iraqi army tan...           atyzer  \n",
       "\n",
       "[320 rows x 6 columns]"
      ]
     },
     "execution_count": 7,
     "metadata": {},
     "output_type": "execute_result"
    }
   ],
   "source": [
    "over_18"
   ]
  },
  {
   "cell_type": "code",
   "execution_count": 8,
   "id": "handy-bridge",
   "metadata": {},
   "outputs": [
    {
     "data": {
      "text/html": [
       "<div>\n",
       "<style scoped>\n",
       "    .dataframe tbody tr th:only-of-type {\n",
       "        vertical-align: middle;\n",
       "    }\n",
       "\n",
       "    .dataframe tbody tr th {\n",
       "        vertical-align: top;\n",
       "    }\n",
       "\n",
       "    .dataframe thead th {\n",
       "        text-align: right;\n",
       "    }\n",
       "</style>\n",
       "<table border=\"1\" class=\"dataframe\">\n",
       "  <thead>\n",
       "    <tr style=\"text-align: right;\">\n",
       "      <th></th>\n",
       "      <th>time_created</th>\n",
       "      <th>date_created</th>\n",
       "      <th>up_votes</th>\n",
       "      <th>down_votes</th>\n",
       "      <th>title</th>\n",
       "      <th>author</th>\n",
       "    </tr>\n",
       "  </thead>\n",
       "  <tbody>\n",
       "    <tr>\n",
       "      <th>0</th>\n",
       "      <td>1201232046</td>\n",
       "      <td>2008-01-25</td>\n",
       "      <td>3</td>\n",
       "      <td>0</td>\n",
       "      <td>Scores killed in Pakistan clashes</td>\n",
       "      <td>polar</td>\n",
       "    </tr>\n",
       "    <tr>\n",
       "      <th>1</th>\n",
       "      <td>1201232075</td>\n",
       "      <td>2008-01-25</td>\n",
       "      <td>2</td>\n",
       "      <td>0</td>\n",
       "      <td>Japan resumes refuelling mission</td>\n",
       "      <td>polar</td>\n",
       "    </tr>\n",
       "    <tr>\n",
       "      <th>2</th>\n",
       "      <td>1201232523</td>\n",
       "      <td>2008-01-25</td>\n",
       "      <td>3</td>\n",
       "      <td>0</td>\n",
       "      <td>US presses Egypt on Gaza border</td>\n",
       "      <td>polar</td>\n",
       "    </tr>\n",
       "    <tr>\n",
       "      <th>3</th>\n",
       "      <td>1201233290</td>\n",
       "      <td>2008-01-25</td>\n",
       "      <td>1</td>\n",
       "      <td>0</td>\n",
       "      <td>Jump-start economy: Give health care to all</td>\n",
       "      <td>fadi420</td>\n",
       "    </tr>\n",
       "    <tr>\n",
       "      <th>4</th>\n",
       "      <td>1201274720</td>\n",
       "      <td>2008-01-25</td>\n",
       "      <td>4</td>\n",
       "      <td>0</td>\n",
       "      <td>Council of Europe bashes EU&amp;UN terror blacklist</td>\n",
       "      <td>mhermans</td>\n",
       "    </tr>\n",
       "    <tr>\n",
       "      <th>...</th>\n",
       "      <td>...</td>\n",
       "      <td>...</td>\n",
       "      <td>...</td>\n",
       "      <td>...</td>\n",
       "      <td>...</td>\n",
       "      <td>...</td>\n",
       "    </tr>\n",
       "    <tr>\n",
       "      <th>509231</th>\n",
       "      <td>1479816764</td>\n",
       "      <td>2016-11-22</td>\n",
       "      <td>5</td>\n",
       "      <td>0</td>\n",
       "      <td>Heil Trump : Donald Trump s  alt-right  white...</td>\n",
       "      <td>nonamenoglory</td>\n",
       "    </tr>\n",
       "    <tr>\n",
       "      <th>509232</th>\n",
       "      <td>1479816772</td>\n",
       "      <td>2016-11-22</td>\n",
       "      <td>1</td>\n",
       "      <td>0</td>\n",
       "      <td>There are people speculating that this could b...</td>\n",
       "      <td>SummerRay</td>\n",
       "    </tr>\n",
       "    <tr>\n",
       "      <th>509233</th>\n",
       "      <td>1479817056</td>\n",
       "      <td>2016-11-22</td>\n",
       "      <td>1</td>\n",
       "      <td>0</td>\n",
       "      <td>Professor receives Arab Researchers Award</td>\n",
       "      <td>AUSharjah</td>\n",
       "    </tr>\n",
       "    <tr>\n",
       "      <th>509234</th>\n",
       "      <td>1479817157</td>\n",
       "      <td>2016-11-22</td>\n",
       "      <td>1</td>\n",
       "      <td>0</td>\n",
       "      <td>Nigel Farage attacks response to Trump ambassa...</td>\n",
       "      <td>smilyflower</td>\n",
       "    </tr>\n",
       "    <tr>\n",
       "      <th>509235</th>\n",
       "      <td>1479817346</td>\n",
       "      <td>2016-11-22</td>\n",
       "      <td>1</td>\n",
       "      <td>0</td>\n",
       "      <td>Palestinian wielding knife shot dead in West B...</td>\n",
       "      <td>superislam</td>\n",
       "    </tr>\n",
       "  </tbody>\n",
       "</table>\n",
       "<p>508916 rows × 6 columns</p>\n",
       "</div>"
      ],
      "text/plain": [
       "        time_created date_created  up_votes  down_votes  \\\n",
       "0         1201232046   2008-01-25         3           0   \n",
       "1         1201232075   2008-01-25         2           0   \n",
       "2         1201232523   2008-01-25         3           0   \n",
       "3         1201233290   2008-01-25         1           0   \n",
       "4         1201274720   2008-01-25         4           0   \n",
       "...              ...          ...       ...         ...   \n",
       "509231    1479816764   2016-11-22         5           0   \n",
       "509232    1479816772   2016-11-22         1           0   \n",
       "509233    1479817056   2016-11-22         1           0   \n",
       "509234    1479817157   2016-11-22         1           0   \n",
       "509235    1479817346   2016-11-22         1           0   \n",
       "\n",
       "                                                    title         author  \n",
       "0                       Scores killed in Pakistan clashes          polar  \n",
       "1                        Japan resumes refuelling mission          polar  \n",
       "2                         US presses Egypt on Gaza border          polar  \n",
       "3            Jump-start economy: Give health care to all         fadi420  \n",
       "4         Council of Europe bashes EU&UN terror blacklist       mhermans  \n",
       "...                                                   ...            ...  \n",
       "509231   Heil Trump : Donald Trump s  alt-right  white...  nonamenoglory  \n",
       "509232  There are people speculating that this could b...      SummerRay  \n",
       "509233          Professor receives Arab Researchers Award      AUSharjah  \n",
       "509234  Nigel Farage attacks response to Trump ambassa...    smilyflower  \n",
       "509235  Palestinian wielding knife shot dead in West B...     superislam  \n",
       "\n",
       "[508916 rows x 6 columns]"
      ]
     },
     "execution_count": 8,
     "metadata": {},
     "output_type": "execute_result"
    }
   ],
   "source": [
    "under_18"
   ]
  },
  {
   "cell_type": "markdown",
   "id": "angry-questionnaire",
   "metadata": {},
   "source": [
    "Looking at just the titles for each subgroup of reddit posts, I want to see if the title could be a good indicator of what could be classified as 18+. I decided to find a csv file that contains certain words that may be classifed as 18+."
   ]
  },
  {
   "cell_type": "code",
   "execution_count": 9,
   "id": "unknown-impact",
   "metadata": {},
   "outputs": [],
   "source": [
    "import csv\n",
    "file_swears = open('swearWords.csv')\n",
    "data_swears = csv.reader(file_swears)\n",
    "restricted_words = list(data_swears)[0]\n",
    "# restricted_words (not gonna show because the words may be triggering)"
   ]
  },
  {
   "cell_type": "code",
   "execution_count": 10,
   "id": "exciting-comment",
   "metadata": {},
   "outputs": [],
   "source": [
    "swears = '|'.join(restricted_words)"
   ]
  },
  {
   "cell_type": "code",
   "execution_count": 11,
   "id": "satisfactory-metadata",
   "metadata": {
    "scrolled": true
   },
   "outputs": [],
   "source": [
    "over_18['title_lower'] = over_18['title'].str.lower()\n",
    "under_18['title_lower'] = under_18['title'].str.lower()"
   ]
  },
  {
   "cell_type": "code",
   "execution_count": 12,
   "id": "affected-pulse",
   "metadata": {
    "scrolled": true
   },
   "outputs": [],
   "source": [
    "over_18_swears = over_18.title_lower.str.contains(swears)\n",
    "under_18_swears = under_18.title_lower.str.contains(swears)"
   ]
  },
  {
   "cell_type": "markdown",
   "id": "leading-release",
   "metadata": {},
   "source": [
    "Now I will perform and 2 prop Hypothesis Test."
   ]
  },
  {
   "cell_type": "code",
   "execution_count": 13,
   "id": "owned-drilling",
   "metadata": {},
   "outputs": [
    {
     "name": "stdout",
     "output_type": "stream",
     "text": [
      "134\n",
      "320\n",
      "0.41875\n"
     ]
    }
   ],
   "source": [
    "x1 = over_18_swears.sum()\n",
    "n1 = len(over_18_swears)\n",
    "p1 = over_18_swears.mean()\n",
    "print(x1)\n",
    "print(n1)\n",
    "print(p1)"
   ]
  },
  {
   "cell_type": "code",
   "execution_count": 14,
   "id": "mobile-brisbane",
   "metadata": {
    "scrolled": true
   },
   "outputs": [
    {
     "name": "stdout",
     "output_type": "stream",
     "text": [
      "95027\n",
      "508916\n",
      "0.18672433171682556\n"
     ]
    }
   ],
   "source": [
    "x2 = under_18_swears.sum()\n",
    "n2 = len(under_18_swears)\n",
    "p2 = under_18_swears.mean()\n",
    "print(x2)\n",
    "print(n2)\n",
    "print(p2)"
   ]
  },
  {
   "cell_type": "markdown",
   "id": "aquatic-student",
   "metadata": {},
   "source": [
    "Ho: p1 = p2 (There **is not** difference between the proportion of posts that are 18+ and those that are not that contain cenosored words)\n",
    "\n",
    "vs.\n",
    "\n",
    "H1: p1 != p2 (There **is** a difference between the proportion of posts that are 18+ and those that are not that contain censored words)"
   ]
  },
  {
   "cell_type": "code",
   "execution_count": 15,
   "id": "gothic-salvation",
   "metadata": {},
   "outputs": [
    {
     "data": {
      "text/plain": [
       "0.18687013486870527"
      ]
     },
     "execution_count": 15,
     "metadata": {},
     "output_type": "execute_result"
    }
   ],
   "source": [
    "pooled_p = (p1*n1 + p2*n2)/(n1+n2)\n",
    "pooled_p"
   ]
  },
  {
   "cell_type": "code",
   "execution_count": 16,
   "id": "understood-petite",
   "metadata": {},
   "outputs": [
    {
     "data": {
      "text/plain": [
       "10.644484137073835"
      ]
     },
     "execution_count": 16,
     "metadata": {},
     "output_type": "execute_result"
    }
   ],
   "source": [
    "z = (p1-p2)/math.sqrt(pooled_p*(1-pooled_p)*((1/n1)+(1/n2)))\n",
    "z"
   ]
  },
  {
   "cell_type": "markdown",
   "id": "dangerous-entity",
   "metadata": {},
   "source": [
    "# Conclusion\n",
    "With a z-value greater than 1.96 (the significance level at alpha = 0.05), we reject the null hypothesis. There is a difference between the proportion of posts that are 18+ and those that are not that contain censored words. Approximately 42% of the posts labeled as 18+ contained a censored word in the title while approximately 18.69% of the under 18 posts contained those words. "
   ]
  },
  {
   "cell_type": "markdown",
   "id": "original-minutes",
   "metadata": {},
   "source": [
    "Although there is a significant difference between the proportions, it is also pretty interesting how 95,000+ posts classified as safe for minors contained swear words in the title. Because of this, I dont think the title of the post could solely predict whether the rating is restricted or not. If I had more time and more access to all the variables, I'd like to predict this using a machine learning model. "
   ]
  }
 ],
 "metadata": {
  "kernelspec": {
   "display_name": "Python 3",
   "language": "python",
   "name": "python3"
  },
  "language_info": {
   "codemirror_mode": {
    "name": "ipython",
    "version": 3
   },
   "file_extension": ".py",
   "mimetype": "text/x-python",
   "name": "python",
   "nbconvert_exporter": "python",
   "pygments_lexer": "ipython3",
   "version": "3.7.10"
  },
  "toc": {
   "base_numbering": 1,
   "nav_menu": {},
   "number_sections": true,
   "sideBar": true,
   "skip_h1_title": false,
   "title_cell": "Table of Contents",
   "title_sidebar": "Contents",
   "toc_cell": false,
   "toc_position": {},
   "toc_section_display": true,
   "toc_window_display": false
  }
 },
 "nbformat": 4,
 "nbformat_minor": 5
}
