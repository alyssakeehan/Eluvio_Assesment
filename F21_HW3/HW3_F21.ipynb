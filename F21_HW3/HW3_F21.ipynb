{
 "cells": [
  {
   "cell_type": "markdown",
   "metadata": {
    "id": "kNnrjkIUWEDh"
   },
   "source": [
    "# Homework 3\n",
    "\n",
    "DUE Nov 15th at 11:59 PM"
   ]
  },
  {
   "cell_type": "code",
   "execution_count": 4,
   "metadata": {},
   "outputs": [],
   "source": [
    "import pandas as pd\n",
    "import numpy as np\n",
    "import torch\n",
    "import torchvision\n",
    "import matplotlib.pyplot as plt\n",
    "import torch.nn as nn\n",
    "import torch.optim as optim\n",
    "import itertools"
   ]
  },
  {
   "cell_type": "markdown",
   "metadata": {
    "id": "EbpTqmT4WhaB"
   },
   "source": [
    "## Problem 1\n",
    "\n",
    "In this problem, you will implement a simple feed-forward neural network using PyTorch, a straight-forward and simple-to-pickup framework for quickly prototyping deep learning model. \n",
    "\n",
    "PyTorch provides 2 powerful things. First, a nice data structure called Tensor (basically a matrix, similar to Numpy ndarray). Tensor is optimized for matrix calculation and can be loaded to a GPU. Tensor is also implemented so that it's easy to calculate and pass back chains of gradients, which is extremely useful for backpropagation on neural network. Second, a nice inner mechanism called Autograd that nicely maps variables involved a chain of calculations and efficiently calculates their gradients via the chain rule when needed. Read more here: https://towardsdatascience.com/pytorch-autograd-understanding-the-heart-of-pytorchs-magic-2686cd94ec95  \n",
    "\n",
    "You will define a neural network class in PyTorch and use the network to learn a classification task on the famous KDD CUP 99 dataset. You can refer to Problem 2 to see how a network class can be defined, how to use a PyTorch's DataLoader, and how a training loop may looks like.\n",
    "\n",
    "There are many greate tutorial on PyTorch out there. For example, this video on Youtube explains how to build a simple network in PyTorch quite clearly: https://www.youtube.com/watch?v=oPhxf2fXHkQ\n",
    "\n",
    "### Part a\n",
    "Firstly, load and inspect the \"**KDD CUP 99**\" dataset."
   ]
  },
  {
   "cell_type": "code",
   "execution_count": 3,
   "metadata": {
    "id": "qyL0okEBWggC"
   },
   "outputs": [],
   "source": [
    "from sklearn.datasets import fetch_kddcup99\n",
    "from sklearn.preprocessing import OrdinalEncoder\n",
    "X, y = fetch_kddcup99(return_X_y=True, percent10=True)"
   ]
  },
  {
   "cell_type": "code",
   "execution_count": 4,
   "metadata": {},
   "outputs": [
    {
     "data": {
      "text/html": [
       "<div>\n",
       "<style scoped>\n",
       "    .dataframe tbody tr th:only-of-type {\n",
       "        vertical-align: middle;\n",
       "    }\n",
       "\n",
       "    .dataframe tbody tr th {\n",
       "        vertical-align: top;\n",
       "    }\n",
       "\n",
       "    .dataframe thead th {\n",
       "        text-align: right;\n",
       "    }\n",
       "</style>\n",
       "<table border=\"1\" class=\"dataframe\">\n",
       "  <thead>\n",
       "    <tr style=\"text-align: right;\">\n",
       "      <th></th>\n",
       "      <th>0</th>\n",
       "      <th>1</th>\n",
       "      <th>2</th>\n",
       "      <th>3</th>\n",
       "      <th>4</th>\n",
       "      <th>5</th>\n",
       "      <th>6</th>\n",
       "      <th>7</th>\n",
       "      <th>8</th>\n",
       "      <th>9</th>\n",
       "      <th>...</th>\n",
       "      <th>31</th>\n",
       "      <th>32</th>\n",
       "      <th>33</th>\n",
       "      <th>34</th>\n",
       "      <th>35</th>\n",
       "      <th>36</th>\n",
       "      <th>37</th>\n",
       "      <th>38</th>\n",
       "      <th>39</th>\n",
       "      <th>40</th>\n",
       "    </tr>\n",
       "  </thead>\n",
       "  <tbody>\n",
       "    <tr>\n",
       "      <th>0</th>\n",
       "      <td>0</td>\n",
       "      <td>b'tcp'</td>\n",
       "      <td>b'http'</td>\n",
       "      <td>b'SF'</td>\n",
       "      <td>181</td>\n",
       "      <td>5450</td>\n",
       "      <td>0</td>\n",
       "      <td>0</td>\n",
       "      <td>0</td>\n",
       "      <td>0</td>\n",
       "      <td>...</td>\n",
       "      <td>9</td>\n",
       "      <td>9</td>\n",
       "      <td>1.0</td>\n",
       "      <td>0.0</td>\n",
       "      <td>0.11</td>\n",
       "      <td>0.0</td>\n",
       "      <td>0.0</td>\n",
       "      <td>0.0</td>\n",
       "      <td>0.0</td>\n",
       "      <td>0.0</td>\n",
       "    </tr>\n",
       "    <tr>\n",
       "      <th>1</th>\n",
       "      <td>0</td>\n",
       "      <td>b'tcp'</td>\n",
       "      <td>b'http'</td>\n",
       "      <td>b'SF'</td>\n",
       "      <td>239</td>\n",
       "      <td>486</td>\n",
       "      <td>0</td>\n",
       "      <td>0</td>\n",
       "      <td>0</td>\n",
       "      <td>0</td>\n",
       "      <td>...</td>\n",
       "      <td>19</td>\n",
       "      <td>19</td>\n",
       "      <td>1.0</td>\n",
       "      <td>0.0</td>\n",
       "      <td>0.05</td>\n",
       "      <td>0.0</td>\n",
       "      <td>0.0</td>\n",
       "      <td>0.0</td>\n",
       "      <td>0.0</td>\n",
       "      <td>0.0</td>\n",
       "    </tr>\n",
       "    <tr>\n",
       "      <th>2</th>\n",
       "      <td>0</td>\n",
       "      <td>b'tcp'</td>\n",
       "      <td>b'http'</td>\n",
       "      <td>b'SF'</td>\n",
       "      <td>235</td>\n",
       "      <td>1337</td>\n",
       "      <td>0</td>\n",
       "      <td>0</td>\n",
       "      <td>0</td>\n",
       "      <td>0</td>\n",
       "      <td>...</td>\n",
       "      <td>29</td>\n",
       "      <td>29</td>\n",
       "      <td>1.0</td>\n",
       "      <td>0.0</td>\n",
       "      <td>0.03</td>\n",
       "      <td>0.0</td>\n",
       "      <td>0.0</td>\n",
       "      <td>0.0</td>\n",
       "      <td>0.0</td>\n",
       "      <td>0.0</td>\n",
       "    </tr>\n",
       "    <tr>\n",
       "      <th>3</th>\n",
       "      <td>0</td>\n",
       "      <td>b'tcp'</td>\n",
       "      <td>b'http'</td>\n",
       "      <td>b'SF'</td>\n",
       "      <td>219</td>\n",
       "      <td>1337</td>\n",
       "      <td>0</td>\n",
       "      <td>0</td>\n",
       "      <td>0</td>\n",
       "      <td>0</td>\n",
       "      <td>...</td>\n",
       "      <td>39</td>\n",
       "      <td>39</td>\n",
       "      <td>1.0</td>\n",
       "      <td>0.0</td>\n",
       "      <td>0.03</td>\n",
       "      <td>0.0</td>\n",
       "      <td>0.0</td>\n",
       "      <td>0.0</td>\n",
       "      <td>0.0</td>\n",
       "      <td>0.0</td>\n",
       "    </tr>\n",
       "    <tr>\n",
       "      <th>4</th>\n",
       "      <td>0</td>\n",
       "      <td>b'tcp'</td>\n",
       "      <td>b'http'</td>\n",
       "      <td>b'SF'</td>\n",
       "      <td>217</td>\n",
       "      <td>2032</td>\n",
       "      <td>0</td>\n",
       "      <td>0</td>\n",
       "      <td>0</td>\n",
       "      <td>0</td>\n",
       "      <td>...</td>\n",
       "      <td>49</td>\n",
       "      <td>49</td>\n",
       "      <td>1.0</td>\n",
       "      <td>0.0</td>\n",
       "      <td>0.02</td>\n",
       "      <td>0.0</td>\n",
       "      <td>0.0</td>\n",
       "      <td>0.0</td>\n",
       "      <td>0.0</td>\n",
       "      <td>0.0</td>\n",
       "    </tr>\n",
       "    <tr>\n",
       "      <th>...</th>\n",
       "      <td>...</td>\n",
       "      <td>...</td>\n",
       "      <td>...</td>\n",
       "      <td>...</td>\n",
       "      <td>...</td>\n",
       "      <td>...</td>\n",
       "      <td>...</td>\n",
       "      <td>...</td>\n",
       "      <td>...</td>\n",
       "      <td>...</td>\n",
       "      <td>...</td>\n",
       "      <td>...</td>\n",
       "      <td>...</td>\n",
       "      <td>...</td>\n",
       "      <td>...</td>\n",
       "      <td>...</td>\n",
       "      <td>...</td>\n",
       "      <td>...</td>\n",
       "      <td>...</td>\n",
       "      <td>...</td>\n",
       "      <td>...</td>\n",
       "    </tr>\n",
       "    <tr>\n",
       "      <th>494016</th>\n",
       "      <td>0</td>\n",
       "      <td>b'tcp'</td>\n",
       "      <td>b'http'</td>\n",
       "      <td>b'SF'</td>\n",
       "      <td>310</td>\n",
       "      <td>1881</td>\n",
       "      <td>0</td>\n",
       "      <td>0</td>\n",
       "      <td>0</td>\n",
       "      <td>0</td>\n",
       "      <td>...</td>\n",
       "      <td>86</td>\n",
       "      <td>255</td>\n",
       "      <td>1.0</td>\n",
       "      <td>0.0</td>\n",
       "      <td>0.01</td>\n",
       "      <td>0.05</td>\n",
       "      <td>0.0</td>\n",
       "      <td>0.01</td>\n",
       "      <td>0.0</td>\n",
       "      <td>0.0</td>\n",
       "    </tr>\n",
       "    <tr>\n",
       "      <th>494017</th>\n",
       "      <td>0</td>\n",
       "      <td>b'tcp'</td>\n",
       "      <td>b'http'</td>\n",
       "      <td>b'SF'</td>\n",
       "      <td>282</td>\n",
       "      <td>2286</td>\n",
       "      <td>0</td>\n",
       "      <td>0</td>\n",
       "      <td>0</td>\n",
       "      <td>0</td>\n",
       "      <td>...</td>\n",
       "      <td>6</td>\n",
       "      <td>255</td>\n",
       "      <td>1.0</td>\n",
       "      <td>0.0</td>\n",
       "      <td>0.17</td>\n",
       "      <td>0.05</td>\n",
       "      <td>0.0</td>\n",
       "      <td>0.01</td>\n",
       "      <td>0.0</td>\n",
       "      <td>0.0</td>\n",
       "    </tr>\n",
       "    <tr>\n",
       "      <th>494018</th>\n",
       "      <td>0</td>\n",
       "      <td>b'tcp'</td>\n",
       "      <td>b'http'</td>\n",
       "      <td>b'SF'</td>\n",
       "      <td>203</td>\n",
       "      <td>1200</td>\n",
       "      <td>0</td>\n",
       "      <td>0</td>\n",
       "      <td>0</td>\n",
       "      <td>0</td>\n",
       "      <td>...</td>\n",
       "      <td>16</td>\n",
       "      <td>255</td>\n",
       "      <td>1.0</td>\n",
       "      <td>0.0</td>\n",
       "      <td>0.06</td>\n",
       "      <td>0.05</td>\n",
       "      <td>0.06</td>\n",
       "      <td>0.01</td>\n",
       "      <td>0.0</td>\n",
       "      <td>0.0</td>\n",
       "    </tr>\n",
       "    <tr>\n",
       "      <th>494019</th>\n",
       "      <td>0</td>\n",
       "      <td>b'tcp'</td>\n",
       "      <td>b'http'</td>\n",
       "      <td>b'SF'</td>\n",
       "      <td>291</td>\n",
       "      <td>1200</td>\n",
       "      <td>0</td>\n",
       "      <td>0</td>\n",
       "      <td>0</td>\n",
       "      <td>0</td>\n",
       "      <td>...</td>\n",
       "      <td>26</td>\n",
       "      <td>255</td>\n",
       "      <td>1.0</td>\n",
       "      <td>0.0</td>\n",
       "      <td>0.04</td>\n",
       "      <td>0.05</td>\n",
       "      <td>0.04</td>\n",
       "      <td>0.01</td>\n",
       "      <td>0.0</td>\n",
       "      <td>0.0</td>\n",
       "    </tr>\n",
       "    <tr>\n",
       "      <th>494020</th>\n",
       "      <td>0</td>\n",
       "      <td>b'tcp'</td>\n",
       "      <td>b'http'</td>\n",
       "      <td>b'SF'</td>\n",
       "      <td>219</td>\n",
       "      <td>1234</td>\n",
       "      <td>0</td>\n",
       "      <td>0</td>\n",
       "      <td>0</td>\n",
       "      <td>0</td>\n",
       "      <td>...</td>\n",
       "      <td>6</td>\n",
       "      <td>255</td>\n",
       "      <td>1.0</td>\n",
       "      <td>0.0</td>\n",
       "      <td>0.17</td>\n",
       "      <td>0.05</td>\n",
       "      <td>0.0</td>\n",
       "      <td>0.01</td>\n",
       "      <td>0.0</td>\n",
       "      <td>0.0</td>\n",
       "    </tr>\n",
       "  </tbody>\n",
       "</table>\n",
       "<p>494021 rows × 41 columns</p>\n",
       "</div>"
      ],
      "text/plain": [
       "       0       1        2      3    4     5  6  7  8  9   ...  31   32   33  \\\n",
       "0       0  b'tcp'  b'http'  b'SF'  181  5450  0  0  0  0  ...   9    9  1.0   \n",
       "1       0  b'tcp'  b'http'  b'SF'  239   486  0  0  0  0  ...  19   19  1.0   \n",
       "2       0  b'tcp'  b'http'  b'SF'  235  1337  0  0  0  0  ...  29   29  1.0   \n",
       "3       0  b'tcp'  b'http'  b'SF'  219  1337  0  0  0  0  ...  39   39  1.0   \n",
       "4       0  b'tcp'  b'http'  b'SF'  217  2032  0  0  0  0  ...  49   49  1.0   \n",
       "...    ..     ...      ...    ...  ...   ... .. .. .. ..  ...  ..  ...  ...   \n",
       "494016  0  b'tcp'  b'http'  b'SF'  310  1881  0  0  0  0  ...  86  255  1.0   \n",
       "494017  0  b'tcp'  b'http'  b'SF'  282  2286  0  0  0  0  ...   6  255  1.0   \n",
       "494018  0  b'tcp'  b'http'  b'SF'  203  1200  0  0  0  0  ...  16  255  1.0   \n",
       "494019  0  b'tcp'  b'http'  b'SF'  291  1200  0  0  0  0  ...  26  255  1.0   \n",
       "494020  0  b'tcp'  b'http'  b'SF'  219  1234  0  0  0  0  ...   6  255  1.0   \n",
       "\n",
       "         34    35    36    37    38   39   40  \n",
       "0       0.0  0.11   0.0   0.0   0.0  0.0  0.0  \n",
       "1       0.0  0.05   0.0   0.0   0.0  0.0  0.0  \n",
       "2       0.0  0.03   0.0   0.0   0.0  0.0  0.0  \n",
       "3       0.0  0.03   0.0   0.0   0.0  0.0  0.0  \n",
       "4       0.0  0.02   0.0   0.0   0.0  0.0  0.0  \n",
       "...     ...   ...   ...   ...   ...  ...  ...  \n",
       "494016  0.0  0.01  0.05   0.0  0.01  0.0  0.0  \n",
       "494017  0.0  0.17  0.05   0.0  0.01  0.0  0.0  \n",
       "494018  0.0  0.06  0.05  0.06  0.01  0.0  0.0  \n",
       "494019  0.0  0.04  0.05  0.04  0.01  0.0  0.0  \n",
       "494020  0.0  0.17  0.05   0.0  0.01  0.0  0.0  \n",
       "\n",
       "[494021 rows x 41 columns]"
      ]
     },
     "execution_count": 4,
     "metadata": {},
     "output_type": "execute_result"
    }
   ],
   "source": [
    "pd.DataFrame(X)"
   ]
  },
  {
   "cell_type": "code",
   "execution_count": 5,
   "metadata": {},
   "outputs": [],
   "source": [
    "# convert the X dataset to a dataframe and factorize the columns\n",
    "X_pd = pd.DataFrame(X)\n",
    "X_pd['class'] = y\n",
    "X_pd.iloc[:,1] = pd.factorize(X_pd.iloc[:,1])[0]\n",
    "X_pd.iloc[:,2] = pd.factorize(X_pd.iloc[:,2])[0]\n",
    "X_pd.iloc[:,3] = pd.factorize(X_pd.iloc[:,3])[0]\n",
    "X_pd.loc[:,'class'] = pd.factorize(X_pd.loc[:,'class'])[0]\n",
    "\n",
    "# separate y as its own variable\n",
    "use_y = np.array(X_pd.loc[:,'class'])\n",
    "\n",
    "# drop the class variable from the dataset\n",
    "X_pd = X_pd.drop(['class'], axis = 1)"
   ]
  },
  {
   "cell_type": "code",
   "execution_count": 6,
   "metadata": {},
   "outputs": [
    {
     "data": {
      "text/plain": [
       "array([0, 0, 0, ..., 0, 0, 0])"
      ]
     },
     "execution_count": 6,
     "metadata": {},
     "output_type": "execute_result"
    }
   ],
   "source": [
    "use_y"
   ]
  },
  {
   "cell_type": "code",
   "execution_count": 7,
   "metadata": {},
   "outputs": [
    {
     "data": {
      "text/html": [
       "<div>\n",
       "<style scoped>\n",
       "    .dataframe tbody tr th:only-of-type {\n",
       "        vertical-align: middle;\n",
       "    }\n",
       "\n",
       "    .dataframe tbody tr th {\n",
       "        vertical-align: top;\n",
       "    }\n",
       "\n",
       "    .dataframe thead th {\n",
       "        text-align: right;\n",
       "    }\n",
       "</style>\n",
       "<table border=\"1\" class=\"dataframe\">\n",
       "  <thead>\n",
       "    <tr style=\"text-align: right;\">\n",
       "      <th></th>\n",
       "      <th>0</th>\n",
       "      <th>1</th>\n",
       "      <th>2</th>\n",
       "      <th>3</th>\n",
       "      <th>4</th>\n",
       "      <th>5</th>\n",
       "      <th>6</th>\n",
       "      <th>7</th>\n",
       "      <th>8</th>\n",
       "      <th>9</th>\n",
       "      <th>...</th>\n",
       "      <th>31</th>\n",
       "      <th>32</th>\n",
       "      <th>33</th>\n",
       "      <th>34</th>\n",
       "      <th>35</th>\n",
       "      <th>36</th>\n",
       "      <th>37</th>\n",
       "      <th>38</th>\n",
       "      <th>39</th>\n",
       "      <th>40</th>\n",
       "    </tr>\n",
       "  </thead>\n",
       "  <tbody>\n",
       "    <tr>\n",
       "      <th>0</th>\n",
       "      <td>0</td>\n",
       "      <td>0</td>\n",
       "      <td>0</td>\n",
       "      <td>0</td>\n",
       "      <td>181</td>\n",
       "      <td>5450</td>\n",
       "      <td>0</td>\n",
       "      <td>0</td>\n",
       "      <td>0</td>\n",
       "      <td>0</td>\n",
       "      <td>...</td>\n",
       "      <td>9</td>\n",
       "      <td>9</td>\n",
       "      <td>1.0</td>\n",
       "      <td>0.0</td>\n",
       "      <td>0.11</td>\n",
       "      <td>0.0</td>\n",
       "      <td>0.0</td>\n",
       "      <td>0.0</td>\n",
       "      <td>0.0</td>\n",
       "      <td>0.0</td>\n",
       "    </tr>\n",
       "    <tr>\n",
       "      <th>1</th>\n",
       "      <td>0</td>\n",
       "      <td>0</td>\n",
       "      <td>0</td>\n",
       "      <td>0</td>\n",
       "      <td>239</td>\n",
       "      <td>486</td>\n",
       "      <td>0</td>\n",
       "      <td>0</td>\n",
       "      <td>0</td>\n",
       "      <td>0</td>\n",
       "      <td>...</td>\n",
       "      <td>19</td>\n",
       "      <td>19</td>\n",
       "      <td>1.0</td>\n",
       "      <td>0.0</td>\n",
       "      <td>0.05</td>\n",
       "      <td>0.0</td>\n",
       "      <td>0.0</td>\n",
       "      <td>0.0</td>\n",
       "      <td>0.0</td>\n",
       "      <td>0.0</td>\n",
       "    </tr>\n",
       "    <tr>\n",
       "      <th>2</th>\n",
       "      <td>0</td>\n",
       "      <td>0</td>\n",
       "      <td>0</td>\n",
       "      <td>0</td>\n",
       "      <td>235</td>\n",
       "      <td>1337</td>\n",
       "      <td>0</td>\n",
       "      <td>0</td>\n",
       "      <td>0</td>\n",
       "      <td>0</td>\n",
       "      <td>...</td>\n",
       "      <td>29</td>\n",
       "      <td>29</td>\n",
       "      <td>1.0</td>\n",
       "      <td>0.0</td>\n",
       "      <td>0.03</td>\n",
       "      <td>0.0</td>\n",
       "      <td>0.0</td>\n",
       "      <td>0.0</td>\n",
       "      <td>0.0</td>\n",
       "      <td>0.0</td>\n",
       "    </tr>\n",
       "    <tr>\n",
       "      <th>3</th>\n",
       "      <td>0</td>\n",
       "      <td>0</td>\n",
       "      <td>0</td>\n",
       "      <td>0</td>\n",
       "      <td>219</td>\n",
       "      <td>1337</td>\n",
       "      <td>0</td>\n",
       "      <td>0</td>\n",
       "      <td>0</td>\n",
       "      <td>0</td>\n",
       "      <td>...</td>\n",
       "      <td>39</td>\n",
       "      <td>39</td>\n",
       "      <td>1.0</td>\n",
       "      <td>0.0</td>\n",
       "      <td>0.03</td>\n",
       "      <td>0.0</td>\n",
       "      <td>0.0</td>\n",
       "      <td>0.0</td>\n",
       "      <td>0.0</td>\n",
       "      <td>0.0</td>\n",
       "    </tr>\n",
       "    <tr>\n",
       "      <th>4</th>\n",
       "      <td>0</td>\n",
       "      <td>0</td>\n",
       "      <td>0</td>\n",
       "      <td>0</td>\n",
       "      <td>217</td>\n",
       "      <td>2032</td>\n",
       "      <td>0</td>\n",
       "      <td>0</td>\n",
       "      <td>0</td>\n",
       "      <td>0</td>\n",
       "      <td>...</td>\n",
       "      <td>49</td>\n",
       "      <td>49</td>\n",
       "      <td>1.0</td>\n",
       "      <td>0.0</td>\n",
       "      <td>0.02</td>\n",
       "      <td>0.0</td>\n",
       "      <td>0.0</td>\n",
       "      <td>0.0</td>\n",
       "      <td>0.0</td>\n",
       "      <td>0.0</td>\n",
       "    </tr>\n",
       "  </tbody>\n",
       "</table>\n",
       "<p>5 rows × 41 columns</p>\n",
       "</div>"
      ],
      "text/plain": [
       "  0   1   2   3    4     5  6  7  8  9   ...  31  32   33   34    35   36  \\\n",
       "0  0   0   0   0  181  5450  0  0  0  0  ...   9   9  1.0  0.0  0.11  0.0   \n",
       "1  0   0   0   0  239   486  0  0  0  0  ...  19  19  1.0  0.0  0.05  0.0   \n",
       "2  0   0   0   0  235  1337  0  0  0  0  ...  29  29  1.0  0.0  0.03  0.0   \n",
       "3  0   0   0   0  219  1337  0  0  0  0  ...  39  39  1.0  0.0  0.03  0.0   \n",
       "4  0   0   0   0  217  2032  0  0  0  0  ...  49  49  1.0  0.0  0.02  0.0   \n",
       "\n",
       "    37   38   39   40  \n",
       "0  0.0  0.0  0.0  0.0  \n",
       "1  0.0  0.0  0.0  0.0  \n",
       "2  0.0  0.0  0.0  0.0  \n",
       "3  0.0  0.0  0.0  0.0  \n",
       "4  0.0  0.0  0.0  0.0  \n",
       "\n",
       "[5 rows x 41 columns]"
      ]
     },
     "execution_count": 7,
     "metadata": {},
     "output_type": "execute_result"
    }
   ],
   "source": [
    "X_pd.head(5)"
   ]
  },
  {
   "cell_type": "code",
   "execution_count": 8,
   "metadata": {},
   "outputs": [
    {
     "data": {
      "text/plain": [
       "array([[0.  , 0.  , 0.  , ..., 0.  , 0.  , 0.  ],\n",
       "       [0.  , 0.  , 0.  , ..., 0.  , 0.  , 0.  ],\n",
       "       [0.  , 0.  , 0.  , ..., 0.  , 0.  , 0.  ],\n",
       "       ...,\n",
       "       [0.  , 0.  , 0.  , ..., 0.01, 0.  , 0.  ],\n",
       "       [0.  , 0.  , 0.  , ..., 0.01, 0.  , 0.  ],\n",
       "       [0.  , 0.  , 0.  , ..., 0.01, 0.  , 0.  ]])"
      ]
     },
     "execution_count": 8,
     "metadata": {},
     "output_type": "execute_result"
    }
   ],
   "source": [
    "# convert the X_pd dataframe to an array again\n",
    "X_use = np.array(X_pd.astype('float64'))\n",
    "X_use"
   ]
  },
  {
   "cell_type": "markdown",
   "metadata": {
    "id": "BD09sAm-52_u"
   },
   "source": [
    "Split them into a train set (70%), a validation set (10%), and a test set (20%). Then, create a PyTorch's DataLoader for the train set, a DataLoader for the validation set, and a DataLoader for the test set.\n",
    "\n",
    "You can read about PyTorch's DataLoader from:\n",
    "\n",
    "*   https://stanford.edu/~shervine/blog/pytorch-how-to-generate-data-parallel\n",
    "*   https://pytorch.org/docs/stable/data.html#torch.utils.data.DataLoader\n",
    "\n"
   ]
  },
  {
   "cell_type": "code",
   "execution_count": 9,
   "metadata": {
    "tags": []
   },
   "outputs": [],
   "source": [
    "# used to create a pytorch dataset\n",
    "class Dataset(torch.utils.data.Dataset):\n",
    "  'Characterizes a dataset for PyTorch'\n",
    "  def __init__(self, X, y):\n",
    "        'Initialization'\n",
    "        self.labels = torch.tensor(y)\n",
    "        self.features = torch.tensor(X).float()\n",
    "\n",
    "  def __len__(self):\n",
    "        'Denotes the total number of samples'\n",
    "        return len(self.labels)\n",
    "\n",
    "  def __getitem__(self, index):\n",
    "        'Generates one sample of data'\n",
    "        # Select sample\n",
    "\n",
    "        return self.features[index], self.labels[index]"
   ]
  },
  {
   "cell_type": "code",
   "execution_count": 10,
   "metadata": {
    "id": "tnwd2ylj5BD4"
   },
   "outputs": [],
   "source": [
    "from sklearn.model_selection import train_test_split\n",
    "from torch.utils.data import DataLoader\n",
    "\n",
    "# split using train_test_split\n",
    "X_train, X_test_full, y_train, y_test_full = train_test_split(X_use, use_y, test_size=0.3, random_state=674)\n",
    "X_test, X_validate, y_test, y_validate = train_test_split(X_test_full, y_test_full, test_size=(1/3), random_state=638)\n",
    "\n",
    "# create the pytorch datasets using the newly created function above\n",
    "train_dataset = Dataset(X_train, y_train)\n",
    "test_dataset = Dataset(X_test, y_test)\n",
    "valid_dataset = Dataset(X_validate, y_validate)\n",
    "\n",
    "# create the loaders for each of the sets\n",
    "train_loader = torch.utils.data.DataLoader(dataset = train_dataset, batch_size = 64, shuffle = True)\n",
    "test_loader = torch.utils.data.DataLoader(dataset = test_dataset, batch_size = 64, shuffle = False)\n",
    "valid_loader = torch.utils.data.DataLoader(dataset = valid_dataset, batch_size = 64, shuffle = False)"
   ]
  },
  {
   "cell_type": "code",
   "execution_count": 11,
   "metadata": {},
   "outputs": [
    {
     "name": "stdout",
     "output_type": "stream",
     "text": [
      "X:  tensor([[ 0.,  2.,  9.,  ...,  0.,  0.,  0.],\n",
      "        [ 0.,  0., 11.,  ...,  1.,  0.,  0.],\n",
      "        [ 0.,  0., 11.,  ...,  1.,  0.,  0.],\n",
      "        ...,\n",
      "        [ 0.,  0.,  1.,  ...,  0.,  0.,  0.],\n",
      "        [ 0.,  2.,  9.,  ...,  0.,  0.,  0.],\n",
      "        [ 0.,  0., 11.,  ...,  1.,  0.,  0.]])\n",
      "y:  tensor([ 5,  4,  4,  4,  0,  0,  0, 10,  5,  4,  5,  0,  5,  0,  5,  5,  4,  5,\n",
      "         0,  8,  5,  5,  4,  5,  0,  4,  5,  5,  5,  4,  4,  5,  4,  5,  5,  5,\n",
      "         5,  4,  0,  4,  5,  4,  5,  5,  5,  4,  4,  5,  4,  5,  5,  0,  5,  5,\n",
      "         5,  5,  4,  5,  5,  4,  5,  0,  5,  4])\n"
     ]
    }
   ],
   "source": [
    "for batch_idx, (data, target) in enumerate(train_loader):\n",
    "    print(\"X: \", data)\n",
    "    print(\"y: \", target)\n",
    "    break"
   ]
  },
  {
   "cell_type": "code",
   "execution_count": 12,
   "metadata": {},
   "outputs": [
    {
     "data": {
      "text/plain": [
       "(345814, 41)"
      ]
     },
     "execution_count": 12,
     "metadata": {},
     "output_type": "execute_result"
    }
   ],
   "source": [
    "X_train.shape"
   ]
  },
  {
   "cell_type": "markdown",
   "metadata": {
    "id": "ZuEYUkVdWpYw"
   },
   "source": [
    "### Part b \n",
    "Create a Python class for our neural network model. The network should have 1 input layer, 1 hidden layer, and 1 output layer. You are free to choose the size of the hidden layer (it may affect the performance). Use ReLU as the activation function (torch.relu)."
   ]
  },
  {
   "cell_type": "code",
   "execution_count": 13,
   "metadata": {
    "id": "68ti8_83WzHP"
   },
   "outputs": [],
   "source": [
    "import torch\n",
    "\n",
    "# Any Pytorch's network class is an extension of the torch.nn.Module parent class.\n",
    "# To define a network class, you need to define at least 2 methods: an __init__() method (constructor) and a forward() method\n",
    "class SimpleNetwork(torch.nn.Module):\n",
    "    # Create the network class by filling in this block of code\n",
    "\n",
    "    # Create the constructor. Add any additional arguments as you wish\n",
    "    def __init__(self, input_size, hidden_size, num_classes):\n",
    "        super(SimpleNetwork, self).__init__()\n",
    "        self.l1 = nn.Linear(input_size, hidden_size)\n",
    "        self.relu = nn.ReLU()\n",
    "        self.l2 = nn.Linear(hidden_size, num_classes)\n",
    "\n",
    "    # Define the feed forward function.\n",
    "    # x is the input example/examples.\n",
    "    # Add any additional arguments as you wish.\n",
    "    def forward(self, x):\n",
    "        out = self.l1(x)\n",
    "        out = self.relu(out)\n",
    "        out = self.l2(out)\n",
    "        return out"
   ]
  },
  {
   "cell_type": "markdown",
   "metadata": {
    "id": "ONBn93ldWz8n"
   },
   "source": [
    "### Part c \n",
    "Train the network using the training dataset. Use the SGD optimizer and CrossEntropyLoss. After each epoch, record the current loss and the current training accuracy. The current training accuracy is obtained by evaluating the model on the train dataset. Use the DataLoaders defined in part a to efficiently pass training and testing data.\n",
    "\n",
    "You can learn about the available optimizers at:\n",
    "https://pytorch.org/docs/stable/optim.html\n",
    "\n",
    "You can learn about the available loss functions at:\n",
    "https://pytorch.org/docs/stable/nn.html#loss-functions"
   ]
  },
  {
   "cell_type": "code",
   "execution_count": 14,
   "metadata": {},
   "outputs": [
    {
     "name": "stdout",
     "output_type": "stream",
     "text": [
      "torch.Size([64, 41]) torch.Size([64])\n"
     ]
    }
   ],
   "source": [
    "examples = iter(train_loader)\n",
    "samples, labels = examples.next()\n",
    "print(samples.shape, labels.shape)"
   ]
  },
  {
   "cell_type": "code",
   "execution_count": 15,
   "metadata": {
    "id": "8zDhPrRYW4ho",
    "tags": []
   },
   "outputs": [
    {
     "name": "stdout",
     "output_type": "stream",
     "text": [
      "Epoch: 1\n",
      "Epoch: 2\n",
      "Epoch: 3\n",
      "Epoch: 4\n",
      "Epoch: 5\n",
      "Epoch: 6\n",
      "Epoch: 7\n",
      "Epoch: 8\n",
      "Epoch: 9\n",
      "Epoch: 10\n",
      "Epoch: 11\n",
      "Epoch: 12\n",
      "Epoch: 13\n",
      "Epoch: 14\n",
      "Epoch: 15\n",
      "Epoch: 16\n",
      "Epoch: 17\n",
      "Epoch: 18\n",
      "Epoch: 19\n",
      "Epoch: 20\n",
      "Epoch: 21\n",
      "Epoch: 22\n",
      "Epoch: 23\n",
      "Epoch: 24\n",
      "Epoch: 25\n",
      "Epoch: 26\n",
      "Epoch: 27\n",
      "Epoch: 28\n",
      "Epoch: 29\n",
      "Epoch: 30\n",
      "Epoch: 31\n",
      "Epoch: 32\n",
      "Epoch: 33\n",
      "Epoch: 34\n",
      "Epoch: 35\n",
      "Epoch: 36\n",
      "Epoch: 37\n",
      "Epoch: 38\n",
      "Epoch: 39\n",
      "Epoch: 40\n",
      "Epoch: 41\n",
      "Epoch: 42\n",
      "Epoch: 43\n",
      "Epoch: 44\n",
      "Epoch: 45\n",
      "Epoch: 46\n",
      "Epoch: 47\n",
      "Epoch: 48\n",
      "Epoch: 49\n",
      "Epoch: 50\n",
      "Epoch: 51\n",
      "Epoch: 52\n",
      "Epoch: 53\n",
      "Epoch: 54\n",
      "Epoch: 55\n",
      "Epoch: 56\n",
      "Epoch: 57\n",
      "Epoch: 58\n",
      "Epoch: 59\n",
      "Epoch: 60\n",
      "Epoch: 61\n",
      "Epoch: 62\n",
      "Epoch: 63\n",
      "Epoch: 64\n",
      "Epoch: 65\n",
      "Epoch: 66\n",
      "Epoch: 67\n",
      "Epoch: 68\n",
      "Epoch: 69\n",
      "Epoch: 70\n",
      "Epoch: 71\n",
      "Epoch: 72\n",
      "Epoch: 73\n",
      "Epoch: 74\n",
      "Epoch: 75\n",
      "Epoch: 76\n",
      "Epoch: 77\n",
      "Epoch: 78\n",
      "Epoch: 79\n",
      "Epoch: 80\n",
      "Epoch: 81\n",
      "Epoch: 82\n",
      "Epoch: 83\n",
      "Epoch: 84\n",
      "Epoch: 85\n",
      "Epoch: 86\n",
      "Epoch: 87\n",
      "Epoch: 88\n",
      "Epoch: 89\n",
      "Epoch: 90\n",
      "Epoch: 91\n",
      "Epoch: 92\n",
      "Epoch: 93\n",
      "Epoch: 94\n",
      "Epoch: 95\n",
      "Epoch: 96\n",
      "Epoch: 97\n",
      "Epoch: 98\n",
      "Epoch: 99\n",
      "Epoch: 100\n"
     ]
    }
   ],
   "source": [
    "LEARNING_RATE = 0.01\n",
    "EPOCHS = 100\n",
    "input_size = 41\n",
    "hidden_size = 100\n",
    "num_classes = 23\n",
    "\n",
    "# initialize the model before the loop\n",
    "model = SimpleNetwork(input_size, hidden_size,num_classes)\n",
    "\n",
    "# loss and optimizer\n",
    "criterion = nn.CrossEntropyLoss()\n",
    "optimizer = optim.SGD(model.parameters(), LEARNING_RATE)\n",
    "\n",
    "valid_scores =[]\n",
    "losses = []\n",
    "train_scores = []\n",
    "for epoch in range(1, EPOCHS+1):\n",
    "    # 100, 41\n",
    "    # 100\n",
    "    print('Epoch: '+str(epoch))\n",
    "    for i, (features, labels) in enumerate(train_loader):\n",
    "        curr_features = features\n",
    "        curr_labels = labels\n",
    "        # forward\n",
    "        outputs = model(curr_features)\n",
    "        loss = criterion(outputs, labels)\n",
    "        # backwards\n",
    "        optimizer.zero_grad()\n",
    "        loss.backward()\n",
    "        optimizer.step()\n",
    "        if i== 0:\n",
    "            # obtain train accuracy\n",
    "            with torch.no_grad():\n",
    "                total = 0\n",
    "                correct = 0\n",
    "                for X, y in train_loader:\n",
    "                    outputs = model(X.float())\n",
    "                    _, predictions = torch.max(outputs, 1)\n",
    "                    total += y.shape[0]\n",
    "                    correct += (predictions == y).sum().item()\n",
    "            train_scores.append(correct/total)\n",
    "            # obtain validation score\n",
    "            with torch.no_grad():\n",
    "                total = 0\n",
    "                correct = 0\n",
    "                for X, y in valid_loader:\n",
    "                    outputs = model(X.float())\n",
    "                    _, predictions = torch.max(outputs, 1)\n",
    "                    total += y.shape[0]\n",
    "                    correct += (predictions == y).sum().item()\n",
    "            valid_scores.append(correct/total)\n",
    "            # obtain the losses\n",
    "            losses.append(loss.item())"
   ]
  },
  {
   "cell_type": "markdown",
   "metadata": {
    "id": "j31M2YA4W-yk"
   },
   "source": [
    "Plot how the loss and the training accuracy and the validation accuracy change over the epochs. Is there a point where overfitting occurs? If you cannot spot one, answer no. "
   ]
  },
  {
   "cell_type": "code",
   "execution_count": 98,
   "metadata": {
    "id": "EiAD2opxW_gY"
   },
   "outputs": [
    {
     "data": {
      "image/png": "[encoded data removed]",
      "text/plain": [
       "<Figure size 432x288 with 1 Axes>"
      ]
     },
     "metadata": {
      "needs_background": "light"
     },
     "output_type": "display_data"
    }
   ],
   "source": [
    "# plot lines\n",
    "plt.plot(range(1,EPOCHS + 1), valid_scores, label = \"Validation Scores\")\n",
    "plt.plot(range(1,EPOCHS  + 1), train_scores, label = \"Training Scores\")\n",
    "z = np.polyfit(range(1,EPOCHS + 1), train_scores, 1)\n",
    "p = np.poly1d(z)\n",
    "plt.plot(range(1,EPOCHS + 1), p(range(1,EPOCHS + 1)), label = 'Accuracy Trend Line')\n",
    "plt.legend()\n",
    "plt.show()"
   ]
  },
  {
   "cell_type": "code",
   "execution_count": 17,
   "metadata": {},
   "outputs": [
    {
     "data": {
      "text/plain": [
       "[<matplotlib.lines.Line2D at 0x7fb1b09bfa90>]"
      ]
     },
     "execution_count": 17,
     "metadata": {},
     "output_type": "execute_result"
    },
    {
     "data": {
      "image/png": "[encoded data removed]",
      "text/plain": [
       "<Figure size 432x288 with 1 Axes>"
      ]
     },
     "metadata": {
      "needs_background": "light"
     },
     "output_type": "display_data"
    }
   ],
   "source": [
    "plt.plot(range(1,EPOCHS  + 1), losses, label = \"Losses\")"
   ]
  },
  {
   "cell_type": "markdown",
   "metadata": {},
   "source": [
    "# comment\n",
    "_Based on the output of the first plot, it looks like the training and validation accuracy increases (very slightly) as the number of epochs increases. We can see this with the trend line on the graph. With the loss plotted against the number of epochs, we see the opposite is true and that it overall decreases as the number of epochs increases. This is because the first loss is extremely high while the following losses are relatively low. Since the the first loss is computed without any training, then it is going to be high at first. Since the Validation Accuracy follows pretty close to the Training Accuracy, there seems to be no overfitting happening. For overfitting, I would expect that the training accuracy would be much higher than the validation accuracy._"
   ]
  },
  {
   "cell_type": "markdown",
   "metadata": {
    "id": "pCRxAtjnXB55"
   },
   "source": [
    "### Part d \n",
    "Evaluate the model on the test dataset. Print out the accuracy. Does this accuracy agree with the training accuracy showed on the plot?"
   ]
  },
  {
   "cell_type": "code",
   "execution_count": 20,
   "metadata": {
    "id": "uGAvfpWuXHLM"
   },
   "outputs": [
    {
     "name": "stdout",
     "output_type": "stream",
     "text": [
      "Test Accuracy: 79949/98804 = 0.809167645034614\n"
     ]
    }
   ],
   "source": [
    "test_criterion = nn.CrossEntropyLoss(reduction='sum')\n",
    "model.eval()\n",
    "test_loss = 0\n",
    "correct = 0\n",
    "with torch.no_grad():\n",
    "    for data, target in test_loader:\n",
    "        output = model(data)\n",
    "        test_loss += test_criterion(output, target).item()  # sum up batch loss\n",
    "        pred = output.argmax(dim=1, keepdim=True)  # get the index of the max log-probability\n",
    "        correct += pred.eq(target.view_as(pred)).sum().item()\n",
    "print('Test Accuracy: {}/{} = {}'.format(correct,len(test_loader.dataset),correct/len(test_loader.dataset)))"
   ]
  },
  {
   "cell_type": "markdown",
   "metadata": {},
   "source": [
    "# comment\n",
    "_Based on what the plot from part c shows, the testing accuracy matches what we'd expect after training and validating the model on seen data and exposing it to unseen data. It looks like the max accuracy of the training and validating gets to be close to 84% while the test accuracy is about an 81%._"
   ]
  },
  {
   "cell_type": "markdown",
   "metadata": {
    "id": "fnF9NTStY73w"
   },
   "source": [
    "## Problem 2\n",
    "\n",
    "In this problem, we will investigate the effects of various common hyperparameters on the performance of a neural network. In the following cell, you can find a network class already defined for you. You can initiate network instances with different hyperparameters by changing the contructor's arguments.\n",
    "\n",
    "You are graded based on how you implement and execute the experiments. Since there is some randomness in initiating and training a neural network, there is no guarantee that you will get an expected result for an experiment or that your results should be similar to those of your peers. The expected outcome is that you execute the experiments correctly and the conclusion you get are consistent with your results. For each experiments, try to run the code multiple times and record the average results like what we did in Homework 2 (it will take some time to run, as expected when training any neural network)."
   ]
  },
  {
   "cell_type": "code",
   "execution_count": 1,
   "metadata": {
    "executionInfo": {
     "elapsed": 26623,
     "status": "ok",
     "timestamp": 1636073089521,
     "user": {
      "displayName": "Kha-Dinh Luong",
      "photoUrl": "https://lh3.googleusercontent.com/a/default-user=s64",
      "userId": "12651085651574501268"
     },
     "user_tz": 420
    },
    "id": "Gomk6vh0ZjQJ",
    "tags": []
   },
   "outputs": [],
   "source": [
    "import torch\n",
    "import torch.nn as nn\n",
    "import torch.nn.functional as F\n",
    "\n",
    "class mnist_network(torch.nn.Module):\n",
    "    \n",
    "    def __init__(self, num_hidden_layers=1, layer_size = 100, activation=None):\n",
    "        super(mnist_network, self).__init__()\n",
    "        # layers of the network\n",
    "        self.num_hidden_layers = num_hidden_layers\n",
    "        self.layer_size = layer_size\n",
    "        self.activation = activation\n",
    "\n",
    "        if(self.activation == 'relu'):\n",
    "            self.activation = F.relu\n",
    "        elif(self.activation == 'tanh'):\n",
    "            self.activation = torch.tanh\n",
    "        elif(self.activation == 'sigmoid'): # added this line\n",
    "            self.activation = torch.nn.Sigmoid # and this one\n",
    "\n",
    "        self.layers = nn.ModuleList([nn.Linear(784,self.layer_size)])\n",
    "        for i in range(1, self.num_hidden_layers):\n",
    "            self.layers.append(nn.Linear(self.layer_size,self.layer_size))\n",
    "        self.layers.append(nn.Linear(self.layer_size,10))\n",
    "\n",
    "    def forward(self, x):\n",
    "        # converting each image into a vector\n",
    "        batch_size = x.shape[0]\n",
    "        x = x.reshape(batch_size,-1)\n",
    "        # rest of the forward pass \n",
    "        for i in range(self.num_hidden_layers+1):\n",
    "            x = self.layers[i](x)\n",
    "            if(self.activation != None):\n",
    "                x = self.activation(x)\n",
    "        return x"
   ]
  },
  {
   "cell_type": "markdown",
   "metadata": {
    "id": "X0DVPRosZkSF"
   },
   "source": [
    "Run the following code to load the MNIST dataset. For the sake of simplicity, we do not have a validation set in this problem."
   ]
  },
  {
   "cell_type": "code",
   "execution_count": 2,
   "metadata": {
    "id": "eJ8_gdWvZtpU"
   },
   "outputs": [],
   "source": [
    "import torch\n",
    "from torchvision import datasets, transforms\n",
    "\n",
    "transform=transforms.Compose([\n",
    "        transforms.ToTensor(),\n",
    "        transforms.Normalize((0.1307,), (0.3081,))\n",
    "        ])\n",
    "\n",
    "dataset1 = datasets.MNIST('../data', train=True, download=True,\n",
    "                    transform=transform)\n",
    "dataset2 = datasets.MNIST('../data', train=False,\n",
    "                    transform=transform)\n",
    "\n",
    "# DataLoader is a nice tool provided by PyTorch for passing training or testing examples\n",
    "train_loader = torch.utils.data.DataLoader(dataset1, batch_size=64)\n",
    "test_loader = torch.utils.data.DataLoader(dataset2, batch_size=1000)"
   ]
  },
  {
   "cell_type": "markdown",
   "metadata": {
    "id": "HCTzQwi5GdRk"
   },
   "source": [
    "Here is an example of training and testing a model:"
   ]
  },
  {
   "cell_type": "code",
   "execution_count": 3,
   "metadata": {},
   "outputs": [],
   "source": [
    "def train(model, criterion, train_loader, optimizer, epoch):\n",
    "    # Turn the model to training mode (gradients will be calculated)\n",
    "    model.train()\n",
    "    for batch_idx, (data, target) in enumerate(train_loader):\n",
    "        # We have to call zero_grad() on the optimizer to remove gradients from the previous data pass.\n",
    "        # Otherwise, the gradients will be accumulated throughout many passes.\n",
    "        optimizer.zero_grad()\n",
    "        # Pass in the data and obtain the output.\n",
    "        # When you pass the data directly by calling model(data), the model will internally pass the data through the forward() function.\n",
    "        output = model(data)\n",
    "        # Compare the output and the ground truth and calculate the loss.\n",
    "        loss = criterion(output, target)\n",
    "        # From the calculated loss, call backward() to calculate the gradients for all the paramters in the network.\n",
    "        loss.backward()\n",
    "        # Update the parameters according to the gradients. \n",
    "        optimizer.step()\n",
    "        if batch_idx % 100 == 0:\n",
    "            print('Train Epoch: {} [{}/{} ({:.0f}%)]\\tLoss: {:.6f}'.format(\n",
    "                epoch, batch_idx * len(data), len(train_loader.dataset),\n",
    "                100. * batch_idx / len(train_loader), loss.item()))\n",
    "\n",
    "\n",
    "def test(model, criterion, test_loader):\n",
    "    # Turn the model to testing mode (gradients will not be calculated)\n",
    "    model.eval()\n",
    "    test_loss = 0\n",
    "    correct = 0\n",
    "    with torch.no_grad():\n",
    "        for data, target in test_loader:\n",
    "            output = model(data)\n",
    "            test_loss += criterion(output, target).item()  # sum up batch loss\n",
    "            pred = output.argmax(dim=1, keepdim=True)  # get the index of the max log-probability\n",
    "            correct += pred.eq(target.view_as(pred)).sum().item()\n",
    "\n",
    "    test_loss /= len(test_loader.dataset)\n",
    "\n",
    "    print('\\nTest set: Average loss: {:.4f}, Accuracy: {}/{} ({:.0f}%)\\n'.format(\n",
    "        test_loss, correct, len(test_loader.dataset),\n",
    "        100. * correct / len(test_loader.dataset)))"
   ]
  },
  {
   "cell_type": "code",
   "execution_count": 24,
   "metadata": {
    "id": "TaSecQQAoDHb"
   },
   "outputs": [
    {
     "name": "stdout",
     "output_type": "stream",
     "text": [
      "Train Epoch: 1 [0/60000 (0%)]\tLoss: 2.303005\n",
      "Train Epoch: 1 [6400/60000 (11%)]\tLoss: 1.698578\n",
      "Train Epoch: 1 [12800/60000 (21%)]\tLoss: 1.094308\n",
      "Train Epoch: 1 [19200/60000 (32%)]\tLoss: 0.884926\n",
      "Train Epoch: 1 [25600/60000 (43%)]\tLoss: 0.659386\n",
      "Train Epoch: 1 [32000/60000 (53%)]\tLoss: 0.872297\n",
      "Train Epoch: 1 [38400/60000 (64%)]\tLoss: 0.788716\n",
      "Train Epoch: 1 [44800/60000 (75%)]\tLoss: 1.121195\n",
      "Train Epoch: 1 [51200/60000 (85%)]\tLoss: 0.850268\n",
      "Train Epoch: 1 [57600/60000 (96%)]\tLoss: 0.800012\n",
      "\n",
      "Test set: Average loss: 0.7488, Accuracy: 8150/10000 (82%)\n",
      "\n",
      "Train Epoch: 2 [0/60000 (0%)]\tLoss: 0.686632\n",
      "Train Epoch: 2 [6400/60000 (11%)]\tLoss: 0.896054\n",
      "Train Epoch: 2 [12800/60000 (21%)]\tLoss: 0.701346\n",
      "Train Epoch: 2 [19200/60000 (32%)]\tLoss: 0.654898\n",
      "Train Epoch: 2 [25600/60000 (43%)]\tLoss: 0.511969\n",
      "Train Epoch: 2 [32000/60000 (53%)]\tLoss: 0.770084\n",
      "Train Epoch: 2 [38400/60000 (64%)]\tLoss: 0.654108\n",
      "Train Epoch: 2 [44800/60000 (75%)]\tLoss: 1.064980\n",
      "Train Epoch: 2 [51200/60000 (85%)]\tLoss: 0.758033\n",
      "Train Epoch: 2 [57600/60000 (96%)]\tLoss: 0.776658\n",
      "\n",
      "Test set: Average loss: 0.6969, Accuracy: 8358/10000 (84%)\n",
      "\n",
      "Train Epoch: 3 [0/60000 (0%)]\tLoss: 0.601664\n",
      "Train Epoch: 3 [6400/60000 (11%)]\tLoss: 0.858552\n",
      "Train Epoch: 3 [12800/60000 (21%)]\tLoss: 0.669929\n",
      "Train Epoch: 3 [19200/60000 (32%)]\tLoss: 0.628938\n",
      "Train Epoch: 3 [25600/60000 (43%)]\tLoss: 0.486381\n",
      "Train Epoch: 3 [32000/60000 (53%)]\tLoss: 0.744605\n",
      "Train Epoch: 3 [38400/60000 (64%)]\tLoss: 0.607090\n",
      "Train Epoch: 3 [44800/60000 (75%)]\tLoss: 1.050578\n",
      "Train Epoch: 3 [51200/60000 (85%)]\tLoss: 0.709480\n",
      "Train Epoch: 3 [57600/60000 (96%)]\tLoss: 0.763184\n",
      "\n",
      "Test set: Average loss: 0.6735, Accuracy: 8439/10000 (84%)\n",
      "\n",
      "Train Epoch: 4 [0/60000 (0%)]\tLoss: 0.563237\n",
      "Train Epoch: 4 [6400/60000 (11%)]\tLoss: 0.840385\n",
      "Train Epoch: 4 [12800/60000 (21%)]\tLoss: 0.649820\n",
      "Train Epoch: 4 [19200/60000 (32%)]\tLoss: 0.622158\n",
      "Train Epoch: 4 [25600/60000 (43%)]\tLoss: 0.472149\n",
      "Train Epoch: 4 [32000/60000 (53%)]\tLoss: 0.731105\n",
      "Train Epoch: 4 [38400/60000 (64%)]\tLoss: 0.578710\n",
      "Train Epoch: 4 [44800/60000 (75%)]\tLoss: 1.044989\n",
      "Train Epoch: 4 [51200/60000 (85%)]\tLoss: 0.672262\n",
      "Train Epoch: 4 [57600/60000 (96%)]\tLoss: 0.752988\n",
      "\n",
      "Test set: Average loss: 0.6580, Accuracy: 8495/10000 (85%)\n",
      "\n",
      "Train Epoch: 5 [0/60000 (0%)]\tLoss: 0.540288\n",
      "Train Epoch: 5 [6400/60000 (11%)]\tLoss: 0.829955\n",
      "Train Epoch: 5 [12800/60000 (21%)]\tLoss: 0.632253\n",
      "Train Epoch: 5 [19200/60000 (32%)]\tLoss: 0.615760\n",
      "Train Epoch: 5 [25600/60000 (43%)]\tLoss: 0.460427\n",
      "Train Epoch: 5 [32000/60000 (53%)]\tLoss: 0.719078\n",
      "Train Epoch: 5 [38400/60000 (64%)]\tLoss: 0.556739\n",
      "Train Epoch: 5 [44800/60000 (75%)]\tLoss: 1.039775\n",
      "Train Epoch: 5 [51200/60000 (85%)]\tLoss: 0.644610\n",
      "Train Epoch: 5 [57600/60000 (96%)]\tLoss: 0.741415\n",
      "\n",
      "Test set: Average loss: 0.6460, Accuracy: 8520/10000 (85%)\n",
      "\n"
     ]
    }
   ],
   "source": [
    "# Number of training epochs\n",
    "epochs = 5\n",
    "# Learning rate\n",
    "lr = 0.01\n",
    "\n",
    "# Create the model\n",
    "model = mnist_network(num_hidden_layers=1,layer_size=20,activation='relu')\n",
    "\n",
    "# Define the training and testing loss\n",
    "train_criterion = nn.CrossEntropyLoss()\n",
    "test_criterion = nn.CrossEntropyLoss(reduction='sum')\n",
    "\n",
    "# Define the optimizer\n",
    "# We have to specify the learning rate and the parameters that the optimizer should update during training.\n",
    "# In this case, we specify that the optimizer should update all the parameters from our model.\n",
    "optimizer = optim.SGD(model.parameters(),lr=lr)\n",
    "\n",
    "for epoch in range(1,1+epochs):\n",
    "        # Training\n",
    "        train(model, train_criterion, train_loader, optimizer, epoch)\n",
    "        # Testing\n",
    "        test(model, test_criterion, test_loader)"
   ]
  },
  {
   "cell_type": "markdown",
   "metadata": {
    "id": "tnm5pgiLhBmM"
   },
   "source": [
    "## Part a"
   ]
  },
  {
   "cell_type": "markdown",
   "metadata": {
    "id": "spGF1F_NZvt1"
   },
   "source": [
    "First, we will investigate the effect of varying the size of the hidden layer. Create 3 one-hidden-layer networks with the sizes of the hidden layers being 5, 20, 50, respectively. We will call these the 5-network, the 20-network, and the 50-network. All networks should use ReLU activation."
   ]
  },
  {
   "cell_type": "markdown",
   "metadata": {},
   "source": [
    "**will create the networks within their respective cells so when I rerun it wont be trained already**"
   ]
  },
  {
   "cell_type": "markdown",
   "metadata": {
    "id": "mLDj0aMPaOP6"
   },
   "source": [
    "Train the 5-network on the MNIST dataset for 10 epochs with learning rate 0.001. After each epoch, record the current training accuracy of the network. "
   ]
  },
  {
   "cell_type": "code",
   "execution_count": 5,
   "metadata": {
    "id": "rFtFPtnOayqM"
   },
   "outputs": [
    {
     "name": "stdout",
     "output_type": "stream",
     "text": [
      "Train Epoch: 1 [0/60000 (0%)]\tLoss: 2.382977\n",
      "Train Epoch: 1 [6400/60000 (11%)]\tLoss: 2.190428\n",
      "Train Epoch: 1 [12800/60000 (21%)]\tLoss: 2.112933\n",
      "Train Epoch: 1 [19200/60000 (32%)]\tLoss: 2.048495\n",
      "Train Epoch: 1 [25600/60000 (43%)]\tLoss: 2.018739\n",
      "Train Epoch: 1 [32000/60000 (53%)]\tLoss: 1.933065\n",
      "Train Epoch: 1 [38400/60000 (64%)]\tLoss: 1.708500\n",
      "Train Epoch: 1 [44800/60000 (75%)]\tLoss: 1.998135\n",
      "Train Epoch: 1 [51200/60000 (85%)]\tLoss: 1.746063\n",
      "Train Epoch: 1 [57600/60000 (96%)]\tLoss: 1.462017\n",
      "Train Epoch: 2 [0/60000 (0%)]\tLoss: 1.618658\n",
      "Train Epoch: 2 [6400/60000 (11%)]\tLoss: 1.477855\n",
      "Train Epoch: 2 [12800/60000 (21%)]\tLoss: 1.463898\n",
      "Train Epoch: 2 [19200/60000 (32%)]\tLoss: 1.374288\n",
      "Train Epoch: 2 [25600/60000 (43%)]\tLoss: 1.372230\n",
      "Train Epoch: 2 [32000/60000 (53%)]\tLoss: 1.418761\n",
      "Train Epoch: 2 [38400/60000 (64%)]\tLoss: 1.250929\n",
      "Train Epoch: 2 [44800/60000 (75%)]\tLoss: 1.524912\n",
      "Train Epoch: 2 [51200/60000 (85%)]\tLoss: 1.372139\n",
      "Train Epoch: 2 [57600/60000 (96%)]\tLoss: 1.075894\n",
      "Train Epoch: 3 [0/60000 (0%)]\tLoss: 1.239668\n",
      "Train Epoch: 3 [6400/60000 (11%)]\tLoss: 1.199927\n",
      "Train Epoch: 3 [12800/60000 (21%)]\tLoss: 1.198971\n",
      "Train Epoch: 3 [19200/60000 (32%)]\tLoss: 1.137233\n",
      "Train Epoch: 3 [25600/60000 (43%)]\tLoss: 1.148968\n",
      "Train Epoch: 3 [32000/60000 (53%)]\tLoss: 1.231528\n",
      "Train Epoch: 3 [38400/60000 (64%)]\tLoss: 1.079029\n",
      "Train Epoch: 3 [44800/60000 (75%)]\tLoss: 1.305544\n",
      "Train Epoch: 3 [51200/60000 (85%)]\tLoss: 1.198306\n",
      "Train Epoch: 3 [57600/60000 (96%)]\tLoss: 0.912956\n",
      "Train Epoch: 4 [0/60000 (0%)]\tLoss: 1.080326\n",
      "Train Epoch: 4 [6400/60000 (11%)]\tLoss: 1.067518\n",
      "Train Epoch: 4 [12800/60000 (21%)]\tLoss: 1.047245\n",
      "Train Epoch: 4 [19200/60000 (32%)]\tLoss: 1.023566\n",
      "Train Epoch: 4 [25600/60000 (43%)]\tLoss: 1.041417\n",
      "Train Epoch: 4 [32000/60000 (53%)]\tLoss: 1.125970\n",
      "Train Epoch: 4 [38400/60000 (64%)]\tLoss: 0.970966\n",
      "Train Epoch: 4 [44800/60000 (75%)]\tLoss: 1.176769\n",
      "Train Epoch: 4 [51200/60000 (85%)]\tLoss: 1.088650\n",
      "Train Epoch: 4 [57600/60000 (96%)]\tLoss: 0.823190\n",
      "Train Epoch: 5 [0/60000 (0%)]\tLoss: 0.979611\n",
      "Train Epoch: 5 [6400/60000 (11%)]\tLoss: 0.984689\n",
      "Train Epoch: 5 [12800/60000 (21%)]\tLoss: 0.958984\n",
      "Train Epoch: 5 [19200/60000 (32%)]\tLoss: 0.954720\n",
      "Train Epoch: 5 [25600/60000 (43%)]\tLoss: 0.979728\n",
      "Train Epoch: 5 [32000/60000 (53%)]\tLoss: 1.056434\n",
      "Train Epoch: 5 [38400/60000 (64%)]\tLoss: 0.899459\n",
      "Train Epoch: 5 [44800/60000 (75%)]\tLoss: 1.098208\n",
      "Train Epoch: 5 [51200/60000 (85%)]\tLoss: 1.013956\n",
      "Train Epoch: 5 [57600/60000 (96%)]\tLoss: 0.769626\n",
      "Train Epoch: 6 [0/60000 (0%)]\tLoss: 0.908803\n",
      "Train Epoch: 6 [6400/60000 (11%)]\tLoss: 0.927161\n",
      "Train Epoch: 6 [12800/60000 (21%)]\tLoss: 0.897376\n",
      "Train Epoch: 6 [19200/60000 (32%)]\tLoss: 0.904946\n",
      "Train Epoch: 6 [25600/60000 (43%)]\tLoss: 0.936860\n",
      "Train Epoch: 6 [32000/60000 (53%)]\tLoss: 1.004389\n",
      "Train Epoch: 6 [38400/60000 (64%)]\tLoss: 0.848875\n",
      "Train Epoch: 6 [44800/60000 (75%)]\tLoss: 1.041081\n",
      "Train Epoch: 6 [51200/60000 (85%)]\tLoss: 0.961641\n",
      "Train Epoch: 6 [57600/60000 (96%)]\tLoss: 0.734429\n",
      "Train Epoch: 7 [0/60000 (0%)]\tLoss: 0.858685\n",
      "Train Epoch: 7 [6400/60000 (11%)]\tLoss: 0.885018\n",
      "Train Epoch: 7 [12800/60000 (21%)]\tLoss: 0.855066\n",
      "Train Epoch: 7 [19200/60000 (32%)]\tLoss: 0.867420\n",
      "Train Epoch: 7 [25600/60000 (43%)]\tLoss: 0.907437\n",
      "Train Epoch: 7 [32000/60000 (53%)]\tLoss: 0.964595\n",
      "Train Epoch: 7 [38400/60000 (64%)]\tLoss: 0.811154\n",
      "Train Epoch: 7 [44800/60000 (75%)]\tLoss: 0.998472\n",
      "Train Epoch: 7 [51200/60000 (85%)]\tLoss: 0.920698\n",
      "Train Epoch: 7 [57600/60000 (96%)]\tLoss: 0.711223\n",
      "Train Epoch: 8 [0/60000 (0%)]\tLoss: 0.818416\n",
      "Train Epoch: 8 [6400/60000 (11%)]\tLoss: 0.852030\n",
      "Train Epoch: 8 [12800/60000 (21%)]\tLoss: 0.821297\n",
      "Train Epoch: 8 [19200/60000 (32%)]\tLoss: 0.836839\n",
      "Train Epoch: 8 [25600/60000 (43%)]\tLoss: 0.886339\n",
      "Train Epoch: 8 [32000/60000 (53%)]\tLoss: 0.933151\n",
      "Train Epoch: 8 [38400/60000 (64%)]\tLoss: 0.778486\n",
      "Train Epoch: 8 [44800/60000 (75%)]\tLoss: 0.963969\n",
      "Train Epoch: 8 [51200/60000 (85%)]\tLoss: 0.887651\n",
      "Train Epoch: 8 [57600/60000 (96%)]\tLoss: 0.689923\n",
      "Train Epoch: 9 [0/60000 (0%)]\tLoss: 0.785332\n",
      "Train Epoch: 9 [6400/60000 (11%)]\tLoss: 0.825106\n",
      "Train Epoch: 9 [12800/60000 (21%)]\tLoss: 0.796276\n",
      "Train Epoch: 9 [19200/60000 (32%)]\tLoss: 0.812063\n",
      "Train Epoch: 9 [25600/60000 (43%)]\tLoss: 0.869828\n",
      "Train Epoch: 9 [32000/60000 (53%)]\tLoss: 0.901324\n",
      "Train Epoch: 9 [38400/60000 (64%)]\tLoss: 0.751277\n",
      "Train Epoch: 9 [44800/60000 (75%)]\tLoss: 0.934787\n",
      "Train Epoch: 9 [51200/60000 (85%)]\tLoss: 0.861029\n",
      "Train Epoch: 9 [57600/60000 (96%)]\tLoss: 0.671161\n",
      "Train Epoch: 10 [0/60000 (0%)]\tLoss: 0.756000\n",
      "Train Epoch: 10 [6400/60000 (11%)]\tLoss: 0.797829\n",
      "Train Epoch: 10 [12800/60000 (21%)]\tLoss: 0.775542\n",
      "Train Epoch: 10 [19200/60000 (32%)]\tLoss: 0.790168\n",
      "Train Epoch: 10 [25600/60000 (43%)]\tLoss: 0.857445\n",
      "Train Epoch: 10 [32000/60000 (53%)]\tLoss: 0.875399\n",
      "Train Epoch: 10 [38400/60000 (64%)]\tLoss: 0.727807\n",
      "Train Epoch: 10 [44800/60000 (75%)]\tLoss: 0.909144\n",
      "Train Epoch: 10 [51200/60000 (85%)]\tLoss: 0.837476\n",
      "Train Epoch: 10 [57600/60000 (96%)]\tLoss: 0.655269\n"
     ]
    }
   ],
   "source": [
    "np.random.seed(2)\n",
    "# Number of training epochs\n",
    "epochs = 10\n",
    "# Learning rate\n",
    "lr = 0.001\n",
    "\n",
    "# Define the training and testing loss\n",
    "train_criterion = nn.CrossEntropyLoss()\n",
    "test_criterion = nn.CrossEntropyLoss(reduction='sum')\n",
    "\n",
    "# Define the optimizer\n",
    "# We have to specify the learning rate and the parameters that the optimizer should update during training.\n",
    "# In this case, we specify that the optimizer should update all the parameters from our model.\n",
    "\n",
    "# define the five-network\n",
    "five_model = mnist_network(num_hidden_layers=1,layer_size=5,activation='relu')\n",
    "\n",
    "# create optimizer for the 5-network\n",
    "five_optimizer = optim.SGD(five_model.parameters(),lr=lr)\n",
    "\n",
    "# initialize an emp\n",
    "five_model_accuracies = []\n",
    "\n",
    "\n",
    "for epoch in range(1,epochs+1):\n",
    "    # Training the five-network\n",
    "    train(five_model, train_criterion, train_loader, five_optimizer, epoch)\n",
    "        \n",
    "    # use test function to get the performance \n",
    "    five_model.eval()\n",
    "    train_loss = 0\n",
    "    num_correct = 0\n",
    "    with torch.no_grad():\n",
    "        for data, target in train_loader:\n",
    "            output = five_model(data)\n",
    "            train_loss += test_criterion(output, target).item()  # sum up batch loss\n",
    "            pred = output.argmax(dim=1, keepdim=True)  # get the index of the max log-probability\n",
    "            num_correct += pred.eq(target.view_as(pred)).sum().item()\n",
    "\n",
    "    five_model_accuracies.append(num_correct / len(train_loader.dataset))"
   ]
  },
  {
   "cell_type": "code",
   "execution_count": 6,
   "metadata": {},
   "outputs": [
    {
     "name": "stdout",
     "output_type": "stream",
     "text": [
      "[0.5118833333333334, 0.6109166666666667, 0.6497833333333334, 0.6712, 0.6860166666666667, 0.6977166666666667, 0.7065333333333333, 0.7143333333333334, 0.7206, 0.7703833333333333]\n"
     ]
    }
   ],
   "source": [
    "print(five_model_accuracies)"
   ]
  },
  {
   "cell_type": "markdown",
   "metadata": {
    "id": "ShqrwsCjazpB"
   },
   "source": [
    "Test the trained 5-network on the test data. Print out the accuracy."
   ]
  },
  {
   "cell_type": "code",
   "execution_count": 7,
   "metadata": {
    "id": "DUbHZYLxa5yw"
   },
   "outputs": [
    {
     "name": "stdout",
     "output_type": "stream",
     "text": [
      "\n",
      "Test set: Average loss: 0.8030, Accuracy: 7802/10000 (78%)\n",
      "\n"
     ]
    }
   ],
   "source": [
    "np.random.seed(46)\n",
    "test(five_model, test_criterion, test_loader)"
   ]
  },
  {
   "cell_type": "markdown",
   "metadata": {
    "id": "b39B1xD9bhez"
   },
   "source": [
    "Train the 20-network on the MNIST dataset for 10 epochs with learning rate 0.001. After each epoch, record the current training accuracy of the network. "
   ]
  },
  {
   "cell_type": "code",
   "execution_count": 8,
   "metadata": {
    "id": "yKUZhq6lbfvB"
   },
   "outputs": [
    {
     "name": "stdout",
     "output_type": "stream",
     "text": [
      "Train Epoch: 1 [0/60000 (0%)]\tLoss: 2.332318\n",
      "Train Epoch: 1 [6400/60000 (11%)]\tLoss: 2.165433\n",
      "Train Epoch: 1 [12800/60000 (21%)]\tLoss: 2.205512\n",
      "Train Epoch: 1 [19200/60000 (32%)]\tLoss: 1.964749\n",
      "Train Epoch: 1 [25600/60000 (43%)]\tLoss: 2.001285\n",
      "Train Epoch: 1 [32000/60000 (53%)]\tLoss: 1.864156\n",
      "Train Epoch: 1 [38400/60000 (64%)]\tLoss: 1.650214\n",
      "Train Epoch: 1 [44800/60000 (75%)]\tLoss: 1.676998\n",
      "Train Epoch: 1 [51200/60000 (85%)]\tLoss: 1.470283\n",
      "Train Epoch: 1 [57600/60000 (96%)]\tLoss: 1.306746\n",
      "Train Epoch: 2 [0/60000 (0%)]\tLoss: 1.254378\n",
      "Train Epoch: 2 [6400/60000 (11%)]\tLoss: 1.059246\n",
      "Train Epoch: 2 [12800/60000 (21%)]\tLoss: 1.177335\n",
      "Train Epoch: 2 [19200/60000 (32%)]\tLoss: 0.937805\n",
      "Train Epoch: 2 [25600/60000 (43%)]\tLoss: 0.896074\n",
      "Train Epoch: 2 [32000/60000 (53%)]\tLoss: 0.853867\n",
      "Train Epoch: 2 [38400/60000 (64%)]\tLoss: 0.754357\n",
      "Train Epoch: 2 [44800/60000 (75%)]\tLoss: 0.939809\n",
      "Train Epoch: 2 [51200/60000 (85%)]\tLoss: 0.882449\n",
      "Train Epoch: 2 [57600/60000 (96%)]\tLoss: 0.756683\n",
      "Train Epoch: 3 [0/60000 (0%)]\tLoss: 0.715236\n",
      "Train Epoch: 3 [6400/60000 (11%)]\tLoss: 0.599413\n",
      "Train Epoch: 3 [12800/60000 (21%)]\tLoss: 0.707172\n",
      "Train Epoch: 3 [19200/60000 (32%)]\tLoss: 0.616923\n",
      "Train Epoch: 3 [25600/60000 (43%)]\tLoss: 0.558279\n",
      "Train Epoch: 3 [32000/60000 (53%)]\tLoss: 0.583628\n",
      "Train Epoch: 3 [38400/60000 (64%)]\tLoss: 0.504871\n",
      "Train Epoch: 3 [44800/60000 (75%)]\tLoss: 0.696237\n",
      "Train Epoch: 3 [51200/60000 (85%)]\tLoss: 0.694062\n",
      "Train Epoch: 3 [57600/60000 (96%)]\tLoss: 0.589533\n",
      "Train Epoch: 4 [0/60000 (0%)]\tLoss: 0.535757\n",
      "Train Epoch: 4 [6400/60000 (11%)]\tLoss: 0.452891\n",
      "Train Epoch: 4 [12800/60000 (21%)]\tLoss: 0.536312\n",
      "Train Epoch: 4 [19200/60000 (32%)]\tLoss: 0.505134\n",
      "Train Epoch: 4 [25600/60000 (43%)]\tLoss: 0.436178\n",
      "Train Epoch: 4 [32000/60000 (53%)]\tLoss: 0.491091\n",
      "Train Epoch: 4 [38400/60000 (64%)]\tLoss: 0.406989\n",
      "Train Epoch: 4 [44800/60000 (75%)]\tLoss: 0.591226\n",
      "Train Epoch: 4 [51200/60000 (85%)]\tLoss: 0.598525\n",
      "Train Epoch: 4 [57600/60000 (96%)]\tLoss: 0.520997\n",
      "Train Epoch: 5 [0/60000 (0%)]\tLoss: 0.448198\n",
      "Train Epoch: 5 [6400/60000 (11%)]\tLoss: 0.384843\n",
      "Train Epoch: 5 [12800/60000 (21%)]\tLoss: 0.452579\n",
      "Train Epoch: 5 [19200/60000 (32%)]\tLoss: 0.452524\n",
      "Train Epoch: 5 [25600/60000 (43%)]\tLoss: 0.373257\n",
      "Train Epoch: 5 [32000/60000 (53%)]\tLoss: 0.446068\n",
      "Train Epoch: 5 [38400/60000 (64%)]\tLoss: 0.354190\n",
      "Train Epoch: 5 [44800/60000 (75%)]\tLoss: 0.533137\n",
      "Train Epoch: 5 [51200/60000 (85%)]\tLoss: 0.537044\n",
      "Train Epoch: 5 [57600/60000 (96%)]\tLoss: 0.486789\n",
      "Train Epoch: 6 [0/60000 (0%)]\tLoss: 0.395762\n",
      "Train Epoch: 6 [6400/60000 (11%)]\tLoss: 0.346953\n",
      "Train Epoch: 6 [12800/60000 (21%)]\tLoss: 0.401971\n",
      "Train Epoch: 6 [19200/60000 (32%)]\tLoss: 0.422501\n",
      "Train Epoch: 6 [25600/60000 (43%)]\tLoss: 0.334905\n",
      "Train Epoch: 6 [32000/60000 (53%)]\tLoss: 0.419072\n",
      "Train Epoch: 6 [38400/60000 (64%)]\tLoss: 0.320470\n",
      "Train Epoch: 6 [44800/60000 (75%)]\tLoss: 0.496415\n",
      "Train Epoch: 6 [51200/60000 (85%)]\tLoss: 0.493303\n",
      "Train Epoch: 6 [57600/60000 (96%)]\tLoss: 0.467681\n",
      "Train Epoch: 7 [0/60000 (0%)]\tLoss: 0.360684\n",
      "Train Epoch: 7 [6400/60000 (11%)]\tLoss: 0.323577\n",
      "Train Epoch: 7 [12800/60000 (21%)]\tLoss: 0.367125\n",
      "Train Epoch: 7 [19200/60000 (32%)]\tLoss: 0.402741\n",
      "Train Epoch: 7 [25600/60000 (43%)]\tLoss: 0.309486\n",
      "Train Epoch: 7 [32000/60000 (53%)]\tLoss: 0.400802\n",
      "Train Epoch: 7 [38400/60000 (64%)]\tLoss: 0.296849\n",
      "Train Epoch: 7 [44800/60000 (75%)]\tLoss: 0.471008\n",
      "Train Epoch: 7 [51200/60000 (85%)]\tLoss: 0.460509\n",
      "Train Epoch: 7 [57600/60000 (96%)]\tLoss: 0.456220\n",
      "Train Epoch: 8 [0/60000 (0%)]\tLoss: 0.335524\n",
      "Train Epoch: 8 [6400/60000 (11%)]\tLoss: 0.308070\n",
      "Train Epoch: 8 [12800/60000 (21%)]\tLoss: 0.341471\n",
      "Train Epoch: 8 [19200/60000 (32%)]\tLoss: 0.388430\n",
      "Train Epoch: 8 [25600/60000 (43%)]\tLoss: 0.291287\n",
      "Train Epoch: 8 [32000/60000 (53%)]\tLoss: 0.387170\n",
      "Train Epoch: 8 [38400/60000 (64%)]\tLoss: 0.279365\n",
      "Train Epoch: 8 [44800/60000 (75%)]\tLoss: 0.452824\n",
      "Train Epoch: 8 [51200/60000 (85%)]\tLoss: 0.435322\n",
      "Train Epoch: 8 [57600/60000 (96%)]\tLoss: 0.449144\n",
      "Train Epoch: 9 [0/60000 (0%)]\tLoss: 0.316476\n",
      "Train Epoch: 9 [6400/60000 (11%)]\tLoss: 0.297605\n",
      "Train Epoch: 9 [12800/60000 (21%)]\tLoss: 0.321247\n",
      "Train Epoch: 9 [19200/60000 (32%)]\tLoss: 0.377377\n",
      "Train Epoch: 9 [25600/60000 (43%)]\tLoss: 0.277446\n",
      "Train Epoch: 9 [32000/60000 (53%)]\tLoss: 0.376540\n",
      "Train Epoch: 9 [38400/60000 (64%)]\tLoss: 0.265832\n",
      "Train Epoch: 9 [44800/60000 (75%)]\tLoss: 0.439055\n",
      "Train Epoch: 9 [51200/60000 (85%)]\tLoss: 0.415325\n",
      "Train Epoch: 9 [57600/60000 (96%)]\tLoss: 0.444660\n",
      "Train Epoch: 10 [0/60000 (0%)]\tLoss: 0.301324\n",
      "Train Epoch: 10 [6400/60000 (11%)]\tLoss: 0.289985\n",
      "Train Epoch: 10 [12800/60000 (21%)]\tLoss: 0.304425\n",
      "Train Epoch: 10 [19200/60000 (32%)]\tLoss: 0.369170\n",
      "Train Epoch: 10 [25600/60000 (43%)]\tLoss: 0.266659\n",
      "Train Epoch: 10 [32000/60000 (53%)]\tLoss: 0.367675\n",
      "Train Epoch: 10 [38400/60000 (64%)]\tLoss: 0.254951\n",
      "Train Epoch: 10 [44800/60000 (75%)]\tLoss: 0.428179\n",
      "Train Epoch: 10 [51200/60000 (85%)]\tLoss: 0.398911\n",
      "Train Epoch: 10 [57600/60000 (96%)]\tLoss: 0.441798\n"
     ]
    }
   ],
   "source": [
    "np.random.seed(3)\n",
    "\n",
    "# define the twenty-network\n",
    "twenty_model = mnist_network(num_hidden_layers=1,layer_size=20,activation='relu')\n",
    "\n",
    "# create optimizer for the twenty-network\n",
    "twenty_optimizer = optim.SGD(twenty_model.parameters(),lr=lr)\n",
    "\n",
    "# initialize an emp\n",
    "twenty_model_accuracies = []\n",
    "\n",
    "\n",
    "for epoch in range(1,epochs+1):\n",
    "    # Training the twenty-network\n",
    "    train(twenty_model, train_criterion, train_loader, twenty_optimizer, epoch)\n",
    "        \n",
    "    # use test function to get the performance \n",
    "    twenty_model.eval()\n",
    "    train_loss = 0\n",
    "    num_correct = 0\n",
    "    with torch.no_grad():\n",
    "        for data, target in train_loader:\n",
    "            output = twenty_model(data)\n",
    "            train_loss += test_criterion(output, target).item()  # sum up batch loss\n",
    "            pred = output.argmax(dim=1, keepdim=True)  # get the index of the max log-probability\n",
    "            num_correct += pred.eq(target.view_as(pred)).sum().item()\n",
    "\n",
    "    twenty_model_accuracies.append(num_correct / len(train_loader.dataset))"
   ]
  },
  {
   "cell_type": "code",
   "execution_count": 9,
   "metadata": {},
   "outputs": [
    {
     "name": "stdout",
     "output_type": "stream",
     "text": [
      "[0.7548166666666667, 0.8387, 0.8612333333333333, 0.8741, 0.8824, 0.88795, 0.8927, 0.8961166666666667, 0.8991333333333333, 0.9019166666666667]\n"
     ]
    }
   ],
   "source": [
    "print(twenty_model_accuracies)"
   ]
  },
  {
   "cell_type": "markdown",
   "metadata": {
    "id": "lqezVf-ybfVR"
   },
   "source": [
    "Test the trained 20-network on the test data. Print out the accuracy."
   ]
  },
  {
   "cell_type": "code",
   "execution_count": 10,
   "metadata": {
    "id": "1JwFDxuubeki"
   },
   "outputs": [
    {
     "name": "stdout",
     "output_type": "stream",
     "text": [
      "\n",
      "Test set: Average loss: 0.3320, Accuracy: 9060/10000 (91%)\n",
      "\n"
     ]
    }
   ],
   "source": [
    "np.random.seed(44)\n",
    "test(twenty_model, test_criterion, test_loader)"
   ]
  },
  {
   "cell_type": "markdown",
   "metadata": {
    "id": "TYFzQ_AObdp0"
   },
   "source": [
    "Train the 50-network on the MNIST dataset for 10 epochs with learning rate 0.001. After each epoch, record the current training accuracy of the network. "
   ]
  },
  {
   "cell_type": "code",
   "execution_count": 11,
   "metadata": {
    "id": "FpQiI7o-bzdv"
   },
   "outputs": [
    {
     "name": "stdout",
     "output_type": "stream",
     "text": [
      "Train Epoch: 1 [0/60000 (0%)]\tLoss: 2.315129\n",
      "Train Epoch: 1 [6400/60000 (11%)]\tLoss: 2.249916\n",
      "Train Epoch: 1 [12800/60000 (21%)]\tLoss: 2.136567\n",
      "Train Epoch: 1 [19200/60000 (32%)]\tLoss: 1.907862\n",
      "Train Epoch: 1 [25600/60000 (43%)]\tLoss: 1.838665\n",
      "Train Epoch: 1 [32000/60000 (53%)]\tLoss: 1.745965\n",
      "Train Epoch: 1 [38400/60000 (64%)]\tLoss: 1.500738\n",
      "Train Epoch: 1 [44800/60000 (75%)]\tLoss: 1.687810\n",
      "Train Epoch: 1 [51200/60000 (85%)]\tLoss: 1.390489\n",
      "Train Epoch: 1 [57600/60000 (96%)]\tLoss: 1.229845\n",
      "Train Epoch: 2 [0/60000 (0%)]\tLoss: 1.237610\n",
      "Train Epoch: 2 [6400/60000 (11%)]\tLoss: 1.237765\n",
      "Train Epoch: 2 [12800/60000 (21%)]\tLoss: 1.261933\n",
      "Train Epoch: 2 [19200/60000 (32%)]\tLoss: 0.905777\n",
      "Train Epoch: 2 [25600/60000 (43%)]\tLoss: 0.980741\n",
      "Train Epoch: 2 [32000/60000 (53%)]\tLoss: 1.069207\n",
      "Train Epoch: 2 [38400/60000 (64%)]\tLoss: 0.885865\n",
      "Train Epoch: 2 [44800/60000 (75%)]\tLoss: 1.265059\n",
      "Train Epoch: 2 [51200/60000 (85%)]\tLoss: 0.956839\n",
      "Train Epoch: 2 [57600/60000 (96%)]\tLoss: 0.800972\n",
      "Train Epoch: 3 [0/60000 (0%)]\tLoss: 0.832054\n",
      "Train Epoch: 3 [6400/60000 (11%)]\tLoss: 0.942768\n",
      "Train Epoch: 3 [12800/60000 (21%)]\tLoss: 0.978472\n",
      "Train Epoch: 3 [19200/60000 (32%)]\tLoss: 0.645969\n",
      "Train Epoch: 3 [25600/60000 (43%)]\tLoss: 0.732880\n",
      "Train Epoch: 3 [32000/60000 (53%)]\tLoss: 0.877874\n",
      "Train Epoch: 3 [38400/60000 (64%)]\tLoss: 0.721003\n",
      "Train Epoch: 3 [44800/60000 (75%)]\tLoss: 1.101189\n",
      "Train Epoch: 3 [51200/60000 (85%)]\tLoss: 0.818943\n",
      "Train Epoch: 3 [57600/60000 (96%)]\tLoss: 0.672873\n",
      "Train Epoch: 4 [0/60000 (0%)]\tLoss: 0.681912\n",
      "Train Epoch: 4 [6400/60000 (11%)]\tLoss: 0.822868\n",
      "Train Epoch: 4 [12800/60000 (21%)]\tLoss: 0.844440\n",
      "Train Epoch: 4 [19200/60000 (32%)]\tLoss: 0.547865\n",
      "Train Epoch: 4 [25600/60000 (43%)]\tLoss: 0.615417\n",
      "Train Epoch: 4 [32000/60000 (53%)]\tLoss: 0.784011\n",
      "Train Epoch: 4 [38400/60000 (64%)]\tLoss: 0.627127\n",
      "Train Epoch: 4 [44800/60000 (75%)]\tLoss: 0.866415\n",
      "Train Epoch: 4 [51200/60000 (85%)]\tLoss: 0.649696\n",
      "Train Epoch: 4 [57600/60000 (96%)]\tLoss: 0.590831\n",
      "Train Epoch: 5 [0/60000 (0%)]\tLoss: 0.569714\n",
      "Train Epoch: 5 [6400/60000 (11%)]\tLoss: 0.526315\n",
      "Train Epoch: 5 [12800/60000 (21%)]\tLoss: 0.543655\n",
      "Train Epoch: 5 [19200/60000 (32%)]\tLoss: 0.493478\n",
      "Train Epoch: 5 [25600/60000 (43%)]\tLoss: 0.412679\n",
      "Train Epoch: 5 [32000/60000 (53%)]\tLoss: 0.522002\n",
      "Train Epoch: 5 [38400/60000 (64%)]\tLoss: 0.446043\n",
      "Train Epoch: 5 [44800/60000 (75%)]\tLoss: 0.601454\n",
      "Train Epoch: 5 [51200/60000 (85%)]\tLoss: 0.526767\n",
      "Train Epoch: 5 [57600/60000 (96%)]\tLoss: 0.513371\n",
      "Train Epoch: 6 [0/60000 (0%)]\tLoss: 0.470332\n",
      "Train Epoch: 6 [6400/60000 (11%)]\tLoss: 0.419127\n",
      "Train Epoch: 6 [12800/60000 (21%)]\tLoss: 0.431438\n",
      "Train Epoch: 6 [19200/60000 (32%)]\tLoss: 0.443252\n",
      "Train Epoch: 6 [25600/60000 (43%)]\tLoss: 0.344092\n",
      "Train Epoch: 6 [32000/60000 (53%)]\tLoss: 0.447899\n",
      "Train Epoch: 6 [38400/60000 (64%)]\tLoss: 0.381732\n",
      "Train Epoch: 6 [44800/60000 (75%)]\tLoss: 0.538272\n",
      "Train Epoch: 6 [51200/60000 (85%)]\tLoss: 0.472929\n",
      "Train Epoch: 6 [57600/60000 (96%)]\tLoss: 0.478662\n",
      "Train Epoch: 7 [0/60000 (0%)]\tLoss: 0.412775\n",
      "Train Epoch: 7 [6400/60000 (11%)]\tLoss: 0.368682\n",
      "Train Epoch: 7 [12800/60000 (21%)]\tLoss: 0.376509\n",
      "Train Epoch: 7 [19200/60000 (32%)]\tLoss: 0.414931\n",
      "Train Epoch: 7 [25600/60000 (43%)]\tLoss: 0.306543\n",
      "Train Epoch: 7 [32000/60000 (53%)]\tLoss: 0.412706\n",
      "Train Epoch: 7 [38400/60000 (64%)]\tLoss: 0.343365\n",
      "Train Epoch: 7 [44800/60000 (75%)]\tLoss: 0.504277\n",
      "Train Epoch: 7 [51200/60000 (85%)]\tLoss: 0.438953\n",
      "Train Epoch: 7 [57600/60000 (96%)]\tLoss: 0.460242\n",
      "Train Epoch: 8 [0/60000 (0%)]\tLoss: 0.373576\n",
      "Train Epoch: 8 [6400/60000 (11%)]\tLoss: 0.339145\n",
      "Train Epoch: 8 [12800/60000 (21%)]\tLoss: 0.342321\n",
      "Train Epoch: 8 [19200/60000 (32%)]\tLoss: 0.395925\n",
      "Train Epoch: 8 [25600/60000 (43%)]\tLoss: 0.282920\n",
      "Train Epoch: 8 [32000/60000 (53%)]\tLoss: 0.392110\n",
      "Train Epoch: 8 [38400/60000 (64%)]\tLoss: 0.317511\n",
      "Train Epoch: 8 [44800/60000 (75%)]\tLoss: 0.481559\n",
      "Train Epoch: 8 [51200/60000 (85%)]\tLoss: 0.414639\n",
      "Train Epoch: 8 [57600/60000 (96%)]\tLoss: 0.449040\n",
      "Train Epoch: 9 [0/60000 (0%)]\tLoss: 0.344947\n",
      "Train Epoch: 9 [6400/60000 (11%)]\tLoss: 0.320333\n",
      "Train Epoch: 9 [12800/60000 (21%)]\tLoss: 0.318355\n",
      "Train Epoch: 9 [19200/60000 (32%)]\tLoss: 0.381679\n",
      "Train Epoch: 9 [25600/60000 (43%)]\tLoss: 0.266615\n",
      "Train Epoch: 9 [32000/60000 (53%)]\tLoss: 0.378240\n",
      "Train Epoch: 9 [38400/60000 (64%)]\tLoss: 0.298235\n",
      "Train Epoch: 9 [44800/60000 (75%)]\tLoss: 0.464818\n",
      "Train Epoch: 9 [51200/60000 (85%)]\tLoss: 0.396224\n",
      "Train Epoch: 9 [57600/60000 (96%)]\tLoss: 0.441339\n",
      "Train Epoch: 10 [0/60000 (0%)]\tLoss: 0.322521\n",
      "Train Epoch: 10 [6400/60000 (11%)]\tLoss: 0.307774\n",
      "Train Epoch: 10 [12800/60000 (21%)]\tLoss: 0.300000\n",
      "Train Epoch: 10 [19200/60000 (32%)]\tLoss: 0.370274\n",
      "Train Epoch: 10 [25600/60000 (43%)]\tLoss: 0.255074\n",
      "Train Epoch: 10 [32000/60000 (53%)]\tLoss: 0.368200\n",
      "Train Epoch: 10 [38400/60000 (64%)]\tLoss: 0.282964\n",
      "Train Epoch: 10 [44800/60000 (75%)]\tLoss: 0.451835\n",
      "Train Epoch: 10 [51200/60000 (85%)]\tLoss: 0.381380\n",
      "Train Epoch: 10 [57600/60000 (96%)]\tLoss: 0.435714\n"
     ]
    }
   ],
   "source": [
    "np.random.seed(4)\n",
    "\n",
    "# define the fifty-network\n",
    "fifty_model = mnist_network(num_hidden_layers=1,layer_size=50,activation='relu')\n",
    "\n",
    "# create optimizer for the 50-network\n",
    "fifty_optimizer = optim.SGD(fifty_model.parameters(),lr=lr)\n",
    "\n",
    "# initialize an emp\n",
    "fifty_model_accuracies = []\n",
    "\n",
    "\n",
    "for epoch in range(1,epochs+1):\n",
    "    # Training the fifty-network\n",
    "    train(fifty_model, train_criterion, train_loader, fifty_optimizer, epoch)\n",
    "        \n",
    "    # use test function to get the performance \n",
    "    fifty_model.eval()\n",
    "    train_loss = 0\n",
    "    num_correct = 0\n",
    "    with torch.no_grad():\n",
    "        for data, target in train_loader:\n",
    "            output = fifty_model(data)\n",
    "            train_loss += test_criterion(output, target).item()  # sum up batch loss\n",
    "            pred = output.argmax(dim=1, keepdim=True)  # get the index of the max log-probability\n",
    "            num_correct += pred.eq(target.view_as(pred)).sum().item()\n",
    "\n",
    "    fifty_model_accuracies.append(num_correct / len(train_loader.dataset))"
   ]
  },
  {
   "cell_type": "code",
   "execution_count": 12,
   "metadata": {},
   "outputs": [
    {
     "name": "stdout",
     "output_type": "stream",
     "text": [
      "[0.7414833333333334, 0.7884833333333333, 0.8048166666666666, 0.85305, 0.8762166666666666, 0.8851833333333333, 0.8915333333333333, 0.8960333333333333, 0.8997333333333334, 0.9027833333333334]\n"
     ]
    }
   ],
   "source": [
    "print(fifty_model_accuracies)"
   ]
  },
  {
   "cell_type": "markdown",
   "metadata": {
    "id": "GnTUT4Gkb0D3"
   },
   "source": [
    "Test the trained 50-network on the test data. Print out the accuracy."
   ]
  },
  {
   "cell_type": "code",
   "execution_count": 13,
   "metadata": {
    "id": "XcjuzPU-b7AU"
   },
   "outputs": [
    {
     "name": "stdout",
     "output_type": "stream",
     "text": [
      "\n",
      "Test set: Average loss: 0.3297, Accuracy: 9070/10000 (91%)\n",
      "\n"
     ]
    }
   ],
   "source": [
    "np.random.seed(42)\n",
    "test(fifty_model, test_criterion, test_loader)"
   ]
  },
  {
   "cell_type": "markdown",
   "metadata": {
    "id": "6JdznrIAb7jy"
   },
   "source": [
    "Plot the training accuracies over the epochs of the networks on the same figure (there should 3 line plots/scatter plots). "
   ]
  },
  {
   "cell_type": "code",
   "execution_count": 14,
   "metadata": {
    "id": "lrzcDMwhcOJP"
   },
   "outputs": [
    {
     "data": {
      "image/png": "[encoded data removed]",
      "text/plain": [
       "<Figure size 432x288 with 1 Axes>"
      ]
     },
     "metadata": {
      "needs_background": "light"
     },
     "output_type": "display_data"
    }
   ],
   "source": [
    "# plot lines\n",
    "plt.plot(range(1,epochs + 1), five_model_accuracies, label = \"5-network\")\n",
    "plt.plot(range(1,epochs + 1), twenty_model_accuracies, label = \"20-network\")\n",
    "plt.plot(range(1,epochs + 1), fifty_model_accuracies, label = \"50-network\")\n",
    "plt.legend()\n",
    "plt.grid()\n",
    "plt.show()"
   ]
  },
  {
   "cell_type": "markdown",
   "metadata": {
    "id": "TmC8m-SRcOkP"
   },
   "source": [
    "What is your conclustion on the effect of varying the hidden layer size on the performance of a neural network trained on the MNIST dataset?"
   ]
  },
  {
   "cell_type": "markdown",
   "metadata": {},
   "source": [
    "# comment\n",
    "_Looking at the plot, we can tell its obvious that as the number of epochs increases, so does the accuracy. At the beginning, when we just start to train the model (epochs 1 - 3), the accuracy is low, especially for the 5-network. The best performing network right at 1 epoch is the 20-network with about a 76% accuracy. However, once we get to the end of the training period (completed the 10 epochs), the 20 and 50-network have around the same accuracy. Technically in the end, the 50-network is the best performing, but the 20-network is not that far away. After running this exact question multiple times and seeing different results each time, I conclude that by increasing the size of the hidden layer, the performance of the neural network increases, however once you get to a certain point, the size of the hidden layer doesnt improve much. This is evident especially in this example where the 20 and 50-network converge to the same accuracy. Since there is some variability in what you get when you run these networks multiple times, I noticed that the 20-network is the one that performs the most consistent. I believe this has to do with the tradeoff of being not too complex but not too generalized, which makes sense since it is the middle value between the two hidden layer sizes we are checking._ "
   ]
  },
  {
   "cell_type": "markdown",
   "metadata": {
    "id": "gdlMt7WdhE4b"
   },
   "source": [
    "## Part b"
   ]
  },
  {
   "cell_type": "markdown",
   "metadata": {
    "id": "SGBCmQHDa69o"
   },
   "source": [
    "Now, we will investigate the effect of varying the number of hidden layers. Create 3 networks with 1, 2, and 3 hidden layers, respectively. The size of all hidden layers should be 20 and the activation function is ReLU. We will call these the 1-network, the 2-network, and the 3-network."
   ]
  },
  {
   "cell_type": "markdown",
   "metadata": {
    "id": "f9RMn8b9cm9i"
   },
   "source": [
    "Train the 1-network on the MNIST dataset for 10 epochs with learning rate 0.001. After each epoch, record the current training accuracy of the network. "
   ]
  },
  {
   "cell_type": "code",
   "execution_count": 15,
   "metadata": {
    "id": "km6IknYlcm9j"
   },
   "outputs": [
    {
     "name": "stdout",
     "output_type": "stream",
     "text": [
      "Train Epoch: 1 [0/60000 (0%)]\tLoss: 2.300323\n",
      "Train Epoch: 1 [6400/60000 (11%)]\tLoss: 2.270432\n",
      "Train Epoch: 1 [12800/60000 (21%)]\tLoss: 2.201476\n",
      "Train Epoch: 1 [19200/60000 (32%)]\tLoss: 1.996546\n",
      "Train Epoch: 1 [25600/60000 (43%)]\tLoss: 2.075665\n",
      "Train Epoch: 1 [32000/60000 (53%)]\tLoss: 2.050701\n",
      "Train Epoch: 1 [38400/60000 (64%)]\tLoss: 1.841506\n",
      "Train Epoch: 1 [44800/60000 (75%)]\tLoss: 1.834021\n",
      "Train Epoch: 1 [51200/60000 (85%)]\tLoss: 1.638700\n",
      "Train Epoch: 1 [57600/60000 (96%)]\tLoss: 1.602660\n",
      "Train Epoch: 2 [0/60000 (0%)]\tLoss: 1.639453\n",
      "Train Epoch: 2 [6400/60000 (11%)]\tLoss: 1.583329\n",
      "Train Epoch: 2 [12800/60000 (21%)]\tLoss: 1.502825\n",
      "Train Epoch: 2 [19200/60000 (32%)]\tLoss: 1.218866\n",
      "Train Epoch: 2 [25600/60000 (43%)]\tLoss: 1.526678\n",
      "Train Epoch: 2 [32000/60000 (53%)]\tLoss: 1.405886\n",
      "Train Epoch: 2 [38400/60000 (64%)]\tLoss: 1.152557\n",
      "Train Epoch: 2 [44800/60000 (75%)]\tLoss: 1.225761\n",
      "Train Epoch: 2 [51200/60000 (85%)]\tLoss: 1.125175\n",
      "Train Epoch: 2 [57600/60000 (96%)]\tLoss: 1.066173\n",
      "Train Epoch: 3 [0/60000 (0%)]\tLoss: 1.115268\n",
      "Train Epoch: 3 [6400/60000 (11%)]\tLoss: 0.933764\n",
      "Train Epoch: 3 [12800/60000 (21%)]\tLoss: 0.941190\n",
      "Train Epoch: 3 [19200/60000 (32%)]\tLoss: 0.840117\n",
      "Train Epoch: 3 [25600/60000 (43%)]\tLoss: 1.012657\n",
      "Train Epoch: 3 [32000/60000 (53%)]\tLoss: 0.886770\n",
      "Train Epoch: 3 [38400/60000 (64%)]\tLoss: 0.794563\n",
      "Train Epoch: 3 [44800/60000 (75%)]\tLoss: 0.922297\n",
      "Train Epoch: 3 [51200/60000 (85%)]\tLoss: 0.899577\n",
      "Train Epoch: 3 [57600/60000 (96%)]\tLoss: 0.843634\n",
      "Train Epoch: 4 [0/60000 (0%)]\tLoss: 0.895969\n",
      "Train Epoch: 4 [6400/60000 (11%)]\tLoss: 0.709302\n",
      "Train Epoch: 4 [12800/60000 (21%)]\tLoss: 0.754640\n",
      "Train Epoch: 4 [19200/60000 (32%)]\tLoss: 0.730685\n",
      "Train Epoch: 4 [25600/60000 (43%)]\tLoss: 0.873201\n",
      "Train Epoch: 4 [32000/60000 (53%)]\tLoss: 0.763594\n",
      "Train Epoch: 4 [38400/60000 (64%)]\tLoss: 0.667174\n",
      "Train Epoch: 4 [44800/60000 (75%)]\tLoss: 0.816228\n",
      "Train Epoch: 4 [51200/60000 (85%)]\tLoss: 0.793378\n",
      "Train Epoch: 4 [57600/60000 (96%)]\tLoss: 0.761845\n",
      "Train Epoch: 5 [0/60000 (0%)]\tLoss: 0.801497\n",
      "Train Epoch: 5 [6400/60000 (11%)]\tLoss: 0.606245\n",
      "Train Epoch: 5 [12800/60000 (21%)]\tLoss: 0.670185\n",
      "Train Epoch: 5 [19200/60000 (32%)]\tLoss: 0.677388\n",
      "Train Epoch: 5 [25600/60000 (43%)]\tLoss: 0.799612\n",
      "Train Epoch: 5 [32000/60000 (53%)]\tLoss: 0.699800\n",
      "Train Epoch: 5 [38400/60000 (64%)]\tLoss: 0.601217\n",
      "Train Epoch: 5 [44800/60000 (75%)]\tLoss: 0.762136\n",
      "Train Epoch: 5 [51200/60000 (85%)]\tLoss: 0.726251\n",
      "Train Epoch: 5 [57600/60000 (96%)]\tLoss: 0.721545\n",
      "Train Epoch: 6 [0/60000 (0%)]\tLoss: 0.743616\n",
      "Train Epoch: 6 [6400/60000 (11%)]\tLoss: 0.543945\n",
      "Train Epoch: 6 [12800/60000 (21%)]\tLoss: 0.617906\n",
      "Train Epoch: 6 [19200/60000 (32%)]\tLoss: 0.643435\n",
      "Train Epoch: 6 [25600/60000 (43%)]\tLoss: 0.750983\n",
      "Train Epoch: 6 [32000/60000 (53%)]\tLoss: 0.657615\n",
      "Train Epoch: 6 [38400/60000 (64%)]\tLoss: 0.559130\n",
      "Train Epoch: 6 [44800/60000 (75%)]\tLoss: 0.726689\n",
      "Train Epoch: 6 [51200/60000 (85%)]\tLoss: 0.682217\n",
      "Train Epoch: 6 [57600/60000 (96%)]\tLoss: 0.698144\n",
      "Train Epoch: 7 [0/60000 (0%)]\tLoss: 0.704992\n",
      "Train Epoch: 7 [6400/60000 (11%)]\tLoss: 0.503106\n",
      "Train Epoch: 7 [12800/60000 (21%)]\tLoss: 0.581243\n",
      "Train Epoch: 7 [19200/60000 (32%)]\tLoss: 0.619145\n",
      "Train Epoch: 7 [25600/60000 (43%)]\tLoss: 0.716030\n",
      "Train Epoch: 7 [32000/60000 (53%)]\tLoss: 0.627489\n",
      "Train Epoch: 7 [38400/60000 (64%)]\tLoss: 0.530365\n",
      "Train Epoch: 7 [44800/60000 (75%)]\tLoss: 0.701424\n",
      "Train Epoch: 7 [51200/60000 (85%)]\tLoss: 0.650275\n",
      "Train Epoch: 7 [57600/60000 (96%)]\tLoss: 0.683165\n",
      "Train Epoch: 8 [0/60000 (0%)]\tLoss: 0.675281\n",
      "Train Epoch: 8 [6400/60000 (11%)]\tLoss: 0.475077\n",
      "Train Epoch: 8 [12800/60000 (21%)]\tLoss: 0.554181\n",
      "Train Epoch: 8 [19200/60000 (32%)]\tLoss: 0.600664\n",
      "Train Epoch: 8 [25600/60000 (43%)]\tLoss: 0.689898\n",
      "Train Epoch: 8 [32000/60000 (53%)]\tLoss: 0.605081\n",
      "Train Epoch: 8 [38400/60000 (64%)]\tLoss: 0.509078\n",
      "Train Epoch: 8 [44800/60000 (75%)]\tLoss: 0.682496\n",
      "Train Epoch: 8 [51200/60000 (85%)]\tLoss: 0.626600\n",
      "Train Epoch: 8 [57600/60000 (96%)]\tLoss: 0.673314\n",
      "Train Epoch: 9 [0/60000 (0%)]\tLoss: 0.652500\n",
      "Train Epoch: 9 [6400/60000 (11%)]\tLoss: 0.454641\n",
      "Train Epoch: 9 [12800/60000 (21%)]\tLoss: 0.532428\n",
      "Train Epoch: 9 [19200/60000 (32%)]\tLoss: 0.585636\n",
      "Train Epoch: 9 [25600/60000 (43%)]\tLoss: 0.669265\n",
      "Train Epoch: 9 [32000/60000 (53%)]\tLoss: 0.587989\n",
      "Train Epoch: 9 [38400/60000 (64%)]\tLoss: 0.492797\n",
      "Train Epoch: 9 [44800/60000 (75%)]\tLoss: 0.666984\n",
      "Train Epoch: 9 [51200/60000 (85%)]\tLoss: 0.608747\n",
      "Train Epoch: 9 [57600/60000 (96%)]\tLoss: 0.666421\n",
      "Train Epoch: 10 [0/60000 (0%)]\tLoss: 0.633885\n",
      "Train Epoch: 10 [6400/60000 (11%)]\tLoss: 0.439820\n",
      "Train Epoch: 10 [12800/60000 (21%)]\tLoss: 0.513817\n",
      "Train Epoch: 10 [19200/60000 (32%)]\tLoss: 0.573967\n",
      "Train Epoch: 10 [25600/60000 (43%)]\tLoss: 0.653148\n",
      "Train Epoch: 10 [32000/60000 (53%)]\tLoss: 0.574414\n",
      "Train Epoch: 10 [38400/60000 (64%)]\tLoss: 0.479556\n",
      "Train Epoch: 10 [44800/60000 (75%)]\tLoss: 0.654324\n",
      "Train Epoch: 10 [51200/60000 (85%)]\tLoss: 0.593898\n",
      "Train Epoch: 10 [57600/60000 (96%)]\tLoss: 0.661157\n"
     ]
    }
   ],
   "source": [
    "np.random.seed(4)\n",
    "# Number of training epochs\n",
    "epochs = 10\n",
    "# Learning rate\n",
    "lr = 0.001\n",
    "\n",
    "# define the one-network\n",
    "one_model = mnist_network(num_hidden_layers=1,layer_size=20,activation='relu')\n",
    "\n",
    "# create optimizer for the 1-network\n",
    "one_optimizer = optim.SGD(one_model.parameters(),lr=lr)\n",
    "\n",
    "# initialize an emp\n",
    "one_model_accuracies = []\n",
    "\n",
    "\n",
    "for epoch in range(1,epochs+1):\n",
    "    # Training the one-network\n",
    "    train(one_model, train_criterion, train_loader, one_optimizer, epoch)\n",
    "        \n",
    "    # use test function to get the performance \n",
    "    one_model.eval()\n",
    "    train_loss = 0\n",
    "    num_correct = 0\n",
    "    with torch.no_grad():\n",
    "        for data, target in train_loader:\n",
    "            output = one_model(data)\n",
    "            train_loss += test_criterion(output, target).item()  # sum up batch loss\n",
    "            pred = output.argmax(dim=1, keepdim=True)  # get the index of the max log-probability\n",
    "            num_correct += pred.eq(target.view_as(pred)).sum().item()\n",
    "\n",
    "    one_model_accuracies.append(num_correct / len(train_loader.dataset))"
   ]
  },
  {
   "cell_type": "code",
   "execution_count": 16,
   "metadata": {},
   "outputs": [
    {
     "name": "stdout",
     "output_type": "stream",
     "text": [
      "[0.5272166666666667, 0.7649666666666667, 0.7908166666666666, 0.8010333333333334, 0.8064666666666667, 0.8109166666666666, 0.81405, 0.8173333333333334, 0.8200166666666666, 0.82225]\n"
     ]
    }
   ],
   "source": [
    "print(one_model_accuracies)"
   ]
  },
  {
   "cell_type": "markdown",
   "metadata": {
    "id": "sHW3-J4vcm9k"
   },
   "source": [
    "Test the trained 1-network on the test data. Print out the accuracy."
   ]
  },
  {
   "cell_type": "code",
   "execution_count": 17,
   "metadata": {
    "id": "iROIK0lgcm9m"
   },
   "outputs": [
    {
     "name": "stdout",
     "output_type": "stream",
     "text": [
      "\n",
      "Test set: Average loss: 0.5642, Accuracy: 8233/10000 (82%)\n",
      "\n"
     ]
    }
   ],
   "source": [
    "np.random.seed(68)\n",
    "test(one_model, test_criterion, test_loader)"
   ]
  },
  {
   "cell_type": "markdown",
   "metadata": {
    "id": "37h7g55ecm9n"
   },
   "source": [
    "Train the 2-network on the MNIST dataset for 10 epochs with learning rate 0.001. After each epoch, record the current training accuracy of the network. "
   ]
  },
  {
   "cell_type": "code",
   "execution_count": 18,
   "metadata": {
    "id": "_c7TL_5Icm9o"
   },
   "outputs": [
    {
     "name": "stdout",
     "output_type": "stream",
     "text": [
      "Train Epoch: 1 [0/60000 (0%)]\tLoss: 147.813065\n",
      "Train Epoch: 1 [6400/60000 (11%)]\tLoss: 107.258286\n",
      "Train Epoch: 1 [12800/60000 (21%)]\tLoss: 56.535053\n",
      "Train Epoch: 1 [19200/60000 (32%)]\tLoss: 35.952488\n",
      "Train Epoch: 1 [25600/60000 (43%)]\tLoss: 36.090221\n",
      "Train Epoch: 1 [32000/60000 (53%)]\tLoss: 43.245090\n",
      "Train Epoch: 1 [38400/60000 (64%)]\tLoss: 34.771687\n",
      "Train Epoch: 1 [44800/60000 (75%)]\tLoss: 36.024658\n",
      "Train Epoch: 1 [51200/60000 (85%)]\tLoss: 38.258026\n",
      "Train Epoch: 1 [57600/60000 (96%)]\tLoss: 21.605701\n",
      "Train Epoch: 2 [0/60000 (0%)]\tLoss: 24.543703\n",
      "Train Epoch: 2 [6400/60000 (11%)]\tLoss: 21.082384\n",
      "Train Epoch: 2 [12800/60000 (21%)]\tLoss: 24.859507\n",
      "Train Epoch: 2 [19200/60000 (32%)]\tLoss: 26.597393\n",
      "Train Epoch: 2 [25600/60000 (43%)]\tLoss: 24.304577\n",
      "Train Epoch: 2 [32000/60000 (53%)]\tLoss: 38.142662\n",
      "Train Epoch: 2 [38400/60000 (64%)]\tLoss: 29.489254\n",
      "Train Epoch: 2 [44800/60000 (75%)]\tLoss: 30.918945\n",
      "Train Epoch: 2 [51200/60000 (85%)]\tLoss: 26.868320\n",
      "Train Epoch: 2 [57600/60000 (96%)]\tLoss: 18.053812\n",
      "Train Epoch: 3 [0/60000 (0%)]\tLoss: 20.070467\n",
      "Train Epoch: 3 [6400/60000 (11%)]\tLoss: 20.166529\n",
      "Train Epoch: 3 [12800/60000 (21%)]\tLoss: 25.456087\n",
      "Train Epoch: 3 [19200/60000 (32%)]\tLoss: 23.954250\n",
      "Train Epoch: 3 [25600/60000 (43%)]\tLoss: 21.981848\n",
      "Train Epoch: 3 [32000/60000 (53%)]\tLoss: 37.390999\n",
      "Train Epoch: 3 [38400/60000 (64%)]\tLoss: 27.351784\n",
      "Train Epoch: 3 [44800/60000 (75%)]\tLoss: 27.144886\n",
      "Train Epoch: 3 [51200/60000 (85%)]\tLoss: 23.278694\n",
      "Train Epoch: 3 [57600/60000 (96%)]\tLoss: 17.508720\n",
      "Train Epoch: 4 [0/60000 (0%)]\tLoss: 18.696701\n",
      "Train Epoch: 4 [6400/60000 (11%)]\tLoss: 20.093300\n",
      "Train Epoch: 4 [12800/60000 (21%)]\tLoss: 22.493500\n",
      "Train Epoch: 4 [19200/60000 (32%)]\tLoss: 23.661572\n",
      "Train Epoch: 4 [25600/60000 (43%)]\tLoss: 21.064383\n",
      "Train Epoch: 4 [32000/60000 (53%)]\tLoss: 34.687542\n",
      "Train Epoch: 4 [38400/60000 (64%)]\tLoss: 25.007320\n",
      "Train Epoch: 4 [44800/60000 (75%)]\tLoss: 24.737989\n",
      "Train Epoch: 4 [51200/60000 (85%)]\tLoss: 23.144726\n",
      "Train Epoch: 4 [57600/60000 (96%)]\tLoss: 16.835155\n",
      "Train Epoch: 5 [0/60000 (0%)]\tLoss: 18.258291\n",
      "Train Epoch: 5 [6400/60000 (11%)]\tLoss: 19.753574\n",
      "Train Epoch: 5 [12800/60000 (21%)]\tLoss: 21.914869\n",
      "Train Epoch: 5 [19200/60000 (32%)]\tLoss: 23.707598\n",
      "Train Epoch: 5 [25600/60000 (43%)]\tLoss: 20.688402\n",
      "Train Epoch: 5 [32000/60000 (53%)]\tLoss: 31.613508\n",
      "Train Epoch: 5 [38400/60000 (64%)]\tLoss: 23.858313\n",
      "Train Epoch: 5 [44800/60000 (75%)]\tLoss: 23.128933\n",
      "Train Epoch: 5 [51200/60000 (85%)]\tLoss: 23.760801\n",
      "Train Epoch: 5 [57600/60000 (96%)]\tLoss: 16.747458\n",
      "Train Epoch: 6 [0/60000 (0%)]\tLoss: 18.133429\n",
      "Train Epoch: 6 [6400/60000 (11%)]\tLoss: 19.166277\n",
      "Train Epoch: 6 [12800/60000 (21%)]\tLoss: 21.860373\n",
      "Train Epoch: 6 [19200/60000 (32%)]\tLoss: 23.268021\n",
      "Train Epoch: 6 [25600/60000 (43%)]\tLoss: 20.297272\n",
      "Train Epoch: 6 [32000/60000 (53%)]\tLoss: 28.720469\n",
      "Train Epoch: 6 [38400/60000 (64%)]\tLoss: 23.231812\n",
      "Train Epoch: 6 [44800/60000 (75%)]\tLoss: 22.528717\n",
      "Train Epoch: 6 [51200/60000 (85%)]\tLoss: 23.707573\n",
      "Train Epoch: 6 [57600/60000 (96%)]\tLoss: 16.458441\n",
      "Train Epoch: 7 [0/60000 (0%)]\tLoss: 18.818737\n",
      "Train Epoch: 7 [6400/60000 (11%)]\tLoss: 19.420513\n",
      "Train Epoch: 7 [12800/60000 (21%)]\tLoss: 22.091330\n",
      "Train Epoch: 7 [19200/60000 (32%)]\tLoss: 21.630531\n",
      "Train Epoch: 7 [25600/60000 (43%)]\tLoss: 20.162928\n",
      "Train Epoch: 7 [32000/60000 (53%)]\tLoss: 26.446592\n",
      "Train Epoch: 7 [38400/60000 (64%)]\tLoss: 22.618652\n",
      "Train Epoch: 7 [44800/60000 (75%)]\tLoss: 21.408661\n",
      "Train Epoch: 7 [51200/60000 (85%)]\tLoss: 23.110392\n",
      "Train Epoch: 7 [57600/60000 (96%)]\tLoss: 15.537512\n",
      "Train Epoch: 8 [0/60000 (0%)]\tLoss: 18.574884\n",
      "Train Epoch: 8 [6400/60000 (11%)]\tLoss: 18.926964\n",
      "Train Epoch: 8 [12800/60000 (21%)]\tLoss: 21.308584\n",
      "Train Epoch: 8 [19200/60000 (32%)]\tLoss: 21.852463\n",
      "Train Epoch: 8 [25600/60000 (43%)]\tLoss: 20.163048\n",
      "Train Epoch: 8 [32000/60000 (53%)]\tLoss: 24.645641\n",
      "Train Epoch: 8 [38400/60000 (64%)]\tLoss: 22.337013\n",
      "Train Epoch: 8 [44800/60000 (75%)]\tLoss: 22.240662\n",
      "Train Epoch: 8 [51200/60000 (85%)]\tLoss: 22.746609\n",
      "Train Epoch: 8 [57600/60000 (96%)]\tLoss: 15.480697\n",
      "Train Epoch: 9 [0/60000 (0%)]\tLoss: 18.036083\n",
      "Train Epoch: 9 [6400/60000 (11%)]\tLoss: 18.609905\n",
      "Train Epoch: 9 [12800/60000 (21%)]\tLoss: 20.589458\n",
      "Train Epoch: 9 [19200/60000 (32%)]\tLoss: 22.058224\n",
      "Train Epoch: 9 [25600/60000 (43%)]\tLoss: 19.667774\n",
      "Train Epoch: 9 [32000/60000 (53%)]\tLoss: 22.638357\n",
      "Train Epoch: 9 [38400/60000 (64%)]\tLoss: 22.104620\n",
      "Train Epoch: 9 [44800/60000 (75%)]\tLoss: 21.345690\n",
      "Train Epoch: 9 [51200/60000 (85%)]\tLoss: 22.480400\n",
      "Train Epoch: 9 [57600/60000 (96%)]\tLoss: 14.646062\n",
      "Train Epoch: 10 [0/60000 (0%)]\tLoss: 17.900415\n",
      "Train Epoch: 10 [6400/60000 (11%)]\tLoss: 18.856686\n",
      "Train Epoch: 10 [12800/60000 (21%)]\tLoss: 19.965069\n",
      "Train Epoch: 10 [19200/60000 (32%)]\tLoss: 21.728006\n",
      "Train Epoch: 10 [25600/60000 (43%)]\tLoss: 19.362116\n",
      "Train Epoch: 10 [32000/60000 (53%)]\tLoss: 22.035231\n",
      "Train Epoch: 10 [38400/60000 (64%)]\tLoss: 22.014202\n",
      "Train Epoch: 10 [44800/60000 (75%)]\tLoss: 20.351028\n",
      "Train Epoch: 10 [51200/60000 (85%)]\tLoss: 22.202906\n",
      "Train Epoch: 10 [57600/60000 (96%)]\tLoss: 14.607077\n"
     ]
    }
   ],
   "source": [
    "np.random.seed(5)\n",
    "# Number of training epochs\n",
    "epochs = 10\n",
    "# Learning rate\n",
    "lr = 0.001\n",
    "\n",
    "# define the two-network\n",
    "two_model = mnist_network(num_hidden_layers=2,layer_size=20,activation='relu')\n",
    "\n",
    "# create optimizer for the 2-network\n",
    "two_optimizer = optim.SGD(two_model.parameters(),lr=lr)\n",
    "\n",
    "# initialize an emp\n",
    "two_model_accuracies = []\n",
    "\n",
    "\n",
    "for epoch in range(1,epochs+1):\n",
    "    # Training the two-network\n",
    "    train(two_model, test_criterion, train_loader, two_optimizer, epoch)\n",
    "        \n",
    "    # use test function to get the performance \n",
    "    two_model.eval()\n",
    "    train_loss = 0\n",
    "    num_correct = 0\n",
    "    with torch.no_grad():\n",
    "        for data, target in train_loader:\n",
    "            output = two_model(data)\n",
    "            train_loss += test_criterion(output, target).item()  # sum up batch loss\n",
    "            pred = output.argmax(dim=1, keepdim=True)  # get the index of the max log-probability\n",
    "            num_correct += pred.eq(target.view_as(pred)).sum().item()\n",
    "\n",
    "    two_model_accuracies.append(num_correct / len(train_loader.dataset))"
   ]
  },
  {
   "cell_type": "code",
   "execution_count": 19,
   "metadata": {
    "id": "qbZfJ7Abbc2P"
   },
   "outputs": [
    {
     "name": "stdout",
     "output_type": "stream",
     "text": [
      "[0.82575, 0.8458666666666667, 0.8558333333333333, 0.8611833333333333, 0.8644, 0.8665833333333334, 0.8674333333333333, 0.8688833333333333, 0.8698833333333333, 0.86875]\n"
     ]
    }
   ],
   "source": [
    "print(two_model_accuracies)"
   ]
  },
  {
   "cell_type": "markdown",
   "metadata": {
    "id": "8fJGIL1Hcm9p"
   },
   "source": [
    "Test the trained 2-network on the test data. Print out the accuracy."
   ]
  },
  {
   "cell_type": "code",
   "execution_count": 20,
   "metadata": {
    "id": "m7Sr0On6cm9p"
   },
   "outputs": [
    {
     "name": "stdout",
     "output_type": "stream",
     "text": [
      "\n",
      "Test set: Average loss: 0.3641, Accuracy: 8629/10000 (86%)\n",
      "\n"
     ]
    }
   ],
   "source": [
    "np.random.seed(70)\n",
    "test(two_model, test_criterion, test_loader)"
   ]
  },
  {
   "cell_type": "markdown",
   "metadata": {
    "id": "T3KteClMcm9q"
   },
   "source": [
    "Train the 3-network on the MNIST dataset for 10 epochs with learning rate 0.001. After each epoch, record the current training accuracy of the network. "
   ]
  },
  {
   "cell_type": "code",
   "execution_count": 21,
   "metadata": {
    "id": "thWHY7rWcm9r"
   },
   "outputs": [
    {
     "name": "stdout",
     "output_type": "stream",
     "text": [
      "Train Epoch: 1 [0/60000 (0%)]\tLoss: 2.301425\n",
      "Train Epoch: 1 [6400/60000 (11%)]\tLoss: 2.304820\n",
      "Train Epoch: 1 [12800/60000 (21%)]\tLoss: 2.310930\n",
      "Train Epoch: 1 [19200/60000 (32%)]\tLoss: 2.316746\n",
      "Train Epoch: 1 [25600/60000 (43%)]\tLoss: 2.309440\n",
      "Train Epoch: 1 [32000/60000 (53%)]\tLoss: 2.295924\n",
      "Train Epoch: 1 [38400/60000 (64%)]\tLoss: 2.273448\n",
      "Train Epoch: 1 [44800/60000 (75%)]\tLoss: 2.298952\n",
      "Train Epoch: 1 [51200/60000 (85%)]\tLoss: 2.298415\n",
      "Train Epoch: 1 [57600/60000 (96%)]\tLoss: 2.292529\n",
      "Train Epoch: 2 [0/60000 (0%)]\tLoss: 2.276950\n",
      "Train Epoch: 2 [6400/60000 (11%)]\tLoss: 2.284822\n",
      "Train Epoch: 2 [12800/60000 (21%)]\tLoss: 2.293906\n",
      "Train Epoch: 2 [19200/60000 (32%)]\tLoss: 2.299333\n",
      "Train Epoch: 2 [25600/60000 (43%)]\tLoss: 2.285742\n",
      "Train Epoch: 2 [32000/60000 (53%)]\tLoss: 2.272441\n",
      "Train Epoch: 2 [38400/60000 (64%)]\tLoss: 2.244082\n",
      "Train Epoch: 2 [44800/60000 (75%)]\tLoss: 2.275678\n",
      "Train Epoch: 2 [51200/60000 (85%)]\tLoss: 2.276724\n",
      "Train Epoch: 2 [57600/60000 (96%)]\tLoss: 2.266499\n",
      "Train Epoch: 3 [0/60000 (0%)]\tLoss: 2.245185\n",
      "Train Epoch: 3 [6400/60000 (11%)]\tLoss: 2.251587\n",
      "Train Epoch: 3 [12800/60000 (21%)]\tLoss: 2.263395\n",
      "Train Epoch: 3 [19200/60000 (32%)]\tLoss: 2.272935\n",
      "Train Epoch: 3 [25600/60000 (43%)]\tLoss: 2.249947\n",
      "Train Epoch: 3 [32000/60000 (53%)]\tLoss: 2.230774\n",
      "Train Epoch: 3 [38400/60000 (64%)]\tLoss: 2.188849\n",
      "Train Epoch: 3 [44800/60000 (75%)]\tLoss: 2.237790\n",
      "Train Epoch: 3 [51200/60000 (85%)]\tLoss: 2.238024\n",
      "Train Epoch: 3 [57600/60000 (96%)]\tLoss: 2.216606\n",
      "Train Epoch: 4 [0/60000 (0%)]\tLoss: 2.187529\n",
      "Train Epoch: 4 [6400/60000 (11%)]\tLoss: 2.188361\n",
      "Train Epoch: 4 [12800/60000 (21%)]\tLoss: 2.205473\n",
      "Train Epoch: 4 [19200/60000 (32%)]\tLoss: 2.225239\n",
      "Train Epoch: 4 [25600/60000 (43%)]\tLoss: 2.186437\n",
      "Train Epoch: 4 [32000/60000 (53%)]\tLoss: 2.150706\n",
      "Train Epoch: 4 [38400/60000 (64%)]\tLoss: 2.081062\n",
      "Train Epoch: 4 [44800/60000 (75%)]\tLoss: 2.149340\n",
      "Train Epoch: 4 [51200/60000 (85%)]\tLoss: 2.149176\n",
      "Train Epoch: 4 [57600/60000 (96%)]\tLoss: 2.100663\n",
      "Train Epoch: 5 [0/60000 (0%)]\tLoss: 2.062672\n",
      "Train Epoch: 5 [6400/60000 (11%)]\tLoss: 2.048918\n",
      "Train Epoch: 5 [12800/60000 (21%)]\tLoss: 2.068370\n",
      "Train Epoch: 5 [19200/60000 (32%)]\tLoss: 2.099226\n",
      "Train Epoch: 5 [25600/60000 (43%)]\tLoss: 2.042982\n",
      "Train Epoch: 5 [32000/60000 (53%)]\tLoss: 1.987222\n",
      "Train Epoch: 5 [38400/60000 (64%)]\tLoss: 1.861690\n",
      "Train Epoch: 5 [44800/60000 (75%)]\tLoss: 1.952474\n",
      "Train Epoch: 5 [51200/60000 (85%)]\tLoss: 1.951126\n",
      "Train Epoch: 5 [57600/60000 (96%)]\tLoss: 1.897619\n",
      "Train Epoch: 6 [0/60000 (0%)]\tLoss: 1.809368\n",
      "Train Epoch: 6 [6400/60000 (11%)]\tLoss: 1.789343\n",
      "Train Epoch: 6 [12800/60000 (21%)]\tLoss: 1.876739\n",
      "Train Epoch: 6 [19200/60000 (32%)]\tLoss: 1.847153\n",
      "Train Epoch: 6 [25600/60000 (43%)]\tLoss: 1.769584\n",
      "Train Epoch: 6 [32000/60000 (53%)]\tLoss: 1.726602\n",
      "Train Epoch: 6 [38400/60000 (64%)]\tLoss: 1.589355\n",
      "Train Epoch: 6 [44800/60000 (75%)]\tLoss: 1.663719\n",
      "Train Epoch: 6 [51200/60000 (85%)]\tLoss: 1.650668\n",
      "Train Epoch: 6 [57600/60000 (96%)]\tLoss: 1.669628\n",
      "Train Epoch: 7 [0/60000 (0%)]\tLoss: 1.475741\n",
      "Train Epoch: 7 [6400/60000 (11%)]\tLoss: 1.479069\n",
      "Train Epoch: 7 [12800/60000 (21%)]\tLoss: 1.722300\n",
      "Train Epoch: 7 [19200/60000 (32%)]\tLoss: 1.531123\n",
      "Train Epoch: 7 [25600/60000 (43%)]\tLoss: 1.504831\n",
      "Train Epoch: 7 [32000/60000 (53%)]\tLoss: 1.460600\n",
      "Train Epoch: 7 [38400/60000 (64%)]\tLoss: 1.388238\n",
      "Train Epoch: 7 [44800/60000 (75%)]\tLoss: 1.419261\n",
      "Train Epoch: 7 [51200/60000 (85%)]\tLoss: 1.387138\n",
      "Train Epoch: 7 [57600/60000 (96%)]\tLoss: 1.524394\n",
      "Train Epoch: 8 [0/60000 (0%)]\tLoss: 1.228732\n",
      "Train Epoch: 8 [6400/60000 (11%)]\tLoss: 1.216633\n",
      "Train Epoch: 8 [12800/60000 (21%)]\tLoss: 1.601036\n",
      "Train Epoch: 8 [19200/60000 (32%)]\tLoss: 1.298849\n",
      "Train Epoch: 8 [25600/60000 (43%)]\tLoss: 1.297224\n",
      "Train Epoch: 8 [32000/60000 (53%)]\tLoss: 1.276620\n",
      "Train Epoch: 8 [38400/60000 (64%)]\tLoss: 1.256351\n",
      "Train Epoch: 8 [44800/60000 (75%)]\tLoss: 1.256576\n",
      "Train Epoch: 8 [51200/60000 (85%)]\tLoss: 1.195485\n",
      "Train Epoch: 8 [57600/60000 (96%)]\tLoss: 1.416153\n",
      "Train Epoch: 9 [0/60000 (0%)]\tLoss: 1.054902\n",
      "Train Epoch: 9 [6400/60000 (11%)]\tLoss: 1.036175\n",
      "Train Epoch: 9 [12800/60000 (21%)]\tLoss: 1.482710\n",
      "Train Epoch: 9 [19200/60000 (32%)]\tLoss: 1.120837\n",
      "Train Epoch: 9 [25600/60000 (43%)]\tLoss: 1.124091\n",
      "Train Epoch: 9 [32000/60000 (53%)]\tLoss: 1.148896\n",
      "Train Epoch: 9 [38400/60000 (64%)]\tLoss: 1.152110\n",
      "Train Epoch: 9 [44800/60000 (75%)]\tLoss: 1.131982\n",
      "Train Epoch: 9 [51200/60000 (85%)]\tLoss: 1.058635\n",
      "Train Epoch: 9 [57600/60000 (96%)]\tLoss: 1.324798\n",
      "Train Epoch: 10 [0/60000 (0%)]\tLoss: 0.931375\n",
      "Train Epoch: 10 [6400/60000 (11%)]\tLoss: 0.908521\n",
      "Train Epoch: 10 [12800/60000 (21%)]\tLoss: 1.354070\n",
      "Train Epoch: 10 [19200/60000 (32%)]\tLoss: 0.983326\n",
      "Train Epoch: 10 [25600/60000 (43%)]\tLoss: 0.979421\n",
      "Train Epoch: 10 [32000/60000 (53%)]\tLoss: 1.050746\n",
      "Train Epoch: 10 [38400/60000 (64%)]\tLoss: 1.061361\n",
      "Train Epoch: 10 [44800/60000 (75%)]\tLoss: 1.025218\n",
      "Train Epoch: 10 [51200/60000 (85%)]\tLoss: 0.956010\n",
      "Train Epoch: 10 [57600/60000 (96%)]\tLoss: 1.247487\n"
     ]
    }
   ],
   "source": [
    "np.random.seed(6)\n",
    "# Number of training epochs\n",
    "epochs = 10\n",
    "# Learning rate\n",
    "lr = 0.001\n",
    "\n",
    "# define the three-network\n",
    "three_model = mnist_network(num_hidden_layers=3,layer_size=20,activation='relu')\n",
    "\n",
    "# create optimizer for the 3-network\n",
    "three_optimizer = optim.SGD(three_model.parameters(),lr=lr)\n",
    "\n",
    "# initialize an emp\n",
    "three_model_accuracies = []\n",
    "\n",
    "\n",
    "for epoch in range(1,epochs+1):\n",
    "    # Training the three-network\n",
    "    train(three_model, train_criterion, train_loader, three_optimizer, epoch)\n",
    "        \n",
    "    # use test function to get the performance \n",
    "    three_model.eval()\n",
    "    train_loss = 0\n",
    "    num_correct = 0\n",
    "    with torch.no_grad():\n",
    "        for data, target in train_loader:\n",
    "            output = three_model(data)\n",
    "            train_loss += test_criterion(output, target).item()  # sum up batch loss\n",
    "            pred = output.argmax(dim=1, keepdim=True)  # get the index of the max log-probability\n",
    "            num_correct += pred.eq(target.view_as(pred)).sum().item()\n",
    "\n",
    "    three_model_accuracies.append(num_correct / len(train_loader.dataset))"
   ]
  },
  {
   "cell_type": "code",
   "execution_count": 22,
   "metadata": {},
   "outputs": [
    {
     "name": "stdout",
     "output_type": "stream",
     "text": [
      "[0.10518333333333334, 0.26005, 0.31805, 0.35785, 0.3944666666666667, 0.4849833333333333, 0.6042, 0.6636666666666666, 0.7024166666666667, 0.7319]\n"
     ]
    }
   ],
   "source": [
    "print(three_model_accuracies)"
   ]
  },
  {
   "cell_type": "markdown",
   "metadata": {
    "id": "cB4nTkYecm9s"
   },
   "source": [
    "Test the trained 3-network on the test data. Print out the accuracy."
   ]
  },
  {
   "cell_type": "code",
   "execution_count": 23,
   "metadata": {
    "id": "176L8ou0cm9t"
   },
   "outputs": [
    {
     "name": "stdout",
     "output_type": "stream",
     "text": [
      "\n",
      "Test set: Average loss: 0.9307, Accuracy: 7328/10000 (73%)\n",
      "\n"
     ]
    }
   ],
   "source": [
    "np.random.seed(72)\n",
    "test(three_model, test_criterion, test_loader)"
   ]
  },
  {
   "cell_type": "markdown",
   "metadata": {
    "id": "CW0D0CWWcm9t"
   },
   "source": [
    "Plot the training accuracies over the epochs of the networks on the same figure (there should 3 line plots/scatter plots). "
   ]
  },
  {
   "cell_type": "code",
   "execution_count": 24,
   "metadata": {
    "id": "gW6JCxpmcm9t"
   },
   "outputs": [
    {
     "data": {
      "image/png": "[encoded data removed]",
      "text/plain": [
       "<Figure size 432x288 with 1 Axes>"
      ]
     },
     "metadata": {
      "needs_background": "light"
     },
     "output_type": "display_data"
    }
   ],
   "source": [
    "# plot lines\n",
    "plt.plot(range(1,epochs + 1), one_model_accuracies, label = \"1-network\")\n",
    "plt.plot(range(1,epochs + 1), two_model_accuracies, label = \"2-network\")\n",
    "plt.plot(range(1,epochs + 1), three_model_accuracies, label = \"3-network\")\n",
    "plt.legend()\n",
    "plt.grid()\n",
    "plt.show()"
   ]
  },
  {
   "cell_type": "markdown",
   "metadata": {
    "id": "65eqaTMbcm9u"
   },
   "source": [
    "What is your conclustion on the effect of varying the number of hidden layers on the performance of a neural network trained on the MNIST dataset?"
   ]
  },
  {
   "cell_type": "markdown",
   "metadata": {},
   "source": [
    "# comment\n",
    "_Based on the plot above, the 2-network seems to perform  the best overall with an average accuracy of about 85%. Similar to the situation in part a, the accuracy still increases, but at a slower rate than before. The next highest performing network is the 1-network with an average accuracy of about 75% followed by the 3-network with an average accuracy of about 40%. Just like what I mentioned in the previous part, I believe that increasing the number of hidden layers might also increase complexity which in turn increases the variance. Conversely, decreasing the number of hidden layers might lead to a higher bias, via the bias variance trade off. This could be the reason why the 2-network, the middle/tradeoff level performs the best._"
   ]
  },
  {
   "cell_type": "markdown",
   "metadata": {
    "id": "vfrIobY5hJe5"
   },
   "source": [
    "## Part c"
   ]
  },
  {
   "cell_type": "markdown",
   "metadata": {
    "id": "ZX_rfiw5c6ZL"
   },
   "source": [
    "Next, we will investigate the effects of varying the activation functions on a neural network. Create 3 networks. The first network has Sigmoid activation (Sigmoid-network). The second network has ReLU activation (ReLU-network). The third network has Tanh activation (Tanh-network). All networks have one hidden layer with size 20."
   ]
  },
  {
   "cell_type": "markdown",
   "metadata": {
    "id": "py5w8S3Cd9E0"
   },
   "source": [
    "Train the Sigmoid-network on the MNIST dataset for 10 epochs with learning rate 0.001. After each epoch, record the current training accuracy of the network. "
   ]
  },
  {
   "cell_type": "code",
   "execution_count": 32,
   "metadata": {
    "id": "3dGgpGwyd9E2"
   },
   "outputs": [
    {
     "name": "stdout",
     "output_type": "stream",
     "text": [
      "Train Epoch: 1 [0/60000 (0%)]\tLoss: 2.309737\n",
      "Train Epoch: 1 [6400/60000 (11%)]\tLoss: 2.314262\n",
      "Train Epoch: 1 [12800/60000 (21%)]\tLoss: 2.286859\n",
      "Train Epoch: 1 [19200/60000 (32%)]\tLoss: 2.310013\n",
      "Train Epoch: 1 [25600/60000 (43%)]\tLoss: 2.292585\n",
      "Train Epoch: 1 [32000/60000 (53%)]\tLoss: 2.295747\n",
      "Train Epoch: 1 [38400/60000 (64%)]\tLoss: 2.297938\n",
      "Train Epoch: 1 [44800/60000 (75%)]\tLoss: 2.298479\n",
      "Train Epoch: 1 [51200/60000 (85%)]\tLoss: 2.300939\n",
      "Train Epoch: 1 [57600/60000 (96%)]\tLoss: 2.285291\n",
      "Train Epoch: 2 [0/60000 (0%)]\tLoss: 2.293699\n",
      "Train Epoch: 2 [6400/60000 (11%)]\tLoss: 2.298695\n",
      "Train Epoch: 2 [12800/60000 (21%)]\tLoss: 2.277181\n",
      "Train Epoch: 2 [19200/60000 (32%)]\tLoss: 2.291199\n",
      "Train Epoch: 2 [25600/60000 (43%)]\tLoss: 2.279037\n",
      "Train Epoch: 2 [32000/60000 (53%)]\tLoss: 2.281797\n",
      "Train Epoch: 2 [38400/60000 (64%)]\tLoss: 2.280839\n",
      "Train Epoch: 2 [44800/60000 (75%)]\tLoss: 2.287729\n",
      "Train Epoch: 2 [51200/60000 (85%)]\tLoss: 2.285729\n",
      "Train Epoch: 2 [57600/60000 (96%)]\tLoss: 2.270517\n",
      "Train Epoch: 3 [0/60000 (0%)]\tLoss: 2.278337\n",
      "Train Epoch: 3 [6400/60000 (11%)]\tLoss: 2.283680\n",
      "Train Epoch: 3 [12800/60000 (21%)]\tLoss: 2.267487\n",
      "Train Epoch: 3 [19200/60000 (32%)]\tLoss: 2.273688\n",
      "Train Epoch: 3 [25600/60000 (43%)]\tLoss: 2.266148\n",
      "Train Epoch: 3 [32000/60000 (53%)]\tLoss: 2.268523\n",
      "Train Epoch: 3 [38400/60000 (64%)]\tLoss: 2.264659\n",
      "Train Epoch: 3 [44800/60000 (75%)]\tLoss: 2.277225\n",
      "Train Epoch: 3 [51200/60000 (85%)]\tLoss: 2.271497\n",
      "Train Epoch: 3 [57600/60000 (96%)]\tLoss: 2.256809\n",
      "Train Epoch: 4 [0/60000 (0%)]\tLoss: 2.263953\n",
      "Train Epoch: 4 [6400/60000 (11%)]\tLoss: 2.269547\n",
      "Train Epoch: 4 [12800/60000 (21%)]\tLoss: 2.257998\n",
      "Train Epoch: 4 [19200/60000 (32%)]\tLoss: 2.258029\n",
      "Train Epoch: 4 [25600/60000 (43%)]\tLoss: 2.254230\n",
      "Train Epoch: 4 [32000/60000 (53%)]\tLoss: 2.256165\n",
      "Train Epoch: 4 [38400/60000 (64%)]\tLoss: 2.249894\n",
      "Train Epoch: 4 [44800/60000 (75%)]\tLoss: 2.267175\n",
      "Train Epoch: 4 [51200/60000 (85%)]\tLoss: 2.258590\n",
      "Train Epoch: 4 [57600/60000 (96%)]\tLoss: 2.244482\n",
      "Train Epoch: 5 [0/60000 (0%)]\tLoss: 2.250751\n",
      "Train Epoch: 5 [6400/60000 (11%)]\tLoss: 2.256494\n",
      "Train Epoch: 5 [12800/60000 (21%)]\tLoss: 2.248896\n",
      "Train Epoch: 5 [19200/60000 (32%)]\tLoss: 2.244334\n",
      "Train Epoch: 5 [25600/60000 (43%)]\tLoss: 2.243371\n",
      "Train Epoch: 5 [32000/60000 (53%)]\tLoss: 2.244837\n",
      "Train Epoch: 5 [38400/60000 (64%)]\tLoss: 2.236676\n",
      "Train Epoch: 5 [44800/60000 (75%)]\tLoss: 2.257675\n",
      "Train Epoch: 5 [51200/60000 (85%)]\tLoss: 2.246977\n",
      "Train Epoch: 5 [57600/60000 (96%)]\tLoss: 2.233437\n",
      "Train Epoch: 6 [0/60000 (0%)]\tLoss: 2.238728\n",
      "Train Epoch: 6 [6400/60000 (11%)]\tLoss: 2.244482\n",
      "Train Epoch: 6 [12800/60000 (21%)]\tLoss: 2.240206\n",
      "Train Epoch: 6 [19200/60000 (32%)]\tLoss: 2.232256\n",
      "Train Epoch: 6 [25600/60000 (43%)]\tLoss: 2.233404\n",
      "Train Epoch: 6 [32000/60000 (53%)]\tLoss: 2.234404\n",
      "Train Epoch: 6 [38400/60000 (64%)]\tLoss: 2.224769\n",
      "Train Epoch: 6 [44800/60000 (75%)]\tLoss: 2.248652\n",
      "Train Epoch: 6 [51200/60000 (85%)]\tLoss: 2.236380\n",
      "Train Epoch: 6 [57600/60000 (96%)]\tLoss: 2.223382\n",
      "Train Epoch: 7 [0/60000 (0%)]\tLoss: 2.227684\n",
      "Train Epoch: 7 [6400/60000 (11%)]\tLoss: 2.233330\n",
      "Train Epoch: 7 [12800/60000 (21%)]\tLoss: 2.231881\n",
      "Train Epoch: 7 [19200/60000 (32%)]\tLoss: 2.221356\n",
      "Train Epoch: 7 [25600/60000 (43%)]\tLoss: 2.224126\n",
      "Train Epoch: 7 [32000/60000 (53%)]\tLoss: 2.224670\n",
      "Train Epoch: 7 [38400/60000 (64%)]\tLoss: 2.213873\n",
      "Train Epoch: 7 [44800/60000 (75%)]\tLoss: 2.240017\n",
      "Train Epoch: 7 [51200/60000 (85%)]\tLoss: 2.226540\n",
      "Train Epoch: 7 [57600/60000 (96%)]\tLoss: 2.214059\n",
      "Train Epoch: 8 [0/60000 (0%)]\tLoss: 2.217412\n",
      "Train Epoch: 8 [6400/60000 (11%)]\tLoss: 2.222874\n",
      "Train Epoch: 8 [12800/60000 (21%)]\tLoss: 2.223874\n",
      "Train Epoch: 8 [19200/60000 (32%)]\tLoss: 2.211298\n",
      "Train Epoch: 8 [25600/60000 (43%)]\tLoss: 2.215388\n",
      "Train Epoch: 8 [32000/60000 (53%)]\tLoss: 2.215484\n",
      "Train Epoch: 8 [38400/60000 (64%)]\tLoss: 2.203758\n",
      "Train Epoch: 8 [44800/60000 (75%)]\tLoss: 2.231701\n",
      "Train Epoch: 8 [51200/60000 (85%)]\tLoss: 2.217286\n",
      "Train Epoch: 8 [57600/60000 (96%)]\tLoss: 2.205281\n",
      "Train Epoch: 9 [0/60000 (0%)]\tLoss: 2.207760\n",
      "Train Epoch: 9 [6400/60000 (11%)]\tLoss: 2.212992\n",
      "Train Epoch: 9 [12800/60000 (21%)]\tLoss: 2.216144\n",
      "Train Epoch: 9 [19200/60000 (32%)]\tLoss: 2.201859\n",
      "Train Epoch: 9 [25600/60000 (43%)]\tLoss: 2.207082\n",
      "Train Epoch: 9 [32000/60000 (53%)]\tLoss: 2.206747\n",
      "Train Epoch: 9 [38400/60000 (64%)]\tLoss: 2.194259\n",
      "Train Epoch: 9 [44800/60000 (75%)]\tLoss: 2.223656\n",
      "Train Epoch: 9 [51200/60000 (85%)]\tLoss: 2.208503\n",
      "Train Epoch: 9 [57600/60000 (96%)]\tLoss: 2.196918\n",
      "Train Epoch: 10 [0/60000 (0%)]\tLoss: 2.198616\n",
      "Train Epoch: 10 [6400/60000 (11%)]\tLoss: 2.203596\n",
      "Train Epoch: 10 [12800/60000 (21%)]\tLoss: 2.208652\n",
      "Train Epoch: 10 [19200/60000 (32%)]\tLoss: 2.192887\n",
      "Train Epoch: 10 [25600/60000 (43%)]\tLoss: 2.199125\n",
      "Train Epoch: 10 [32000/60000 (53%)]\tLoss: 2.198382\n",
      "Train Epoch: 10 [38400/60000 (64%)]\tLoss: 2.185260\n",
      "Train Epoch: 10 [44800/60000 (75%)]\tLoss: 2.215841\n",
      "Train Epoch: 10 [51200/60000 (85%)]\tLoss: 2.200111\n",
      "Train Epoch: 10 [57600/60000 (96%)]\tLoss: 2.188878\n"
     ]
    }
   ],
   "source": [
    "np.random.seed(4)\n",
    "# Number of training epochs\n",
    "epochs = 10\n",
    "# Learning rate\n",
    "lr = 0.001\n",
    "\n",
    "# define the sigmoid-network\n",
    "sigmoid_model = mnist_network(num_hidden_layers=1,layer_size=20)\n",
    "sigmoid_model.activation = torch.nn.Sigmoid()\n",
    "\n",
    "# create optimizer for the sigmoid-network\n",
    "sigmoid_optimizer = optim.SGD(sigmoid_model.parameters(),lr=lr)\n",
    "\n",
    "# initialize an emp\n",
    "sigmoid_model_accuracies = []\n",
    "\n",
    "\n",
    "for epoch in range(1,epochs+1):\n",
    "    # Training the sigmoid-network\n",
    "    train(sigmoid_model, train_criterion, train_loader, sigmoid_optimizer, epoch)\n",
    "        \n",
    "    # use test function to get the performance \n",
    "    sigmoid_model.eval()\n",
    "    train_loss = 0\n",
    "    num_correct = 0\n",
    "    with torch.no_grad():\n",
    "        for data, target in train_loader:\n",
    "            output = sigmoid_model(data)\n",
    "            train_loss += test_criterion(output, target).item()  # sum up batch loss\n",
    "            pred = output.argmax(dim=1, keepdim=True)  # get the index of the max log-probability\n",
    "            num_correct += pred.eq(target.view_as(pred)).sum().item()\n",
    "\n",
    "    sigmoid_model_accuracies.append(num_correct / len(train_loader.dataset))"
   ]
  },
  {
   "cell_type": "markdown",
   "metadata": {
    "id": "V6PTSxcDd9E2"
   },
   "source": [
    "Test the trained Sigmoid-network on the test data. Print out the accuracy."
   ]
  },
  {
   "cell_type": "code",
   "execution_count": 33,
   "metadata": {
    "id": "qKhk1nq7d9E3"
   },
   "outputs": [
    {
     "name": "stdout",
     "output_type": "stream",
     "text": [
      "\n",
      "Test set: Average loss: 2.1926, Accuracy: 6371/10000 (64%)\n",
      "\n"
     ]
    }
   ],
   "source": [
    "np.random.seed(72)\n",
    "test(sigmoid_model, test_criterion, test_loader)"
   ]
  },
  {
   "cell_type": "markdown",
   "metadata": {
    "id": "2hpbsbN1d9E4"
   },
   "source": [
    "Train the ReLU-network on the MNIST dataset for 10 epochs with learning rate 0.001. After each epoch, record the current training accuracy of the network. "
   ]
  },
  {
   "cell_type": "code",
   "execution_count": 34,
   "metadata": {
    "id": "fu3wbDf2d9E7"
   },
   "outputs": [
    {
     "name": "stdout",
     "output_type": "stream",
     "text": [
      "Train Epoch: 1 [0/60000 (0%)]\tLoss: 147.866287\n",
      "Train Epoch: 1 [6400/60000 (11%)]\tLoss: 51.347614\n",
      "Train Epoch: 1 [12800/60000 (21%)]\tLoss: 41.548210\n",
      "Train Epoch: 1 [19200/60000 (32%)]\tLoss: 27.462687\n",
      "Train Epoch: 1 [25600/60000 (43%)]\tLoss: 15.960865\n",
      "Train Epoch: 1 [32000/60000 (53%)]\tLoss: 20.419659\n",
      "Train Epoch: 1 [38400/60000 (64%)]\tLoss: 14.096617\n",
      "Train Epoch: 1 [44800/60000 (75%)]\tLoss: 23.897438\n",
      "Train Epoch: 1 [51200/60000 (85%)]\tLoss: 18.115345\n",
      "Train Epoch: 1 [57600/60000 (96%)]\tLoss: 20.187700\n",
      "Train Epoch: 2 [0/60000 (0%)]\tLoss: 9.133462\n",
      "Train Epoch: 2 [6400/60000 (11%)]\tLoss: 9.445862\n",
      "Train Epoch: 2 [12800/60000 (21%)]\tLoss: 12.739426\n",
      "Train Epoch: 2 [19200/60000 (32%)]\tLoss: 15.625753\n",
      "Train Epoch: 2 [25600/60000 (43%)]\tLoss: 9.118756\n",
      "Train Epoch: 2 [32000/60000 (53%)]\tLoss: 13.663810\n",
      "Train Epoch: 2 [38400/60000 (64%)]\tLoss: 9.131331\n",
      "Train Epoch: 2 [44800/60000 (75%)]\tLoss: 18.964642\n",
      "Train Epoch: 2 [51200/60000 (85%)]\tLoss: 9.663550\n",
      "Train Epoch: 2 [57600/60000 (96%)]\tLoss: 15.764832\n",
      "Train Epoch: 3 [0/60000 (0%)]\tLoss: 6.055115\n",
      "Train Epoch: 3 [6400/60000 (11%)]\tLoss: 7.088619\n",
      "Train Epoch: 3 [12800/60000 (21%)]\tLoss: 8.252902\n",
      "Train Epoch: 3 [19200/60000 (32%)]\tLoss: 14.682514\n",
      "Train Epoch: 3 [25600/60000 (43%)]\tLoss: 4.652898\n",
      "Train Epoch: 3 [32000/60000 (53%)]\tLoss: 12.403879\n",
      "Train Epoch: 3 [38400/60000 (64%)]\tLoss: 7.667763\n",
      "Train Epoch: 3 [44800/60000 (75%)]\tLoss: 17.899498\n",
      "Train Epoch: 3 [51200/60000 (85%)]\tLoss: 7.754225\n",
      "Train Epoch: 3 [57600/60000 (96%)]\tLoss: 13.128551\n",
      "Train Epoch: 4 [0/60000 (0%)]\tLoss: 5.054745\n",
      "Train Epoch: 4 [6400/60000 (11%)]\tLoss: 5.853332\n",
      "Train Epoch: 4 [12800/60000 (21%)]\tLoss: 7.439354\n",
      "Train Epoch: 4 [19200/60000 (32%)]\tLoss: 13.164872\n",
      "Train Epoch: 4 [25600/60000 (43%)]\tLoss: 4.020091\n",
      "Train Epoch: 4 [32000/60000 (53%)]\tLoss: 9.802140\n",
      "Train Epoch: 4 [38400/60000 (64%)]\tLoss: 7.324432\n",
      "Train Epoch: 4 [44800/60000 (75%)]\tLoss: 18.195196\n",
      "Train Epoch: 4 [51200/60000 (85%)]\tLoss: 8.434607\n",
      "Train Epoch: 4 [57600/60000 (96%)]\tLoss: 11.581203\n",
      "Train Epoch: 5 [0/60000 (0%)]\tLoss: 4.045313\n",
      "Train Epoch: 5 [6400/60000 (11%)]\tLoss: 5.390357\n",
      "Train Epoch: 5 [12800/60000 (21%)]\tLoss: 7.403188\n",
      "Train Epoch: 5 [19200/60000 (32%)]\tLoss: 10.242908\n",
      "Train Epoch: 5 [25600/60000 (43%)]\tLoss: 3.378960\n",
      "Train Epoch: 5 [32000/60000 (53%)]\tLoss: 8.073022\n",
      "Train Epoch: 5 [38400/60000 (64%)]\tLoss: 6.520534\n",
      "Train Epoch: 5 [44800/60000 (75%)]\tLoss: 17.405830\n",
      "Train Epoch: 5 [51200/60000 (85%)]\tLoss: 8.661250\n",
      "Train Epoch: 5 [57600/60000 (96%)]\tLoss: 11.330131\n",
      "Train Epoch: 6 [0/60000 (0%)]\tLoss: 3.322226\n",
      "Train Epoch: 6 [6400/60000 (11%)]\tLoss: 4.369126\n",
      "Train Epoch: 6 [12800/60000 (21%)]\tLoss: 7.210120\n",
      "Train Epoch: 6 [19200/60000 (32%)]\tLoss: 8.786607\n",
      "Train Epoch: 6 [25600/60000 (43%)]\tLoss: 3.254717\n",
      "Train Epoch: 6 [32000/60000 (53%)]\tLoss: 6.801815\n",
      "Train Epoch: 6 [38400/60000 (64%)]\tLoss: 5.811037\n",
      "Train Epoch: 6 [44800/60000 (75%)]\tLoss: 17.351313\n",
      "Train Epoch: 6 [51200/60000 (85%)]\tLoss: 9.108102\n",
      "Train Epoch: 6 [57600/60000 (96%)]\tLoss: 10.787971\n",
      "Train Epoch: 7 [0/60000 (0%)]\tLoss: 2.915003\n",
      "Train Epoch: 7 [6400/60000 (11%)]\tLoss: 3.724669\n",
      "Train Epoch: 7 [12800/60000 (21%)]\tLoss: 6.689352\n",
      "Train Epoch: 7 [19200/60000 (32%)]\tLoss: 8.097376\n",
      "Train Epoch: 7 [25600/60000 (43%)]\tLoss: 3.223291\n",
      "Train Epoch: 7 [32000/60000 (53%)]\tLoss: 5.815269\n",
      "Train Epoch: 7 [38400/60000 (64%)]\tLoss: 5.182032\n",
      "Train Epoch: 7 [44800/60000 (75%)]\tLoss: 16.981302\n",
      "Train Epoch: 7 [51200/60000 (85%)]\tLoss: 9.228239\n",
      "Train Epoch: 7 [57600/60000 (96%)]\tLoss: 10.623750\n",
      "Train Epoch: 8 [0/60000 (0%)]\tLoss: 2.397822\n",
      "Train Epoch: 8 [6400/60000 (11%)]\tLoss: 3.583029\n",
      "Train Epoch: 8 [12800/60000 (21%)]\tLoss: 6.470306\n",
      "Train Epoch: 8 [19200/60000 (32%)]\tLoss: 8.199628\n",
      "Train Epoch: 8 [25600/60000 (43%)]\tLoss: 3.203232\n",
      "Train Epoch: 8 [32000/60000 (53%)]\tLoss: 5.462374\n",
      "Train Epoch: 8 [38400/60000 (64%)]\tLoss: 4.745663\n",
      "Train Epoch: 8 [44800/60000 (75%)]\tLoss: 16.788734\n",
      "Train Epoch: 8 [51200/60000 (85%)]\tLoss: 9.344823\n",
      "Train Epoch: 8 [57600/60000 (96%)]\tLoss: 10.521488\n",
      "Train Epoch: 9 [0/60000 (0%)]\tLoss: 2.015013\n",
      "Train Epoch: 9 [6400/60000 (11%)]\tLoss: 3.341625\n",
      "Train Epoch: 9 [12800/60000 (21%)]\tLoss: 6.275197\n",
      "Train Epoch: 9 [19200/60000 (32%)]\tLoss: 8.530969\n",
      "Train Epoch: 9 [25600/60000 (43%)]\tLoss: 3.372402\n",
      "Train Epoch: 9 [32000/60000 (53%)]\tLoss: 5.259847\n",
      "Train Epoch: 9 [38400/60000 (64%)]\tLoss: 4.888470\n",
      "Train Epoch: 9 [44800/60000 (75%)]\tLoss: 15.785491\n",
      "Train Epoch: 9 [51200/60000 (85%)]\tLoss: 9.528292\n",
      "Train Epoch: 9 [57600/60000 (96%)]\tLoss: 10.151410\n",
      "Train Epoch: 10 [0/60000 (0%)]\tLoss: 1.696137\n",
      "Train Epoch: 10 [6400/60000 (11%)]\tLoss: 3.398409\n",
      "Train Epoch: 10 [12800/60000 (21%)]\tLoss: 5.855876\n",
      "Train Epoch: 10 [19200/60000 (32%)]\tLoss: 8.980042\n",
      "Train Epoch: 10 [25600/60000 (43%)]\tLoss: 3.190843\n",
      "Train Epoch: 10 [32000/60000 (53%)]\tLoss: 5.069737\n",
      "Train Epoch: 10 [38400/60000 (64%)]\tLoss: 4.953362\n",
      "Train Epoch: 10 [44800/60000 (75%)]\tLoss: 15.235587\n",
      "Train Epoch: 10 [51200/60000 (85%)]\tLoss: 9.906035\n",
      "Train Epoch: 10 [57600/60000 (96%)]\tLoss: 9.902740\n"
     ]
    }
   ],
   "source": [
    "np.random.seed(5)\n",
    "# Number of training epochs\n",
    "epochs = 10\n",
    "# Learning rate\n",
    "lr = 0.001\n",
    "\n",
    "# define the relu-network\n",
    "relu_model = mnist_network(num_hidden_layers=1,layer_size=20,activation='relu')\n",
    "\n",
    "# create optimizer for the relu-network\n",
    "relu_optimizer = optim.SGD(relu_model.parameters(),lr=lr)\n",
    "\n",
    "# initialize an emp\n",
    "relu_model_accuracies = []\n",
    "\n",
    "\n",
    "for epoch in range(1,epochs+1):\n",
    "    # Training the relu-network\n",
    "    train(relu_model, test_criterion, train_loader, relu_optimizer, epoch)\n",
    "        \n",
    "    # use test function to get the performance \n",
    "    relu_model.eval()\n",
    "    train_loss = 0\n",
    "    num_correct = 0\n",
    "    with torch.no_grad():\n",
    "        for data, target in train_loader:\n",
    "            output = relu_model(data)\n",
    "            train_loss += test_criterion(output, target).item()  # sum up batch loss\n",
    "            pred = output.argmax(dim=1, keepdim=True)  # get the index of the max log-probability\n",
    "            num_correct += pred.eq(target.view_as(pred)).sum().item()\n",
    "\n",
    "    relu_model_accuracies.append(num_correct / len(train_loader.dataset))"
   ]
  },
  {
   "cell_type": "markdown",
   "metadata": {
    "id": "lYOANVPWd9E7"
   },
   "source": [
    "Test the trained ReLU-network on the test data. Print out the accuracy."
   ]
  },
  {
   "cell_type": "code",
   "execution_count": 35,
   "metadata": {
    "id": "Cw_lcZAsd9E8"
   },
   "outputs": [
    {
     "name": "stdout",
     "output_type": "stream",
     "text": [
      "\n",
      "Test set: Average loss: 0.1418, Accuracy: 9590/10000 (96%)\n",
      "\n"
     ]
    }
   ],
   "source": [
    "np.random.seed(72)\n",
    "test(relu_model, test_criterion, test_loader)"
   ]
  },
  {
   "cell_type": "markdown",
   "metadata": {
    "id": "66X8ymnLd9E8"
   },
   "source": [
    "Train the Tanh-network on the MNIST dataset for 10 epochs with learning rate 0.001. After each epoch, record the current training accuracy of the network. "
   ]
  },
  {
   "cell_type": "code",
   "execution_count": 36,
   "metadata": {
    "id": "m8HulP31d9E9"
   },
   "outputs": [
    {
     "name": "stdout",
     "output_type": "stream",
     "text": [
      "Train Epoch: 1 [0/60000 (0%)]\tLoss: 150.853760\n",
      "Train Epoch: 1 [6400/60000 (11%)]\tLoss: 81.846916\n",
      "Train Epoch: 1 [12800/60000 (21%)]\tLoss: 76.146347\n",
      "Train Epoch: 1 [19200/60000 (32%)]\tLoss: 72.989250\n",
      "Train Epoch: 1 [25600/60000 (43%)]\tLoss: 67.271271\n",
      "Train Epoch: 1 [32000/60000 (53%)]\tLoss: 69.263687\n",
      "Train Epoch: 1 [38400/60000 (64%)]\tLoss: 67.035652\n",
      "Train Epoch: 1 [44800/60000 (75%)]\tLoss: 68.369438\n",
      "Train Epoch: 1 [51200/60000 (85%)]\tLoss: 68.933815\n",
      "Train Epoch: 1 [57600/60000 (96%)]\tLoss: 64.686821\n",
      "Train Epoch: 2 [0/60000 (0%)]\tLoss: 61.676388\n",
      "Train Epoch: 2 [6400/60000 (11%)]\tLoss: 62.779221\n",
      "Train Epoch: 2 [12800/60000 (21%)]\tLoss: 62.749035\n",
      "Train Epoch: 2 [19200/60000 (32%)]\tLoss: 63.402489\n",
      "Train Epoch: 2 [25600/60000 (43%)]\tLoss: 61.274143\n",
      "Train Epoch: 2 [32000/60000 (53%)]\tLoss: 64.712128\n",
      "Train Epoch: 2 [38400/60000 (64%)]\tLoss: 62.924973\n",
      "Train Epoch: 2 [44800/60000 (75%)]\tLoss: 64.448326\n",
      "Train Epoch: 2 [51200/60000 (85%)]\tLoss: 65.019363\n",
      "Train Epoch: 2 [57600/60000 (96%)]\tLoss: 62.074730\n",
      "Train Epoch: 3 [0/60000 (0%)]\tLoss: 59.454937\n",
      "Train Epoch: 3 [6400/60000 (11%)]\tLoss: 60.512871\n",
      "Train Epoch: 3 [12800/60000 (21%)]\tLoss: 60.532177\n",
      "Train Epoch: 3 [19200/60000 (32%)]\tLoss: 60.947815\n",
      "Train Epoch: 3 [25600/60000 (43%)]\tLoss: 60.167400\n",
      "Train Epoch: 3 [32000/60000 (53%)]\tLoss: 63.532051\n",
      "Train Epoch: 3 [38400/60000 (64%)]\tLoss: 61.329956\n",
      "Train Epoch: 3 [44800/60000 (75%)]\tLoss: 62.905289\n",
      "Train Epoch: 3 [51200/60000 (85%)]\tLoss: 63.271671\n",
      "Train Epoch: 3 [57600/60000 (96%)]\tLoss: 60.780708\n",
      "Train Epoch: 4 [0/60000 (0%)]\tLoss: 58.718796\n",
      "Train Epoch: 4 [6400/60000 (11%)]\tLoss: 59.387203\n",
      "Train Epoch: 4 [12800/60000 (21%)]\tLoss: 59.786156\n",
      "Train Epoch: 4 [19200/60000 (32%)]\tLoss: 59.837208\n",
      "Train Epoch: 4 [25600/60000 (43%)]\tLoss: 59.941650\n",
      "Train Epoch: 4 [32000/60000 (53%)]\tLoss: 62.650848\n",
      "Train Epoch: 4 [38400/60000 (64%)]\tLoss: 60.329651\n",
      "Train Epoch: 4 [44800/60000 (75%)]\tLoss: 61.539547\n",
      "Train Epoch: 4 [51200/60000 (85%)]\tLoss: 62.339874\n",
      "Train Epoch: 4 [57600/60000 (96%)]\tLoss: 59.993073\n",
      "Train Epoch: 5 [0/60000 (0%)]\tLoss: 58.250111\n",
      "Train Epoch: 5 [6400/60000 (11%)]\tLoss: 58.640984\n",
      "Train Epoch: 5 [12800/60000 (21%)]\tLoss: 59.419357\n",
      "Train Epoch: 5 [19200/60000 (32%)]\tLoss: 59.076050\n",
      "Train Epoch: 5 [25600/60000 (43%)]\tLoss: 59.843441\n",
      "Train Epoch: 5 [32000/60000 (53%)]\tLoss: 62.044769\n",
      "Train Epoch: 5 [38400/60000 (64%)]\tLoss: 59.634178\n",
      "Train Epoch: 5 [44800/60000 (75%)]\tLoss: 60.760899\n",
      "Train Epoch: 5 [51200/60000 (85%)]\tLoss: 61.727932\n",
      "Train Epoch: 5 [57600/60000 (96%)]\tLoss: 59.410473\n",
      "Train Epoch: 6 [0/60000 (0%)]\tLoss: 57.971092\n",
      "Train Epoch: 6 [6400/60000 (11%)]\tLoss: 58.289787\n",
      "Train Epoch: 6 [12800/60000 (21%)]\tLoss: 59.195354\n",
      "Train Epoch: 6 [19200/60000 (32%)]\tLoss: 58.534973\n",
      "Train Epoch: 6 [25600/60000 (43%)]\tLoss: 59.724800\n",
      "Train Epoch: 6 [32000/60000 (53%)]\tLoss: 61.914158\n",
      "Train Epoch: 6 [38400/60000 (64%)]\tLoss: 59.052532\n",
      "Train Epoch: 6 [44800/60000 (75%)]\tLoss: 60.347115\n",
      "Train Epoch: 6 [51200/60000 (85%)]\tLoss: 61.306751\n",
      "Train Epoch: 6 [57600/60000 (96%)]\tLoss: 58.772038\n",
      "Train Epoch: 7 [0/60000 (0%)]\tLoss: 57.802345\n",
      "Train Epoch: 7 [6400/60000 (11%)]\tLoss: 58.082573\n",
      "Train Epoch: 7 [12800/60000 (21%)]\tLoss: 58.928463\n",
      "Train Epoch: 7 [19200/60000 (32%)]\tLoss: 58.156033\n",
      "Train Epoch: 7 [25600/60000 (43%)]\tLoss: 59.498016\n",
      "Train Epoch: 7 [32000/60000 (53%)]\tLoss: 62.086330\n",
      "Train Epoch: 7 [38400/60000 (64%)]\tLoss: 58.575150\n",
      "Train Epoch: 7 [44800/60000 (75%)]\tLoss: 60.117199\n",
      "Train Epoch: 7 [51200/60000 (85%)]\tLoss: 61.140919\n",
      "Train Epoch: 7 [57600/60000 (96%)]\tLoss: 58.175194\n",
      "Train Epoch: 8 [0/60000 (0%)]\tLoss: 57.676708\n",
      "Train Epoch: 8 [6400/60000 (11%)]\tLoss: 57.968708\n",
      "Train Epoch: 8 [12800/60000 (21%)]\tLoss: 58.662209\n",
      "Train Epoch: 8 [19200/60000 (32%)]\tLoss: 57.895042\n",
      "Train Epoch: 8 [25600/60000 (43%)]\tLoss: 59.222641\n",
      "Train Epoch: 8 [32000/60000 (53%)]\tLoss: 62.325008\n",
      "Train Epoch: 8 [38400/60000 (64%)]\tLoss: 58.158066\n",
      "Train Epoch: 8 [44800/60000 (75%)]\tLoss: 59.899635\n",
      "Train Epoch: 8 [51200/60000 (85%)]\tLoss: 60.943672\n",
      "Train Epoch: 8 [57600/60000 (96%)]\tLoss: 57.735519\n",
      "Train Epoch: 9 [0/60000 (0%)]\tLoss: 57.554779\n",
      "Train Epoch: 9 [6400/60000 (11%)]\tLoss: 57.876228\n",
      "Train Epoch: 9 [12800/60000 (21%)]\tLoss: 58.426437\n",
      "Train Epoch: 9 [19200/60000 (32%)]\tLoss: 57.695251\n",
      "Train Epoch: 9 [25600/60000 (43%)]\tLoss: 58.983204\n",
      "Train Epoch: 9 [32000/60000 (53%)]\tLoss: 62.459137\n",
      "Train Epoch: 9 [38400/60000 (64%)]\tLoss: 57.814167\n",
      "Train Epoch: 9 [44800/60000 (75%)]\tLoss: 59.635223\n",
      "Train Epoch: 9 [51200/60000 (85%)]\tLoss: 60.630608\n",
      "Train Epoch: 9 [57600/60000 (96%)]\tLoss: 57.429726\n",
      "Train Epoch: 10 [0/60000 (0%)]\tLoss: 57.463127\n",
      "Train Epoch: 10 [6400/60000 (11%)]\tLoss: 57.767731\n",
      "Train Epoch: 10 [12800/60000 (21%)]\tLoss: 58.175274\n",
      "Train Epoch: 10 [19200/60000 (32%)]\tLoss: 57.483868\n",
      "Train Epoch: 10 [25600/60000 (43%)]\tLoss: 58.743946\n",
      "Train Epoch: 10 [32000/60000 (53%)]\tLoss: 62.396252\n",
      "Train Epoch: 10 [38400/60000 (64%)]\tLoss: 57.580372\n",
      "Train Epoch: 10 [44800/60000 (75%)]\tLoss: 59.357899\n",
      "Train Epoch: 10 [51200/60000 (85%)]\tLoss: 60.301113\n",
      "Train Epoch: 10 [57600/60000 (96%)]\tLoss: 57.177608\n"
     ]
    }
   ],
   "source": [
    "np.random.seed(6)\n",
    "# Number of training epochs\n",
    "epochs = 10\n",
    "# Learning rate\n",
    "lr = 0.001\n",
    "\n",
    "# define the tanh-network\n",
    "tanh_model = mnist_network(num_hidden_layers=1,layer_size=20,activation='tanh')\n",
    "\n",
    "# create optimizer for the tanh-network\n",
    "tanh_optimizer = optim.SGD(tanh_model.parameters(),lr=lr)\n",
    "\n",
    "# initialize an emp\n",
    "tanh_model_accuracies = []\n",
    "\n",
    "\n",
    "for epoch in range(1,epochs+1):\n",
    "    # Training the tanh-network\n",
    "    train(tanh_model, test_criterion, train_loader, tanh_optimizer, epoch)\n",
    "        \n",
    "    # use test function to get the performance \n",
    "    tanh_model.eval()\n",
    "    train_loss = 0\n",
    "    num_correct = 0\n",
    "    with torch.no_grad():\n",
    "        for data, target in train_loader:\n",
    "            output = tanh_model(data)\n",
    "            train_loss += test_criterion(output, target).item()  # sum up batch loss\n",
    "            pred = output.argmax(dim=1, keepdim=True)  # get the index of the max log-probability\n",
    "            num_correct += pred.eq(target.view_as(pred)).sum().item()\n",
    "\n",
    "    tanh_model_accuracies.append(num_correct / len(train_loader.dataset))"
   ]
  },
  {
   "cell_type": "markdown",
   "metadata": {
    "id": "qYt6o7Aed9E-"
   },
   "source": [
    "Test the trained Tanh-network on the test data. Print out the accuracy."
   ]
  },
  {
   "cell_type": "code",
   "execution_count": 37,
   "metadata": {
    "id": "q7-YK5gVd9E_"
   },
   "outputs": [
    {
     "name": "stdout",
     "output_type": "stream",
     "text": [
      "\n",
      "Test set: Average loss: 0.9202, Accuracy: 9391/10000 (94%)\n",
      "\n"
     ]
    }
   ],
   "source": [
    "np.random.seed(72)\n",
    "test(tanh_model, test_criterion, test_loader)"
   ]
  },
  {
   "cell_type": "markdown",
   "metadata": {
    "id": "YIGx8kPTd9FA"
   },
   "source": [
    "Plot the training accuracies over the epochs of the networks on the same figure (there should 3 line plots/scatter plots). "
   ]
  },
  {
   "cell_type": "code",
   "execution_count": 38,
   "metadata": {
    "id": "MVy4iVnMd9FA"
   },
   "outputs": [
    {
     "data": {
      "image/png": "[encoded data removed]",
      "text/plain": [
       "<Figure size 432x288 with 1 Axes>"
      ]
     },
     "metadata": {
      "needs_background": "light"
     },
     "output_type": "display_data"
    }
   ],
   "source": [
    "# plot lines\n",
    "plt.plot(range(1,epochs + 1), sigmoid_model_accuracies, label = \"sigmoid-network\")\n",
    "plt.plot(range(1,epochs + 1), relu_model_accuracies, label = \"relu-network\")\n",
    "plt.plot(range(1,epochs + 1), tanh_model_accuracies, label = \"tanh-network\")\n",
    "plt.legend()\n",
    "plt.grid()\n",
    "plt.show()"
   ]
  },
  {
   "cell_type": "markdown",
   "metadata": {
    "id": "aCGjP911d9FB"
   },
   "source": [
    "What is your conclusion on the effect of varying the activation functions on the performance of a neural network trained on MNIST dataset?"
   ]
  },
  {
   "cell_type": "markdown",
   "metadata": {},
   "source": [
    "# comment\n",
    "_By varying the activation functions, we see that the best performing activation function is relu. Closely following relu is tanh and the worst performing activation function is sigmoid. Although there isn't much of a difference if we change the activation function from relu to tanh and vice versa (since they both end at a value of about 96% /97%), we see that the sigmoid, as expected, follows a logistic curve and only converges to 63% at the end of the 10th epoch. So using tanh or relu would be the best suggestion compared to sigmoid for the activation function._"
   ]
  },
  {
   "cell_type": "markdown",
   "metadata": {
    "id": "KiAZ36IdhMvG"
   },
   "source": [
    "## Part d"
   ]
  },
  {
   "cell_type": "markdown",
   "metadata": {
    "id": "8H1N3i-derH7"
   },
   "source": [
    "Finally, we will look into the effect of varying the value of the learning rate on the performance of a neural network. Create a network with one hidden layer of size 20 and ReLU activation."
   ]
  },
  {
   "cell_type": "markdown",
   "metadata": {
    "id": "vUFgUcGUfG7z"
   },
   "source": [
    "Train the network on the MNIST dataset for 10 epochs. Set the learning rate to be 0.1. After each epoch, record the current training accuracy of the network. "
   ]
  },
  {
   "cell_type": "code",
   "execution_count": 39,
   "metadata": {
    "id": "KtLuEUNKfG72"
   },
   "outputs": [
    {
     "name": "stdout",
     "output_type": "stream",
     "text": [
      "Train Epoch: 1 [0/60000 (0%)]\tLoss: 2.298168\n",
      "Train Epoch: 1 [6400/60000 (11%)]\tLoss: 0.539162\n",
      "Train Epoch: 1 [12800/60000 (21%)]\tLoss: 0.419262\n",
      "Train Epoch: 1 [19200/60000 (32%)]\tLoss: 0.528268\n",
      "Train Epoch: 1 [25600/60000 (43%)]\tLoss: 0.363742\n",
      "Train Epoch: 1 [32000/60000 (53%)]\tLoss: 0.648163\n",
      "Train Epoch: 1 [38400/60000 (64%)]\tLoss: 0.468586\n",
      "Train Epoch: 1 [44800/60000 (75%)]\tLoss: 0.537555\n",
      "Train Epoch: 1 [51200/60000 (85%)]\tLoss: 0.457820\n",
      "Train Epoch: 1 [57600/60000 (96%)]\tLoss: 0.569704\n",
      "Train Epoch: 2 [0/60000 (0%)]\tLoss: 0.273476\n",
      "Train Epoch: 2 [6400/60000 (11%)]\tLoss: 0.392620\n",
      "Train Epoch: 2 [12800/60000 (21%)]\tLoss: 0.251340\n",
      "Train Epoch: 2 [19200/60000 (32%)]\tLoss: 0.457069\n",
      "Train Epoch: 2 [25600/60000 (43%)]\tLoss: 0.298622\n",
      "Train Epoch: 2 [32000/60000 (53%)]\tLoss: 0.588504\n",
      "Train Epoch: 2 [38400/60000 (64%)]\tLoss: 0.391574\n",
      "Train Epoch: 2 [44800/60000 (75%)]\tLoss: 0.479404\n",
      "Train Epoch: 2 [51200/60000 (85%)]\tLoss: 0.463274\n",
      "Train Epoch: 2 [57600/60000 (96%)]\tLoss: 0.495992\n",
      "Train Epoch: 3 [0/60000 (0%)]\tLoss: 0.234461\n",
      "Train Epoch: 3 [6400/60000 (11%)]\tLoss: 0.378916\n",
      "Train Epoch: 3 [12800/60000 (21%)]\tLoss: 0.212603\n",
      "Train Epoch: 3 [19200/60000 (32%)]\tLoss: 0.427529\n",
      "Train Epoch: 3 [25600/60000 (43%)]\tLoss: 0.273641\n",
      "Train Epoch: 3 [32000/60000 (53%)]\tLoss: 0.522061\n",
      "Train Epoch: 3 [38400/60000 (64%)]\tLoss: 0.387018\n",
      "Train Epoch: 3 [44800/60000 (75%)]\tLoss: 0.450986\n",
      "Train Epoch: 3 [51200/60000 (85%)]\tLoss: 0.478079\n",
      "Train Epoch: 3 [57600/60000 (96%)]\tLoss: 0.506889\n",
      "Train Epoch: 4 [0/60000 (0%)]\tLoss: 0.229559\n",
      "Train Epoch: 4 [6400/60000 (11%)]\tLoss: 0.381595\n",
      "Train Epoch: 4 [12800/60000 (21%)]\tLoss: 0.206000\n",
      "Train Epoch: 4 [19200/60000 (32%)]\tLoss: 0.404595\n",
      "Train Epoch: 4 [25600/60000 (43%)]\tLoss: 0.263542\n",
      "Train Epoch: 4 [32000/60000 (53%)]\tLoss: 0.439871\n",
      "Train Epoch: 4 [38400/60000 (64%)]\tLoss: 0.386897\n",
      "Train Epoch: 4 [44800/60000 (75%)]\tLoss: 0.423351\n",
      "Train Epoch: 4 [51200/60000 (85%)]\tLoss: 0.502801\n",
      "Train Epoch: 4 [57600/60000 (96%)]\tLoss: 0.510058\n",
      "Train Epoch: 5 [0/60000 (0%)]\tLoss: 0.225191\n",
      "Train Epoch: 5 [6400/60000 (11%)]\tLoss: 0.366114\n",
      "Train Epoch: 5 [12800/60000 (21%)]\tLoss: 0.208777\n",
      "Train Epoch: 5 [19200/60000 (32%)]\tLoss: 0.400515\n",
      "Train Epoch: 5 [25600/60000 (43%)]\tLoss: 0.267852\n",
      "Train Epoch: 5 [32000/60000 (53%)]\tLoss: 0.392475\n",
      "Train Epoch: 5 [38400/60000 (64%)]\tLoss: 0.378864\n",
      "Train Epoch: 5 [44800/60000 (75%)]\tLoss: 0.405813\n",
      "Train Epoch: 5 [51200/60000 (85%)]\tLoss: 0.499285\n",
      "Train Epoch: 5 [57600/60000 (96%)]\tLoss: 0.505487\n",
      "Train Epoch: 6 [0/60000 (0%)]\tLoss: 0.213727\n",
      "Train Epoch: 6 [6400/60000 (11%)]\tLoss: 0.371756\n",
      "Train Epoch: 6 [12800/60000 (21%)]\tLoss: 0.198216\n",
      "Train Epoch: 6 [19200/60000 (32%)]\tLoss: 0.394514\n",
      "Train Epoch: 6 [25600/60000 (43%)]\tLoss: 0.251939\n",
      "Train Epoch: 6 [32000/60000 (53%)]\tLoss: 0.369869\n",
      "Train Epoch: 6 [38400/60000 (64%)]\tLoss: 0.378156\n",
      "Train Epoch: 6 [44800/60000 (75%)]\tLoss: 0.401423\n",
      "Train Epoch: 6 [51200/60000 (85%)]\tLoss: 0.484841\n",
      "Train Epoch: 6 [57600/60000 (96%)]\tLoss: 0.502704\n",
      "Train Epoch: 7 [0/60000 (0%)]\tLoss: 0.208015\n",
      "Train Epoch: 7 [6400/60000 (11%)]\tLoss: 0.361138\n",
      "Train Epoch: 7 [12800/60000 (21%)]\tLoss: 0.199653\n",
      "Train Epoch: 7 [19200/60000 (32%)]\tLoss: 0.399856\n",
      "Train Epoch: 7 [25600/60000 (43%)]\tLoss: 0.246657\n",
      "Train Epoch: 7 [32000/60000 (53%)]\tLoss: 0.353514\n",
      "Train Epoch: 7 [38400/60000 (64%)]\tLoss: 0.373985\n",
      "Train Epoch: 7 [44800/60000 (75%)]\tLoss: 0.398301\n",
      "Train Epoch: 7 [51200/60000 (85%)]\tLoss: 0.469386\n",
      "Train Epoch: 7 [57600/60000 (96%)]\tLoss: 0.501259\n",
      "Train Epoch: 8 [0/60000 (0%)]\tLoss: 0.202048\n",
      "Train Epoch: 8 [6400/60000 (11%)]\tLoss: 0.348364\n",
      "Train Epoch: 8 [12800/60000 (21%)]\tLoss: 0.202384\n",
      "Train Epoch: 8 [19200/60000 (32%)]\tLoss: 0.392438\n",
      "Train Epoch: 8 [25600/60000 (43%)]\tLoss: 0.244433\n",
      "Train Epoch: 8 [32000/60000 (53%)]\tLoss: 0.335555\n",
      "Train Epoch: 8 [38400/60000 (64%)]\tLoss: 0.366372\n",
      "Train Epoch: 8 [44800/60000 (75%)]\tLoss: 0.391547\n",
      "Train Epoch: 8 [51200/60000 (85%)]\tLoss: 0.473699\n",
      "Train Epoch: 8 [57600/60000 (96%)]\tLoss: 0.500044\n",
      "Train Epoch: 9 [0/60000 (0%)]\tLoss: 0.200790\n",
      "Train Epoch: 9 [6400/60000 (11%)]\tLoss: 0.333394\n",
      "Train Epoch: 9 [12800/60000 (21%)]\tLoss: 0.208103\n",
      "Train Epoch: 9 [19200/60000 (32%)]\tLoss: 0.389446\n",
      "Train Epoch: 9 [25600/60000 (43%)]\tLoss: 0.239224\n",
      "Train Epoch: 9 [32000/60000 (53%)]\tLoss: 0.326979\n",
      "Train Epoch: 9 [38400/60000 (64%)]\tLoss: 0.362582\n",
      "Train Epoch: 9 [44800/60000 (75%)]\tLoss: 0.385196\n",
      "Train Epoch: 9 [51200/60000 (85%)]\tLoss: 0.490812\n",
      "Train Epoch: 9 [57600/60000 (96%)]\tLoss: 0.507537\n",
      "Train Epoch: 10 [0/60000 (0%)]\tLoss: 0.195544\n",
      "Train Epoch: 10 [6400/60000 (11%)]\tLoss: 0.326008\n",
      "Train Epoch: 10 [12800/60000 (21%)]\tLoss: 0.201037\n",
      "Train Epoch: 10 [19200/60000 (32%)]\tLoss: 0.392607\n",
      "Train Epoch: 10 [25600/60000 (43%)]\tLoss: 0.230887\n",
      "Train Epoch: 10 [32000/60000 (53%)]\tLoss: 0.322492\n",
      "Train Epoch: 10 [38400/60000 (64%)]\tLoss: 0.345910\n",
      "Train Epoch: 10 [44800/60000 (75%)]\tLoss: 0.375247\n",
      "Train Epoch: 10 [51200/60000 (85%)]\tLoss: 0.479754\n",
      "Train Epoch: 10 [57600/60000 (96%)]\tLoss: 0.506618\n"
     ]
    }
   ],
   "source": [
    "np.random.seed(4)\n",
    "# Number of training epochs\n",
    "epochs = 10\n",
    "# Learning rate\n",
    "lr = 0.1\n",
    "\n",
    "# define the tenth-network\n",
    "tenth_model = mnist_network(num_hidden_layers=1,layer_size=20,activation='relu')\n",
    "\n",
    "# create optimizer for the tenth-network\n",
    "tenth_optimizer = optim.SGD(tenth_model.parameters(),lr=lr)\n",
    "\n",
    "# initialize an emp\n",
    "tenth_model_accuracies = []\n",
    "\n",
    "\n",
    "for epoch in range(1,epochs+1):\n",
    "    # Training the tenth-network\n",
    "    train(tenth_model, train_criterion, train_loader, tenth_optimizer, epoch)\n",
    "        \n",
    "    # use test function to get the performance \n",
    "    tenth_model.eval()\n",
    "    train_loss = 0\n",
    "    num_correct = 0\n",
    "    with torch.no_grad():\n",
    "        for data, target in train_loader:\n",
    "            output = tenth_model(data)\n",
    "            train_loss += test_criterion(output, target).item()  # sum up batch loss\n",
    "            pred = output.argmax(dim=1, keepdim=True)  # get the index of the max log-probability\n",
    "            num_correct += pred.eq(target.view_as(pred)).sum().item()\n",
    "\n",
    "    tenth_model_accuracies.append(num_correct / len(train_loader.dataset))"
   ]
  },
  {
   "cell_type": "markdown",
   "metadata": {
    "id": "oC5CD3zmfG73"
   },
   "source": [
    "Test the trained network on the test data. Print out the accuracy."
   ]
  },
  {
   "cell_type": "code",
   "execution_count": 40,
   "metadata": {
    "id": "yT04G-BLfG74"
   },
   "outputs": [
    {
     "name": "stdout",
     "output_type": "stream",
     "text": [
      "\n",
      "Test set: Average loss: 0.3657, Accuracy: 8667/10000 (87%)\n",
      "\n"
     ]
    }
   ],
   "source": [
    "np.random.seed(72)\n",
    "test(tenth_model, test_criterion, test_loader)"
   ]
  },
  {
   "cell_type": "markdown",
   "metadata": {
    "id": "REVtrsiqfG75"
   },
   "source": [
    "Train the network on the MNIST dataset for 10 epochs. Set the learning rate to be 0.01. After each epoch, record the current training accuracy of the network. "
   ]
  },
  {
   "cell_type": "code",
   "execution_count": 41,
   "metadata": {
    "id": "aEXtS_XEfG76"
   },
   "outputs": [
    {
     "name": "stdout",
     "output_type": "stream",
     "text": [
      "Train Epoch: 1 [0/60000 (0%)]\tLoss: 2.327361\n",
      "Train Epoch: 1 [6400/60000 (11%)]\tLoss: 1.246654\n",
      "Train Epoch: 1 [12800/60000 (21%)]\tLoss: 1.070409\n",
      "Train Epoch: 1 [19200/60000 (32%)]\tLoss: 0.580138\n",
      "Train Epoch: 1 [25600/60000 (43%)]\tLoss: 0.373426\n",
      "Train Epoch: 1 [32000/60000 (53%)]\tLoss: 0.437107\n",
      "Train Epoch: 1 [38400/60000 (64%)]\tLoss: 0.331501\n",
      "Train Epoch: 1 [44800/60000 (75%)]\tLoss: 0.472921\n",
      "Train Epoch: 1 [51200/60000 (85%)]\tLoss: 0.431582\n",
      "Train Epoch: 1 [57600/60000 (96%)]\tLoss: 0.414553\n",
      "Train Epoch: 2 [0/60000 (0%)]\tLoss: 0.298457\n",
      "Train Epoch: 2 [6400/60000 (11%)]\tLoss: 0.314229\n",
      "Train Epoch: 2 [12800/60000 (21%)]\tLoss: 0.238759\n",
      "Train Epoch: 2 [19200/60000 (32%)]\tLoss: 0.372703\n",
      "Train Epoch: 2 [25600/60000 (43%)]\tLoss: 0.231804\n",
      "Train Epoch: 2 [32000/60000 (53%)]\tLoss: 0.345702\n",
      "Train Epoch: 2 [38400/60000 (64%)]\tLoss: 0.225372\n",
      "Train Epoch: 2 [44800/60000 (75%)]\tLoss: 0.388469\n",
      "Train Epoch: 2 [51200/60000 (85%)]\tLoss: 0.347101\n",
      "Train Epoch: 2 [57600/60000 (96%)]\tLoss: 0.400886\n",
      "Train Epoch: 3 [0/60000 (0%)]\tLoss: 0.219244\n",
      "Train Epoch: 3 [6400/60000 (11%)]\tLoss: 0.271283\n",
      "Train Epoch: 3 [12800/60000 (21%)]\tLoss: 0.179968\n",
      "Train Epoch: 3 [19200/60000 (32%)]\tLoss: 0.340218\n",
      "Train Epoch: 3 [25600/60000 (43%)]\tLoss: 0.197708\n",
      "Train Epoch: 3 [32000/60000 (53%)]\tLoss: 0.323974\n",
      "Train Epoch: 3 [38400/60000 (64%)]\tLoss: 0.194837\n",
      "Train Epoch: 3 [44800/60000 (75%)]\tLoss: 0.356118\n",
      "Train Epoch: 3 [51200/60000 (85%)]\tLoss: 0.297674\n",
      "Train Epoch: 3 [57600/60000 (96%)]\tLoss: 0.375540\n",
      "Train Epoch: 4 [0/60000 (0%)]\tLoss: 0.179130\n",
      "Train Epoch: 4 [6400/60000 (11%)]\tLoss: 0.249406\n",
      "Train Epoch: 4 [12800/60000 (21%)]\tLoss: 0.151430\n",
      "Train Epoch: 4 [19200/60000 (32%)]\tLoss: 0.319903\n",
      "Train Epoch: 4 [25600/60000 (43%)]\tLoss: 0.178024\n",
      "Train Epoch: 4 [32000/60000 (53%)]\tLoss: 0.299186\n",
      "Train Epoch: 4 [38400/60000 (64%)]\tLoss: 0.178698\n",
      "Train Epoch: 4 [44800/60000 (75%)]\tLoss: 0.336441\n",
      "Train Epoch: 4 [51200/60000 (85%)]\tLoss: 0.258107\n",
      "Train Epoch: 4 [57600/60000 (96%)]\tLoss: 0.346958\n",
      "Train Epoch: 5 [0/60000 (0%)]\tLoss: 0.151958\n",
      "Train Epoch: 5 [6400/60000 (11%)]\tLoss: 0.225585\n",
      "Train Epoch: 5 [12800/60000 (21%)]\tLoss: 0.134564\n",
      "Train Epoch: 5 [19200/60000 (32%)]\tLoss: 0.304347\n",
      "Train Epoch: 5 [25600/60000 (43%)]\tLoss: 0.162753\n",
      "Train Epoch: 5 [32000/60000 (53%)]\tLoss: 0.277836\n",
      "Train Epoch: 5 [38400/60000 (64%)]\tLoss: 0.165409\n",
      "Train Epoch: 5 [44800/60000 (75%)]\tLoss: 0.321603\n",
      "Train Epoch: 5 [51200/60000 (85%)]\tLoss: 0.234749\n",
      "Train Epoch: 5 [57600/60000 (96%)]\tLoss: 0.325140\n",
      "Train Epoch: 6 [0/60000 (0%)]\tLoss: 0.135020\n",
      "Train Epoch: 6 [6400/60000 (11%)]\tLoss: 0.213963\n",
      "Train Epoch: 6 [12800/60000 (21%)]\tLoss: 0.124338\n",
      "Train Epoch: 6 [19200/60000 (32%)]\tLoss: 0.294943\n",
      "Train Epoch: 6 [25600/60000 (43%)]\tLoss: 0.150169\n",
      "Train Epoch: 6 [32000/60000 (53%)]\tLoss: 0.260690\n",
      "Train Epoch: 6 [38400/60000 (64%)]\tLoss: 0.154807\n",
      "Train Epoch: 6 [44800/60000 (75%)]\tLoss: 0.311053\n",
      "Train Epoch: 6 [51200/60000 (85%)]\tLoss: 0.214258\n",
      "Train Epoch: 6 [57600/60000 (96%)]\tLoss: 0.310092\n",
      "Train Epoch: 7 [0/60000 (0%)]\tLoss: 0.123616\n",
      "Train Epoch: 7 [6400/60000 (11%)]\tLoss: 0.210907\n",
      "Train Epoch: 7 [12800/60000 (21%)]\tLoss: 0.115835\n",
      "Train Epoch: 7 [19200/60000 (32%)]\tLoss: 0.287507\n",
      "Train Epoch: 7 [25600/60000 (43%)]\tLoss: 0.140906\n",
      "Train Epoch: 7 [32000/60000 (53%)]\tLoss: 0.248015\n",
      "Train Epoch: 7 [38400/60000 (64%)]\tLoss: 0.146066\n",
      "Train Epoch: 7 [44800/60000 (75%)]\tLoss: 0.297317\n",
      "Train Epoch: 7 [51200/60000 (85%)]\tLoss: 0.194931\n",
      "Train Epoch: 7 [57600/60000 (96%)]\tLoss: 0.297995\n",
      "Train Epoch: 8 [0/60000 (0%)]\tLoss: 0.116570\n",
      "Train Epoch: 8 [6400/60000 (11%)]\tLoss: 0.209748\n",
      "Train Epoch: 8 [12800/60000 (21%)]\tLoss: 0.110278\n",
      "Train Epoch: 8 [19200/60000 (32%)]\tLoss: 0.277132\n",
      "Train Epoch: 8 [25600/60000 (43%)]\tLoss: 0.132414\n",
      "Train Epoch: 8 [32000/60000 (53%)]\tLoss: 0.237824\n",
      "Train Epoch: 8 [38400/60000 (64%)]\tLoss: 0.138984\n",
      "Train Epoch: 8 [44800/60000 (75%)]\tLoss: 0.289658\n",
      "Train Epoch: 8 [51200/60000 (85%)]\tLoss: 0.182690\n",
      "Train Epoch: 8 [57600/60000 (96%)]\tLoss: 0.287579\n",
      "Train Epoch: 9 [0/60000 (0%)]\tLoss: 0.108686\n",
      "Train Epoch: 9 [6400/60000 (11%)]\tLoss: 0.208484\n",
      "Train Epoch: 9 [12800/60000 (21%)]\tLoss: 0.104481\n",
      "Train Epoch: 9 [19200/60000 (32%)]\tLoss: 0.259883\n",
      "Train Epoch: 9 [25600/60000 (43%)]\tLoss: 0.124707\n",
      "Train Epoch: 9 [32000/60000 (53%)]\tLoss: 0.228642\n",
      "Train Epoch: 9 [38400/60000 (64%)]\tLoss: 0.133002\n",
      "Train Epoch: 9 [44800/60000 (75%)]\tLoss: 0.283597\n",
      "Train Epoch: 9 [51200/60000 (85%)]\tLoss: 0.171164\n",
      "Train Epoch: 9 [57600/60000 (96%)]\tLoss: 0.280859\n",
      "Train Epoch: 10 [0/60000 (0%)]\tLoss: 0.101355\n",
      "Train Epoch: 10 [6400/60000 (11%)]\tLoss: 0.209102\n",
      "Train Epoch: 10 [12800/60000 (21%)]\tLoss: 0.099164\n",
      "Train Epoch: 10 [19200/60000 (32%)]\tLoss: 0.243907\n",
      "Train Epoch: 10 [25600/60000 (43%)]\tLoss: 0.119266\n",
      "Train Epoch: 10 [32000/60000 (53%)]\tLoss: 0.218609\n",
      "Train Epoch: 10 [38400/60000 (64%)]\tLoss: 0.126542\n",
      "Train Epoch: 10 [44800/60000 (75%)]\tLoss: 0.277262\n",
      "Train Epoch: 10 [51200/60000 (85%)]\tLoss: 0.161739\n",
      "Train Epoch: 10 [57600/60000 (96%)]\tLoss: 0.276072\n"
     ]
    }
   ],
   "source": [
    "np.random.seed(5)\n",
    "# Number of training epochs\n",
    "epochs = 10\n",
    "# Learning rate\n",
    "lr = 0.01\n",
    "\n",
    "# define the hund-network\n",
    "hund_model = mnist_network(num_hidden_layers=1,layer_size=20,activation='relu')\n",
    "\n",
    "# create optimizer for the hund-network\n",
    "hund_optimizer = optim.SGD(hund_model.parameters(),lr=lr)\n",
    "\n",
    "# initialize an emp\n",
    "hund_model_accuracies = []\n",
    "\n",
    "\n",
    "for epoch in range(1,epochs+1):\n",
    "    # Training the hund-network\n",
    "    train(hund_model, train_criterion, train_loader, hund_optimizer, epoch)\n",
    "        \n",
    "    # use test function to get the performance \n",
    "    hund_model.eval()\n",
    "    train_loss = 0\n",
    "    num_correct = 0\n",
    "    with torch.no_grad():\n",
    "        for data, target in train_loader:\n",
    "            output = hund_model(data)\n",
    "            train_loss += test_criterion(output, target).item()  # sum up batch loss\n",
    "            pred = output.argmax(dim=1, keepdim=True)  # get the index of the max log-probability\n",
    "            num_correct += pred.eq(target.view_as(pred)).sum().item()\n",
    "\n",
    "    hund_model_accuracies.append(num_correct / len(train_loader.dataset))"
   ]
  },
  {
   "cell_type": "markdown",
   "metadata": {
    "id": "z2dLcxgdfG77"
   },
   "source": [
    "Test the trained network on the test data. Print out the accuracy."
   ]
  },
  {
   "cell_type": "code",
   "execution_count": 42,
   "metadata": {
    "id": "pT9_RHk_fG78"
   },
   "outputs": [
    {
     "name": "stdout",
     "output_type": "stream",
     "text": [
      "\n",
      "Test set: Average loss: 0.1871, Accuracy: 9419/10000 (94%)\n",
      "\n"
     ]
    }
   ],
   "source": [
    "np.random.seed(72)\n",
    "test(hund_model, test_criterion, test_loader)"
   ]
  },
  {
   "cell_type": "markdown",
   "metadata": {
    "id": "iJu3jwdKfG79"
   },
   "source": [
    "Train the network on the MNIST dataset for 10 epochs. Set the learning rate to 0.001. After each epoch, record the current training accuracy of the network. "
   ]
  },
  {
   "cell_type": "code",
   "execution_count": 43,
   "metadata": {
    "id": "U_GDwCxkfG7-"
   },
   "outputs": [
    {
     "name": "stdout",
     "output_type": "stream",
     "text": [
      "Train Epoch: 1 [0/60000 (0%)]\tLoss: 2.333499\n",
      "Train Epoch: 1 [6400/60000 (11%)]\tLoss: 2.258330\n",
      "Train Epoch: 1 [12800/60000 (21%)]\tLoss: 2.213496\n",
      "Train Epoch: 1 [19200/60000 (32%)]\tLoss: 2.137605\n",
      "Train Epoch: 1 [25600/60000 (43%)]\tLoss: 2.142013\n",
      "Train Epoch: 1 [32000/60000 (53%)]\tLoss: 2.114271\n",
      "Train Epoch: 1 [38400/60000 (64%)]\tLoss: 2.062809\n",
      "Train Epoch: 1 [44800/60000 (75%)]\tLoss: 2.001007\n",
      "Train Epoch: 1 [51200/60000 (85%)]\tLoss: 1.875035\n",
      "Train Epoch: 1 [57600/60000 (96%)]\tLoss: 1.715694\n",
      "Train Epoch: 2 [0/60000 (0%)]\tLoss: 1.908723\n",
      "Train Epoch: 2 [6400/60000 (11%)]\tLoss: 1.660475\n",
      "Train Epoch: 2 [12800/60000 (21%)]\tLoss: 1.599771\n",
      "Train Epoch: 2 [19200/60000 (32%)]\tLoss: 1.559290\n",
      "Train Epoch: 2 [25600/60000 (43%)]\tLoss: 1.573894\n",
      "Train Epoch: 2 [32000/60000 (53%)]\tLoss: 1.516460\n",
      "Train Epoch: 2 [38400/60000 (64%)]\tLoss: 1.574278\n",
      "Train Epoch: 2 [44800/60000 (75%)]\tLoss: 1.622074\n",
      "Train Epoch: 2 [51200/60000 (85%)]\tLoss: 1.515048\n",
      "Train Epoch: 2 [57600/60000 (96%)]\tLoss: 1.319931\n",
      "Train Epoch: 3 [0/60000 (0%)]\tLoss: 1.569622\n",
      "Train Epoch: 3 [6400/60000 (11%)]\tLoss: 1.243169\n",
      "Train Epoch: 3 [12800/60000 (21%)]\tLoss: 1.220977\n",
      "Train Epoch: 3 [19200/60000 (32%)]\tLoss: 1.145627\n",
      "Train Epoch: 3 [25600/60000 (43%)]\tLoss: 1.249768\n",
      "Train Epoch: 3 [32000/60000 (53%)]\tLoss: 1.166278\n",
      "Train Epoch: 3 [38400/60000 (64%)]\tLoss: 1.134140\n",
      "Train Epoch: 3 [44800/60000 (75%)]\tLoss: 1.250036\n",
      "Train Epoch: 3 [51200/60000 (85%)]\tLoss: 1.163188\n",
      "Train Epoch: 3 [57600/60000 (96%)]\tLoss: 0.973863\n",
      "Train Epoch: 4 [0/60000 (0%)]\tLoss: 1.190843\n",
      "Train Epoch: 4 [6400/60000 (11%)]\tLoss: 0.939182\n",
      "Train Epoch: 4 [12800/60000 (21%)]\tLoss: 1.031045\n",
      "Train Epoch: 4 [19200/60000 (32%)]\tLoss: 0.967627\n",
      "Train Epoch: 4 [25600/60000 (43%)]\tLoss: 1.107133\n",
      "Train Epoch: 4 [32000/60000 (53%)]\tLoss: 1.025551\n",
      "Train Epoch: 4 [38400/60000 (64%)]\tLoss: 0.968332\n",
      "Train Epoch: 4 [44800/60000 (75%)]\tLoss: 1.111231\n",
      "Train Epoch: 4 [51200/60000 (85%)]\tLoss: 1.042991\n",
      "Train Epoch: 4 [57600/60000 (96%)]\tLoss: 0.873941\n",
      "Train Epoch: 5 [0/60000 (0%)]\tLoss: 1.071918\n",
      "Train Epoch: 5 [6400/60000 (11%)]\tLoss: 0.823305\n",
      "Train Epoch: 5 [12800/60000 (21%)]\tLoss: 0.922424\n",
      "Train Epoch: 5 [19200/60000 (32%)]\tLoss: 0.889896\n",
      "Train Epoch: 5 [25600/60000 (43%)]\tLoss: 1.025774\n",
      "Train Epoch: 5 [32000/60000 (53%)]\tLoss: 0.950939\n",
      "Train Epoch: 5 [38400/60000 (64%)]\tLoss: 0.881668\n",
      "Train Epoch: 5 [44800/60000 (75%)]\tLoss: 1.035075\n",
      "Train Epoch: 5 [51200/60000 (85%)]\tLoss: 0.972786\n",
      "Train Epoch: 5 [57600/60000 (96%)]\tLoss: 0.818708\n",
      "Train Epoch: 6 [0/60000 (0%)]\tLoss: 0.998341\n",
      "Train Epoch: 6 [6400/60000 (11%)]\tLoss: 0.755497\n",
      "Train Epoch: 6 [12800/60000 (21%)]\tLoss: 0.850055\n",
      "Train Epoch: 6 [19200/60000 (32%)]\tLoss: 0.842684\n",
      "Train Epoch: 6 [25600/60000 (43%)]\tLoss: 0.966493\n",
      "Train Epoch: 6 [32000/60000 (53%)]\tLoss: 0.903832\n",
      "Train Epoch: 6 [38400/60000 (64%)]\tLoss: 0.810217\n",
      "Train Epoch: 6 [44800/60000 (75%)]\tLoss: 0.931184\n",
      "Train Epoch: 6 [51200/60000 (85%)]\tLoss: 0.773469\n",
      "Train Epoch: 6 [57600/60000 (96%)]\tLoss: 0.737393\n",
      "Train Epoch: 7 [0/60000 (0%)]\tLoss: 0.802130\n",
      "Train Epoch: 7 [6400/60000 (11%)]\tLoss: 0.601604\n",
      "Train Epoch: 7 [12800/60000 (21%)]\tLoss: 0.682836\n",
      "Train Epoch: 7 [19200/60000 (32%)]\tLoss: 0.750133\n",
      "Train Epoch: 7 [25600/60000 (43%)]\tLoss: 0.803483\n",
      "Train Epoch: 7 [32000/60000 (53%)]\tLoss: 0.726649\n",
      "Train Epoch: 7 [38400/60000 (64%)]\tLoss: 0.579999\n",
      "Train Epoch: 7 [44800/60000 (75%)]\tLoss: 0.790301\n",
      "Train Epoch: 7 [51200/60000 (85%)]\tLoss: 0.699509\n",
      "Train Epoch: 7 [57600/60000 (96%)]\tLoss: 0.676058\n",
      "Train Epoch: 8 [0/60000 (0%)]\tLoss: 0.722894\n",
      "Train Epoch: 8 [6400/60000 (11%)]\tLoss: 0.542617\n",
      "Train Epoch: 8 [12800/60000 (21%)]\tLoss: 0.610860\n",
      "Train Epoch: 8 [19200/60000 (32%)]\tLoss: 0.693950\n",
      "Train Epoch: 8 [25600/60000 (43%)]\tLoss: 0.748492\n",
      "Train Epoch: 8 [32000/60000 (53%)]\tLoss: 0.664192\n",
      "Train Epoch: 8 [38400/60000 (64%)]\tLoss: 0.528876\n",
      "Train Epoch: 8 [44800/60000 (75%)]\tLoss: 0.737779\n",
      "Train Epoch: 8 [51200/60000 (85%)]\tLoss: 0.667501\n",
      "Train Epoch: 8 [57600/60000 (96%)]\tLoss: 0.648227\n",
      "Train Epoch: 9 [0/60000 (0%)]\tLoss: 0.681951\n",
      "Train Epoch: 9 [6400/60000 (11%)]\tLoss: 0.509289\n",
      "Train Epoch: 9 [12800/60000 (21%)]\tLoss: 0.567396\n",
      "Train Epoch: 9 [19200/60000 (32%)]\tLoss: 0.658840\n",
      "Train Epoch: 9 [25600/60000 (43%)]\tLoss: 0.712061\n",
      "Train Epoch: 9 [32000/60000 (53%)]\tLoss: 0.625020\n",
      "Train Epoch: 9 [38400/60000 (64%)]\tLoss: 0.498343\n",
      "Train Epoch: 9 [44800/60000 (75%)]\tLoss: 0.706610\n",
      "Train Epoch: 9 [51200/60000 (85%)]\tLoss: 0.644785\n",
      "Train Epoch: 9 [57600/60000 (96%)]\tLoss: 0.631970\n",
      "Train Epoch: 10 [0/60000 (0%)]\tLoss: 0.653051\n",
      "Train Epoch: 10 [6400/60000 (11%)]\tLoss: 0.485986\n",
      "Train Epoch: 10 [12800/60000 (21%)]\tLoss: 0.536539\n",
      "Train Epoch: 10 [19200/60000 (32%)]\tLoss: 0.634958\n",
      "Train Epoch: 10 [25600/60000 (43%)]\tLoss: 0.686850\n",
      "Train Epoch: 10 [32000/60000 (53%)]\tLoss: 0.598203\n",
      "Train Epoch: 10 [38400/60000 (64%)]\tLoss: 0.476895\n",
      "Train Epoch: 10 [44800/60000 (75%)]\tLoss: 0.686325\n",
      "Train Epoch: 10 [51200/60000 (85%)]\tLoss: 0.628639\n",
      "Train Epoch: 10 [57600/60000 (96%)]\tLoss: 0.620292\n"
     ]
    }
   ],
   "source": [
    "np.random.seed(6)\n",
    "# Number of training epochs\n",
    "epochs = 10\n",
    "# Learning rate\n",
    "lr = 0.001\n",
    "\n",
    "# define the thou-network\n",
    "thou_model = mnist_network(num_hidden_layers=1,layer_size=20,activation='relu')\n",
    "\n",
    "# create optimizer for the thou-network\n",
    "thou_optimizer = optim.SGD(thou_model.parameters(),lr=lr)\n",
    "\n",
    "# initialize an emp\n",
    "thou_model_accuracies = []\n",
    "\n",
    "\n",
    "for epoch in range(1,epochs+1):\n",
    "    # Training the thou-network\n",
    "    train(thou_model, train_criterion, train_loader, thou_optimizer, epoch)\n",
    "        \n",
    "    # use test function to get the performance \n",
    "    thou_model.eval()\n",
    "    train_loss = 0\n",
    "    num_correct = 0\n",
    "    with torch.no_grad():\n",
    "        for data, target in train_loader:\n",
    "            output = thou_model(data)\n",
    "            train_loss += test_criterion(output, target).item()  # sum up batch loss\n",
    "            pred = output.argmax(dim=1, keepdim=True)  # get the index of the max log-probability\n",
    "            num_correct += pred.eq(target.view_as(pred)).sum().item()\n",
    "\n",
    "    thou_model_accuracies.append(num_correct / len(train_loader.dataset))"
   ]
  },
  {
   "cell_type": "markdown",
   "metadata": {
    "id": "3HbaGOWRfG7_"
   },
   "source": [
    "Test the trained network on the test data. Print out the accuracy."
   ]
  },
  {
   "cell_type": "code",
   "execution_count": 44,
   "metadata": {
    "id": "hp6jgPocfG8A"
   },
   "outputs": [
    {
     "name": "stdout",
     "output_type": "stream",
     "text": [
      "\n",
      "Test set: Average loss: 0.5856, Accuracy: 8210/10000 (82%)\n",
      "\n"
     ]
    }
   ],
   "source": [
    "np.random.seed(72)\n",
    "test(thou_model, test_criterion, test_loader)"
   ]
  },
  {
   "cell_type": "markdown",
   "metadata": {
    "id": "gCAv1ujIfG8A"
   },
   "source": [
    "Plot the training accuracies over the epochs of the scenarios on the same figure (there should 3 line plots/scatter plots). "
   ]
  },
  {
   "cell_type": "code",
   "execution_count": 45,
   "metadata": {
    "id": "iTazEXPkfG8B"
   },
   "outputs": [
    {
     "data": {
      "image/png": "[encoded data removed]",
      "text/plain": [
       "<Figure size 432x288 with 1 Axes>"
      ]
     },
     "metadata": {
      "needs_background": "light"
     },
     "output_type": "display_data"
    }
   ],
   "source": [
    "# plot lines\n",
    "plt.plot(range(1,epochs + 1), tenth_model_accuracies, label = \"0.1-network\")\n",
    "plt.plot(range(1,epochs + 1), hund_model_accuracies, label = \"0.01-network\")\n",
    "plt.plot(range(1,epochs + 1), thou_model_accuracies, label = \"0.001-network\")\n",
    "plt.legend()\n",
    "plt.show()"
   ]
  },
  {
   "cell_type": "markdown",
   "metadata": {
    "id": "XLal-1hxfG8B"
   },
   "source": [
    "What is your conclustion on the effect of varying the learning rate on the performance of a neural network?"
   ]
  },
  {
   "cell_type": "markdown",
   "metadata": {},
   "source": [
    "# comment\n",
    "_Based on the plot above, the middle higher learning rate produces higher/better performing models. The best, 0.01-network, ends with an accuracy score of about 97%. Following that is the 0.1-network with about a 88% and finally the 0.001-network with about an 82%. This also follows my theory on the bias variance tradeoff since the best performing network (0.01) is the middle / tradeoff between the two. I find it interesting that although the higher learning rates have overall higher performance values, the 0.001-network increases the fastest over all the epochs._"
   ]
  },
  {
   "cell_type": "markdown",
   "metadata": {
    "id": "p9FJtJgufv-n"
   },
   "source": [
    "## REMARK for Problem 2\n",
    "\n",
    "You have observed the effects of varying different hyperparameters on the performance of a neural network **on the MNIST dataset**. However, keep in mind that these trends only apply for **the MNIST dataset** and should not be carried to another problem. There is no single hyperparameter settings that works for all problems. As you do more problems, you will build up your intuitions about the hyperparameters so that you can quickly deploy a good model. For example, people observed that setting the learning rate = 0.001 often works the best, though it is not always the case."
   ]
  },
  {
   "cell_type": "markdown",
   "metadata": {
    "id": "cHSaycfVdHRJ"
   },
   "source": [
    "## Problem 3\n",
    "\n",
    "Experimenting with **k-anomity, i-diversity, and t-closeness**. \n",
    "\n",
    "Consider a dataset, for example, with 3 ordinary attributes and 1 sensitive attribute. Let the 3 ordinary attributes be Age, Sex, and Education and the sensitive attribute be Income, each row in this dataset is of the form:\n",
    "\n",
    "$$\n",
    "    [Age, Sex, Education, Income]\n",
    "$$\n",
    "\n",
    "A hacker is interested in knowing the sensitive attribute Income. When the dataset is designed so that if complies with either **k-anomity**, **i-diversity**, and/or **t-closeness**, even if he or she somehow figures out the values of the three, the hacker may not retrive the sensitive information accurately. In general, **k-anomity** is weaker than **i-diversity**, which, in turn, is weaker than **t-closeness**.\n",
    "\n",
    "By definition, **k-anomity** means that there is at least **k** different rows in the table of which ordinary values are a particular combination of Age, Sex, and Education. For example, the hacker knows the information of the person of interest is Age = 31, Sex = Female, and Education = BS. He or she looks into the data table and found that there are 3 rows with that combination:\n",
    "\n",
    "$$\n",
    "    [Age=31, Sex=Female, Education=BS, Income=300k]\n",
    "$$\n",
    "$$\n",
    "    [Age=31, Sex=Female, Education=BS, Income=70k]\n",
    "$$\n",
    "$$\n",
    "    [Age=31, Sex=Female, Education=BS, Income=20k]\n",
    "$$\n",
    "\n",
    "The hacker cannot tell accurately what the income of the person is because it can be one of the 3 values shown. This particular combination of information has 3-anomity. If every combination corresponds to at least 3 rows, then the dataset has 3-anomity.\n",
    "\n",
    "a) Let's look at the dataset **\"table.csv\"**. Let the sensitive attribute be **education** and others be ordinary attributes. Calculate the anomity of the dataset (the value **k**). First, find all the posible combinations of the ordinary attributes that exists in the dataset. After that, determine the anomity for each combination. The anomity of the dataset is the smallest anomity among the combinations."
   ]
  },
  {
   "cell_type": "code",
   "execution_count": 46,
   "metadata": {
    "id": "Qrm7S5y5dHRJ",
    "scrolled": true
   },
   "outputs": [
    {
     "data": {
      "text/html": [
       "<div>\n",
       "<style scoped>\n",
       "    .dataframe tbody tr th:only-of-type {\n",
       "        vertical-align: middle;\n",
       "    }\n",
       "\n",
       "    .dataframe tbody tr th {\n",
       "        vertical-align: top;\n",
       "    }\n",
       "\n",
       "    .dataframe thead th {\n",
       "        text-align: right;\n",
       "    }\n",
       "</style>\n",
       "<table border=\"1\" class=\"dataframe\">\n",
       "  <thead>\n",
       "    <tr style=\"text-align: right;\">\n",
       "      <th></th>\n",
       "      <th>Unnamed: 0</th>\n",
       "      <th>age</th>\n",
       "      <th>education</th>\n",
       "      <th>race</th>\n",
       "      <th>sex</th>\n",
       "    </tr>\n",
       "  </thead>\n",
       "  <tbody>\n",
       "    <tr>\n",
       "      <th>0</th>\n",
       "      <td>0</td>\n",
       "      <td>39</td>\n",
       "      <td>Bachelors</td>\n",
       "      <td>White</td>\n",
       "      <td>Male</td>\n",
       "    </tr>\n",
       "    <tr>\n",
       "      <th>1</th>\n",
       "      <td>1</td>\n",
       "      <td>50</td>\n",
       "      <td>Bachelors</td>\n",
       "      <td>White</td>\n",
       "      <td>Male</td>\n",
       "    </tr>\n",
       "    <tr>\n",
       "      <th>2</th>\n",
       "      <td>2</td>\n",
       "      <td>38</td>\n",
       "      <td>HS-grad</td>\n",
       "      <td>White</td>\n",
       "      <td>Male</td>\n",
       "    </tr>\n",
       "    <tr>\n",
       "      <th>3</th>\n",
       "      <td>3</td>\n",
       "      <td>53</td>\n",
       "      <td>11th</td>\n",
       "      <td>Black</td>\n",
       "      <td>Male</td>\n",
       "    </tr>\n",
       "    <tr>\n",
       "      <th>4</th>\n",
       "      <td>4</td>\n",
       "      <td>28</td>\n",
       "      <td>Bachelors</td>\n",
       "      <td>Black</td>\n",
       "      <td>Female</td>\n",
       "    </tr>\n",
       "    <tr>\n",
       "      <th>...</th>\n",
       "      <td>...</td>\n",
       "      <td>...</td>\n",
       "      <td>...</td>\n",
       "      <td>...</td>\n",
       "      <td>...</td>\n",
       "    </tr>\n",
       "    <tr>\n",
       "      <th>32556</th>\n",
       "      <td>32556</td>\n",
       "      <td>27</td>\n",
       "      <td>Assoc-acdm</td>\n",
       "      <td>White</td>\n",
       "      <td>Female</td>\n",
       "    </tr>\n",
       "    <tr>\n",
       "      <th>32557</th>\n",
       "      <td>32557</td>\n",
       "      <td>40</td>\n",
       "      <td>HS-grad</td>\n",
       "      <td>White</td>\n",
       "      <td>Male</td>\n",
       "    </tr>\n",
       "    <tr>\n",
       "      <th>32558</th>\n",
       "      <td>32558</td>\n",
       "      <td>58</td>\n",
       "      <td>HS-grad</td>\n",
       "      <td>White</td>\n",
       "      <td>Female</td>\n",
       "    </tr>\n",
       "    <tr>\n",
       "      <th>32559</th>\n",
       "      <td>32559</td>\n",
       "      <td>22</td>\n",
       "      <td>HS-grad</td>\n",
       "      <td>White</td>\n",
       "      <td>Male</td>\n",
       "    </tr>\n",
       "    <tr>\n",
       "      <th>32560</th>\n",
       "      <td>32560</td>\n",
       "      <td>52</td>\n",
       "      <td>HS-grad</td>\n",
       "      <td>White</td>\n",
       "      <td>Female</td>\n",
       "    </tr>\n",
       "  </tbody>\n",
       "</table>\n",
       "<p>32561 rows × 5 columns</p>\n",
       "</div>"
      ],
      "text/plain": [
       "       Unnamed: 0  age   education   race     sex\n",
       "0               0   39   Bachelors  White    Male\n",
       "1               1   50   Bachelors  White    Male\n",
       "2               2   38     HS-grad  White    Male\n",
       "3               3   53        11th  Black    Male\n",
       "4               4   28   Bachelors  Black  Female\n",
       "...           ...  ...         ...    ...     ...\n",
       "32556       32556   27  Assoc-acdm  White  Female\n",
       "32557       32557   40     HS-grad  White    Male\n",
       "32558       32558   58     HS-grad  White  Female\n",
       "32559       32559   22     HS-grad  White    Male\n",
       "32560       32560   52     HS-grad  White  Female\n",
       "\n",
       "[32561 rows x 5 columns]"
      ]
     },
     "execution_count": 46,
     "metadata": {},
     "output_type": "execute_result"
    }
   ],
   "source": [
    "table = pd.read_csv('table.csv')\n",
    "table"
   ]
  },
  {
   "cell_type": "code",
   "execution_count": 47,
   "metadata": {
    "scrolled": true
   },
   "outputs": [
    {
     "data": {
      "text/html": [
       "<div>\n",
       "<style scoped>\n",
       "    .dataframe tbody tr th:only-of-type {\n",
       "        vertical-align: middle;\n",
       "    }\n",
       "\n",
       "    .dataframe tbody tr th {\n",
       "        vertical-align: top;\n",
       "    }\n",
       "\n",
       "    .dataframe thead th {\n",
       "        text-align: right;\n",
       "    }\n",
       "</style>\n",
       "<table border=\"1\" class=\"dataframe\">\n",
       "  <thead>\n",
       "    <tr style=\"text-align: right;\">\n",
       "      <th></th>\n",
       "      <th></th>\n",
       "      <th></th>\n",
       "      <th>Unnamed: 0</th>\n",
       "      <th>education</th>\n",
       "    </tr>\n",
       "    <tr>\n",
       "      <th>age</th>\n",
       "      <th>race</th>\n",
       "      <th>sex</th>\n",
       "      <th></th>\n",
       "      <th></th>\n",
       "    </tr>\n",
       "  </thead>\n",
       "  <tbody>\n",
       "    <tr>\n",
       "      <th>49</th>\n",
       "      <th>Amer-Indian-Eskimo</th>\n",
       "      <th>Female</th>\n",
       "      <td>1</td>\n",
       "      <td>1</td>\n",
       "    </tr>\n",
       "    <tr>\n",
       "      <th>48</th>\n",
       "      <th>Amer-Indian-Eskimo</th>\n",
       "      <th>Female</th>\n",
       "      <td>1</td>\n",
       "      <td>1</td>\n",
       "    </tr>\n",
       "    <tr>\n",
       "      <th>74</th>\n",
       "      <th>Amer-Indian-Eskimo</th>\n",
       "      <th>Male</th>\n",
       "      <td>1</td>\n",
       "      <td>1</td>\n",
       "    </tr>\n",
       "    <tr>\n",
       "      <th>48</th>\n",
       "      <th>Amer-Indian-Eskimo</th>\n",
       "      <th>Male</th>\n",
       "      <td>1</td>\n",
       "      <td>1</td>\n",
       "    </tr>\n",
       "    <tr>\n",
       "      <th>74</th>\n",
       "      <th>Other</th>\n",
       "      <th>Female</th>\n",
       "      <td>1</td>\n",
       "      <td>1</td>\n",
       "    </tr>\n",
       "  </tbody>\n",
       "</table>\n",
       "</div>"
      ],
      "text/plain": [
       "                               Unnamed: 0  education\n",
       "age race               sex                          \n",
       "49  Amer-Indian-Eskimo Female           1          1\n",
       "48  Amer-Indian-Eskimo Female           1          1\n",
       "74  Amer-Indian-Eskimo Male             1          1\n",
       "48  Amer-Indian-Eskimo Male             1          1\n",
       "74  Other              Female           1          1"
      ]
     },
     "execution_count": 47,
     "metadata": {},
     "output_type": "execute_result"
    }
   ],
   "source": [
    "table.groupby(['age','race','sex']).count().sort_values('Unnamed: 0').head(5)"
   ]
  },
  {
   "cell_type": "markdown",
   "metadata": {},
   "source": [
    "# COMMENT\n",
    "_To calculate the k-anonymity, I took the dataset, grouped together the ordinary attributes and counted all the unique combinations of those unique combinations. Based on the code above where I find the counts of each unique combination, the lowest number of observations with a specific combination is 1. Thus since we can easily figure out the identity of those individuals with a combination that only refers to them within this dataset, our k-anonymity is 1._"
   ]
  },
  {
   "cell_type": "markdown",
   "metadata": {
    "id": "ixGLowBjdHRK"
   },
   "source": [
    "We can improve the **k-anomity** of the dataset by \"suppressing\" the ordinary attributes. Suppressing means reducing the resolution of the attribute's value. For this problem, let's suppress Age by replacing the exact age with an age range. For example, instead of leaving age = 32, replace it with age = 30-40. Apply this to **\"table.csv\"** with the ranges {<20, 20-30, 30-50, >50}. Check if the anomity improves. "
   ]
  },
  {
   "cell_type": "code",
   "execution_count": 48,
   "metadata": {
    "id": "AGqI5mltdHRK",
    "scrolled": true
   },
   "outputs": [
    {
     "data": {
      "text/html": [
       "<div>\n",
       "<style scoped>\n",
       "    .dataframe tbody tr th:only-of-type {\n",
       "        vertical-align: middle;\n",
       "    }\n",
       "\n",
       "    .dataframe tbody tr th {\n",
       "        vertical-align: top;\n",
       "    }\n",
       "\n",
       "    .dataframe thead th {\n",
       "        text-align: right;\n",
       "    }\n",
       "</style>\n",
       "<table border=\"1\" class=\"dataframe\">\n",
       "  <thead>\n",
       "    <tr style=\"text-align: right;\">\n",
       "      <th></th>\n",
       "      <th>Unnamed: 0</th>\n",
       "      <th>age</th>\n",
       "      <th>education</th>\n",
       "      <th>race</th>\n",
       "      <th>sex</th>\n",
       "    </tr>\n",
       "  </thead>\n",
       "  <tbody>\n",
       "    <tr>\n",
       "      <th>0</th>\n",
       "      <td>0</td>\n",
       "      <td>30-50</td>\n",
       "      <td>Bachelors</td>\n",
       "      <td>White</td>\n",
       "      <td>Male</td>\n",
       "    </tr>\n",
       "    <tr>\n",
       "      <th>1</th>\n",
       "      <td>1</td>\n",
       "      <td>30-50</td>\n",
       "      <td>Bachelors</td>\n",
       "      <td>White</td>\n",
       "      <td>Male</td>\n",
       "    </tr>\n",
       "    <tr>\n",
       "      <th>2</th>\n",
       "      <td>2</td>\n",
       "      <td>30-50</td>\n",
       "      <td>HS-grad</td>\n",
       "      <td>White</td>\n",
       "      <td>Male</td>\n",
       "    </tr>\n",
       "    <tr>\n",
       "      <th>3</th>\n",
       "      <td>3</td>\n",
       "      <td>&gt;50</td>\n",
       "      <td>11th</td>\n",
       "      <td>Black</td>\n",
       "      <td>Male</td>\n",
       "    </tr>\n",
       "    <tr>\n",
       "      <th>4</th>\n",
       "      <td>4</td>\n",
       "      <td>20-30</td>\n",
       "      <td>Bachelors</td>\n",
       "      <td>Black</td>\n",
       "      <td>Female</td>\n",
       "    </tr>\n",
       "    <tr>\n",
       "      <th>5</th>\n",
       "      <td>5</td>\n",
       "      <td>30-50</td>\n",
       "      <td>Masters</td>\n",
       "      <td>White</td>\n",
       "      <td>Female</td>\n",
       "    </tr>\n",
       "    <tr>\n",
       "      <th>6</th>\n",
       "      <td>6</td>\n",
       "      <td>30-50</td>\n",
       "      <td>9th</td>\n",
       "      <td>Black</td>\n",
       "      <td>Female</td>\n",
       "    </tr>\n",
       "    <tr>\n",
       "      <th>7</th>\n",
       "      <td>7</td>\n",
       "      <td>&gt;50</td>\n",
       "      <td>HS-grad</td>\n",
       "      <td>White</td>\n",
       "      <td>Male</td>\n",
       "    </tr>\n",
       "    <tr>\n",
       "      <th>8</th>\n",
       "      <td>8</td>\n",
       "      <td>30-50</td>\n",
       "      <td>Masters</td>\n",
       "      <td>White</td>\n",
       "      <td>Female</td>\n",
       "    </tr>\n",
       "    <tr>\n",
       "      <th>9</th>\n",
       "      <td>9</td>\n",
       "      <td>30-50</td>\n",
       "      <td>Bachelors</td>\n",
       "      <td>White</td>\n",
       "      <td>Male</td>\n",
       "    </tr>\n",
       "  </tbody>\n",
       "</table>\n",
       "</div>"
      ],
      "text/plain": [
       "   Unnamed: 0    age  education   race     sex\n",
       "0           0  30-50  Bachelors  White    Male\n",
       "1           1  30-50  Bachelors  White    Male\n",
       "2           2  30-50    HS-grad  White    Male\n",
       "3           3    >50       11th  Black    Male\n",
       "4           4  20-30  Bachelors  Black  Female\n",
       "5           5  30-50    Masters  White  Female\n",
       "6           6  30-50        9th  Black  Female\n",
       "7           7    >50    HS-grad  White    Male\n",
       "8           8  30-50    Masters  White  Female\n",
       "9           9  30-50  Bachelors  White    Male"
      ]
     },
     "execution_count": 48,
     "metadata": {},
     "output_type": "execute_result"
    }
   ],
   "source": [
    "# define a simple function that can be applied to the table\n",
    "def age_range(age):\n",
    "    if age < 20:\n",
    "        return '<20'\n",
    "    elif age <= 30:\n",
    "        return '20-30'\n",
    "    elif age <= 50:\n",
    "        return '30-50'\n",
    "    else:\n",
    "        return '>50'\n",
    "\n",
    "table['age'] = table['age'].apply(age_range)  \n",
    "table.head(10)"
   ]
  },
  {
   "cell_type": "code",
   "execution_count": 49,
   "metadata": {},
   "outputs": [
    {
     "data": {
      "text/html": [
       "<div>\n",
       "<style scoped>\n",
       "    .dataframe tbody tr th:only-of-type {\n",
       "        vertical-align: middle;\n",
       "    }\n",
       "\n",
       "    .dataframe tbody tr th {\n",
       "        vertical-align: top;\n",
       "    }\n",
       "\n",
       "    .dataframe thead th {\n",
       "        text-align: right;\n",
       "    }\n",
       "</style>\n",
       "<table border=\"1\" class=\"dataframe\">\n",
       "  <thead>\n",
       "    <tr style=\"text-align: right;\">\n",
       "      <th></th>\n",
       "      <th></th>\n",
       "      <th></th>\n",
       "      <th>Unnamed: 0</th>\n",
       "      <th>education</th>\n",
       "    </tr>\n",
       "    <tr>\n",
       "      <th>age</th>\n",
       "      <th>race</th>\n",
       "      <th>sex</th>\n",
       "      <th></th>\n",
       "      <th></th>\n",
       "    </tr>\n",
       "  </thead>\n",
       "  <tbody>\n",
       "    <tr>\n",
       "      <th rowspan=\"2\" valign=\"top\">&lt;20</th>\n",
       "      <th>Amer-Indian-Eskimo</th>\n",
       "      <th>Male</th>\n",
       "      <td>4</td>\n",
       "      <td>4</td>\n",
       "    </tr>\n",
       "    <tr>\n",
       "      <th>Other</th>\n",
       "      <th>Male</th>\n",
       "      <td>5</td>\n",
       "      <td>5</td>\n",
       "    </tr>\n",
       "    <tr>\n",
       "      <th>&gt;50</th>\n",
       "      <th>Other</th>\n",
       "      <th>Female</th>\n",
       "      <td>7</td>\n",
       "      <td>7</td>\n",
       "    </tr>\n",
       "    <tr>\n",
       "      <th rowspan=\"2\" valign=\"top\">&lt;20</th>\n",
       "      <th>Asian-Pac-Islander</th>\n",
       "      <th>Male</th>\n",
       "      <td>8</td>\n",
       "      <td>8</td>\n",
       "    </tr>\n",
       "    <tr>\n",
       "      <th>Amer-Indian-Eskimo</th>\n",
       "      <th>Female</th>\n",
       "      <td>9</td>\n",
       "      <td>9</td>\n",
       "    </tr>\n",
       "  </tbody>\n",
       "</table>\n",
       "</div>"
      ],
      "text/plain": [
       "                               Unnamed: 0  education\n",
       "age race               sex                          \n",
       "<20 Amer-Indian-Eskimo Male             4          4\n",
       "    Other              Male             5          5\n",
       ">50 Other              Female           7          7\n",
       "<20 Asian-Pac-Islander Male             8          8\n",
       "    Amer-Indian-Eskimo Female           9          9"
      ]
     },
     "execution_count": 49,
     "metadata": {},
     "output_type": "execute_result"
    }
   ],
   "source": [
    "# running the same code from earlier to check value counts\n",
    "table.groupby(['age','race','sex']).count().sort_values('Unnamed: 0').head(5)"
   ]
  },
  {
   "cell_type": "markdown",
   "metadata": {},
   "source": [
    "# comment\n",
    "_After supressing the ordinary attributes, we were able to find that at least 4 indivduals make up every single unique combination of ordianry attributes in this dataset. Hence the k-anonymity is 4._"
   ]
  },
  {
   "cell_type": "markdown",
   "metadata": {
    "id": "Pv-RmXqCdHRK"
   },
   "source": [
    "**K-anomity** is nice, however, it fails in many cases. If the rows which share a combination of ordinary attributes have only a few values for the sensitive attribute, then it is not much better than having no anomity at all. For example, consider:\n",
    "\n",
    "$$\n",
    "    [Age=31, Sex=Female, Education=BS, Income=300k]\n",
    "$$\n",
    "$$\n",
    "    [Age=31, Sex=Female, Education=BS, Income=20k]\n",
    "$$\n",
    "$$\n",
    "    [Age=31, Sex=Female, Education=BS, Income=20k]\n",
    "$$\n",
    "$$\n",
    "    [Age=31, Sex=Female, Education=BS, Income=20k]\n",
    "$$\n",
    "\n",
    "When **k-anomity** fails in the second case, **i-diversity** comes to the rescue. **I-diversity** states that the rows of a particular combination of information must have at least i different values for the sensitive attribute. The above example has 2-diversity, which is not good. \n",
    "\n",
    "b) Calculate the **i-diversity** of the dataset **\"table.csv\"**. Follow similar steps as in part a. "
   ]
  },
  {
   "cell_type": "code",
   "execution_count": 50,
   "metadata": {
    "id": "eZYCvcukdHRK"
   },
   "outputs": [
    {
     "data": {
      "text/plain": [
       "age  race                sex   \n",
       "41   Amer-Indian-Eskimo  Female     1\n",
       "67   Asian-Pac-Islander  Male       1\n",
       "     Amer-Indian-Eskimo  Male       1\n",
       "39   Amer-Indian-Eskimo  Male       1\n",
       "66   Other               Female     1\n",
       "                                   ..\n",
       "40   White               Male      16\n",
       "64   White               Male      16\n",
       "27   White               Male      16\n",
       "52   White               Male      16\n",
       "32   White               Male      16\n",
       "Name: education, Length: 546, dtype: int64"
      ]
     },
     "execution_count": 50,
     "metadata": {},
     "output_type": "execute_result"
    }
   ],
   "source": [
    "# reload the dataset\n",
    "table = pd.read_csv('table.csv')\n",
    "\n",
    "# the following code shows the number of unique values for education for every combination\n",
    "table.groupby(['age','race','sex'])['education'].nunique().sort_values()"
   ]
  },
  {
   "cell_type": "markdown",
   "metadata": {},
   "source": [
    "# comment\n",
    "_To calculate the i-diversity, I grouped together the ordinary attributes, but instead of just counting the number of observations for each combination, I counted the number of each unique Education response for each combination. Based on the output above, the lowest number of unique values for education for each posssible combination is 1 when there is no generalization. Therefore the i-diversity is 1._"
   ]
  },
  {
   "cell_type": "markdown",
   "metadata": {
    "id": "6qWt9JvTdHRK"
   },
   "source": [
    "Suppressing an attribute can also improve the **i-diversity** of the dataset. Repeat the suppression as in **part a** and check if the diversity improves. If it does not, consider further suppress age by using the range {<20, 20-50, >50}."
   ]
  },
  {
   "cell_type": "code",
   "execution_count": 51,
   "metadata": {
    "id": "FFVPKWrodHRK"
   },
   "outputs": [
    {
     "data": {
      "text/plain": [
       "age    race                sex   \n",
       "<20    Amer-Indian-Eskimo  Male       3\n",
       "                           Female     4\n",
       ">50    Other               Female     4\n",
       "<20    Asian-Pac-Islander  Male       4\n",
       "                           Female     5\n",
       "       Other               Male       5\n",
       "                           Female     5\n",
       ">50    Amer-Indian-Eskimo  Female     6\n",
       "<20    Black               Male       6\n",
       "20-30  Amer-Indian-Eskimo  Female     7\n",
       "<20    Black               Female     8\n",
       "20-30  Amer-Indian-Eskimo  Male       9\n",
       ">50    Other               Male      10\n",
       "<20    White               Male      10\n",
       ">50    Amer-Indian-Eskimo  Male      10\n",
       "<20    White               Female    11\n",
       "30-50  Amer-Indian-Eskimo  Female    11\n",
       "       Other               Female    12\n",
       "20-30  Other               Female    12\n",
       "       Black               Female    12\n",
       "       Asian-Pac-Islander  Male      12\n",
       ">50    Asian-Pac-Islander  Female    12\n",
       "30-50  Amer-Indian-Eskimo  Male      13\n",
       "20-30  Other               Male      13\n",
       "       Black               Male      13\n",
       "       Asian-Pac-Islander  Female    14\n",
       ">50    Black               Female    15\n",
       "       Asian-Pac-Islander  Male      15\n",
       "30-50  Black               Male      15\n",
       "       Asian-Pac-Islander  Male      15\n",
       "                           Female    15\n",
       "       Other               Male      15\n",
       ">50    Black               Male      16\n",
       "30-50  White               Male      16\n",
       "                           Female    16\n",
       "       Black               Female    16\n",
       "20-30  White               Male      16\n",
       "                           Female    16\n",
       ">50    White               Female    16\n",
       "                           Male      16\n",
       "Name: education, dtype: int64"
      ]
     },
     "execution_count": 51,
     "metadata": {},
     "output_type": "execute_result"
    }
   ],
   "source": [
    "table['age'] = table['age'].apply(age_range)  \n",
    "table.groupby(['age','race','sex'])['education'].nunique().sort_values()"
   ]
  },
  {
   "cell_type": "markdown",
   "metadata": {},
   "source": [
    "# comment\n",
    "_After suppressing the dataset, so the age is a range, we see that there are at least 3 different education responses for every unique combination of ordinary attributes. Thus the updated i-diversity is 3._\n",
    "\n",
    "**Gonna try now by fixing the bounds a little more**"
   ]
  },
  {
   "cell_type": "code",
   "execution_count": 52,
   "metadata": {},
   "outputs": [
    {
     "data": {
      "text/plain": [
       "age    race                sex   \n",
       "<20    Amer-Indian-Eskimo  Male       3\n",
       ">50    Other               Female     4\n",
       "<20    Amer-Indian-Eskimo  Female     4\n",
       "       Asian-Pac-Islander  Male       4\n",
       "       Other               Male       5\n",
       "                           Female     5\n",
       "       Asian-Pac-Islander  Female     5\n",
       ">50    Amer-Indian-Eskimo  Female     6\n",
       "<20    Black               Male       6\n",
       "                           Female     8\n",
       ">50    Other               Male      10\n",
       "       Amer-Indian-Eskimo  Male      10\n",
       "<20    White               Male      10\n",
       "                           Female    11\n",
       "20-50  Amer-Indian-Eskimo  Female    11\n",
       ">50    Asian-Pac-Islander  Female    12\n",
       "20-50  Other               Female    13\n",
       "       Amer-Indian-Eskimo  Male      13\n",
       "       Black               Male      15\n",
       "       Asian-Pac-Islander  Male      15\n",
       ">50    Asian-Pac-Islander  Male      15\n",
       "       Black               Female    15\n",
       "20-50  Asian-Pac-Islander  Female    15\n",
       "       White               Male      16\n",
       "                           Female    16\n",
       "       Other               Male      16\n",
       "       Black               Female    16\n",
       ">50    Black               Male      16\n",
       "       White               Female    16\n",
       "                           Male      16\n",
       "Name: education, dtype: int64"
      ]
     },
     "execution_count": 52,
     "metadata": {},
     "output_type": "execute_result"
    }
   ],
   "source": [
    "# reload the dataset\n",
    "table = pd.read_csv('table.csv')\n",
    "\n",
    "# define a simple function that can be applied to the table\n",
    "def new_age_range(age):\n",
    "    if age < 20:\n",
    "        return '<20'\n",
    "    elif age <= 50:\n",
    "        return '20-50'\n",
    "    else:\n",
    "        return '>50'\n",
    "    \n",
    "# apply the new function to the table again and figure out i-diversity\n",
    "table['age'] = table['age'].apply(new_age_range)  \n",
    "table.groupby(['age','race','sex'])['education'].nunique().sort_values()"
   ]
  },
  {
   "cell_type": "markdown",
   "metadata": {},
   "source": [
    "# comment\n",
    "_Even after suppressing the age column more, we still have at least 3 unique education responses per each unique combination so the i-diversity is still 3._"
   ]
  },
  {
   "cell_type": "markdown",
   "metadata": {
    "id": "TX1lsm8ydHRK"
   },
   "source": [
    "**T-closeness** is even better than **i-diversity**. **T-closeness** requires that for every combination of information, the distribution of the sensitive attribute's value among the corresponding rows must be close to the overall distribution of the sensitive attribute's value for the whole dataset. Distance between distribution is calculated using the Earth Mover Distance (EMD). The dataset has **t-closeness** if no distance exceeds **t**. \n",
    "\n",
    "c) Calculate the overall distribution of **education**. Find the **t-closeness** of the dataset (largest distance between any combination's distribution of marital-status and the overall distribution).\n",
    "\n",
    "You can use **scipy.stats.wasserstein_distance** to calculate the EMD."
   ]
  },
  {
   "cell_type": "code",
   "execution_count": 53,
   "metadata": {
    "id": "BjR4iG2bdHRK"
   },
   "outputs": [
    {
     "data": {
      "text/plain": [
       "5.0"
      ]
     },
     "execution_count": 53,
     "metadata": {},
     "output_type": "execute_result"
    }
   ],
   "source": [
    "from scipy.stats import wasserstein_distance\n",
    "wasserstein_distance([0, 1, 3], [5, 6, 8])"
   ]
  },
  {
   "cell_type": "markdown",
   "metadata": {},
   "source": [
    "**Steps**\n",
    "- length of the two lists doesnt need to be equal\n",
    "- loop through all the different categories and get the values\n",
    "- use that in the wasserstein distance"
   ]
  },
  {
   "cell_type": "code",
   "execution_count": 54,
   "metadata": {},
   "outputs": [
    {
     "data": {
      "text/html": [
       "<div>\n",
       "<style scoped>\n",
       "    .dataframe tbody tr th:only-of-type {\n",
       "        vertical-align: middle;\n",
       "    }\n",
       "\n",
       "    .dataframe tbody tr th {\n",
       "        vertical-align: top;\n",
       "    }\n",
       "\n",
       "    .dataframe thead th {\n",
       "        text-align: right;\n",
       "    }\n",
       "</style>\n",
       "<table border=\"1\" class=\"dataframe\">\n",
       "  <thead>\n",
       "    <tr style=\"text-align: right;\">\n",
       "      <th></th>\n",
       "      <th>Unnamed: 0</th>\n",
       "      <th>age</th>\n",
       "      <th>education</th>\n",
       "      <th>race</th>\n",
       "      <th>sex</th>\n",
       "    </tr>\n",
       "  </thead>\n",
       "  <tbody>\n",
       "    <tr>\n",
       "      <th>0</th>\n",
       "      <td>0</td>\n",
       "      <td>39</td>\n",
       "      <td>0</td>\n",
       "      <td>White</td>\n",
       "      <td>Male</td>\n",
       "    </tr>\n",
       "    <tr>\n",
       "      <th>1</th>\n",
       "      <td>1</td>\n",
       "      <td>50</td>\n",
       "      <td>0</td>\n",
       "      <td>White</td>\n",
       "      <td>Male</td>\n",
       "    </tr>\n",
       "    <tr>\n",
       "      <th>2</th>\n",
       "      <td>2</td>\n",
       "      <td>38</td>\n",
       "      <td>1</td>\n",
       "      <td>White</td>\n",
       "      <td>Male</td>\n",
       "    </tr>\n",
       "    <tr>\n",
       "      <th>3</th>\n",
       "      <td>3</td>\n",
       "      <td>53</td>\n",
       "      <td>2</td>\n",
       "      <td>Black</td>\n",
       "      <td>Male</td>\n",
       "    </tr>\n",
       "    <tr>\n",
       "      <th>4</th>\n",
       "      <td>4</td>\n",
       "      <td>28</td>\n",
       "      <td>0</td>\n",
       "      <td>Black</td>\n",
       "      <td>Female</td>\n",
       "    </tr>\n",
       "    <tr>\n",
       "      <th>...</th>\n",
       "      <td>...</td>\n",
       "      <td>...</td>\n",
       "      <td>...</td>\n",
       "      <td>...</td>\n",
       "      <td>...</td>\n",
       "    </tr>\n",
       "    <tr>\n",
       "      <th>32556</th>\n",
       "      <td>32556</td>\n",
       "      <td>27</td>\n",
       "      <td>6</td>\n",
       "      <td>White</td>\n",
       "      <td>Female</td>\n",
       "    </tr>\n",
       "    <tr>\n",
       "      <th>32557</th>\n",
       "      <td>32557</td>\n",
       "      <td>40</td>\n",
       "      <td>1</td>\n",
       "      <td>White</td>\n",
       "      <td>Male</td>\n",
       "    </tr>\n",
       "    <tr>\n",
       "      <th>32558</th>\n",
       "      <td>32558</td>\n",
       "      <td>58</td>\n",
       "      <td>1</td>\n",
       "      <td>White</td>\n",
       "      <td>Female</td>\n",
       "    </tr>\n",
       "    <tr>\n",
       "      <th>32559</th>\n",
       "      <td>32559</td>\n",
       "      <td>22</td>\n",
       "      <td>1</td>\n",
       "      <td>White</td>\n",
       "      <td>Male</td>\n",
       "    </tr>\n",
       "    <tr>\n",
       "      <th>32560</th>\n",
       "      <td>32560</td>\n",
       "      <td>52</td>\n",
       "      <td>1</td>\n",
       "      <td>White</td>\n",
       "      <td>Female</td>\n",
       "    </tr>\n",
       "  </tbody>\n",
       "</table>\n",
       "<p>32561 rows × 5 columns</p>\n",
       "</div>"
      ],
      "text/plain": [
       "       Unnamed: 0  age  education   race     sex\n",
       "0               0   39          0  White    Male\n",
       "1               1   50          0  White    Male\n",
       "2               2   38          1  White    Male\n",
       "3               3   53          2  Black    Male\n",
       "4               4   28          0  Black  Female\n",
       "...           ...  ...        ...    ...     ...\n",
       "32556       32556   27          6  White  Female\n",
       "32557       32557   40          1  White    Male\n",
       "32558       32558   58          1  White  Female\n",
       "32559       32559   22          1  White    Male\n",
       "32560       32560   52          1  White  Female\n",
       "\n",
       "[32561 rows x 5 columns]"
      ]
     },
     "execution_count": 54,
     "metadata": {},
     "output_type": "execute_result"
    }
   ],
   "source": [
    "# reload the dataset\n",
    "table = pd.read_csv('table.csv')\n",
    "\n",
    "# facotrize such that\n",
    "#table.iloc[:,1] = pd.factorize(table.iloc[:,1])[0]\n",
    "#table.iloc[:,3] = pd.factorize(table.iloc[:,3])[0]\n",
    "table.iloc[:,2] = pd.factorize(table.iloc[:,2])[0]\n",
    "#table.iloc[:,4] = pd.factorize(table.iloc[:,4])[0]\n",
    "table"
   ]
  },
  {
   "cell_type": "code",
   "execution_count": 55,
   "metadata": {},
   "outputs": [],
   "source": [
    "unique_ages = np.sort(table.iloc[:,1].unique())\n",
    "unique_races = np.sort(table.iloc[:,3].unique())\n",
    "unique_sex = np.sort(table.iloc[:,4].unique())"
   ]
  },
  {
   "cell_type": "code",
   "execution_count": 56,
   "metadata": {},
   "outputs": [],
   "source": [
    "# create a new variable to hold the actual distribution of education_values\n",
    "edu_vals = table.iloc[:,2]\n",
    "\n",
    "# store the wass_distances in a list\n",
    "wass_dists = []\n",
    "\n",
    "# iterate through every possible combination to find the education values\n",
    "for age in unique_ages:\n",
    "    for race in unique_races:\n",
    "        for sex in unique_sex:\n",
    "            \n",
    "            # store new table in its own variable to get the education values\n",
    "            use_df = table[(table['age'] == age) & (table['race'] == race) & (table['sex'] == sex)]\n",
    "            \n",
    "            # in the case where the combination does exist, input the subset of edu values\n",
    "            if len(use_df) != 0:\n",
    "                wass_dists.append(wasserstein_distance(use_df.iloc[:,2], edu_vals))"
   ]
  },
  {
   "cell_type": "code",
   "execution_count": 57,
   "metadata": {},
   "outputs": [
    {
     "data": {
      "text/plain": [
       "11.575535149411873"
      ]
     },
     "execution_count": 57,
     "metadata": {},
     "output_type": "execute_result"
    }
   ],
   "source": [
    "# print out the largest distance which is the t in t-closeness\n",
    "max(wass_dists)"
   ]
  },
  {
   "cell_type": "markdown",
   "metadata": {},
   "source": [
    "# comment\n",
    "_To find the t-closeness, we have to compare the distribution of education values for each unique combination of ordinary attributes with the distribution of educations values for the whole dataset. The t in t- closeness represent the maximum distance in the whole dataset. Using wasserstein_distance, we can quantify that distance. After iterating through every unique combination, I get a max distance, or t of about 11.57 / 12._"
   ]
  }
 ],
 "metadata": {
  "colab": {
   "collapsed_sections": [
    "p9FJtJgufv-n"
   ],
   "name": "HW3_F21.ipynb",
   "provenance": []
  },
  "interpreter": {
   "hash": "31f2aee4e71d21fbe5cf8b01ff0e069b9275f58929596ceb00d14d90e3e16cd6"
  },
  "kernelspec": {
   "display_name": "Python 3",
   "language": "python",
   "name": "python3"
  },
  "language_info": {
   "codemirror_mode": {
    "name": "ipython",
    "version": 3
   },
   "file_extension": ".py",
   "mimetype": "text/x-python",
   "name": "python",
   "nbconvert_exporter": "python",
   "pygments_lexer": "ipython3",
   "version": "3.8.8"
  }
 },
 "nbformat": 4,
 "nbformat_minor": 4
}
