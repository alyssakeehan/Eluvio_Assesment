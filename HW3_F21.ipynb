{
  "nbformat": 4,
  "nbformat_minor": 0,
  "metadata": {
    "colab": {
      "name": "HW3_F21.ipynb",
      "provenance": [],
      "collapsed_sections": [
        "p9FJtJgufv-n"
      ],
      "include_colab_link": true
    },
    "interpreter": {
      "hash": "31f2aee4e71d21fbe5cf8b01ff0e069b9275f58929596ceb00d14d90e3e16cd6"
    },
    "kernelspec": {
      "display_name": "Python 3.8.9 64-bit",
      "name": "python3"
    },
    "language_info": {
      "codemirror_mode": {
        "name": "ipython",
        "version": 3
      },
      "file_extension": ".py",
      "mimetype": "text/x-python",
      "name": "python",
      "nbconvert_exporter": "python",
      "pygments_lexer": "ipython3",
      "version": "3.8.9"
    },
    "widgets": {
      "application/vnd.jupyter.widget-state+json": {
        "98a1e5746b08422d87717d228f31e88a": {
          "model_module": "@jupyter-widgets/controls",
          "model_name": "HBoxModel",
          "model_module_version": "1.5.0",
          "state": {
            "_view_name": "HBoxView",
            "_dom_classes": [],
            "_model_name": "HBoxModel",
            "_view_module": "@jupyter-widgets/controls",
            "_model_module_version": "1.5.0",
            "_view_count": null,
            "_view_module_version": "1.5.0",
            "box_style": "",
            "layout": "IPY_MODEL_eadbda92f87742af8354c002fe2db7d8",
            "_model_module": "@jupyter-widgets/controls",
            "children": [
              "IPY_MODEL_854ac7c7af3446fcbe133e08363255dc",
              "IPY_MODEL_9c9d193de41e4dfebb8f18c2ff63da4b",
              "IPY_MODEL_13ddd6f2288a4cbab138220ed2c124b3"
            ]
          }
        },
        "eadbda92f87742af8354c002fe2db7d8": {
          "model_module": "@jupyter-widgets/base",
          "model_name": "LayoutModel",
          "model_module_version": "1.2.0",
          "state": {
            "_view_name": "LayoutView",
            "grid_template_rows": null,
            "right": null,
            "justify_content": null,
            "_view_module": "@jupyter-widgets/base",
            "overflow": null,
            "_model_module_version": "1.2.0",
            "_view_count": null,
            "flex_flow": null,
            "width": null,
            "min_width": null,
            "border": null,
            "align_items": null,
            "bottom": null,
            "_model_module": "@jupyter-widgets/base",
            "top": null,
            "grid_column": null,
            "overflow_y": null,
            "overflow_x": null,
            "grid_auto_flow": null,
            "grid_area": null,
            "grid_template_columns": null,
            "flex": null,
            "_model_name": "LayoutModel",
            "justify_items": null,
            "grid_row": null,
            "max_height": null,
            "align_content": null,
            "visibility": null,
            "align_self": null,
            "height": null,
            "min_height": null,
            "padding": null,
            "grid_auto_rows": null,
            "grid_gap": null,
            "max_width": null,
            "order": null,
            "_view_module_version": "1.2.0",
            "grid_template_areas": null,
            "object_position": null,
            "object_fit": null,
            "grid_auto_columns": null,
            "margin": null,
            "display": null,
            "left": null
          }
        },
        "854ac7c7af3446fcbe133e08363255dc": {
          "model_module": "@jupyter-widgets/controls",
          "model_name": "HTMLModel",
          "model_module_version": "1.5.0",
          "state": {
            "_view_name": "HTMLView",
            "style": "IPY_MODEL_677d222c13da4ecda7ea8145f8d7e446",
            "_dom_classes": [],
            "description": "",
            "_model_name": "HTMLModel",
            "placeholder": "​",
            "_view_module": "@jupyter-widgets/controls",
            "_model_module_version": "1.5.0",
            "value": "",
            "_view_count": null,
            "_view_module_version": "1.5.0",
            "description_tooltip": null,
            "_model_module": "@jupyter-widgets/controls",
            "layout": "IPY_MODEL_f5ec846efb3847e3acb65297c18fb18e"
          }
        },
        "9c9d193de41e4dfebb8f18c2ff63da4b": {
          "model_module": "@jupyter-widgets/controls",
          "model_name": "FloatProgressModel",
          "model_module_version": "1.5.0",
          "state": {
            "_view_name": "ProgressView",
            "style": "IPY_MODEL_fdcfa5a6d777423d90b93f109bba27c4",
            "_dom_classes": [],
            "description": "",
            "_model_name": "FloatProgressModel",
            "bar_style": "success",
            "max": 9912422,
            "_view_module": "@jupyter-widgets/controls",
            "_model_module_version": "1.5.0",
            "value": 9912422,
            "_view_count": null,
            "_view_module_version": "1.5.0",
            "orientation": "horizontal",
            "min": 0,
            "description_tooltip": null,
            "_model_module": "@jupyter-widgets/controls",
            "layout": "IPY_MODEL_cc7535ea8cda473d8e8c75b9fa893efc"
          }
        },
        "13ddd6f2288a4cbab138220ed2c124b3": {
          "model_module": "@jupyter-widgets/controls",
          "model_name": "HTMLModel",
          "model_module_version": "1.5.0",
          "state": {
            "_view_name": "HTMLView",
            "style": "IPY_MODEL_81543bff9e214981b77720a50803fe3f",
            "_dom_classes": [],
            "description": "",
            "_model_name": "HTMLModel",
            "placeholder": "​",
            "_view_module": "@jupyter-widgets/controls",
            "_model_module_version": "1.5.0",
            "value": " 9913344/? [00:00&lt;00:00, 36408211.66it/s]",
            "_view_count": null,
            "_view_module_version": "1.5.0",
            "description_tooltip": null,
            "_model_module": "@jupyter-widgets/controls",
            "layout": "IPY_MODEL_671b711ae4724508b33cfe19fc151f50"
          }
        },
        "677d222c13da4ecda7ea8145f8d7e446": {
          "model_module": "@jupyter-widgets/controls",
          "model_name": "DescriptionStyleModel",
          "model_module_version": "1.5.0",
          "state": {
            "_view_name": "StyleView",
            "_model_name": "DescriptionStyleModel",
            "description_width": "",
            "_view_module": "@jupyter-widgets/base",
            "_model_module_version": "1.5.0",
            "_view_count": null,
            "_view_module_version": "1.2.0",
            "_model_module": "@jupyter-widgets/controls"
          }
        },
        "f5ec846efb3847e3acb65297c18fb18e": {
          "model_module": "@jupyter-widgets/base",
          "model_name": "LayoutModel",
          "model_module_version": "1.2.0",
          "state": {
            "_view_name": "LayoutView",
            "grid_template_rows": null,
            "right": null,
            "justify_content": null,
            "_view_module": "@jupyter-widgets/base",
            "overflow": null,
            "_model_module_version": "1.2.0",
            "_view_count": null,
            "flex_flow": null,
            "width": null,
            "min_width": null,
            "border": null,
            "align_items": null,
            "bottom": null,
            "_model_module": "@jupyter-widgets/base",
            "top": null,
            "grid_column": null,
            "overflow_y": null,
            "overflow_x": null,
            "grid_auto_flow": null,
            "grid_area": null,
            "grid_template_columns": null,
            "flex": null,
            "_model_name": "LayoutModel",
            "justify_items": null,
            "grid_row": null,
            "max_height": null,
            "align_content": null,
            "visibility": null,
            "align_self": null,
            "height": null,
            "min_height": null,
            "padding": null,
            "grid_auto_rows": null,
            "grid_gap": null,
            "max_width": null,
            "order": null,
            "_view_module_version": "1.2.0",
            "grid_template_areas": null,
            "object_position": null,
            "object_fit": null,
            "grid_auto_columns": null,
            "margin": null,
            "display": null,
            "left": null
          }
        },
        "fdcfa5a6d777423d90b93f109bba27c4": {
          "model_module": "@jupyter-widgets/controls",
          "model_name": "ProgressStyleModel",
          "model_module_version": "1.5.0",
          "state": {
            "_view_name": "StyleView",
            "_model_name": "ProgressStyleModel",
            "description_width": "",
            "_view_module": "@jupyter-widgets/base",
            "_model_module_version": "1.5.0",
            "_view_count": null,
            "_view_module_version": "1.2.0",
            "bar_color": null,
            "_model_module": "@jupyter-widgets/controls"
          }
        },
        "cc7535ea8cda473d8e8c75b9fa893efc": {
          "model_module": "@jupyter-widgets/base",
          "model_name": "LayoutModel",
          "model_module_version": "1.2.0",
          "state": {
            "_view_name": "LayoutView",
            "grid_template_rows": null,
            "right": null,
            "justify_content": null,
            "_view_module": "@jupyter-widgets/base",
            "overflow": null,
            "_model_module_version": "1.2.0",
            "_view_count": null,
            "flex_flow": null,
            "width": null,
            "min_width": null,
            "border": null,
            "align_items": null,
            "bottom": null,
            "_model_module": "@jupyter-widgets/base",
            "top": null,
            "grid_column": null,
            "overflow_y": null,
            "overflow_x": null,
            "grid_auto_flow": null,
            "grid_area": null,
            "grid_template_columns": null,
            "flex": null,
            "_model_name": "LayoutModel",
            "justify_items": null,
            "grid_row": null,
            "max_height": null,
            "align_content": null,
            "visibility": null,
            "align_self": null,
            "height": null,
            "min_height": null,
            "padding": null,
            "grid_auto_rows": null,
            "grid_gap": null,
            "max_width": null,
            "order": null,
            "_view_module_version": "1.2.0",
            "grid_template_areas": null,
            "object_position": null,
            "object_fit": null,
            "grid_auto_columns": null,
            "margin": null,
            "display": null,
            "left": null
          }
        },
        "81543bff9e214981b77720a50803fe3f": {
          "model_module": "@jupyter-widgets/controls",
          "model_name": "DescriptionStyleModel",
          "model_module_version": "1.5.0",
          "state": {
            "_view_name": "StyleView",
            "_model_name": "DescriptionStyleModel",
            "description_width": "",
            "_view_module": "@jupyter-widgets/base",
            "_model_module_version": "1.5.0",
            "_view_count": null,
            "_view_module_version": "1.2.0",
            "_model_module": "@jupyter-widgets/controls"
          }
        },
        "671b711ae4724508b33cfe19fc151f50": {
          "model_module": "@jupyter-widgets/base",
          "model_name": "LayoutModel",
          "model_module_version": "1.2.0",
          "state": {
            "_view_name": "LayoutView",
            "grid_template_rows": null,
            "right": null,
            "justify_content": null,
            "_view_module": "@jupyter-widgets/base",
            "overflow": null,
            "_model_module_version": "1.2.0",
            "_view_count": null,
            "flex_flow": null,
            "width": null,
            "min_width": null,
            "border": null,
            "align_items": null,
            "bottom": null,
            "_model_module": "@jupyter-widgets/base",
            "top": null,
            "grid_column": null,
            "overflow_y": null,
            "overflow_x": null,
            "grid_auto_flow": null,
            "grid_area": null,
            "grid_template_columns": null,
            "flex": null,
            "_model_name": "LayoutModel",
            "justify_items": null,
            "grid_row": null,
            "max_height": null,
            "align_content": null,
            "visibility": null,
            "align_self": null,
            "height": null,
            "min_height": null,
            "padding": null,
            "grid_auto_rows": null,
            "grid_gap": null,
            "max_width": null,
            "order": null,
            "_view_module_version": "1.2.0",
            "grid_template_areas": null,
            "object_position": null,
            "object_fit": null,
            "grid_auto_columns": null,
            "margin": null,
            "display": null,
            "left": null
          }
        },
        "afb20ac503224673bb4a8ce9af4f5257": {
          "model_module": "@jupyter-widgets/controls",
          "model_name": "HBoxModel",
          "model_module_version": "1.5.0",
          "state": {
            "_view_name": "HBoxView",
            "_dom_classes": [],
            "_model_name": "HBoxModel",
            "_view_module": "@jupyter-widgets/controls",
            "_model_module_version": "1.5.0",
            "_view_count": null,
            "_view_module_version": "1.5.0",
            "box_style": "",
            "layout": "IPY_MODEL_56caa15169244515a09933397afefa88",
            "_model_module": "@jupyter-widgets/controls",
            "children": [
              "IPY_MODEL_46f59dfc54a243069645676facc30209",
              "IPY_MODEL_4441ec3f42f94048bf902a587ce2f6e1",
              "IPY_MODEL_464a18598606452ea6f114b0e9cae82d"
            ]
          }
        },
        "56caa15169244515a09933397afefa88": {
          "model_module": "@jupyter-widgets/base",
          "model_name": "LayoutModel",
          "model_module_version": "1.2.0",
          "state": {
            "_view_name": "LayoutView",
            "grid_template_rows": null,
            "right": null,
            "justify_content": null,
            "_view_module": "@jupyter-widgets/base",
            "overflow": null,
            "_model_module_version": "1.2.0",
            "_view_count": null,
            "flex_flow": null,
            "width": null,
            "min_width": null,
            "border": null,
            "align_items": null,
            "bottom": null,
            "_model_module": "@jupyter-widgets/base",
            "top": null,
            "grid_column": null,
            "overflow_y": null,
            "overflow_x": null,
            "grid_auto_flow": null,
            "grid_area": null,
            "grid_template_columns": null,
            "flex": null,
            "_model_name": "LayoutModel",
            "justify_items": null,
            "grid_row": null,
            "max_height": null,
            "align_content": null,
            "visibility": null,
            "align_self": null,
            "height": null,
            "min_height": null,
            "padding": null,
            "grid_auto_rows": null,
            "grid_gap": null,
            "max_width": null,
            "order": null,
            "_view_module_version": "1.2.0",
            "grid_template_areas": null,
            "object_position": null,
            "object_fit": null,
            "grid_auto_columns": null,
            "margin": null,
            "display": null,
            "left": null
          }
        },
        "46f59dfc54a243069645676facc30209": {
          "model_module": "@jupyter-widgets/controls",
          "model_name": "HTMLModel",
          "model_module_version": "1.5.0",
          "state": {
            "_view_name": "HTMLView",
            "style": "IPY_MODEL_b6ea0829ba7d4ae1a16f4a8ba7ba94e2",
            "_dom_classes": [],
            "description": "",
            "_model_name": "HTMLModel",
            "placeholder": "​",
            "_view_module": "@jupyter-widgets/controls",
            "_model_module_version": "1.5.0",
            "value": "",
            "_view_count": null,
            "_view_module_version": "1.5.0",
            "description_tooltip": null,
            "_model_module": "@jupyter-widgets/controls",
            "layout": "IPY_MODEL_5a7b8227f24645c69d26ee0672018de5"
          }
        },
        "4441ec3f42f94048bf902a587ce2f6e1": {
          "model_module": "@jupyter-widgets/controls",
          "model_name": "FloatProgressModel",
          "model_module_version": "1.5.0",
          "state": {
            "_view_name": "ProgressView",
            "style": "IPY_MODEL_229bbb480c0b4314ad4090fc4f1aad97",
            "_dom_classes": [],
            "description": "",
            "_model_name": "FloatProgressModel",
            "bar_style": "success",
            "max": 28881,
            "_view_module": "@jupyter-widgets/controls",
            "_model_module_version": "1.5.0",
            "value": 28881,
            "_view_count": null,
            "_view_module_version": "1.5.0",
            "orientation": "horizontal",
            "min": 0,
            "description_tooltip": null,
            "_model_module": "@jupyter-widgets/controls",
            "layout": "IPY_MODEL_c7ba6be12c434acfac51f8a6ad1995ad"
          }
        },
        "464a18598606452ea6f114b0e9cae82d": {
          "model_module": "@jupyter-widgets/controls",
          "model_name": "HTMLModel",
          "model_module_version": "1.5.0",
          "state": {
            "_view_name": "HTMLView",
            "style": "IPY_MODEL_d4d7eb09b6b7487499eee010bf824e55",
            "_dom_classes": [],
            "description": "",
            "_model_name": "HTMLModel",
            "placeholder": "​",
            "_view_module": "@jupyter-widgets/controls",
            "_model_module_version": "1.5.0",
            "value": " 29696/? [00:00&lt;00:00, 464587.50it/s]",
            "_view_count": null,
            "_view_module_version": "1.5.0",
            "description_tooltip": null,
            "_model_module": "@jupyter-widgets/controls",
            "layout": "IPY_MODEL_83fa0e3a3ca84bc08430a16ba4fdafad"
          }
        },
        "b6ea0829ba7d4ae1a16f4a8ba7ba94e2": {
          "model_module": "@jupyter-widgets/controls",
          "model_name": "DescriptionStyleModel",
          "model_module_version": "1.5.0",
          "state": {
            "_view_name": "StyleView",
            "_model_name": "DescriptionStyleModel",
            "description_width": "",
            "_view_module": "@jupyter-widgets/base",
            "_model_module_version": "1.5.0",
            "_view_count": null,
            "_view_module_version": "1.2.0",
            "_model_module": "@jupyter-widgets/controls"
          }
        },
        "5a7b8227f24645c69d26ee0672018de5": {
          "model_module": "@jupyter-widgets/base",
          "model_name": "LayoutModel",
          "model_module_version": "1.2.0",
          "state": {
            "_view_name": "LayoutView",
            "grid_template_rows": null,
            "right": null,
            "justify_content": null,
            "_view_module": "@jupyter-widgets/base",
            "overflow": null,
            "_model_module_version": "1.2.0",
            "_view_count": null,
            "flex_flow": null,
            "width": null,
            "min_width": null,
            "border": null,
            "align_items": null,
            "bottom": null,
            "_model_module": "@jupyter-widgets/base",
            "top": null,
            "grid_column": null,
            "overflow_y": null,
            "overflow_x": null,
            "grid_auto_flow": null,
            "grid_area": null,
            "grid_template_columns": null,
            "flex": null,
            "_model_name": "LayoutModel",
            "justify_items": null,
            "grid_row": null,
            "max_height": null,
            "align_content": null,
            "visibility": null,
            "align_self": null,
            "height": null,
            "min_height": null,
            "padding": null,
            "grid_auto_rows": null,
            "grid_gap": null,
            "max_width": null,
            "order": null,
            "_view_module_version": "1.2.0",
            "grid_template_areas": null,
            "object_position": null,
            "object_fit": null,
            "grid_auto_columns": null,
            "margin": null,
            "display": null,
            "left": null
          }
        },
        "229bbb480c0b4314ad4090fc4f1aad97": {
          "model_module": "@jupyter-widgets/controls",
          "model_name": "ProgressStyleModel",
          "model_module_version": "1.5.0",
          "state": {
            "_view_name": "StyleView",
            "_model_name": "ProgressStyleModel",
            "description_width": "",
            "_view_module": "@jupyter-widgets/base",
            "_model_module_version": "1.5.0",
            "_view_count": null,
            "_view_module_version": "1.2.0",
            "bar_color": null,
            "_model_module": "@jupyter-widgets/controls"
          }
        },
        "c7ba6be12c434acfac51f8a6ad1995ad": {
          "model_module": "@jupyter-widgets/base",
          "model_name": "LayoutModel",
          "model_module_version": "1.2.0",
          "state": {
            "_view_name": "LayoutView",
            "grid_template_rows": null,
            "right": null,
            "justify_content": null,
            "_view_module": "@jupyter-widgets/base",
            "overflow": null,
            "_model_module_version": "1.2.0",
            "_view_count": null,
            "flex_flow": null,
            "width": null,
            "min_width": null,
            "border": null,
            "align_items": null,
            "bottom": null,
            "_model_module": "@jupyter-widgets/base",
            "top": null,
            "grid_column": null,
            "overflow_y": null,
            "overflow_x": null,
            "grid_auto_flow": null,
            "grid_area": null,
            "grid_template_columns": null,
            "flex": null,
            "_model_name": "LayoutModel",
            "justify_items": null,
            "grid_row": null,
            "max_height": null,
            "align_content": null,
            "visibility": null,
            "align_self": null,
            "height": null,
            "min_height": null,
            "padding": null,
            "grid_auto_rows": null,
            "grid_gap": null,
            "max_width": null,
            "order": null,
            "_view_module_version": "1.2.0",
            "grid_template_areas": null,
            "object_position": null,
            "object_fit": null,
            "grid_auto_columns": null,
            "margin": null,
            "display": null,
            "left": null
          }
        },
        "d4d7eb09b6b7487499eee010bf824e55": {
          "model_module": "@jupyter-widgets/controls",
          "model_name": "DescriptionStyleModel",
          "model_module_version": "1.5.0",
          "state": {
            "_view_name": "StyleView",
            "_model_name": "DescriptionStyleModel",
            "description_width": "",
            "_view_module": "@jupyter-widgets/base",
            "_model_module_version": "1.5.0",
            "_view_count": null,
            "_view_module_version": "1.2.0",
            "_model_module": "@jupyter-widgets/controls"
          }
        },
        "83fa0e3a3ca84bc08430a16ba4fdafad": {
          "model_module": "@jupyter-widgets/base",
          "model_name": "LayoutModel",
          "model_module_version": "1.2.0",
          "state": {
            "_view_name": "LayoutView",
            "grid_template_rows": null,
            "right": null,
            "justify_content": null,
            "_view_module": "@jupyter-widgets/base",
            "overflow": null,
            "_model_module_version": "1.2.0",
            "_view_count": null,
            "flex_flow": null,
            "width": null,
            "min_width": null,
            "border": null,
            "align_items": null,
            "bottom": null,
            "_model_module": "@jupyter-widgets/base",
            "top": null,
            "grid_column": null,
            "overflow_y": null,
            "overflow_x": null,
            "grid_auto_flow": null,
            "grid_area": null,
            "grid_template_columns": null,
            "flex": null,
            "_model_name": "LayoutModel",
            "justify_items": null,
            "grid_row": null,
            "max_height": null,
            "align_content": null,
            "visibility": null,
            "align_self": null,
            "height": null,
            "min_height": null,
            "padding": null,
            "grid_auto_rows": null,
            "grid_gap": null,
            "max_width": null,
            "order": null,
            "_view_module_version": "1.2.0",
            "grid_template_areas": null,
            "object_position": null,
            "object_fit": null,
            "grid_auto_columns": null,
            "margin": null,
            "display": null,
            "left": null
          }
        },
        "d6f5ab1e10754835911e72c5505328c9": {
          "model_module": "@jupyter-widgets/controls",
          "model_name": "HBoxModel",
          "model_module_version": "1.5.0",
          "state": {
            "_view_name": "HBoxView",
            "_dom_classes": [],
            "_model_name": "HBoxModel",
            "_view_module": "@jupyter-widgets/controls",
            "_model_module_version": "1.5.0",
            "_view_count": null,
            "_view_module_version": "1.5.0",
            "box_style": "",
            "layout": "IPY_MODEL_9844a3d53e6a409bbf6d9a603ea4da7b",
            "_model_module": "@jupyter-widgets/controls",
            "children": [
              "IPY_MODEL_dbe013584e5843509c33e788af58e26d",
              "IPY_MODEL_bb1389a5060740278bfe316d7b630c38",
              "IPY_MODEL_b3b000132aec4aef84737006a86c7f98"
            ]
          }
        },
        "9844a3d53e6a409bbf6d9a603ea4da7b": {
          "model_module": "@jupyter-widgets/base",
          "model_name": "LayoutModel",
          "model_module_version": "1.2.0",
          "state": {
            "_view_name": "LayoutView",
            "grid_template_rows": null,
            "right": null,
            "justify_content": null,
            "_view_module": "@jupyter-widgets/base",
            "overflow": null,
            "_model_module_version": "1.2.0",
            "_view_count": null,
            "flex_flow": null,
            "width": null,
            "min_width": null,
            "border": null,
            "align_items": null,
            "bottom": null,
            "_model_module": "@jupyter-widgets/base",
            "top": null,
            "grid_column": null,
            "overflow_y": null,
            "overflow_x": null,
            "grid_auto_flow": null,
            "grid_area": null,
            "grid_template_columns": null,
            "flex": null,
            "_model_name": "LayoutModel",
            "justify_items": null,
            "grid_row": null,
            "max_height": null,
            "align_content": null,
            "visibility": null,
            "align_self": null,
            "height": null,
            "min_height": null,
            "padding": null,
            "grid_auto_rows": null,
            "grid_gap": null,
            "max_width": null,
            "order": null,
            "_view_module_version": "1.2.0",
            "grid_template_areas": null,
            "object_position": null,
            "object_fit": null,
            "grid_auto_columns": null,
            "margin": null,
            "display": null,
            "left": null
          }
        },
        "dbe013584e5843509c33e788af58e26d": {
          "model_module": "@jupyter-widgets/controls",
          "model_name": "HTMLModel",
          "model_module_version": "1.5.0",
          "state": {
            "_view_name": "HTMLView",
            "style": "IPY_MODEL_7f9b85ba827a4301b2617b5509e2afdd",
            "_dom_classes": [],
            "description": "",
            "_model_name": "HTMLModel",
            "placeholder": "​",
            "_view_module": "@jupyter-widgets/controls",
            "_model_module_version": "1.5.0",
            "value": "",
            "_view_count": null,
            "_view_module_version": "1.5.0",
            "description_tooltip": null,
            "_model_module": "@jupyter-widgets/controls",
            "layout": "IPY_MODEL_d3860178095a44b4a39b9e7e6e334ef0"
          }
        },
        "bb1389a5060740278bfe316d7b630c38": {
          "model_module": "@jupyter-widgets/controls",
          "model_name": "FloatProgressModel",
          "model_module_version": "1.5.0",
          "state": {
            "_view_name": "ProgressView",
            "style": "IPY_MODEL_6728382dfa4a4442812524db8d3cbc54",
            "_dom_classes": [],
            "description": "",
            "_model_name": "FloatProgressModel",
            "bar_style": "success",
            "max": 1648877,
            "_view_module": "@jupyter-widgets/controls",
            "_model_module_version": "1.5.0",
            "value": 1648877,
            "_view_count": null,
            "_view_module_version": "1.5.0",
            "orientation": "horizontal",
            "min": 0,
            "description_tooltip": null,
            "_model_module": "@jupyter-widgets/controls",
            "layout": "IPY_MODEL_97cee52d5cae4514a6767bc9d6fe57df"
          }
        },
        "b3b000132aec4aef84737006a86c7f98": {
          "model_module": "@jupyter-widgets/controls",
          "model_name": "HTMLModel",
          "model_module_version": "1.5.0",
          "state": {
            "_view_name": "HTMLView",
            "style": "IPY_MODEL_cfca384c23d04c80ab30915666ad2ccc",
            "_dom_classes": [],
            "description": "",
            "_model_name": "HTMLModel",
            "placeholder": "​",
            "_view_module": "@jupyter-widgets/controls",
            "_model_module_version": "1.5.0",
            "value": " 1649664/? [00:00&lt;00:00, 10638279.51it/s]",
            "_view_count": null,
            "_view_module_version": "1.5.0",
            "description_tooltip": null,
            "_model_module": "@jupyter-widgets/controls",
            "layout": "IPY_MODEL_e39224206287412e844d3e0a360f9fec"
          }
        },
        "7f9b85ba827a4301b2617b5509e2afdd": {
          "model_module": "@jupyter-widgets/controls",
          "model_name": "DescriptionStyleModel",
          "model_module_version": "1.5.0",
          "state": {
            "_view_name": "StyleView",
            "_model_name": "DescriptionStyleModel",
            "description_width": "",
            "_view_module": "@jupyter-widgets/base",
            "_model_module_version": "1.5.0",
            "_view_count": null,
            "_view_module_version": "1.2.0",
            "_model_module": "@jupyter-widgets/controls"
          }
        },
        "d3860178095a44b4a39b9e7e6e334ef0": {
          "model_module": "@jupyter-widgets/base",
          "model_name": "LayoutModel",
          "model_module_version": "1.2.0",
          "state": {
            "_view_name": "LayoutView",
            "grid_template_rows": null,
            "right": null,
            "justify_content": null,
            "_view_module": "@jupyter-widgets/base",
            "overflow": null,
            "_model_module_version": "1.2.0",
            "_view_count": null,
            "flex_flow": null,
            "width": null,
            "min_width": null,
            "border": null,
            "align_items": null,
            "bottom": null,
            "_model_module": "@jupyter-widgets/base",
            "top": null,
            "grid_column": null,
            "overflow_y": null,
            "overflow_x": null,
            "grid_auto_flow": null,
            "grid_area": null,
            "grid_template_columns": null,
            "flex": null,
            "_model_name": "LayoutModel",
            "justify_items": null,
            "grid_row": null,
            "max_height": null,
            "align_content": null,
            "visibility": null,
            "align_self": null,
            "height": null,
            "min_height": null,
            "padding": null,
            "grid_auto_rows": null,
            "grid_gap": null,
            "max_width": null,
            "order": null,
            "_view_module_version": "1.2.0",
            "grid_template_areas": null,
            "object_position": null,
            "object_fit": null,
            "grid_auto_columns": null,
            "margin": null,
            "display": null,
            "left": null
          }
        },
        "6728382dfa4a4442812524db8d3cbc54": {
          "model_module": "@jupyter-widgets/controls",
          "model_name": "ProgressStyleModel",
          "model_module_version": "1.5.0",
          "state": {
            "_view_name": "StyleView",
            "_model_name": "ProgressStyleModel",
            "description_width": "",
            "_view_module": "@jupyter-widgets/base",
            "_model_module_version": "1.5.0",
            "_view_count": null,
            "_view_module_version": "1.2.0",
            "bar_color": null,
            "_model_module": "@jupyter-widgets/controls"
          }
        },
        "97cee52d5cae4514a6767bc9d6fe57df": {
          "model_module": "@jupyter-widgets/base",
          "model_name": "LayoutModel",
          "model_module_version": "1.2.0",
          "state": {
            "_view_name": "LayoutView",
            "grid_template_rows": null,
            "right": null,
            "justify_content": null,
            "_view_module": "@jupyter-widgets/base",
            "overflow": null,
            "_model_module_version": "1.2.0",
            "_view_count": null,
            "flex_flow": null,
            "width": null,
            "min_width": null,
            "border": null,
            "align_items": null,
            "bottom": null,
            "_model_module": "@jupyter-widgets/base",
            "top": null,
            "grid_column": null,
            "overflow_y": null,
            "overflow_x": null,
            "grid_auto_flow": null,
            "grid_area": null,
            "grid_template_columns": null,
            "flex": null,
            "_model_name": "LayoutModel",
            "justify_items": null,
            "grid_row": null,
            "max_height": null,
            "align_content": null,
            "visibility": null,
            "align_self": null,
            "height": null,
            "min_height": null,
            "padding": null,
            "grid_auto_rows": null,
            "grid_gap": null,
            "max_width": null,
            "order": null,
            "_view_module_version": "1.2.0",
            "grid_template_areas": null,
            "object_position": null,
            "object_fit": null,
            "grid_auto_columns": null,
            "margin": null,
            "display": null,
            "left": null
          }
        },
        "cfca384c23d04c80ab30915666ad2ccc": {
          "model_module": "@jupyter-widgets/controls",
          "model_name": "DescriptionStyleModel",
          "model_module_version": "1.5.0",
          "state": {
            "_view_name": "StyleView",
            "_model_name": "DescriptionStyleModel",
            "description_width": "",
            "_view_module": "@jupyter-widgets/base",
            "_model_module_version": "1.5.0",
            "_view_count": null,
            "_view_module_version": "1.2.0",
            "_model_module": "@jupyter-widgets/controls"
          }
        },
        "e39224206287412e844d3e0a360f9fec": {
          "model_module": "@jupyter-widgets/base",
          "model_name": "LayoutModel",
          "model_module_version": "1.2.0",
          "state": {
            "_view_name": "LayoutView",
            "grid_template_rows": null,
            "right": null,
            "justify_content": null,
            "_view_module": "@jupyter-widgets/base",
            "overflow": null,
            "_model_module_version": "1.2.0",
            "_view_count": null,
            "flex_flow": null,
            "width": null,
            "min_width": null,
            "border": null,
            "align_items": null,
            "bottom": null,
            "_model_module": "@jupyter-widgets/base",
            "top": null,
            "grid_column": null,
            "overflow_y": null,
            "overflow_x": null,
            "grid_auto_flow": null,
            "grid_area": null,
            "grid_template_columns": null,
            "flex": null,
            "_model_name": "LayoutModel",
            "justify_items": null,
            "grid_row": null,
            "max_height": null,
            "align_content": null,
            "visibility": null,
            "align_self": null,
            "height": null,
            "min_height": null,
            "padding": null,
            "grid_auto_rows": null,
            "grid_gap": null,
            "max_width": null,
            "order": null,
            "_view_module_version": "1.2.0",
            "grid_template_areas": null,
            "object_position": null,
            "object_fit": null,
            "grid_auto_columns": null,
            "margin": null,
            "display": null,
            "left": null
          }
        },
        "d4f2137dd6ed4dd394d3f8e2347cd3e8": {
          "model_module": "@jupyter-widgets/controls",
          "model_name": "HBoxModel",
          "model_module_version": "1.5.0",
          "state": {
            "_view_name": "HBoxView",
            "_dom_classes": [],
            "_model_name": "HBoxModel",
            "_view_module": "@jupyter-widgets/controls",
            "_model_module_version": "1.5.0",
            "_view_count": null,
            "_view_module_version": "1.5.0",
            "box_style": "",
            "layout": "IPY_MODEL_e582eef386d740db94624b7e032ffd09",
            "_model_module": "@jupyter-widgets/controls",
            "children": [
              "IPY_MODEL_e39ee1f34aae47e6b46eab76b5c76294",
              "IPY_MODEL_d1562024fad0441ea7acfb0854d76c82",
              "IPY_MODEL_9c3533493c8b4b2d8152a6629e41702c"
            ]
          }
        },
        "e582eef386d740db94624b7e032ffd09": {
          "model_module": "@jupyter-widgets/base",
          "model_name": "LayoutModel",
          "model_module_version": "1.2.0",
          "state": {
            "_view_name": "LayoutView",
            "grid_template_rows": null,
            "right": null,
            "justify_content": null,
            "_view_module": "@jupyter-widgets/base",
            "overflow": null,
            "_model_module_version": "1.2.0",
            "_view_count": null,
            "flex_flow": null,
            "width": null,
            "min_width": null,
            "border": null,
            "align_items": null,
            "bottom": null,
            "_model_module": "@jupyter-widgets/base",
            "top": null,
            "grid_column": null,
            "overflow_y": null,
            "overflow_x": null,
            "grid_auto_flow": null,
            "grid_area": null,
            "grid_template_columns": null,
            "flex": null,
            "_model_name": "LayoutModel",
            "justify_items": null,
            "grid_row": null,
            "max_height": null,
            "align_content": null,
            "visibility": null,
            "align_self": null,
            "height": null,
            "min_height": null,
            "padding": null,
            "grid_auto_rows": null,
            "grid_gap": null,
            "max_width": null,
            "order": null,
            "_view_module_version": "1.2.0",
            "grid_template_areas": null,
            "object_position": null,
            "object_fit": null,
            "grid_auto_columns": null,
            "margin": null,
            "display": null,
            "left": null
          }
        },
        "e39ee1f34aae47e6b46eab76b5c76294": {
          "model_module": "@jupyter-widgets/controls",
          "model_name": "HTMLModel",
          "model_module_version": "1.5.0",
          "state": {
            "_view_name": "HTMLView",
            "style": "IPY_MODEL_e0ba07089c5c4c358959998dbcd5a5e5",
            "_dom_classes": [],
            "description": "",
            "_model_name": "HTMLModel",
            "placeholder": "​",
            "_view_module": "@jupyter-widgets/controls",
            "_model_module_version": "1.5.0",
            "value": "",
            "_view_count": null,
            "_view_module_version": "1.5.0",
            "description_tooltip": null,
            "_model_module": "@jupyter-widgets/controls",
            "layout": "IPY_MODEL_43ba04d754c247d88a59ada4c36bc061"
          }
        },
        "d1562024fad0441ea7acfb0854d76c82": {
          "model_module": "@jupyter-widgets/controls",
          "model_name": "FloatProgressModel",
          "model_module_version": "1.5.0",
          "state": {
            "_view_name": "ProgressView",
            "style": "IPY_MODEL_1756589ec5a644d685ef82cd9e9bac92",
            "_dom_classes": [],
            "description": "",
            "_model_name": "FloatProgressModel",
            "bar_style": "success",
            "max": 4542,
            "_view_module": "@jupyter-widgets/controls",
            "_model_module_version": "1.5.0",
            "value": 4542,
            "_view_count": null,
            "_view_module_version": "1.5.0",
            "orientation": "horizontal",
            "min": 0,
            "description_tooltip": null,
            "_model_module": "@jupyter-widgets/controls",
            "layout": "IPY_MODEL_3ae20e9d3e264bc7b92c96fe36164b5a"
          }
        },
        "9c3533493c8b4b2d8152a6629e41702c": {
          "model_module": "@jupyter-widgets/controls",
          "model_name": "HTMLModel",
          "model_module_version": "1.5.0",
          "state": {
            "_view_name": "HTMLView",
            "style": "IPY_MODEL_8279e2d2a20b45c2b86abadf3ec4b79b",
            "_dom_classes": [],
            "description": "",
            "_model_name": "HTMLModel",
            "placeholder": "​",
            "_view_module": "@jupyter-widgets/controls",
            "_model_module_version": "1.5.0",
            "value": " 5120/? [00:00&lt;00:00, 111289.92it/s]",
            "_view_count": null,
            "_view_module_version": "1.5.0",
            "description_tooltip": null,
            "_model_module": "@jupyter-widgets/controls",
            "layout": "IPY_MODEL_e33a62f763264c1eadf4884d5147595d"
          }
        },
        "e0ba07089c5c4c358959998dbcd5a5e5": {
          "model_module": "@jupyter-widgets/controls",
          "model_name": "DescriptionStyleModel",
          "model_module_version": "1.5.0",
          "state": {
            "_view_name": "StyleView",
            "_model_name": "DescriptionStyleModel",
            "description_width": "",
            "_view_module": "@jupyter-widgets/base",
            "_model_module_version": "1.5.0",
            "_view_count": null,
            "_view_module_version": "1.2.0",
            "_model_module": "@jupyter-widgets/controls"
          }
        },
        "43ba04d754c247d88a59ada4c36bc061": {
          "model_module": "@jupyter-widgets/base",
          "model_name": "LayoutModel",
          "model_module_version": "1.2.0",
          "state": {
            "_view_name": "LayoutView",
            "grid_template_rows": null,
            "right": null,
            "justify_content": null,
            "_view_module": "@jupyter-widgets/base",
            "overflow": null,
            "_model_module_version": "1.2.0",
            "_view_count": null,
            "flex_flow": null,
            "width": null,
            "min_width": null,
            "border": null,
            "align_items": null,
            "bottom": null,
            "_model_module": "@jupyter-widgets/base",
            "top": null,
            "grid_column": null,
            "overflow_y": null,
            "overflow_x": null,
            "grid_auto_flow": null,
            "grid_area": null,
            "grid_template_columns": null,
            "flex": null,
            "_model_name": "LayoutModel",
            "justify_items": null,
            "grid_row": null,
            "max_height": null,
            "align_content": null,
            "visibility": null,
            "align_self": null,
            "height": null,
            "min_height": null,
            "padding": null,
            "grid_auto_rows": null,
            "grid_gap": null,
            "max_width": null,
            "order": null,
            "_view_module_version": "1.2.0",
            "grid_template_areas": null,
            "object_position": null,
            "object_fit": null,
            "grid_auto_columns": null,
            "margin": null,
            "display": null,
            "left": null
          }
        },
        "1756589ec5a644d685ef82cd9e9bac92": {
          "model_module": "@jupyter-widgets/controls",
          "model_name": "ProgressStyleModel",
          "model_module_version": "1.5.0",
          "state": {
            "_view_name": "StyleView",
            "_model_name": "ProgressStyleModel",
            "description_width": "",
            "_view_module": "@jupyter-widgets/base",
            "_model_module_version": "1.5.0",
            "_view_count": null,
            "_view_module_version": "1.2.0",
            "bar_color": null,
            "_model_module": "@jupyter-widgets/controls"
          }
        },
        "3ae20e9d3e264bc7b92c96fe36164b5a": {
          "model_module": "@jupyter-widgets/base",
          "model_name": "LayoutModel",
          "model_module_version": "1.2.0",
          "state": {
            "_view_name": "LayoutView",
            "grid_template_rows": null,
            "right": null,
            "justify_content": null,
            "_view_module": "@jupyter-widgets/base",
            "overflow": null,
            "_model_module_version": "1.2.0",
            "_view_count": null,
            "flex_flow": null,
            "width": null,
            "min_width": null,
            "border": null,
            "align_items": null,
            "bottom": null,
            "_model_module": "@jupyter-widgets/base",
            "top": null,
            "grid_column": null,
            "overflow_y": null,
            "overflow_x": null,
            "grid_auto_flow": null,
            "grid_area": null,
            "grid_template_columns": null,
            "flex": null,
            "_model_name": "LayoutModel",
            "justify_items": null,
            "grid_row": null,
            "max_height": null,
            "align_content": null,
            "visibility": null,
            "align_self": null,
            "height": null,
            "min_height": null,
            "padding": null,
            "grid_auto_rows": null,
            "grid_gap": null,
            "max_width": null,
            "order": null,
            "_view_module_version": "1.2.0",
            "grid_template_areas": null,
            "object_position": null,
            "object_fit": null,
            "grid_auto_columns": null,
            "margin": null,
            "display": null,
            "left": null
          }
        },
        "8279e2d2a20b45c2b86abadf3ec4b79b": {
          "model_module": "@jupyter-widgets/controls",
          "model_name": "DescriptionStyleModel",
          "model_module_version": "1.5.0",
          "state": {
            "_view_name": "StyleView",
            "_model_name": "DescriptionStyleModel",
            "description_width": "",
            "_view_module": "@jupyter-widgets/base",
            "_model_module_version": "1.5.0",
            "_view_count": null,
            "_view_module_version": "1.2.0",
            "_model_module": "@jupyter-widgets/controls"
          }
        },
        "e33a62f763264c1eadf4884d5147595d": {
          "model_module": "@jupyter-widgets/base",
          "model_name": "LayoutModel",
          "model_module_version": "1.2.0",
          "state": {
            "_view_name": "LayoutView",
            "grid_template_rows": null,
            "right": null,
            "justify_content": null,
            "_view_module": "@jupyter-widgets/base",
            "overflow": null,
            "_model_module_version": "1.2.0",
            "_view_count": null,
            "flex_flow": null,
            "width": null,
            "min_width": null,
            "border": null,
            "align_items": null,
            "bottom": null,
            "_model_module": "@jupyter-widgets/base",
            "top": null,
            "grid_column": null,
            "overflow_y": null,
            "overflow_x": null,
            "grid_auto_flow": null,
            "grid_area": null,
            "grid_template_columns": null,
            "flex": null,
            "_model_name": "LayoutModel",
            "justify_items": null,
            "grid_row": null,
            "max_height": null,
            "align_content": null,
            "visibility": null,
            "align_self": null,
            "height": null,
            "min_height": null,
            "padding": null,
            "grid_auto_rows": null,
            "grid_gap": null,
            "max_width": null,
            "order": null,
            "_view_module_version": "1.2.0",
            "grid_template_areas": null,
            "object_position": null,
            "object_fit": null,
            "grid_auto_columns": null,
            "margin": null,
            "display": null,
            "left": null
          }
        }
      }
    }
  },
  "cells": [
    {
      "cell_type": "markdown",
      "metadata": {
        "id": "view-in-github",
        "colab_type": "text"
      },
      "source": [
        "<a href=\"https://colab.research.google.com/github/alyssakeehan/Eluvio_Assesment/blob/main/HW3_F21.ipynb\" target=\"_parent\"><img src=\"https://colab.research.google.com/assets/colab-badge.svg\" alt=\"Open In Colab\"/></a>"
      ]
    },
    {
      "cell_type": "markdown",
      "metadata": {
        "id": "kNnrjkIUWEDh"
      },
      "source": [
        "# Homework 3\n",
        "\n",
        "DUE Nov 15th at 11:59 PM"
      ]
    },
    {
      "cell_type": "code",
      "metadata": {
        "id": "bxC-Rlw2sHfB"
      },
      "source": [
        "import pandas as pd\n",
        "import numpy as np\n",
        "import torch\n",
        "import torchvision"
      ],
      "execution_count": 1,
      "outputs": []
    },
    {
      "cell_type": "markdown",
      "metadata": {
        "id": "EbpTqmT4WhaB"
      },
      "source": [
        "## Problem 1\n",
        "\n",
        "In this problem, you will implement a simple feed-forward neural network using PyTorch, a straight-forward and simple-to-pickup framework for quickly prototyping deep learning model. \n",
        "\n",
        "PyTorch provides 2 powerful things. First, a nice data structure called Tensor (basically a matrix, similar to Numpy ndarray). Tensor is optimized for matrix calculation and can be loaded to a GPU. Tensor is also implemented so that it's easy to calculate and pass back chains of gradients, which is extremely useful for backpropagation on neural network. Second, a nice inner mechanism called Autograd that nicely maps variables involved a chain of calculations and efficiently calculates their gradients via the chain rule when needed. Read more here: https://towardsdatascience.com/pytorch-autograd-understanding-the-heart-of-pytorchs-magic-2686cd94ec95  \n",
        "\n",
        "You will define a neural network class in PyTorch and use the network to learn a classification task on the famous KDD CUP 99 dataset. You can refer to Problem 2 to see how a network class can be defined, how to use a PyTorch's DataLoader, and how a training loop may looks like.\n",
        "\n",
        "There are many greate tutorial on PyTorch out there. For example, this video on Youtube explains how to build a simple network in PyTorch quite clearly: https://www.youtube.com/watch?v=oPhxf2fXHkQ\n",
        "\n",
        "### Part a\n",
        "Firstly, load and inspect the \"**KDD CUP 99**\" dataset."
      ]
    },
    {
      "cell_type": "code",
      "metadata": {
        "id": "qyL0okEBWggC",
        "colab": {
          "base_uri": "https://localhost:8080/"
        },
        "outputId": "d54d725e-1346-445b-d13d-2bcc730bbea2"
      },
      "source": [
        "from sklearn.datasets import fetch_kddcup99\n",
        "\n",
        "X, y = fetch_kddcup99(return_X_y=True, percent10=True)"
      ],
      "execution_count": 2,
      "outputs": [
        {
          "output_type": "stream",
          "name": "stderr",
          "text": [
            "Downloading https://ndownloader.figshare.com/files/5976042\n"
          ]
        }
      ]
    },
    {
      "cell_type": "markdown",
      "metadata": {
        "id": "BD09sAm-52_u"
      },
      "source": [
        "Split them into a train set (70%), a validation set (10%), and a test set (20%). Then, create a PyTorch's DataLoader for the train set, a DataLoader for the validation set, and a DataLoader for the test set.\n",
        "\n",
        "You can read about PyTorch's DataLoader from:\n",
        "\n",
        "*   https://stanford.edu/~shervine/blog/pytorch-how-to-generate-data-parallel\n",
        "*   https://pytorch.org/docs/stable/data.html#torch.utils.data.DataLoader\n",
        "\n"
      ]
    },
    {
      "cell_type": "code",
      "metadata": {
        "id": "tnwd2ylj5BD4"
      },
      "source": [
        "from sklearn.model_selection import train_test_split\n",
        "from torch.utils.data import DataLoader\n",
        "\n",
        "# split using train_test_split\n",
        "X_train, X_test_full, y_train, y_test_full = train_test_split(X, y, test_size=0.3, random_state=674)\n",
        "X_test, X_validate, y_test, y_validate = train_test_split(X_test_full, y_test_full, test_size=(1/3), random_state=638)\n",
        "\n",
        "# combine the train, test, and validating sets into their respective dataframes\n",
        "train = pd.DataFrame(X_train)\n",
        "train['class'] = y_train\n",
        "test = pd.DataFrame(X_test)\n",
        "test['class'] = y_test\n",
        "valid = pd.DataFrame(X_validate)\n",
        "valid['class'] = y_validate\n",
        "\n",
        "# create the loaders for each of the sets\n",
        "train_loader = torch.utils.data.DataLoader(dataset = train, batch_size = 100, shuffle = True)\n",
        "test_loader = torch.utils.data.DataLoader(dataset = test, batch_size = 100, shuffle = False)\n",
        "valid_loader = torch.utils.data.DataLoader(dataset = valid, batch_size = 100, shuffle = False)"
      ],
      "execution_count": 3,
      "outputs": []
    },
    {
      "cell_type": "markdown",
      "metadata": {
        "id": "ZuEYUkVdWpYw"
      },
      "source": [
        "### Part b \n",
        "Create a Python class for our neural network model. The network should have 1 input layer, 1 hidden layer, and 1 output layer. You are free to choose the size of the hidden layer (it may affect the performance). Use ReLU as the activation function (torch.relu)."
      ]
    },
    {
      "cell_type": "code",
      "metadata": {
        "id": "68ti8_83WzHP"
      },
      "source": [
        "import torch\n",
        "\n",
        "# Any Pytorch's network class is an extension of the torch.nn.Module parent class.\n",
        "# To define a network class, you need to define at least 2 methods: an __init__() method (constructor) and a forward() method\n",
        "class SimpleNetwork(torch.nn.Module):\n",
        "    # Create the network class by filling in this block of code\n",
        "\n",
        "    # Create the constructor. Add any additional arguments as you wish\n",
        "    def __init__(self, input_size, hidden_size, num_classes):\n",
        "        super(SimpleNetwork, self).__init__()\n",
        "        self.l1 = nn.Linear(input_size, hidden_size)\n",
        "        self.relu = nn.ReLU()\n",
        "        self.l2 = nn.Linear(hidden_size, num_classes)\n",
        "\n",
        "    # Define the feed forward function.\n",
        "    # x is the input example/examples.\n",
        "    # Add any additional arguments as you wish.\n",
        "    def forward(self, x):\n",
        "        out = self.l1(x)\n",
        "        out = self.relu(out)\n",
        "        out = self.l2(out)\n",
        "        return out"
      ],
      "execution_count": 13,
      "outputs": []
    },
    {
      "cell_type": "markdown",
      "metadata": {
        "id": "ONBn93ldWz8n"
      },
      "source": [
        "### Part c \n",
        "Train the network using the training dataset. Use the SGD optimizer and CrossEntropyLoss. After each epoch, record the current loss and the current training accuracy. The current training accuracy is obtained by evaluating the model on the train dataset. Use the DataLoaders defined in part a to efficiently pass training and testing data.\n",
        "\n",
        "You can learn about the available optimizers at:\n",
        "https://pytorch.org/docs/stable/optim.html\n",
        "\n",
        "You can learn about the available loss functions at:\n",
        "https://pytorch.org/docs/stable/nn.html#loss-functions"
      ]
    },
    {
      "cell_type": "code",
      "metadata": {
        "id": "8zDhPrRYW4ho",
        "colab": {
          "base_uri": "https://localhost:8080/",
          "height": 392
        },
        "outputId": "00e46ff9-fc5c-4c49-8bfb-27d6d93efc2f"
      },
      "source": [
        "LEARNING_RATE = 0.01\n",
        "EPOCHS = 100\n",
        "input_size = 50\n",
        "hidden_size = 10\n",
        "num_classes = 2\n",
        "\n",
        "# initialize the model before the loop\n",
        "model = SimpleNetwork(input_size, hidden_size,num_classes)\n",
        "\n",
        "# loss and optimizer\n",
        "criterion = nn.CrossEntropyLoss()\n",
        "optimizer = optim.SGD(model.parameters(), LEARNING_RATE)\n",
        "\n",
        "# store the current loss and current training accuracy at every step\n",
        "for epoch in range(EPOCHS):\n",
        "    # Turn the model to training mode (gradients will be calculated)\n",
        "    model.train()\n",
        "    for batch_idx, (data, target) in enumerate(train_loader):\n",
        "        # We have to call zero_grad() on the optimizer to remove gradients from the previous data pass.\n",
        "        # Otherwise, the gradients will be accumulated throughout many passes.\n",
        "        optimizer.zero_grad()\n",
        "        # Pass in the data and obtain the output.\n",
        "        # When you pass the data directly by calling model(data), the model will internally pass the data through the forward() function.\n",
        "        output = model(data)\n",
        "        # Compare the output and the ground truth and calculate the loss.\n",
        "        loss = criterion(output, target)\n",
        "        # From the calculated loss, call backward() to calculate the gradients for all the paramters in the network.\n",
        "        loss.backward()\n",
        "        # Update the parameters according to the gradients. \n",
        "        optimizer.step()\n",
        "        if batch_idx % 100 == 0:\n",
        "            print('Train Epoch: {} [{}/{} ({:.0f}%)]\\tLoss: {:.6f}'.format(\n",
        "                epoch, batch_idx * len(data), len(train_loader.dataset),\n",
        "                100. * batch_idx / len(train_loader), loss.item()))"
      ],
      "execution_count": 16,
      "outputs": [
        {
          "output_type": "error",
          "ename": "RuntimeError",
          "evalue": "ignored",
          "traceback": [
            "\u001b[0;31m---------------------------------------------------------------------------\u001b[0m",
            "\u001b[0;31mRuntimeError\u001b[0m                              Traceback (most recent call last)",
            "\u001b[0;32m<ipython-input-16-7287c4e87255>\u001b[0m in \u001b[0;36m<module>\u001b[0;34m()\u001b[0m\n\u001b[1;32m     22\u001b[0m         \u001b[0;31m# Pass in the data and obtain the output.\u001b[0m\u001b[0;34m\u001b[0m\u001b[0;34m\u001b[0m\u001b[0;34m\u001b[0m\u001b[0m\n\u001b[1;32m     23\u001b[0m         \u001b[0;31m# When you pass the data directly by calling model(data), the model will internally pass the data through the forward() function.\u001b[0m\u001b[0;34m\u001b[0m\u001b[0;34m\u001b[0m\u001b[0;34m\u001b[0m\u001b[0m\n\u001b[0;32m---> 24\u001b[0;31m         \u001b[0moutput\u001b[0m \u001b[0;34m=\u001b[0m \u001b[0mmodel\u001b[0m\u001b[0;34m(\u001b[0m\u001b[0mdata\u001b[0m\u001b[0;34m)\u001b[0m\u001b[0;34m\u001b[0m\u001b[0;34m\u001b[0m\u001b[0m\n\u001b[0m\u001b[1;32m     25\u001b[0m         \u001b[0;31m# Compare the output and the ground truth and calculate the loss.\u001b[0m\u001b[0;34m\u001b[0m\u001b[0;34m\u001b[0m\u001b[0;34m\u001b[0m\u001b[0m\n\u001b[1;32m     26\u001b[0m         \u001b[0mloss\u001b[0m \u001b[0;34m=\u001b[0m \u001b[0mcriterion\u001b[0m\u001b[0;34m(\u001b[0m\u001b[0moutput\u001b[0m\u001b[0;34m,\u001b[0m \u001b[0mtarget\u001b[0m\u001b[0;34m)\u001b[0m\u001b[0;34m\u001b[0m\u001b[0;34m\u001b[0m\u001b[0m\n",
            "\u001b[0;32m/usr/local/lib/python3.7/dist-packages/torch/nn/modules/module.py\u001b[0m in \u001b[0;36m_call_impl\u001b[0;34m(self, *input, **kwargs)\u001b[0m\n\u001b[1;32m   1049\u001b[0m         if not (self._backward_hooks or self._forward_hooks or self._forward_pre_hooks or _global_backward_hooks\n\u001b[1;32m   1050\u001b[0m                 or _global_forward_hooks or _global_forward_pre_hooks):\n\u001b[0;32m-> 1051\u001b[0;31m             \u001b[0;32mreturn\u001b[0m \u001b[0mforward_call\u001b[0m\u001b[0;34m(\u001b[0m\u001b[0;34m*\u001b[0m\u001b[0minput\u001b[0m\u001b[0;34m,\u001b[0m \u001b[0;34m**\u001b[0m\u001b[0mkwargs\u001b[0m\u001b[0;34m)\u001b[0m\u001b[0;34m\u001b[0m\u001b[0;34m\u001b[0m\u001b[0m\n\u001b[0m\u001b[1;32m   1052\u001b[0m         \u001b[0;31m# Do not call functions when jit is used\u001b[0m\u001b[0;34m\u001b[0m\u001b[0;34m\u001b[0m\u001b[0;34m\u001b[0m\u001b[0m\n\u001b[1;32m   1053\u001b[0m         \u001b[0mfull_backward_hooks\u001b[0m\u001b[0;34m,\u001b[0m \u001b[0mnon_full_backward_hooks\u001b[0m \u001b[0;34m=\u001b[0m \u001b[0;34m[\u001b[0m\u001b[0;34m]\u001b[0m\u001b[0;34m,\u001b[0m \u001b[0;34m[\u001b[0m\u001b[0;34m]\u001b[0m\u001b[0;34m\u001b[0m\u001b[0;34m\u001b[0m\u001b[0m\n",
            "\u001b[0;32m<ipython-input-13-15a023e2a088>\u001b[0m in \u001b[0;36mforward\u001b[0;34m(self, x)\u001b[0m\n\u001b[1;32m     17\u001b[0m     \u001b[0;31m# Add any additional arguments as you wish.\u001b[0m\u001b[0;34m\u001b[0m\u001b[0;34m\u001b[0m\u001b[0;34m\u001b[0m\u001b[0m\n\u001b[1;32m     18\u001b[0m     \u001b[0;32mdef\u001b[0m \u001b[0mforward\u001b[0m\u001b[0;34m(\u001b[0m\u001b[0mself\u001b[0m\u001b[0;34m,\u001b[0m \u001b[0mx\u001b[0m\u001b[0;34m)\u001b[0m\u001b[0;34m:\u001b[0m\u001b[0;34m\u001b[0m\u001b[0;34m\u001b[0m\u001b[0m\n\u001b[0;32m---> 19\u001b[0;31m         \u001b[0mout\u001b[0m \u001b[0;34m=\u001b[0m \u001b[0mself\u001b[0m\u001b[0;34m.\u001b[0m\u001b[0ml1\u001b[0m\u001b[0;34m(\u001b[0m\u001b[0mx\u001b[0m\u001b[0;34m)\u001b[0m\u001b[0;34m\u001b[0m\u001b[0;34m\u001b[0m\u001b[0m\n\u001b[0m\u001b[1;32m     20\u001b[0m         \u001b[0mout\u001b[0m \u001b[0;34m=\u001b[0m \u001b[0mself\u001b[0m\u001b[0;34m.\u001b[0m\u001b[0mrelu\u001b[0m\u001b[0;34m(\u001b[0m\u001b[0mout\u001b[0m\u001b[0;34m)\u001b[0m\u001b[0;34m\u001b[0m\u001b[0;34m\u001b[0m\u001b[0m\n\u001b[1;32m     21\u001b[0m         \u001b[0mout\u001b[0m \u001b[0;34m=\u001b[0m \u001b[0mself\u001b[0m\u001b[0;34m.\u001b[0m\u001b[0ml2\u001b[0m\u001b[0;34m(\u001b[0m\u001b[0mout\u001b[0m\u001b[0;34m)\u001b[0m\u001b[0;34m\u001b[0m\u001b[0;34m\u001b[0m\u001b[0m\n",
            "\u001b[0;32m/usr/local/lib/python3.7/dist-packages/torch/nn/modules/module.py\u001b[0m in \u001b[0;36m_call_impl\u001b[0;34m(self, *input, **kwargs)\u001b[0m\n\u001b[1;32m   1049\u001b[0m         if not (self._backward_hooks or self._forward_hooks or self._forward_pre_hooks or _global_backward_hooks\n\u001b[1;32m   1050\u001b[0m                 or _global_forward_hooks or _global_forward_pre_hooks):\n\u001b[0;32m-> 1051\u001b[0;31m             \u001b[0;32mreturn\u001b[0m \u001b[0mforward_call\u001b[0m\u001b[0;34m(\u001b[0m\u001b[0;34m*\u001b[0m\u001b[0minput\u001b[0m\u001b[0;34m,\u001b[0m \u001b[0;34m**\u001b[0m\u001b[0mkwargs\u001b[0m\u001b[0;34m)\u001b[0m\u001b[0;34m\u001b[0m\u001b[0;34m\u001b[0m\u001b[0m\n\u001b[0m\u001b[1;32m   1052\u001b[0m         \u001b[0;31m# Do not call functions when jit is used\u001b[0m\u001b[0;34m\u001b[0m\u001b[0;34m\u001b[0m\u001b[0;34m\u001b[0m\u001b[0m\n\u001b[1;32m   1053\u001b[0m         \u001b[0mfull_backward_hooks\u001b[0m\u001b[0;34m,\u001b[0m \u001b[0mnon_full_backward_hooks\u001b[0m \u001b[0;34m=\u001b[0m \u001b[0;34m[\u001b[0m\u001b[0;34m]\u001b[0m\u001b[0;34m,\u001b[0m \u001b[0;34m[\u001b[0m\u001b[0;34m]\u001b[0m\u001b[0;34m\u001b[0m\u001b[0;34m\u001b[0m\u001b[0m\n",
            "\u001b[0;32m/usr/local/lib/python3.7/dist-packages/torch/nn/modules/linear.py\u001b[0m in \u001b[0;36mforward\u001b[0;34m(self, input)\u001b[0m\n\u001b[1;32m     94\u001b[0m \u001b[0;34m\u001b[0m\u001b[0m\n\u001b[1;32m     95\u001b[0m     \u001b[0;32mdef\u001b[0m \u001b[0mforward\u001b[0m\u001b[0;34m(\u001b[0m\u001b[0mself\u001b[0m\u001b[0;34m,\u001b[0m \u001b[0minput\u001b[0m\u001b[0;34m:\u001b[0m \u001b[0mTensor\u001b[0m\u001b[0;34m)\u001b[0m \u001b[0;34m->\u001b[0m \u001b[0mTensor\u001b[0m\u001b[0;34m:\u001b[0m\u001b[0;34m\u001b[0m\u001b[0;34m\u001b[0m\u001b[0m\n\u001b[0;32m---> 96\u001b[0;31m         \u001b[0;32mreturn\u001b[0m \u001b[0mF\u001b[0m\u001b[0;34m.\u001b[0m\u001b[0mlinear\u001b[0m\u001b[0;34m(\u001b[0m\u001b[0minput\u001b[0m\u001b[0;34m,\u001b[0m \u001b[0mself\u001b[0m\u001b[0;34m.\u001b[0m\u001b[0mweight\u001b[0m\u001b[0;34m,\u001b[0m \u001b[0mself\u001b[0m\u001b[0;34m.\u001b[0m\u001b[0mbias\u001b[0m\u001b[0;34m)\u001b[0m\u001b[0;34m\u001b[0m\u001b[0;34m\u001b[0m\u001b[0m\n\u001b[0m\u001b[1;32m     97\u001b[0m \u001b[0;34m\u001b[0m\u001b[0m\n\u001b[1;32m     98\u001b[0m     \u001b[0;32mdef\u001b[0m \u001b[0mextra_repr\u001b[0m\u001b[0;34m(\u001b[0m\u001b[0mself\u001b[0m\u001b[0;34m)\u001b[0m \u001b[0;34m->\u001b[0m \u001b[0mstr\u001b[0m\u001b[0;34m:\u001b[0m\u001b[0;34m\u001b[0m\u001b[0;34m\u001b[0m\u001b[0m\n",
            "\u001b[0;32m/usr/local/lib/python3.7/dist-packages/torch/nn/functional.py\u001b[0m in \u001b[0;36mlinear\u001b[0;34m(input, weight, bias)\u001b[0m\n\u001b[1;32m   1845\u001b[0m     \u001b[0;32mif\u001b[0m \u001b[0mhas_torch_function_variadic\u001b[0m\u001b[0;34m(\u001b[0m\u001b[0minput\u001b[0m\u001b[0;34m,\u001b[0m \u001b[0mweight\u001b[0m\u001b[0;34m)\u001b[0m\u001b[0;34m:\u001b[0m\u001b[0;34m\u001b[0m\u001b[0;34m\u001b[0m\u001b[0m\n\u001b[1;32m   1846\u001b[0m         \u001b[0;32mreturn\u001b[0m \u001b[0mhandle_torch_function\u001b[0m\u001b[0;34m(\u001b[0m\u001b[0mlinear\u001b[0m\u001b[0;34m,\u001b[0m \u001b[0;34m(\u001b[0m\u001b[0minput\u001b[0m\u001b[0;34m,\u001b[0m \u001b[0mweight\u001b[0m\u001b[0;34m)\u001b[0m\u001b[0;34m,\u001b[0m \u001b[0minput\u001b[0m\u001b[0;34m,\u001b[0m \u001b[0mweight\u001b[0m\u001b[0;34m,\u001b[0m \u001b[0mbias\u001b[0m\u001b[0;34m=\u001b[0m\u001b[0mbias\u001b[0m\u001b[0;34m)\u001b[0m\u001b[0;34m\u001b[0m\u001b[0;34m\u001b[0m\u001b[0m\n\u001b[0;32m-> 1847\u001b[0;31m     \u001b[0;32mreturn\u001b[0m \u001b[0mtorch\u001b[0m\u001b[0;34m.\u001b[0m\u001b[0m_C\u001b[0m\u001b[0;34m.\u001b[0m\u001b[0m_nn\u001b[0m\u001b[0;34m.\u001b[0m\u001b[0mlinear\u001b[0m\u001b[0;34m(\u001b[0m\u001b[0minput\u001b[0m\u001b[0;34m,\u001b[0m \u001b[0mweight\u001b[0m\u001b[0;34m,\u001b[0m \u001b[0mbias\u001b[0m\u001b[0;34m)\u001b[0m\u001b[0;34m\u001b[0m\u001b[0;34m\u001b[0m\u001b[0m\n\u001b[0m\u001b[1;32m   1848\u001b[0m \u001b[0;34m\u001b[0m\u001b[0m\n\u001b[1;32m   1849\u001b[0m \u001b[0;34m\u001b[0m\u001b[0m\n",
            "\u001b[0;31mRuntimeError\u001b[0m: mat1 and mat2 shapes cannot be multiplied (1792x28 and 50x10)"
          ]
        }
      ]
    },
    {
      "cell_type": "markdown",
      "metadata": {
        "id": "j31M2YA4W-yk"
      },
      "source": [
        "Plot how the loss and the training accuracy and the validation accuracy change over the epochs. Is there a point where overfitting occurs? If you cannot spot one, answer no. "
      ]
    },
    {
      "cell_type": "code",
      "metadata": {
        "id": "EiAD2opxW_gY"
      },
      "source": [
        ""
      ],
      "execution_count": null,
      "outputs": []
    },
    {
      "cell_type": "markdown",
      "metadata": {
        "id": "pCRxAtjnXB55"
      },
      "source": [
        "### Part d \n",
        "Evaluate the model on the test dataset. Print out the accuracy. Does this accuracy agrees with the training accuracy showed on the plot?"
      ]
    },
    {
      "cell_type": "code",
      "metadata": {
        "id": "uGAvfpWuXHLM"
      },
      "source": [
        ""
      ],
      "execution_count": null,
      "outputs": []
    },
    {
      "cell_type": "markdown",
      "metadata": {
        "id": "fnF9NTStY73w"
      },
      "source": [
        "## Problem 2\n",
        "\n",
        "In this problem, we will investigate the effects of various common hyperparameters on the performance of a neural network. In the following cell, you can find a network class already defined for you. You can initiate network instances with different hyperparameters by changing the contructor's arguments.\n",
        "\n",
        "You are graded based on how you implement and execute the experiments. Since there is some randomness in initiating and training a neural network, there is no guarantee that you will get an expected result for an experiment or that your results should be similar to those of your peers. The expected outcome is that you execute the experiments correctly and the conclusion you get are consistent with your results. For each experiments, try to run the code multiple times and record the average results like what we did in Homework 2 (it will take some time to run, as expected when training any neural network)."
      ]
    },
    {
      "cell_type": "code",
      "metadata": {
        "id": "Gomk6vh0ZjQJ"
      },
      "source": [
        "import torch\n",
        "import torch.nn as nn\n",
        "import torch.nn.functional as F\n",
        "\n",
        "class mnist_network(torch.nn.Module):\n",
        "    \n",
        "    def __init__(self, num_hidden_layers=1, layer_size = 100, activation=None):\n",
        "        super(mnist_network, self).__init__()\n",
        "        # layers of the network\n",
        "        self.num_hidden_layers = num_hidden_layers\n",
        "        self.layer_size = layer_size\n",
        "        self.activation = activation\n",
        "\n",
        "        if(self.activation is 'relu'):\n",
        "            self.activation = F.relu\n",
        "        elif(self.activation is 'tanh'):\n",
        "            self.activation = torch.tanh\n",
        "\n",
        "        self.layers = nn.ModuleList([nn.Linear(784,self.layer_size)])\n",
        "        for i in range(1, self.num_hidden_layers):\n",
        "            self.layers.append(nn.Linear(self.layer_size,self.layer_size))\n",
        "        self.layers.append(nn.Linear(self.layer_size,10))\n",
        "\n",
        "    def forward(self, x):\n",
        "        # converting each image into a vector\n",
        "        batch_size = x.shape[0]\n",
        "        x = x.reshape(batch_size,-1)\n",
        "        # rest of the forward pass \n",
        "        for i in range(self.num_hidden_layers+1):\n",
        "            x = self.layers[i](x)\n",
        "            if(self.activation is not None):\n",
        "                x = self.activation(x)\n",
        "        return x"
      ],
      "execution_count": 5,
      "outputs": []
    },
    {
      "cell_type": "markdown",
      "metadata": {
        "id": "X0DVPRosZkSF"
      },
      "source": [
        "Run the following code to load the MNIST dataset. For the sake of simplicity, we do not have a validation set in this problem."
      ]
    },
    {
      "cell_type": "code",
      "metadata": {
        "id": "eJ8_gdWvZtpU",
        "colab": {
          "base_uri": "https://localhost:8080/",
          "height": 471,
          "referenced_widgets": [
            "98a1e5746b08422d87717d228f31e88a",
            "eadbda92f87742af8354c002fe2db7d8",
            "854ac7c7af3446fcbe133e08363255dc",
            "9c9d193de41e4dfebb8f18c2ff63da4b",
            "13ddd6f2288a4cbab138220ed2c124b3",
            "677d222c13da4ecda7ea8145f8d7e446",
            "f5ec846efb3847e3acb65297c18fb18e",
            "fdcfa5a6d777423d90b93f109bba27c4",
            "cc7535ea8cda473d8e8c75b9fa893efc",
            "81543bff9e214981b77720a50803fe3f",
            "671b711ae4724508b33cfe19fc151f50",
            "afb20ac503224673bb4a8ce9af4f5257",
            "56caa15169244515a09933397afefa88",
            "46f59dfc54a243069645676facc30209",
            "4441ec3f42f94048bf902a587ce2f6e1",
            "464a18598606452ea6f114b0e9cae82d",
            "b6ea0829ba7d4ae1a16f4a8ba7ba94e2",
            "5a7b8227f24645c69d26ee0672018de5",
            "229bbb480c0b4314ad4090fc4f1aad97",
            "c7ba6be12c434acfac51f8a6ad1995ad",
            "d4d7eb09b6b7487499eee010bf824e55",
            "83fa0e3a3ca84bc08430a16ba4fdafad",
            "d6f5ab1e10754835911e72c5505328c9",
            "9844a3d53e6a409bbf6d9a603ea4da7b",
            "dbe013584e5843509c33e788af58e26d",
            "bb1389a5060740278bfe316d7b630c38",
            "b3b000132aec4aef84737006a86c7f98",
            "7f9b85ba827a4301b2617b5509e2afdd",
            "d3860178095a44b4a39b9e7e6e334ef0",
            "6728382dfa4a4442812524db8d3cbc54",
            "97cee52d5cae4514a6767bc9d6fe57df",
            "cfca384c23d04c80ab30915666ad2ccc",
            "e39224206287412e844d3e0a360f9fec",
            "d4f2137dd6ed4dd394d3f8e2347cd3e8",
            "e582eef386d740db94624b7e032ffd09",
            "e39ee1f34aae47e6b46eab76b5c76294",
            "d1562024fad0441ea7acfb0854d76c82",
            "9c3533493c8b4b2d8152a6629e41702c",
            "e0ba07089c5c4c358959998dbcd5a5e5",
            "43ba04d754c247d88a59ada4c36bc061",
            "1756589ec5a644d685ef82cd9e9bac92",
            "3ae20e9d3e264bc7b92c96fe36164b5a",
            "8279e2d2a20b45c2b86abadf3ec4b79b",
            "e33a62f763264c1eadf4884d5147595d"
          ]
        },
        "outputId": "4ee4e4c4-c4db-4293-a313-628639add3ba"
      },
      "source": [
        "import torch\n",
        "from torchvision import datasets, transforms\n",
        "\n",
        "transform=transforms.Compose([\n",
        "        transforms.ToTensor(),\n",
        "        transforms.Normalize((0.1307,), (0.3081,))\n",
        "        ])\n",
        "\n",
        "dataset1 = datasets.MNIST('../data', train=True, download=True,\n",
        "                    transform=transform)\n",
        "dataset2 = datasets.MNIST('../data', train=False,\n",
        "                    transform=transform)\n",
        "\n",
        "# DataLoader is a nice tool provided by PyTorch for passing training or testing examples\n",
        "train_loader = torch.utils.data.DataLoader(dataset1, batch_size=64)\n",
        "test_loader = torch.utils.data.DataLoader(dataset2, batch_size=1000)"
      ],
      "execution_count": 6,
      "outputs": [
        {
          "output_type": "stream",
          "name": "stdout",
          "text": [
            "Downloading http://yann.lecun.com/exdb/mnist/train-images-idx3-ubyte.gz\n",
            "Downloading http://yann.lecun.com/exdb/mnist/train-images-idx3-ubyte.gz to ../data/MNIST/raw/train-images-idx3-ubyte.gz\n"
          ]
        },
        {
          "output_type": "display_data",
          "data": {
            "application/vnd.jupyter.widget-view+json": {
              "model_id": "98a1e5746b08422d87717d228f31e88a",
              "version_minor": 0,
              "version_major": 2
            },
            "text/plain": [
              "  0%|          | 0/9912422 [00:00<?, ?it/s]"
            ]
          },
          "metadata": {}
        },
        {
          "output_type": "stream",
          "name": "stdout",
          "text": [
            "Extracting ../data/MNIST/raw/train-images-idx3-ubyte.gz to ../data/MNIST/raw\n",
            "\n",
            "Downloading http://yann.lecun.com/exdb/mnist/train-labels-idx1-ubyte.gz\n",
            "Downloading http://yann.lecun.com/exdb/mnist/train-labels-idx1-ubyte.gz to ../data/MNIST/raw/train-labels-idx1-ubyte.gz\n"
          ]
        },
        {
          "output_type": "display_data",
          "data": {
            "application/vnd.jupyter.widget-view+json": {
              "model_id": "afb20ac503224673bb4a8ce9af4f5257",
              "version_minor": 0,
              "version_major": 2
            },
            "text/plain": [
              "  0%|          | 0/28881 [00:00<?, ?it/s]"
            ]
          },
          "metadata": {}
        },
        {
          "output_type": "stream",
          "name": "stdout",
          "text": [
            "Extracting ../data/MNIST/raw/train-labels-idx1-ubyte.gz to ../data/MNIST/raw\n",
            "\n",
            "Downloading http://yann.lecun.com/exdb/mnist/t10k-images-idx3-ubyte.gz\n",
            "Downloading http://yann.lecun.com/exdb/mnist/t10k-images-idx3-ubyte.gz to ../data/MNIST/raw/t10k-images-idx3-ubyte.gz\n"
          ]
        },
        {
          "output_type": "display_data",
          "data": {
            "application/vnd.jupyter.widget-view+json": {
              "model_id": "d6f5ab1e10754835911e72c5505328c9",
              "version_minor": 0,
              "version_major": 2
            },
            "text/plain": [
              "  0%|          | 0/1648877 [00:00<?, ?it/s]"
            ]
          },
          "metadata": {}
        },
        {
          "output_type": "stream",
          "name": "stdout",
          "text": [
            "Extracting ../data/MNIST/raw/t10k-images-idx3-ubyte.gz to ../data/MNIST/raw\n",
            "\n",
            "Downloading http://yann.lecun.com/exdb/mnist/t10k-labels-idx1-ubyte.gz\n",
            "Downloading http://yann.lecun.com/exdb/mnist/t10k-labels-idx1-ubyte.gz to ../data/MNIST/raw/t10k-labels-idx1-ubyte.gz\n"
          ]
        },
        {
          "output_type": "display_data",
          "data": {
            "application/vnd.jupyter.widget-view+json": {
              "model_id": "d4f2137dd6ed4dd394d3f8e2347cd3e8",
              "version_minor": 0,
              "version_major": 2
            },
            "text/plain": [
              "  0%|          | 0/4542 [00:00<?, ?it/s]"
            ]
          },
          "metadata": {}
        },
        {
          "output_type": "stream",
          "name": "stdout",
          "text": [
            "Extracting ../data/MNIST/raw/t10k-labels-idx1-ubyte.gz to ../data/MNIST/raw\n",
            "\n"
          ]
        },
        {
          "output_type": "stream",
          "name": "stderr",
          "text": [
            "/usr/local/lib/python3.7/dist-packages/torchvision/datasets/mnist.py:498: UserWarning: The given NumPy array is not writeable, and PyTorch does not support non-writeable tensors. This means you can write to the underlying (supposedly non-writeable) NumPy array using the tensor. You may want to copy the array to protect its data or make it writeable before converting it to a tensor. This type of warning will be suppressed for the rest of this program. (Triggered internally at  /pytorch/torch/csrc/utils/tensor_numpy.cpp:180.)\n",
            "  return torch.from_numpy(parsed.astype(m[2], copy=False)).view(*s)\n"
          ]
        }
      ]
    },
    {
      "cell_type": "markdown",
      "metadata": {
        "id": "HCTzQwi5GdRk"
      },
      "source": [
        "Here is an example of training and testing a model:"
      ]
    },
    {
      "cell_type": "code",
      "metadata": {
        "id": "TaSecQQAoDHb",
        "colab": {
          "base_uri": "https://localhost:8080/"
        },
        "outputId": "22459246-29a4-4329-ef28-0d405a5e7ca7"
      },
      "source": [
        "import torch.nn as nn\n",
        "import torch.optim as optim\n",
        "import itertools\n",
        "\n",
        "def train(model, criterion, train_loader, optimizer, epoch):\n",
        "    # Turn the model to training mode (gradients will be calculated)\n",
        "    model.train()\n",
        "    for batch_idx, (data, target) in enumerate(train_loader):\n",
        "        # We have to call zero_grad() on the optimizer to remove gradients from the previous data pass.\n",
        "        # Otherwise, the gradients will be accumulated throughout many passes.\n",
        "        optimizer.zero_grad()\n",
        "        # Pass in the data and obtain the output.\n",
        "        # When you pass the data directly by calling model(data), the model will internally pass the data through the forward() function.\n",
        "        output = model(data)\n",
        "        # Compare the output and the ground truth and calculate the loss.\n",
        "        loss = criterion(output, target)\n",
        "        # From the calculated loss, call backward() to calculate the gradients for all the paramters in the network.\n",
        "        loss.backward()\n",
        "        # Update the parameters according to the gradients. \n",
        "        optimizer.step()\n",
        "        if batch_idx % 100 == 0:\n",
        "            print('Train Epoch: {} [{}/{} ({:.0f}%)]\\tLoss: {:.6f}'.format(\n",
        "                epoch, batch_idx * len(data), len(train_loader.dataset),\n",
        "                100. * batch_idx / len(train_loader), loss.item()))\n",
        "\n",
        "\n",
        "def test(model, criterion, test_loader):\n",
        "    # Turn the model to testing mode (gradients will not be calculated)\n",
        "    model.eval()\n",
        "    test_loss = 0\n",
        "    correct = 0\n",
        "    with torch.no_grad():\n",
        "        for data, target in test_loader:\n",
        "            output = model(data)\n",
        "            test_loss += criterion(output, target).item()  # sum up batch loss\n",
        "            pred = output.argmax(dim=1, keepdim=True)  # get the index of the max log-probability\n",
        "            correct += pred.eq(target.view_as(pred)).sum().item()\n",
        "\n",
        "    test_loss /= len(test_loader.dataset)\n",
        "\n",
        "    print('\\nTest set: Average loss: {:.4f}, Accuracy: {}/{} ({:.0f}%)\\n'.format(\n",
        "        test_loss, correct, len(test_loader.dataset),\n",
        "        100. * correct / len(test_loader.dataset)))\n",
        "\n",
        "# Number of training epochs\n",
        "epochs = 5\n",
        "# Learning rate\n",
        "lr = 0.01\n",
        "\n",
        "# Create the model\n",
        "model = mnist_network(num_hidden_layers=1,layer_size=20,activation='relu')\n",
        "\n",
        "# Define the training and testing loss\n",
        "train_criterion = nn.CrossEntropyLoss()\n",
        "test_criterion = nn.CrossEntropyLoss(reduction='sum')\n",
        "\n",
        "# Define the optimizer\n",
        "# We have to specify the learning rate and the parameters that the optimizer should update during training.\n",
        "# In this case, we specify that the optimizer should update all the parameters from our model.\n",
        "optimizer = optim.SGD(model.parameters(),lr=lr)\n",
        "\n",
        "for epoch in range(1, epochs + 1):\n",
        "        # Training\n",
        "        train(model, train_criterion, train_loader, optimizer, epoch)\n",
        "        # Testing\n",
        "        test(model, test_criterion, test_loader)\n"
      ],
      "execution_count": 7,
      "outputs": [
        {
          "output_type": "stream",
          "name": "stdout",
          "text": [
            "Train Epoch: 1 [0/60000 (0%)]\tLoss: 2.285505\n",
            "Train Epoch: 1 [6400/60000 (11%)]\tLoss: 1.340753\n",
            "Train Epoch: 1 [12800/60000 (21%)]\tLoss: 0.997325\n",
            "Train Epoch: 1 [19200/60000 (32%)]\tLoss: 0.593624\n",
            "Train Epoch: 1 [25600/60000 (43%)]\tLoss: 0.472901\n",
            "Train Epoch: 1 [32000/60000 (53%)]\tLoss: 0.518887\n",
            "Train Epoch: 1 [38400/60000 (64%)]\tLoss: 0.322537\n",
            "Train Epoch: 1 [44800/60000 (75%)]\tLoss: 0.493784\n",
            "Train Epoch: 1 [51200/60000 (85%)]\tLoss: 0.457551\n",
            "Train Epoch: 1 [57600/60000 (96%)]\tLoss: 0.449372\n",
            "\n",
            "Test set: Average loss: 0.3486, Accuracy: 9003/10000 (90%)\n",
            "\n",
            "Train Epoch: 2 [0/60000 (0%)]\tLoss: 0.312260\n",
            "Train Epoch: 2 [6400/60000 (11%)]\tLoss: 0.304602\n",
            "Train Epoch: 2 [12800/60000 (21%)]\tLoss: 0.255989\n",
            "Train Epoch: 2 [19200/60000 (32%)]\tLoss: 0.359248\n",
            "Train Epoch: 2 [25600/60000 (43%)]\tLoss: 0.248777\n",
            "Train Epoch: 2 [32000/60000 (53%)]\tLoss: 0.358596\n",
            "Train Epoch: 2 [38400/60000 (64%)]\tLoss: 0.216758\n",
            "Train Epoch: 2 [44800/60000 (75%)]\tLoss: 0.417125\n",
            "Train Epoch: 2 [51200/60000 (85%)]\tLoss: 0.365480\n",
            "Train Epoch: 2 [57600/60000 (96%)]\tLoss: 0.421285\n",
            "\n",
            "Test set: Average loss: 0.2947, Accuracy: 9142/10000 (91%)\n",
            "\n",
            "Train Epoch: 3 [0/60000 (0%)]\tLoss: 0.219282\n",
            "Train Epoch: 3 [6400/60000 (11%)]\tLoss: 0.273252\n",
            "Train Epoch: 3 [12800/60000 (21%)]\tLoss: 0.197080\n",
            "Train Epoch: 3 [19200/60000 (32%)]\tLoss: 0.324829\n",
            "Train Epoch: 3 [25600/60000 (43%)]\tLoss: 0.205706\n",
            "Train Epoch: 3 [32000/60000 (53%)]\tLoss: 0.313262\n",
            "Train Epoch: 3 [38400/60000 (64%)]\tLoss: 0.193475\n",
            "Train Epoch: 3 [44800/60000 (75%)]\tLoss: 0.395805\n",
            "Train Epoch: 3 [51200/60000 (85%)]\tLoss: 0.317491\n",
            "Train Epoch: 3 [57600/60000 (96%)]\tLoss: 0.403345\n",
            "\n",
            "Test set: Average loss: 0.2707, Accuracy: 9193/10000 (92%)\n",
            "\n",
            "Train Epoch: 4 [0/60000 (0%)]\tLoss: 0.173972\n",
            "Train Epoch: 4 [6400/60000 (11%)]\tLoss: 0.261446\n",
            "Train Epoch: 4 [12800/60000 (21%)]\tLoss: 0.174719\n",
            "Train Epoch: 4 [19200/60000 (32%)]\tLoss: 0.300777\n",
            "Train Epoch: 4 [25600/60000 (43%)]\tLoss: 0.185919\n",
            "Train Epoch: 4 [32000/60000 (53%)]\tLoss: 0.292853\n",
            "Train Epoch: 4 [38400/60000 (64%)]\tLoss: 0.182638\n",
            "Train Epoch: 4 [44800/60000 (75%)]\tLoss: 0.380399\n",
            "Train Epoch: 4 [51200/60000 (85%)]\tLoss: 0.280630\n",
            "Train Epoch: 4 [57600/60000 (96%)]\tLoss: 0.385850\n",
            "\n",
            "Test set: Average loss: 0.2523, Accuracy: 9260/10000 (93%)\n",
            "\n",
            "Train Epoch: 5 [0/60000 (0%)]\tLoss: 0.143206\n",
            "Train Epoch: 5 [6400/60000 (11%)]\tLoss: 0.247690\n",
            "Train Epoch: 5 [12800/60000 (21%)]\tLoss: 0.163206\n",
            "Train Epoch: 5 [19200/60000 (32%)]\tLoss: 0.257724\n",
            "Train Epoch: 5 [25600/60000 (43%)]\tLoss: 0.170738\n",
            "Train Epoch: 5 [32000/60000 (53%)]\tLoss: 0.281575\n",
            "Train Epoch: 5 [38400/60000 (64%)]\tLoss: 0.171486\n",
            "Train Epoch: 5 [44800/60000 (75%)]\tLoss: 0.370478\n",
            "Train Epoch: 5 [51200/60000 (85%)]\tLoss: 0.248238\n",
            "Train Epoch: 5 [57600/60000 (96%)]\tLoss: 0.367932\n",
            "\n",
            "Test set: Average loss: 0.2373, Accuracy: 9298/10000 (93%)\n",
            "\n"
          ]
        }
      ]
    },
    {
      "cell_type": "markdown",
      "metadata": {
        "id": "tnm5pgiLhBmM"
      },
      "source": [
        "## Part a"
      ]
    },
    {
      "cell_type": "markdown",
      "metadata": {
        "id": "spGF1F_NZvt1"
      },
      "source": [
        "First, we will investigate the effect of varying the size of the hidden layer. Create 3 one-hidden-layer networks with the sizes of the hidden layers being 5, 20, 50, respectively. We will call these the 5-network, the 20-network, and the 50-network. All networks should use ReLU activation."
      ]
    },
    {
      "cell_type": "code",
      "metadata": {
        "id": "gpgpUMfEaLGQ"
      },
      "source": [
        ""
      ],
      "execution_count": null,
      "outputs": []
    },
    {
      "cell_type": "markdown",
      "metadata": {
        "id": "mLDj0aMPaOP6"
      },
      "source": [
        "Train the 5-network on the MNIST dataset for 10 epochs with learning rate 0.001. After each epoch, record the current training accuracy of the network. "
      ]
    },
    {
      "cell_type": "code",
      "metadata": {
        "id": "rFtFPtnOayqM",
        "colab": {
          "base_uri": "https://localhost:8080/"
        },
        "outputId": "ce373853-a094-4192-a52c-afe37134d8ab"
      },
      "source": [
        "# Number of training epochs\n",
        "epochs = 10\n",
        "# Learning rate\n",
        "lr = 0.001\n",
        "\n",
        "# Create the model\n",
        "model = mnist_network(num_hidden_layers=1,layer_size=20,activation='relu')\n",
        "\n",
        "# Define the training and testing loss\n",
        "train_criterion = nn.CrossEntropyLoss()\n",
        "test_criterion = nn.CrossEntropyLoss(reduction='sum')\n",
        "\n",
        "# Define the optimizer\n",
        "# We have to specify the learning rate and the parameters that the optimizer should update during training.\n",
        "# In this case, we specify that the optimizer should update all the parameters from our model.\n",
        "optimizer = optim.SGD(model.parameters(),lr=lr)\n",
        "\n",
        "for epoch in range(1, epochs + 1):\n",
        "        # Training\n",
        "        train(model, train_criterion, train_loader, optimizer, epoch)\n",
        "        # Testing\n",
        "        test(model, test_criterion, test_loader)"
      ],
      "execution_count": 20,
      "outputs": [
        {
          "output_type": "stream",
          "name": "stdout",
          "text": [
            "Train Epoch: 1 [0/60000 (0%)]\tLoss: 2.292128\n",
            "Train Epoch: 1 [6400/60000 (11%)]\tLoss: 2.248914\n",
            "Train Epoch: 1 [12800/60000 (21%)]\tLoss: 2.300758\n",
            "Train Epoch: 1 [19200/60000 (32%)]\tLoss: 2.134316\n",
            "Train Epoch: 1 [25600/60000 (43%)]\tLoss: 2.152854\n",
            "Train Epoch: 1 [32000/60000 (53%)]\tLoss: 2.149182\n",
            "Train Epoch: 1 [38400/60000 (64%)]\tLoss: 2.119044\n",
            "Train Epoch: 1 [44800/60000 (75%)]\tLoss: 2.117052\n",
            "Train Epoch: 1 [51200/60000 (85%)]\tLoss: 1.936370\n",
            "Train Epoch: 1 [57600/60000 (96%)]\tLoss: 1.966388\n",
            "\n",
            "Test set: Average loss: 1.8741, Accuracy: 4944/10000 (49%)\n",
            "\n",
            "Train Epoch: 2 [0/60000 (0%)]\tLoss: 1.768534\n",
            "Train Epoch: 2 [6400/60000 (11%)]\tLoss: 1.667449\n",
            "Train Epoch: 2 [12800/60000 (21%)]\tLoss: 1.939123\n",
            "Train Epoch: 2 [19200/60000 (32%)]\tLoss: 1.552342\n",
            "Train Epoch: 2 [25600/60000 (43%)]\tLoss: 1.668102\n",
            "Train Epoch: 2 [32000/60000 (53%)]\tLoss: 1.633296\n",
            "Train Epoch: 2 [38400/60000 (64%)]\tLoss: 1.528490\n",
            "Train Epoch: 2 [44800/60000 (75%)]\tLoss: 1.711540\n",
            "Train Epoch: 2 [51200/60000 (85%)]\tLoss: 1.410042\n",
            "Train Epoch: 2 [57600/60000 (96%)]\tLoss: 1.450849\n",
            "\n",
            "Test set: Average loss: 1.3716, Accuracy: 6460/10000 (65%)\n",
            "\n",
            "Train Epoch: 3 [0/60000 (0%)]\tLoss: 1.269799\n",
            "Train Epoch: 3 [6400/60000 (11%)]\tLoss: 1.163623\n",
            "Train Epoch: 3 [12800/60000 (21%)]\tLoss: 1.458433\n",
            "Train Epoch: 3 [19200/60000 (32%)]\tLoss: 1.043385\n",
            "Train Epoch: 3 [25600/60000 (43%)]\tLoss: 1.186003\n",
            "Train Epoch: 3 [32000/60000 (53%)]\tLoss: 1.161443\n",
            "Train Epoch: 3 [38400/60000 (64%)]\tLoss: 0.980944\n",
            "Train Epoch: 3 [44800/60000 (75%)]\tLoss: 1.217320\n",
            "Train Epoch: 3 [51200/60000 (85%)]\tLoss: 0.989890\n",
            "Train Epoch: 3 [57600/60000 (96%)]\tLoss: 1.000815\n",
            "\n",
            "Test set: Average loss: 0.9590, Accuracy: 7539/10000 (75%)\n",
            "\n",
            "Train Epoch: 4 [0/60000 (0%)]\tLoss: 0.981057\n",
            "Train Epoch: 4 [6400/60000 (11%)]\tLoss: 0.768992\n",
            "Train Epoch: 4 [12800/60000 (21%)]\tLoss: 0.958149\n",
            "Train Epoch: 4 [19200/60000 (32%)]\tLoss: 0.832627\n",
            "Train Epoch: 4 [25600/60000 (43%)]\tLoss: 0.918496\n",
            "Train Epoch: 4 [32000/60000 (53%)]\tLoss: 0.851457\n",
            "Train Epoch: 4 [38400/60000 (64%)]\tLoss: 0.706120\n",
            "Train Epoch: 4 [44800/60000 (75%)]\tLoss: 0.960290\n",
            "Train Epoch: 4 [51200/60000 (85%)]\tLoss: 0.835848\n",
            "Train Epoch: 4 [57600/60000 (96%)]\tLoss: 0.823191\n",
            "\n",
            "Test set: Average loss: 0.7893, Accuracy: 7910/10000 (79%)\n",
            "\n",
            "Train Epoch: 5 [0/60000 (0%)]\tLoss: 0.845170\n",
            "Train Epoch: 5 [6400/60000 (11%)]\tLoss: 0.621475\n",
            "Train Epoch: 5 [12800/60000 (21%)]\tLoss: 0.766339\n",
            "Train Epoch: 5 [19200/60000 (32%)]\tLoss: 0.734626\n",
            "Train Epoch: 5 [25600/60000 (43%)]\tLoss: 0.814258\n",
            "Train Epoch: 5 [32000/60000 (53%)]\tLoss: 0.733844\n",
            "Train Epoch: 5 [38400/60000 (64%)]\tLoss: 0.602278\n",
            "Train Epoch: 5 [44800/60000 (75%)]\tLoss: 0.852865\n",
            "Train Epoch: 5 [51200/60000 (85%)]\tLoss: 0.753372\n",
            "Train Epoch: 5 [57600/60000 (96%)]\tLoss: 0.742555\n",
            "\n",
            "Test set: Average loss: 0.7066, Accuracy: 8013/10000 (80%)\n",
            "\n",
            "Train Epoch: 6 [0/60000 (0%)]\tLoss: 0.768004\n",
            "Train Epoch: 6 [6400/60000 (11%)]\tLoss: 0.549437\n",
            "Train Epoch: 6 [12800/60000 (21%)]\tLoss: 0.673362\n",
            "Train Epoch: 6 [19200/60000 (32%)]\tLoss: 0.677508\n",
            "Train Epoch: 6 [25600/60000 (43%)]\tLoss: 0.755769\n",
            "Train Epoch: 6 [32000/60000 (53%)]\tLoss: 0.672385\n",
            "Train Epoch: 6 [38400/60000 (64%)]\tLoss: 0.547772\n",
            "Train Epoch: 6 [44800/60000 (75%)]\tLoss: 0.795999\n",
            "Train Epoch: 6 [51200/60000 (85%)]\tLoss: 0.703413\n",
            "Train Epoch: 6 [57600/60000 (96%)]\tLoss: 0.699679\n",
            "\n",
            "Test set: Average loss: 0.6572, Accuracy: 8078/10000 (81%)\n",
            "\n",
            "Train Epoch: 7 [0/60000 (0%)]\tLoss: 0.717572\n",
            "Train Epoch: 7 [6400/60000 (11%)]\tLoss: 0.507157\n",
            "Train Epoch: 7 [12800/60000 (21%)]\tLoss: 0.617856\n",
            "Train Epoch: 7 [19200/60000 (32%)]\tLoss: 0.640674\n",
            "Train Epoch: 7 [25600/60000 (43%)]\tLoss: 0.717487\n",
            "Train Epoch: 7 [32000/60000 (53%)]\tLoss: 0.635191\n",
            "Train Epoch: 7 [38400/60000 (64%)]\tLoss: 0.513878\n",
            "Train Epoch: 7 [44800/60000 (75%)]\tLoss: 0.760845\n",
            "Train Epoch: 7 [51200/60000 (85%)]\tLoss: 0.670316\n",
            "Train Epoch: 7 [57600/60000 (96%)]\tLoss: 0.674299\n",
            "\n",
            "Test set: Average loss: 0.6244, Accuracy: 8131/10000 (81%)\n",
            "\n",
            "Train Epoch: 8 [0/60000 (0%)]\tLoss: 0.682108\n",
            "Train Epoch: 8 [6400/60000 (11%)]\tLoss: 0.481140\n",
            "Train Epoch: 8 [12800/60000 (21%)]\tLoss: 0.580283\n",
            "Train Epoch: 8 [19200/60000 (32%)]\tLoss: 0.615214\n",
            "Train Epoch: 8 [25600/60000 (43%)]\tLoss: 0.690571\n",
            "Train Epoch: 8 [32000/60000 (53%)]\tLoss: 0.609632\n",
            "Train Epoch: 8 [38400/60000 (64%)]\tLoss: 0.490013\n",
            "Train Epoch: 8 [44800/60000 (75%)]\tLoss: 0.736389\n",
            "Train Epoch: 8 [51200/60000 (85%)]\tLoss: 0.645445\n",
            "Train Epoch: 8 [57600/60000 (96%)]\tLoss: 0.658211\n",
            "\n",
            "Test set: Average loss: 0.6009, Accuracy: 8172/10000 (82%)\n",
            "\n",
            "Train Epoch: 9 [0/60000 (0%)]\tLoss: 0.654874\n",
            "Train Epoch: 9 [6400/60000 (11%)]\tLoss: 0.463881\n",
            "Train Epoch: 9 [12800/60000 (21%)]\tLoss: 0.553359\n",
            "Train Epoch: 9 [19200/60000 (32%)]\tLoss: 0.596437\n",
            "Train Epoch: 9 [25600/60000 (43%)]\tLoss: 0.670205\n",
            "Train Epoch: 9 [32000/60000 (53%)]\tLoss: 0.591917\n",
            "Train Epoch: 9 [38400/60000 (64%)]\tLoss: 0.472312\n",
            "Train Epoch: 9 [44800/60000 (75%)]\tLoss: 0.718205\n",
            "Train Epoch: 9 [51200/60000 (85%)]\tLoss: 0.626613\n",
            "Train Epoch: 9 [57600/60000 (96%)]\tLoss: 0.647396\n",
            "\n",
            "Test set: Average loss: 0.5833, Accuracy: 8196/10000 (82%)\n",
            "\n",
            "Train Epoch: 10 [0/60000 (0%)]\tLoss: 0.633771\n",
            "Train Epoch: 10 [6400/60000 (11%)]\tLoss: 0.451305\n",
            "Train Epoch: 10 [12800/60000 (21%)]\tLoss: 0.532256\n",
            "Train Epoch: 10 [19200/60000 (32%)]\tLoss: 0.581595\n",
            "Train Epoch: 10 [25600/60000 (43%)]\tLoss: 0.654892\n",
            "Train Epoch: 10 [32000/60000 (53%)]\tLoss: 0.578533\n",
            "Train Epoch: 10 [38400/60000 (64%)]\tLoss: 0.458730\n",
            "Train Epoch: 10 [44800/60000 (75%)]\tLoss: 0.703965\n",
            "Train Epoch: 10 [51200/60000 (85%)]\tLoss: 0.611852\n",
            "Train Epoch: 10 [57600/60000 (96%)]\tLoss: 0.639815\n",
            "\n",
            "Test set: Average loss: 0.5694, Accuracy: 8223/10000 (82%)\n",
            "\n"
          ]
        }
      ]
    },
    {
      "cell_type": "markdown",
      "metadata": {
        "id": "ShqrwsCjazpB"
      },
      "source": [
        "Test the trained 5-network on the test data. Print out the accuracy."
      ]
    },
    {
      "cell_type": "code",
      "metadata": {
        "id": "DUbHZYLxa5yw"
      },
      "source": [
        ""
      ],
      "execution_count": null,
      "outputs": []
    },
    {
      "cell_type": "markdown",
      "metadata": {
        "id": "b39B1xD9bhez"
      },
      "source": [
        "Train the 20-network on the MNIST dataset for 10 epochs with learning rate 0.001. After each epoch, record the current training accuracy of the network. "
      ]
    },
    {
      "cell_type": "code",
      "metadata": {
        "id": "yKUZhq6lbfvB"
      },
      "source": [
        ""
      ],
      "execution_count": null,
      "outputs": []
    },
    {
      "cell_type": "markdown",
      "metadata": {
        "id": "lqezVf-ybfVR"
      },
      "source": [
        "Test the trained 20-network on the test data. Print out the accuracy."
      ]
    },
    {
      "cell_type": "code",
      "metadata": {
        "id": "1JwFDxuubeki"
      },
      "source": [
        ""
      ],
      "execution_count": null,
      "outputs": []
    },
    {
      "cell_type": "markdown",
      "metadata": {
        "id": "TYFzQ_AObdp0"
      },
      "source": [
        "Train the 50-network on the MNIST dataset for 10 epochs with learning rate 0.001. After each epoch, record the current training accuracy of the network. "
      ]
    },
    {
      "cell_type": "code",
      "metadata": {
        "id": "FpQiI7o-bzdv"
      },
      "source": [
        ""
      ],
      "execution_count": null,
      "outputs": []
    },
    {
      "cell_type": "markdown",
      "metadata": {
        "id": "GnTUT4Gkb0D3"
      },
      "source": [
        "Test the trained 50-network on the test data. Print out the accuracy."
      ]
    },
    {
      "cell_type": "code",
      "metadata": {
        "id": "XcjuzPU-b7AU"
      },
      "source": [
        ""
      ],
      "execution_count": null,
      "outputs": []
    },
    {
      "cell_type": "markdown",
      "metadata": {
        "id": "6JdznrIAb7jy"
      },
      "source": [
        "Plot the training accuracies over the epochs of the networks on the same figure (there should 3 line plots/scatter plots). "
      ]
    },
    {
      "cell_type": "code",
      "metadata": {
        "id": "lrzcDMwhcOJP"
      },
      "source": [
        ""
      ],
      "execution_count": null,
      "outputs": []
    },
    {
      "cell_type": "markdown",
      "metadata": {
        "id": "TmC8m-SRcOkP"
      },
      "source": [
        "What is your conclustion on the effect of varying the hidden layer size on the performance of a neural network trained on the MNIST dataset?"
      ]
    },
    {
      "cell_type": "markdown",
      "metadata": {
        "id": "gdlMt7WdhE4b"
      },
      "source": [
        "## Part b"
      ]
    },
    {
      "cell_type": "markdown",
      "metadata": {
        "id": "SGBCmQHDa69o"
      },
      "source": [
        "Now, we will investigate the effect of varying the number of hidden layers. Create 3 networks with 1, 2, and 3 hidden layers, respectively. The size of all hidden layers should be 20 and the activation function is ReLU. We will call these the 1-network, the 2-network, and the 3-network."
      ]
    },
    {
      "cell_type": "code",
      "metadata": {
        "id": "qbZfJ7Abbc2P"
      },
      "source": [
        ""
      ],
      "execution_count": null,
      "outputs": []
    },
    {
      "cell_type": "markdown",
      "metadata": {
        "id": "f9RMn8b9cm9i"
      },
      "source": [
        "Train the 1-network on the MNIST dataset for 10 epochs with learning rate 0.001. After each epoch, \n",
        "\n",
        "---\n",
        "\n",
        "record the current training accuracy of the network. "
      ]
    },
    {
      "cell_type": "code",
      "metadata": {
        "id": "km6IknYlcm9j"
      },
      "source": [
        ""
      ],
      "execution_count": null,
      "outputs": []
    },
    {
      "cell_type": "markdown",
      "metadata": {
        "id": "sHW3-J4vcm9k"
      },
      "source": [
        "Test the trained 1-network on the test data. Print out the accuracy."
      ]
    },
    {
      "cell_type": "code",
      "metadata": {
        "id": "iROIK0lgcm9m"
      },
      "source": [
        ""
      ],
      "execution_count": null,
      "outputs": []
    },
    {
      "cell_type": "markdown",
      "metadata": {
        "id": "37h7g55ecm9n"
      },
      "source": [
        "Train the 2-network on the MNIST dataset for 10 epochs with learning rate 0.001. After each epoch, record the current training accuracy of the network. "
      ]
    },
    {
      "cell_type": "code",
      "metadata": {
        "id": "_c7TL_5Icm9o"
      },
      "source": [
        ""
      ],
      "execution_count": null,
      "outputs": []
    },
    {
      "cell_type": "markdown",
      "metadata": {
        "id": "8fJGIL1Hcm9p"
      },
      "source": [
        "Test the trained 2-network on the test data. Print out the accuracy."
      ]
    },
    {
      "cell_type": "code",
      "metadata": {
        "id": "m7Sr0On6cm9p"
      },
      "source": [
        ""
      ],
      "execution_count": null,
      "outputs": []
    },
    {
      "cell_type": "markdown",
      "metadata": {
        "id": "T3KteClMcm9q"
      },
      "source": [
        "Train the 3-network on the MNIST dataset for 10 epochs with learning rate 0.001. After each epoch, record the current training accuracy of the network. "
      ]
    },
    {
      "cell_type": "code",
      "metadata": {
        "id": "thWHY7rWcm9r"
      },
      "source": [
        ""
      ],
      "execution_count": null,
      "outputs": []
    },
    {
      "cell_type": "markdown",
      "metadata": {
        "id": "cB4nTkYecm9s"
      },
      "source": [
        "Test the trained 3-network on the test data. Print out the accuracy."
      ]
    },
    {
      "cell_type": "code",
      "metadata": {
        "id": "176L8ou0cm9t"
      },
      "source": [
        ""
      ],
      "execution_count": null,
      "outputs": []
    },
    {
      "cell_type": "markdown",
      "metadata": {
        "id": "CW0D0CWWcm9t"
      },
      "source": [
        "Plot the training accuracies over the epochs of the networks on the same figure (there should 3 line plots/scatter plots). "
      ]
    },
    {
      "cell_type": "code",
      "metadata": {
        "id": "gW6JCxpmcm9t"
      },
      "source": [
        ""
      ],
      "execution_count": null,
      "outputs": []
    },
    {
      "cell_type": "markdown",
      "metadata": {
        "id": "65eqaTMbcm9u"
      },
      "source": [
        "What is your conclusion on the effect of varying the number of hidden layers on the performance of a neural network trained on the MNIST dataset?"
      ]
    },
    {
      "cell_type": "markdown",
      "metadata": {
        "id": "vfrIobY5hJe5"
      },
      "source": [
        "## Part c"
      ]
    },
    {
      "cell_type": "markdown",
      "metadata": {
        "id": "ZX_rfiw5c6ZL"
      },
      "source": [
        "Next, we will investigate the effects of varying the activation functions on a neural network. Create 3 networks. The first network has Sigmoid activation (Sigmoid-network). The second network has ReLU activation (ReLU-network). The third network has Tanh activation (Tanh-network). All networks have one hidden layer with size 20."
      ]
    },
    {
      "cell_type": "code",
      "metadata": {
        "id": "vboiquSGc4cE"
      },
      "source": [
        ""
      ],
      "execution_count": null,
      "outputs": []
    },
    {
      "cell_type": "markdown",
      "metadata": {
        "id": "py5w8S3Cd9E0"
      },
      "source": [
        "Train the Sigmoid-network on the MNIST dataset for 10 epochs with learning rate 0.001. After each epoch, record the current training accuracy of the network. "
      ]
    },
    {
      "cell_type": "code",
      "metadata": {
        "id": "3dGgpGwyd9E2"
      },
      "source": [
        ""
      ],
      "execution_count": null,
      "outputs": []
    },
    {
      "cell_type": "markdown",
      "metadata": {
        "id": "V6PTSxcDd9E2"
      },
      "source": [
        "Test the trained Sigmoid-network on the test data. Print out the accuracy."
      ]
    },
    {
      "cell_type": "code",
      "metadata": {
        "id": "qKhk1nq7d9E3"
      },
      "source": [
        ""
      ],
      "execution_count": null,
      "outputs": []
    },
    {
      "cell_type": "markdown",
      "metadata": {
        "id": "2hpbsbN1d9E4"
      },
      "source": [
        "Train the ReLU-network on the MNIST dataset for 10 epochs with learning rate 0.001. After each epoch, record the current training accuracy of the network. "
      ]
    },
    {
      "cell_type": "code",
      "metadata": {
        "id": "fu3wbDf2d9E7"
      },
      "source": [
        ""
      ],
      "execution_count": null,
      "outputs": []
    },
    {
      "cell_type": "markdown",
      "metadata": {
        "id": "lYOANVPWd9E7"
      },
      "source": [
        "Test the trained ReLU-network on the test data. Print out the accuracy."
      ]
    },
    {
      "cell_type": "code",
      "metadata": {
        "id": "Cw_lcZAsd9E8"
      },
      "source": [
        ""
      ],
      "execution_count": null,
      "outputs": []
    },
    {
      "cell_type": "markdown",
      "metadata": {
        "id": "66X8ymnLd9E8"
      },
      "source": [
        "Train the Tanh-network on the MNIST dataset for 10 epochs with learning rate 0.001. After each epoch, record the current training accuracy of the network. "
      ]
    },
    {
      "cell_type": "code",
      "metadata": {
        "id": "m8HulP31d9E9"
      },
      "source": [
        ""
      ],
      "execution_count": null,
      "outputs": []
    },
    {
      "cell_type": "markdown",
      "metadata": {
        "id": "qYt6o7Aed9E-"
      },
      "source": [
        "Test the trained Tanh-network on the test data. Print out the accuracy."
      ]
    },
    {
      "cell_type": "code",
      "metadata": {
        "id": "q7-YK5gVd9E_"
      },
      "source": [
        ""
      ],
      "execution_count": null,
      "outputs": []
    },
    {
      "cell_type": "markdown",
      "metadata": {
        "id": "YIGx8kPTd9FA"
      },
      "source": [
        "Plot the training accuracies over the epochs of the networks on the same figure (there should 3 line plots/scatter plots). "
      ]
    },
    {
      "cell_type": "code",
      "metadata": {
        "id": "MVy4iVnMd9FA"
      },
      "source": [
        ""
      ],
      "execution_count": null,
      "outputs": []
    },
    {
      "cell_type": "markdown",
      "metadata": {
        "id": "aCGjP911d9FB"
      },
      "source": [
        "What is your conclustion on the effect of varying the activation functions on the performance of a neural network trained on MNIST dataset?"
      ]
    },
    {
      "cell_type": "markdown",
      "metadata": {
        "id": "KiAZ36IdhMvG"
      },
      "source": [
        "## Part d"
      ]
    },
    {
      "cell_type": "markdown",
      "metadata": {
        "id": "8H1N3i-derH7"
      },
      "source": [
        "Finally, we will look into the effect of varying the value of the learning rate on the performance of a neural network. Create a network with one hidden layer of size 20 and ReLU activation."
      ]
    },
    {
      "cell_type": "code",
      "metadata": {
        "id": "WKp-TYHlea9w"
      },
      "source": [
        ""
      ],
      "execution_count": null,
      "outputs": []
    },
    {
      "cell_type": "markdown",
      "metadata": {
        "id": "vUFgUcGUfG7z"
      },
      "source": [
        "Train the network on the MNIST dataset for 10 epochs. Set the learning rate to be 0.1. After each epoch, record the current training accuracy of the network. "
      ]
    },
    {
      "cell_type": "code",
      "metadata": {
        "id": "KtLuEUNKfG72"
      },
      "source": [
        ""
      ],
      "execution_count": null,
      "outputs": []
    },
    {
      "cell_type": "markdown",
      "metadata": {
        "id": "oC5CD3zmfG73"
      },
      "source": [
        "Test the trained network on the test data. Print out the accuracy."
      ]
    },
    {
      "cell_type": "code",
      "metadata": {
        "id": "yT04G-BLfG74"
      },
      "source": [
        ""
      ],
      "execution_count": null,
      "outputs": []
    },
    {
      "cell_type": "markdown",
      "metadata": {
        "id": "REVtrsiqfG75"
      },
      "source": [
        "Train the network on the MNIST dataset for 10 epochs. Set the learning rate to be 0.01. After each epoch, record the current training accuracy of the network. "
      ]
    },
    {
      "cell_type": "code",
      "metadata": {
        "id": "aEXtS_XEfG76"
      },
      "source": [
        ""
      ],
      "execution_count": null,
      "outputs": []
    },
    {
      "cell_type": "markdown",
      "metadata": {
        "id": "z2dLcxgdfG77"
      },
      "source": [
        "Test the trained network on the test data. Print out the accuracy."
      ]
    },
    {
      "cell_type": "code",
      "metadata": {
        "id": "pT9_RHk_fG78"
      },
      "source": [
        ""
      ],
      "execution_count": null,
      "outputs": []
    },
    {
      "cell_type": "markdown",
      "metadata": {
        "id": "iJu3jwdKfG79"
      },
      "source": [
        "Train the network on the MNIST dataset for 10 epochs. Set the learning rate to 0.001. After each epoch, record the current training accuracy of the network. "
      ]
    },
    {
      "cell_type": "code",
      "metadata": {
        "id": "U_GDwCxkfG7-"
      },
      "source": [
        ""
      ],
      "execution_count": null,
      "outputs": []
    },
    {
      "cell_type": "markdown",
      "metadata": {
        "id": "3HbaGOWRfG7_"
      },
      "source": [
        "Test the trained network on the test data. Print out the accuracy."
      ]
    },
    {
      "cell_type": "code",
      "metadata": {
        "id": "hp6jgPocfG8A"
      },
      "source": [
        ""
      ],
      "execution_count": null,
      "outputs": []
    },
    {
      "cell_type": "markdown",
      "metadata": {
        "id": "gCAv1ujIfG8A"
      },
      "source": [
        "Plot the training accuracies over the epochs of the scenarios on the same figure (there should 3 line plots/scatter plots). "
      ]
    },
    {
      "cell_type": "code",
      "metadata": {
        "id": "iTazEXPkfG8B"
      },
      "source": [
        ""
      ],
      "execution_count": null,
      "outputs": []
    },
    {
      "cell_type": "markdown",
      "metadata": {
        "id": "XLal-1hxfG8B"
      },
      "source": [
        "What is your conclustion on the effect of varying the learning rate on the performance of a neural network?"
      ]
    },
    {
      "cell_type": "markdown",
      "metadata": {
        "id": "p9FJtJgufv-n"
      },
      "source": [
        "## REMARK for Problem 2\n",
        "\n",
        "You have observed the effects of varying different hyperparameters on the performance of a neural network **on the MNIST dataset**. However, keep in mind that these trends only apply for **the MNIST dataset** and should not be carried to another problem. There is no single hyperparameter settings that works for all problems. As you do more problems, you will build up your intuitions about the hyperparameters so that you can quickly deploy a good model. For example, people observed that setting the learning rate = 0.001 often works the best, though it is not always the case."
      ]
    },
    {
      "cell_type": "markdown",
      "metadata": {
        "id": "cHSaycfVdHRJ"
      },
      "source": [
        "## Problem 3\n",
        "\n",
        "Experimenting with **k-anomity, i-diversity, and t-closeness**. \n",
        "\n",
        "Consider a dataset, for example, with 3 ordinary attributes and 1 sensitive attribute. Let the 3 ordinary attributes be Age, Sex, and Education and the sensitive attribute be Income, each row in this dataset is of the form:\n",
        "\n",
        "$$\n",
        "    [Age, Sex, Education, Income]\n",
        "$$\n",
        "\n",
        "A hacker is interested in knowing the sensitive attribute Income. When the dataset is designed so that if complies with either **k-anomity**, **i-diversity**, and/or **t-closeness**, even if he or she somehow figures out the values of the three, the hacker may not retrive the sensitive information accurately. In general, **k-anomity** is weaker than **i-diversity**, which, in turn, is weaker than **t-closeness**.\n",
        "\n",
        "By definition, **k-anomity** means that there is at least **k** different rows in the table of which ordinary values are a particular combination of Age, Sex, and Education. For example, the hacker knows the information of the person of interest is Age = 31, Sex = Female, and Education = BS. He or she looks into the data table and found that there are 3 rows with that combination:\n",
        "\n",
        "$$\n",
        "    [Age=31, Sex=Female, Education=BS, Income=300k]\n",
        "$$\n",
        "$$\n",
        "    [Age=31, Sex=Female, Education=BS, Income=70k]\n",
        "$$\n",
        "$$\n",
        "    [Age=31, Sex=Female, Education=BS, Income=20k]\n",
        "$$\n",
        "\n",
        "The hacker cannot tell accurately what the income of the person is because it can be one of the 3 values shown. This particular combination of information has 3-anomity. If every combination corresponds to at least 3 rows, then the dataset has 3-anomity.\n",
        "\n",
        "a) Let's look at the dataset **\"table.csv\"**. Let the sensitive attribute be **education** and others be ordinary attributes. Calculate the anomity of the dataset (the value **k**). First, find all the posible combinations of the ordinary attributes that exists in the dataset. After that, determine the anomity for each combination. The anomity of the dataset is the smallest anomity among the combinations."
      ]
    },
    {
      "cell_type": "code",
      "metadata": {
        "id": "Qrm7S5y5dHRJ",
        "scrolled": true,
        "colab": {
          "base_uri": "https://localhost:8080/",
          "height": 419
        },
        "outputId": "6cb87985-4dfd-47b3-e159-4c7d1ae5baf8"
      },
      "source": [
        "table = pd.read_csv('table.csv')\n",
        "table"
      ],
      "execution_count": 21,
      "outputs": [
        {
          "output_type": "execute_result",
          "data": {
            "text/html": [
              "<div>\n",
              "<style scoped>\n",
              "    .dataframe tbody tr th:only-of-type {\n",
              "        vertical-align: middle;\n",
              "    }\n",
              "\n",
              "    .dataframe tbody tr th {\n",
              "        vertical-align: top;\n",
              "    }\n",
              "\n",
              "    .dataframe thead th {\n",
              "        text-align: right;\n",
              "    }\n",
              "</style>\n",
              "<table border=\"1\" class=\"dataframe\">\n",
              "  <thead>\n",
              "    <tr style=\"text-align: right;\">\n",
              "      <th></th>\n",
              "      <th>Unnamed: 0</th>\n",
              "      <th>age</th>\n",
              "      <th>education</th>\n",
              "      <th>race</th>\n",
              "      <th>sex</th>\n",
              "    </tr>\n",
              "  </thead>\n",
              "  <tbody>\n",
              "    <tr>\n",
              "      <th>0</th>\n",
              "      <td>0</td>\n",
              "      <td>39</td>\n",
              "      <td>Bachelors</td>\n",
              "      <td>White</td>\n",
              "      <td>Male</td>\n",
              "    </tr>\n",
              "    <tr>\n",
              "      <th>1</th>\n",
              "      <td>1</td>\n",
              "      <td>50</td>\n",
              "      <td>Bachelors</td>\n",
              "      <td>White</td>\n",
              "      <td>Male</td>\n",
              "    </tr>\n",
              "    <tr>\n",
              "      <th>2</th>\n",
              "      <td>2</td>\n",
              "      <td>38</td>\n",
              "      <td>HS-grad</td>\n",
              "      <td>White</td>\n",
              "      <td>Male</td>\n",
              "    </tr>\n",
              "    <tr>\n",
              "      <th>3</th>\n",
              "      <td>3</td>\n",
              "      <td>53</td>\n",
              "      <td>11th</td>\n",
              "      <td>Black</td>\n",
              "      <td>Male</td>\n",
              "    </tr>\n",
              "    <tr>\n",
              "      <th>4</th>\n",
              "      <td>4</td>\n",
              "      <td>28</td>\n",
              "      <td>Bachelors</td>\n",
              "      <td>Black</td>\n",
              "      <td>Female</td>\n",
              "    </tr>\n",
              "    <tr>\n",
              "      <th>...</th>\n",
              "      <td>...</td>\n",
              "      <td>...</td>\n",
              "      <td>...</td>\n",
              "      <td>...</td>\n",
              "      <td>...</td>\n",
              "    </tr>\n",
              "    <tr>\n",
              "      <th>32556</th>\n",
              "      <td>32556</td>\n",
              "      <td>27</td>\n",
              "      <td>Assoc-acdm</td>\n",
              "      <td>White</td>\n",
              "      <td>Female</td>\n",
              "    </tr>\n",
              "    <tr>\n",
              "      <th>32557</th>\n",
              "      <td>32557</td>\n",
              "      <td>40</td>\n",
              "      <td>HS-grad</td>\n",
              "      <td>White</td>\n",
              "      <td>Male</td>\n",
              "    </tr>\n",
              "    <tr>\n",
              "      <th>32558</th>\n",
              "      <td>32558</td>\n",
              "      <td>58</td>\n",
              "      <td>HS-grad</td>\n",
              "      <td>White</td>\n",
              "      <td>Female</td>\n",
              "    </tr>\n",
              "    <tr>\n",
              "      <th>32559</th>\n",
              "      <td>32559</td>\n",
              "      <td>22</td>\n",
              "      <td>HS-grad</td>\n",
              "      <td>White</td>\n",
              "      <td>Male</td>\n",
              "    </tr>\n",
              "    <tr>\n",
              "      <th>32560</th>\n",
              "      <td>32560</td>\n",
              "      <td>52</td>\n",
              "      <td>HS-grad</td>\n",
              "      <td>White</td>\n",
              "      <td>Female</td>\n",
              "    </tr>\n",
              "  </tbody>\n",
              "</table>\n",
              "<p>32561 rows × 5 columns</p>\n",
              "</div>"
            ],
            "text/plain": [
              "       Unnamed: 0  age   education   race     sex\n",
              "0               0   39   Bachelors  White    Male\n",
              "1               1   50   Bachelors  White    Male\n",
              "2               2   38     HS-grad  White    Male\n",
              "3               3   53        11th  Black    Male\n",
              "4               4   28   Bachelors  Black  Female\n",
              "...           ...  ...         ...    ...     ...\n",
              "32556       32556   27  Assoc-acdm  White  Female\n",
              "32557       32557   40     HS-grad  White    Male\n",
              "32558       32558   58     HS-grad  White  Female\n",
              "32559       32559   22     HS-grad  White    Male\n",
              "32560       32560   52     HS-grad  White  Female\n",
              "\n",
              "[32561 rows x 5 columns]"
            ]
          },
          "metadata": {},
          "execution_count": 21
        }
      ]
    },
    {
      "cell_type": "code",
      "metadata": {
        "scrolled": true,
        "id": "gVYfLtbLsHfz",
        "colab": {
          "base_uri": "https://localhost:8080/"
        },
        "outputId": "e14ed7f0-b2fe-4fd9-8d3b-b0161b9aad82"
      },
      "source": [
        "print('Unique Age Range Counts: '+str(table['age'].value_counts()))\n",
        "print('Unique Race Counts: '+str(table['race'].value_counts()))\n",
        "print('Unique Sex Range Counts: '+str(table['sex'].value_counts()))"
      ],
      "execution_count": 22,
      "outputs": [
        {
          "output_type": "stream",
          "name": "stdout",
          "text": [
            "Unique Age Range Counts: 36    898\n",
            "31    888\n",
            "34    886\n",
            "23    877\n",
            "35    876\n",
            "     ... \n",
            "83      6\n",
            "85      3\n",
            "88      3\n",
            "87      1\n",
            "86      1\n",
            "Name: age, Length: 73, dtype: int64\n",
            "Unique Race Counts: White                 27816\n",
            "Black                  3124\n",
            "Asian-Pac-Islander     1039\n",
            "Amer-Indian-Eskimo      311\n",
            "Other                   271\n",
            "Name: race, dtype: int64\n",
            "Unique Sex Range Counts: Male      21790\n",
            "Female    10771\n",
            "Name: sex, dtype: int64\n"
          ]
        }
      ]
    },
    {
      "cell_type": "markdown",
      "metadata": {
        "id": "X2jjzVI2sHfz"
      },
      "source": [
        "# COMMENT\n",
        "- based on the code above where I find the value counts of each unique record in the Age Column, there are two instances (ages 86 and 87) that only occur once. \n",
        "- Since this is an ordinary attribute, the k-anonymity of this dataset is 1"
      ]
    },
    {
      "cell_type": "markdown",
      "metadata": {
        "id": "ixGLowBjdHRK"
      },
      "source": [
        "We can improve the **k-anomity** of the dataset by \"suppressing\" the ordinary attributes. Suppressing means reducing the resolution of the attribute's value. For this problem, let's suppress Age by replacing the exact age with an age range. For example, instead of leaving age = 32, replace it with age = 30-40. Apply this to **\"table.csv\"** with the ranges {<20, 20-30, 30-50, >50}. Check if the anomity improves. "
      ]
    },
    {
      "cell_type": "code",
      "metadata": {
        "id": "AGqI5mltdHRK",
        "scrolled": true,
        "outputId": "d87cf7ec-a60d-413c-e5a4-46a5d8df4a1f"
      },
      "source": [
        "# define a simple function that can be applied to the table\n",
        "def age_range(age):\n",
        "    if age < 20:\n",
        "        return '<20'\n",
        "    elif age <= 30:\n",
        "        return '20-30'\n",
        "    elif age <= 50:\n",
        "        return '30-50'\n",
        "    else:\n",
        "        return '>50'\n",
        "\n",
        "table['age'] = table['age'].apply(age_range)  \n",
        "table.head(10)"
      ],
      "execution_count": null,
      "outputs": [
        {
          "data": {
            "text/html": [
              "<div>\n",
              "<style scoped>\n",
              "    .dataframe tbody tr th:only-of-type {\n",
              "        vertical-align: middle;\n",
              "    }\n",
              "\n",
              "    .dataframe tbody tr th {\n",
              "        vertical-align: top;\n",
              "    }\n",
              "\n",
              "    .dataframe thead th {\n",
              "        text-align: right;\n",
              "    }\n",
              "</style>\n",
              "<table border=\"1\" class=\"dataframe\">\n",
              "  <thead>\n",
              "    <tr style=\"text-align: right;\">\n",
              "      <th></th>\n",
              "      <th>Unnamed: 0</th>\n",
              "      <th>age</th>\n",
              "      <th>education</th>\n",
              "      <th>race</th>\n",
              "      <th>sex</th>\n",
              "    </tr>\n",
              "  </thead>\n",
              "  <tbody>\n",
              "    <tr>\n",
              "      <th>0</th>\n",
              "      <td>0</td>\n",
              "      <td>30-50</td>\n",
              "      <td>Bachelors</td>\n",
              "      <td>White</td>\n",
              "      <td>Male</td>\n",
              "    </tr>\n",
              "    <tr>\n",
              "      <th>1</th>\n",
              "      <td>1</td>\n",
              "      <td>30-50</td>\n",
              "      <td>Bachelors</td>\n",
              "      <td>White</td>\n",
              "      <td>Male</td>\n",
              "    </tr>\n",
              "    <tr>\n",
              "      <th>2</th>\n",
              "      <td>2</td>\n",
              "      <td>30-50</td>\n",
              "      <td>HS-grad</td>\n",
              "      <td>White</td>\n",
              "      <td>Male</td>\n",
              "    </tr>\n",
              "    <tr>\n",
              "      <th>3</th>\n",
              "      <td>3</td>\n",
              "      <td>&gt;50</td>\n",
              "      <td>11th</td>\n",
              "      <td>Black</td>\n",
              "      <td>Male</td>\n",
              "    </tr>\n",
              "    <tr>\n",
              "      <th>4</th>\n",
              "      <td>4</td>\n",
              "      <td>20-30</td>\n",
              "      <td>Bachelors</td>\n",
              "      <td>Black</td>\n",
              "      <td>Female</td>\n",
              "    </tr>\n",
              "    <tr>\n",
              "      <th>5</th>\n",
              "      <td>5</td>\n",
              "      <td>30-50</td>\n",
              "      <td>Masters</td>\n",
              "      <td>White</td>\n",
              "      <td>Female</td>\n",
              "    </tr>\n",
              "    <tr>\n",
              "      <th>6</th>\n",
              "      <td>6</td>\n",
              "      <td>30-50</td>\n",
              "      <td>9th</td>\n",
              "      <td>Black</td>\n",
              "      <td>Female</td>\n",
              "    </tr>\n",
              "    <tr>\n",
              "      <th>7</th>\n",
              "      <td>7</td>\n",
              "      <td>&gt;50</td>\n",
              "      <td>HS-grad</td>\n",
              "      <td>White</td>\n",
              "      <td>Male</td>\n",
              "    </tr>\n",
              "    <tr>\n",
              "      <th>8</th>\n",
              "      <td>8</td>\n",
              "      <td>30-50</td>\n",
              "      <td>Masters</td>\n",
              "      <td>White</td>\n",
              "      <td>Female</td>\n",
              "    </tr>\n",
              "    <tr>\n",
              "      <th>9</th>\n",
              "      <td>9</td>\n",
              "      <td>30-50</td>\n",
              "      <td>Bachelors</td>\n",
              "      <td>White</td>\n",
              "      <td>Male</td>\n",
              "    </tr>\n",
              "  </tbody>\n",
              "</table>\n",
              "</div>"
            ],
            "text/plain": [
              "   Unnamed: 0    age  education   race     sex\n",
              "0           0  30-50  Bachelors  White    Male\n",
              "1           1  30-50  Bachelors  White    Male\n",
              "2           2  30-50    HS-grad  White    Male\n",
              "3           3    >50       11th  Black    Male\n",
              "4           4  20-30  Bachelors  Black  Female\n",
              "5           5  30-50    Masters  White  Female\n",
              "6           6  30-50        9th  Black  Female\n",
              "7           7    >50    HS-grad  White    Male\n",
              "8           8  30-50    Masters  White  Female\n",
              "9           9  30-50  Bachelors  White    Male"
            ]
          },
          "execution_count": 25,
          "metadata": {},
          "output_type": "execute_result"
        }
      ]
    },
    {
      "cell_type": "code",
      "metadata": {
        "id": "bl6PPjQVsHgG",
        "outputId": "756d7675-365f-4f27-ef48-a42b85b3e667"
      },
      "source": [
        "# running the same code from earlier to check value counts\n",
        "print('Unique Age Range Counts: '+str(table['age'].value_counts()))\n",
        "print('Unique Race Counts: '+str(table['race'].value_counts()))\n",
        "print('Unique Sex Range Counts: '+str(table['sex'].value_counts()))"
      ],
      "execution_count": null,
      "outputs": [
        {
          "name": "stdout",
          "output_type": "stream",
          "text": [
            "Unique Age Range Counts: 30-50    15529\n",
            "20-30     8915\n",
            ">50       6460\n",
            "<20       1657\n",
            "Name: age, dtype: int64\n",
            "Unique Race Counts: White                 27816\n",
            "Black                  3124\n",
            "Asian-Pac-Islander     1039\n",
            "Amer-Indian-Eskimo      311\n",
            "Other                   271\n",
            "Name: race, dtype: int64\n",
            "Unique Sex Range Counts: Male      21790\n",
            "Female    10771\n",
            "Name: sex, dtype: int64\n"
          ]
        }
      ]
    },
    {
      "cell_type": "markdown",
      "metadata": {
        "id": "HBIipn5tsHgH"
      },
      "source": [
        "# comment\n",
        "- I now see that the smallest value in this dataset is 271 which is the number of people that categorize as an \"Other\" race."
      ]
    },
    {
      "cell_type": "code",
      "metadata": {
        "id": "zP2A7b5hsHgH",
        "outputId": "ffc9b4d9-5080-47dd-ab33-02c4b49cc0c2"
      },
      "source": [
        "other = table[table['race'] == 'Other']\n",
        "print('Unique Age Range Counts: '+str(other['age'].value_counts()))\n",
        "print('Unique Sex Range Counts: '+str(other['sex'].value_counts()))"
      ],
      "execution_count": null,
      "outputs": [
        {
          "name": "stdout",
          "output_type": "stream",
          "text": [
            "Unique Age Range Counts: 20-30    114\n",
            "30-50    112\n",
            ">50       27\n",
            "<20       18\n",
            "Name: age, dtype: int64\n",
            "Unique Sex Range Counts: Male      162\n",
            "Female    109\n",
            "Name: sex, dtype: int64\n"
          ]
        }
      ]
    },
    {
      "cell_type": "markdown",
      "metadata": {
        "id": "hTHK6Gr4sHgH"
      },
      "source": [
        "# comment\n",
        "- now, the smallest value count is 18 which corresponds to those who categorize as \"other\" race and younger than 20 years old"
      ]
    },
    {
      "cell_type": "code",
      "metadata": {
        "scrolled": true,
        "id": "17dK1BeRsHgH",
        "outputId": "ed9e9fed-dc5b-47a4-8e3b-da02440f5f12"
      },
      "source": [
        "youngest = other[other['age'] == '<20']\n",
        "print('Unique Sex Range Counts: '+str(youngest['sex'].value_counts()))"
      ],
      "execution_count": null,
      "outputs": [
        {
          "name": "stdout",
          "output_type": "stream",
          "text": [
            "Unique Sex Range Counts: Female    13\n",
            "Male       5\n",
            "Name: sex, dtype: int64\n"
          ]
        }
      ]
    },
    {
      "cell_type": "markdown",
      "metadata": {
        "id": "7uWqGSwFsHgI"
      },
      "source": [
        "# comment\n",
        "- the smallest value now is 5 which corresponds to males under 20 that identify as an \"other\" race."
      ]
    },
    {
      "cell_type": "code",
      "metadata": {
        "id": "64kly8fjsHgI",
        "outputId": "61168795-47ba-400a-f166-3695e00dab6e"
      },
      "source": [
        "youngest[youngest['sex'] == 'Male']"
      ],
      "execution_count": null,
      "outputs": [
        {
          "data": {
            "text/html": [
              "<div>\n",
              "<style scoped>\n",
              "    .dataframe tbody tr th:only-of-type {\n",
              "        vertical-align: middle;\n",
              "    }\n",
              "\n",
              "    .dataframe tbody tr th {\n",
              "        vertical-align: top;\n",
              "    }\n",
              "\n",
              "    .dataframe thead th {\n",
              "        text-align: right;\n",
              "    }\n",
              "</style>\n",
              "<table border=\"1\" class=\"dataframe\">\n",
              "  <thead>\n",
              "    <tr style=\"text-align: right;\">\n",
              "      <th></th>\n",
              "      <th>Unnamed: 0</th>\n",
              "      <th>age</th>\n",
              "      <th>education</th>\n",
              "      <th>race</th>\n",
              "      <th>sex</th>\n",
              "    </tr>\n",
              "  </thead>\n",
              "  <tbody>\n",
              "    <tr>\n",
              "      <th>9155</th>\n",
              "      <td>9155</td>\n",
              "      <td>&lt;20</td>\n",
              "      <td>HS-grad</td>\n",
              "      <td>Other</td>\n",
              "      <td>Male</td>\n",
              "    </tr>\n",
              "    <tr>\n",
              "      <th>11516</th>\n",
              "      <td>11516</td>\n",
              "      <td>&lt;20</td>\n",
              "      <td>12th</td>\n",
              "      <td>Other</td>\n",
              "      <td>Male</td>\n",
              "    </tr>\n",
              "    <tr>\n",
              "      <th>11727</th>\n",
              "      <td>11727</td>\n",
              "      <td>&lt;20</td>\n",
              "      <td>11th</td>\n",
              "      <td>Other</td>\n",
              "      <td>Male</td>\n",
              "    </tr>\n",
              "    <tr>\n",
              "      <th>17474</th>\n",
              "      <td>17474</td>\n",
              "      <td>&lt;20</td>\n",
              "      <td>7th-8th</td>\n",
              "      <td>Other</td>\n",
              "      <td>Male</td>\n",
              "    </tr>\n",
              "    <tr>\n",
              "      <th>18552</th>\n",
              "      <td>18552</td>\n",
              "      <td>&lt;20</td>\n",
              "      <td>Some-college</td>\n",
              "      <td>Other</td>\n",
              "      <td>Male</td>\n",
              "    </tr>\n",
              "  </tbody>\n",
              "</table>\n",
              "</div>"
            ],
            "text/plain": [
              "       Unnamed: 0  age     education   race   sex\n",
              "9155         9155  <20       HS-grad  Other  Male\n",
              "11516       11516  <20          12th  Other  Male\n",
              "11727       11727  <20          11th  Other  Male\n",
              "17474       17474  <20       7th-8th  Other  Male\n",
              "18552       18552  <20  Some-college  Other  Male"
            ]
          },
          "execution_count": 31,
          "metadata": {},
          "output_type": "execute_result"
        }
      ]
    },
    {
      "cell_type": "markdown",
      "metadata": {
        "id": "M7WDmo-VsHgJ"
      },
      "source": [
        "# comment\n",
        "- looking at the code above, there are 5 observations when filtered down to a specific combination of the 3 ordinary factors\n",
        "- hence the k-anonymity being 5"
      ]
    },
    {
      "cell_type": "markdown",
      "metadata": {
        "id": "Pv-RmXqCdHRK"
      },
      "source": [
        "**K-anomity** is nice, however, it fails in many cases. If the rows which share a combination of ordinary attributes have only a few values for the sensitive attribute, then it is not much better than having no anomity at all. For example, consider:\n",
        "\n",
        "$$\n",
        "    [Age=31, Sex=Female, Education=BS, Income=300k]\n",
        "$$\n",
        "$$\n",
        "    [Age=31, Sex=Female, Education=BS, Income=20k]\n",
        "$$\n",
        "$$\n",
        "    [Age=31, Sex=Female, Education=BS, Income=20k]\n",
        "$$\n",
        "$$\n",
        "    [Age=31, Sex=Female, Education=BS, Income=20k]\n",
        "$$\n",
        "\n",
        "When **k-anomity** fails in the second case, **i-diversity** comes to the rescue. **I-diversity** states that the rows of a particular combination of information must have at least i different values for the sensitive attribute. The above example has 2-diversity, which is not good. \n",
        "\n",
        "b) Calculate the **i-diversity** of the dataset **\"table.csv\"**. Follow similar steps as in part a. "
      ]
    },
    {
      "cell_type": "code",
      "metadata": {
        "id": "eZYCvcukdHRK"
      },
      "source": [
        ""
      ],
      "execution_count": null,
      "outputs": []
    },
    {
      "cell_type": "markdown",
      "metadata": {
        "id": "6qWt9JvTdHRK"
      },
      "source": [
        "Suppressing an attribute can also improve the **i-diversity** of the dataset. Repeat the suppression as in **part a** and check if the diversity improves. If it does not, consider further suppress age by using the range {<20, 20-50, >50}."
      ]
    },
    {
      "cell_type": "code",
      "metadata": {
        "id": "FFVPKWrodHRK"
      },
      "source": [
        ""
      ],
      "execution_count": null,
      "outputs": []
    },
    {
      "cell_type": "markdown",
      "metadata": {
        "id": "TX1lsm8ydHRK"
      },
      "source": [
        "**T-closeness** is even better than **i-diversity**. **T-closeness** requires that for every combination of information, the distribution of the sensitive attribute's value among the corresponding rows must be close to the overall distribution of the sensitive attribute's value for the whole dataset. Distance between distribution is calculated using the Earth Mover Distance (EMD). The dataset has **t-closeness** if no distance exceeds **t**. \n",
        "\n",
        "c) Calculate the overall distribution of **education**. Find the **t-closeness** of the dataset (largest distance between any combination's distribution of marital-status and the overall distribution).\n",
        "\n",
        "You can use **scipy.stats.wasserstein_distance** to calculate the EMD."
      ]
    },
    {
      "cell_type": "code",
      "metadata": {
        "id": "BjR4iG2bdHRK"
      },
      "source": [
        ""
      ],
      "execution_count": null,
      "outputs": []
    }
  ]
}