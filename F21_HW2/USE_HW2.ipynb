{
 "cells": [
  {
   "cell_type": "markdown",
   "metadata": {
    "id": "IqJ5It-dzSP-"
   },
   "source": [
    "# Homework 2\n",
    "\n",
    "DUE Oct 27th at 11:59 PM"
   ]
  },
  {
   "cell_type": "markdown",
   "metadata": {
    "id": "S0P99iOuF6BC"
   },
   "source": [
    "## Problem 1\n",
    "\n",
    "In this problem, we will vary the capacity of our estimator a.k.a machine learning model and see the effect on performance. We are interested in understanding the bias-variance tradeoff and how model capacity influences training and test error."
   ]
  },
  {
   "cell_type": "markdown",
   "metadata": {
    "id": "oEXaoKmvG3IX"
   },
   "source": [
    "Run the following code to load the Boston housing dataset. We will be regressing the median price of a house in Boston using 13 features of its residential locality. This dataset was collected by the U.S. Census Service in the 1970s."
   ]
  },
  {
   "cell_type": "code",
   "execution_count": 1,
   "metadata": {
    "id": "XhTjk9DiHoIN"
   },
   "outputs": [],
   "source": [
    "import pandas as pd\n",
    "from sklearn.datasets import load_boston\n",
    "from sklearn.model_selection import train_test_split\n",
    "import numpy as np\n",
    "\n",
    "X, y = load_boston(return_X_y=True)\n",
    "\n",
    "X_train, X_test, y_train, y_test = train_test_split(X,y,\n",
    "                                                    test_size=0.3, random_state=123,\n",
    "                                                    shuffle=True)"
   ]
  },
  {
   "cell_type": "markdown",
   "metadata": {
    "id": "NitaSGgUH_CQ"
   },
   "source": [
    "a) Fill in the code template below to uniformly draw samples with replacement from the training data. The size of the sampled dataset should be equal to the training dataset size. "
   ]
  },
  {
   "cell_type": "code",
   "execution_count": 2,
   "metadata": {
    "id": "VTRasB9GIlFv"
   },
   "outputs": [],
   "source": [
    "def draw_sample(X,y):\n",
    "    indx = np.random.choice(len(X), len(X), replace = True)\n",
    "    x_samp = X[indx]\n",
    "    y_samp = y[indx]\n",
    "    return x_samp, y_samp"
   ]
  },
  {
   "cell_type": "markdown",
   "metadata": {
    "id": "pTXc9j4CI_Bm"
   },
   "source": [
    "b) We will be using Decision Trees for this problem. Note that the capacity of a decision tree is its maximum depth/number of nodes. In this part, for each depth parameter, you have to run multiple trials. In each trial, you sample a dataset from the training set using the code in part a. Use the sampled dataset to train a decision tree model and obtain predictions on the test data (cross-val is not required). Average predictions over the trials to get the mean estimator for each depth. "
   ]
  },
  {
   "cell_type": "code",
   "execution_count": 3,
   "metadata": {},
   "outputs": [],
   "source": [
    "from sklearn.tree import DecisionTreeRegressor\n",
    "np.random.seed(89)\n",
    "depths = np.arange(2,11)\n",
    "num_trials = np.arange(100)\n",
    "means = []\n",
    "variances =[]\n",
    "avg_train_err = []\n",
    "avg_test_err = []\n",
    "for depth in depths:\n",
    "    # need to store the test predictions and the train values to calculate part d\n",
    "    predictions =[]\n",
    "    train_scores = []\n",
    "    y_train_vals = []\n",
    "    y_test_vals = []\n",
    "    \n",
    "    # initialize the Decision Tree Regressor\n",
    "    tree = DecisionTreeRegressor(max_depth = depth)\n",
    "    \n",
    "    # iterate through the trials\n",
    "    for trial in num_trials:\n",
    "        \n",
    "        # draw a new sample from the training data\n",
    "        new_train = draw_sample(X_train, y_train)\n",
    "        x_use = new_train[0]\n",
    "        y_use = new_train[1]\n",
    "        \n",
    "        # fit the tree model to the new training data\n",
    "        tree.fit(x_use,y_use)\n",
    "        \n",
    "        # keep the test predictions\n",
    "        predictions.append(tree.predict(X_test))\n",
    "        \n",
    "        # keep the train predictions\n",
    "        train_scores.append(tree.predict(x_use))\n",
    "        \n",
    "        # also need to keep the true y_use and y_test\n",
    "        y_train_vals.append(y_use)\n",
    "        y_test_vals.append(y_test)\n",
    "    \n",
    "    # create a matrix that stores all the predictions\n",
    "    prediction_matrix = np.array(predictions)\n",
    "    \n",
    "    # store the mean and variances to use in later parts\n",
    "    mean_predicts = np.mean(prediction_matrix, axis = 0)\n",
    "    vars_of_predictions = np.var(prediction_matrix, axis = 0)\n",
    "    means.append(mean_predicts)\n",
    "    variances.append(vars_of_predictions)\n",
    "    \n",
    "    # change the data type to array so much easier to work with\n",
    "    train_matrix = np.array(train_scores)\n",
    "    ytrain_matrix = np.array(y_train_vals)\n",
    "    ytest_matrix = np.array(y_test_vals)\n",
    "    \n",
    "    # store the train and test error\n",
    "    avg_train_err.append(np.mean(np.absolute(train_matrix - ytrain_matrix)))\n",
    "    avg_test_err.append(np.mean(np.absolute(prediction_matrix - y_test)))\n"
   ]
  },
  {
   "cell_type": "markdown",
   "metadata": {},
   "source": [
    "c) Compute the average bias<sup>2,</sup> and average variance and plot them as a function of depth on the same plot. What does the general trend indicate?"
   ]
  },
  {
   "cell_type": "code",
   "execution_count": 4,
   "metadata": {},
   "outputs": [],
   "source": [
    "# calculate the bias squared for each depth\n",
    "bias_sq = []\n",
    "for i in range(9):\n",
    "    use_bias = np.square(means[i]-y_test).mean()\n",
    "    bias_sq.append(use_bias)\n",
    "\n",
    "# calculate the average variance for each depth\n",
    "variance = []\n",
    "for i in range(9):\n",
    "    use_var = np.mean(variances[i])\n",
    "    variance.append(use_var)"
   ]
  },
  {
   "cell_type": "code",
   "execution_count": 5,
   "metadata": {
    "scrolled": true
   },
   "outputs": [
    {
     "data": {
      "text/html": [
       "<div>\n",
       "<style scoped>\n",
       "    .dataframe tbody tr th:only-of-type {\n",
       "        vertical-align: middle;\n",
       "    }\n",
       "\n",
       "    .dataframe tbody tr th {\n",
       "        vertical-align: top;\n",
       "    }\n",
       "\n",
       "    .dataframe thead th {\n",
       "        text-align: right;\n",
       "    }\n",
       "</style>\n",
       "<table border=\"1\" class=\"dataframe\">\n",
       "  <thead>\n",
       "    <tr style=\"text-align: right;\">\n",
       "      <th></th>\n",
       "      <th>Depth</th>\n",
       "      <th>Bias Squared</th>\n",
       "      <th>Variance</th>\n",
       "    </tr>\n",
       "  </thead>\n",
       "  <tbody>\n",
       "    <tr>\n",
       "      <th>0</th>\n",
       "      <td>2</td>\n",
       "      <td>29.148532</td>\n",
       "      <td>7.457474</td>\n",
       "    </tr>\n",
       "    <tr>\n",
       "      <th>1</th>\n",
       "      <td>3</td>\n",
       "      <td>20.079597</td>\n",
       "      <td>13.341545</td>\n",
       "    </tr>\n",
       "    <tr>\n",
       "      <th>2</th>\n",
       "      <td>4</td>\n",
       "      <td>16.959014</td>\n",
       "      <td>13.863307</td>\n",
       "    </tr>\n",
       "    <tr>\n",
       "      <th>3</th>\n",
       "      <td>5</td>\n",
       "      <td>16.062527</td>\n",
       "      <td>15.649275</td>\n",
       "    </tr>\n",
       "    <tr>\n",
       "      <th>4</th>\n",
       "      <td>6</td>\n",
       "      <td>15.987568</td>\n",
       "      <td>16.907620</td>\n",
       "    </tr>\n",
       "    <tr>\n",
       "      <th>5</th>\n",
       "      <td>7</td>\n",
       "      <td>14.901114</td>\n",
       "      <td>18.141800</td>\n",
       "    </tr>\n",
       "    <tr>\n",
       "      <th>6</th>\n",
       "      <td>8</td>\n",
       "      <td>13.752170</td>\n",
       "      <td>16.752413</td>\n",
       "    </tr>\n",
       "    <tr>\n",
       "      <th>7</th>\n",
       "      <td>9</td>\n",
       "      <td>15.900485</td>\n",
       "      <td>18.394839</td>\n",
       "    </tr>\n",
       "    <tr>\n",
       "      <th>8</th>\n",
       "      <td>10</td>\n",
       "      <td>15.786618</td>\n",
       "      <td>18.634643</td>\n",
       "    </tr>\n",
       "  </tbody>\n",
       "</table>\n",
       "</div>"
      ],
      "text/plain": [
       "   Depth  Bias Squared   Variance\n",
       "0      2     29.148532   7.457474\n",
       "1      3     20.079597  13.341545\n",
       "2      4     16.959014  13.863307\n",
       "3      5     16.062527  15.649275\n",
       "4      6     15.987568  16.907620\n",
       "5      7     14.901114  18.141800\n",
       "6      8     13.752170  16.752413\n",
       "7      9     15.900485  18.394839\n",
       "8     10     15.786618  18.634643"
      ]
     },
     "execution_count": 5,
     "metadata": {},
     "output_type": "execute_result"
    }
   ],
   "source": [
    "bv_df = pd.DataFrame({'Depth':depths,'Bias Squared': bias_sq,'Variance':variance})\n",
    "bv_df"
   ]
  },
  {
   "cell_type": "code",
   "execution_count": 7,
   "metadata": {
    "scrolled": true
   },
   "outputs": [
    {
     "name": "stdout",
     "output_type": "stream",
     "text": [
      "\n"
     ]
    },
    {
     "data": {
      "image/png": "[encoded data removed]",
      "text/plain": [
       "<Figure size 432x288 with 1 Axes>"
      ]
     },
     "metadata": {
      "needs_background": "light"
     },
     "output_type": "display_data"
    }
   ],
   "source": [
    "import matplotlib.pyplot as plt\n",
    "\n",
    "plt.plot(depths,bias_sq, label = 'Bias Squared')\n",
    "plt.plot(depths,variance, label = 'Variance')\n",
    "plt.xlabel('Depth')\n",
    "plt.ylabel('Average Performance')\n",
    "plt.title('Performance Against Model Complexity')\n",
    "plt.legend()\n",
    "plt.grid()\n",
    "print()"
   ]
  },
  {
   "cell_type": "markdown",
   "metadata": {},
   "source": [
    "# COMMENT\n",
    "_The general trend indicates that as the model complexity increases, so does the variance. The opposite is true for the Bias Squared which shows a gradual decrease in average performance as the depth increases. This is because as the depth increases, the more flexible and overfitting the model is. However, with a shorter depth, the model is too smooth and cannot generalize to new data. I expect that the bias will continue to decrease and the variance will continue to increase as depth gets bigger. We regard the optimal depth to be where the Bias and Variance is minimized or intersecting which is between 5 and 6._"
   ]
  },
  {
   "cell_type": "markdown",
   "metadata": {
    "id": "VlXmFPwsYILA"
   },
   "source": [
    "d) Compute the average training and average test error and plot them as a function of the depth.  What do the general trends from both the plots indicate?"
   ]
  },
  {
   "cell_type": "code",
   "execution_count": 8,
   "metadata": {},
   "outputs": [
    {
     "data": {
      "text/html": [
       "<div>\n",
       "<style scoped>\n",
       "    .dataframe tbody tr th:only-of-type {\n",
       "        vertical-align: middle;\n",
       "    }\n",
       "\n",
       "    .dataframe tbody tr th {\n",
       "        vertical-align: top;\n",
       "    }\n",
       "\n",
       "    .dataframe thead th {\n",
       "        text-align: right;\n",
       "    }\n",
       "</style>\n",
       "<table border=\"1\" class=\"dataframe\">\n",
       "  <thead>\n",
       "    <tr style=\"text-align: right;\">\n",
       "      <th></th>\n",
       "      <th>Depth</th>\n",
       "      <th>Training Error</th>\n",
       "      <th>Testing Error</th>\n",
       "    </tr>\n",
       "  </thead>\n",
       "  <tbody>\n",
       "    <tr>\n",
       "      <th>0</th>\n",
       "      <td>2</td>\n",
       "      <td>3.383536</td>\n",
       "      <td>4.177737</td>\n",
       "    </tr>\n",
       "    <tr>\n",
       "      <th>1</th>\n",
       "      <td>3</td>\n",
       "      <td>2.616248</td>\n",
       "      <td>3.770556</td>\n",
       "    </tr>\n",
       "    <tr>\n",
       "      <th>2</th>\n",
       "      <td>4</td>\n",
       "      <td>2.021982</td>\n",
       "      <td>3.419914</td>\n",
       "    </tr>\n",
       "    <tr>\n",
       "      <th>3</th>\n",
       "      <td>5</td>\n",
       "      <td>1.585315</td>\n",
       "      <td>3.384659</td>\n",
       "    </tr>\n",
       "    <tr>\n",
       "      <th>4</th>\n",
       "      <td>6</td>\n",
       "      <td>1.180106</td>\n",
       "      <td>3.392840</td>\n",
       "    </tr>\n",
       "    <tr>\n",
       "      <th>5</th>\n",
       "      <td>7</td>\n",
       "      <td>0.849342</td>\n",
       "      <td>3.449965</td>\n",
       "    </tr>\n",
       "    <tr>\n",
       "      <th>6</th>\n",
       "      <td>8</td>\n",
       "      <td>0.568423</td>\n",
       "      <td>3.427517</td>\n",
       "    </tr>\n",
       "    <tr>\n",
       "      <th>7</th>\n",
       "      <td>9</td>\n",
       "      <td>0.355610</td>\n",
       "      <td>3.553423</td>\n",
       "    </tr>\n",
       "    <tr>\n",
       "      <th>8</th>\n",
       "      <td>10</td>\n",
       "      <td>0.226538</td>\n",
       "      <td>3.569865</td>\n",
       "    </tr>\n",
       "  </tbody>\n",
       "</table>\n",
       "</div>"
      ],
      "text/plain": [
       "   Depth  Training Error  Testing Error\n",
       "0      2        3.383536       4.177737\n",
       "1      3        2.616248       3.770556\n",
       "2      4        2.021982       3.419914\n",
       "3      5        1.585315       3.384659\n",
       "4      6        1.180106       3.392840\n",
       "5      7        0.849342       3.449965\n",
       "6      8        0.568423       3.427517\n",
       "7      9        0.355610       3.553423\n",
       "8     10        0.226538       3.569865"
      ]
     },
     "execution_count": 8,
     "metadata": {},
     "output_type": "execute_result"
    }
   ],
   "source": [
    "train_test_df = pd.DataFrame({'Depth':depths,'Training Error': avg_train_err,'Testing Error':avg_test_err})\n",
    "train_test_df"
   ]
  },
  {
   "cell_type": "code",
   "execution_count": 9,
   "metadata": {
    "id": "-B-jhZ8AhxPF"
   },
   "outputs": [
    {
     "name": "stdout",
     "output_type": "stream",
     "text": [
      "\n"
     ]
    },
    {
     "data": {
      "image/png": "[encoded data removed]",
      "text/plain": [
       "<Figure size 432x288 with 1 Axes>"
      ]
     },
     "metadata": {
      "needs_background": "light"
     },
     "output_type": "display_data"
    }
   ],
   "source": [
    "plt.plot(depths,avg_train_err, label = 'Training Performance')\n",
    "plt.plot(depths,avg_test_err, label = 'Testing Performance')\n",
    "plt.xlabel('Depth')\n",
    "plt.ylabel('Error')\n",
    "plt.title('Performance Against Model Complexity')\n",
    "plt.legend()\n",
    "plt.grid()\n",
    "print()"
   ]
  },
  {
   "cell_type": "markdown",
   "metadata": {},
   "source": [
    "# COMMENT\n",
    "_The general trend indicates that the training error decreases as the depth increases. However, the testing error stays pretty stagnant and doesn't really show much improvement even as depth increases. This is expected since the model is trained on the training data but when it is exposed to unseen data, it does not work well. This large gap between training and testing performance indicates that the model would not work well with new data since it does not generalize easily._"
   ]
  },
  {
   "cell_type": "markdown",
   "metadata": {
    "id": "CczLHmQoVoJP"
   },
   "source": [
    "## Problem 2\n",
    "\n",
    "In this problem, we will apply and compare 2 methods for dimensionality reduction: **PCA** and **LDA**. Dimensionality reduction is an essential step in preparing your data before passing them into a learning model. If done correctly, the small resulting set of dimensions can capture most of the important patterns in the data while reducing noises and training time. However, too much compression can lead to loss of useful information."
   ]
  },
  {
   "cell_type": "markdown",
   "metadata": {
    "id": "T7m_7BtXx_Hu"
   },
   "source": [
    "Run the following code to load the Boston dataset as a binary classification problem."
   ]
  },
  {
   "cell_type": "code",
   "execution_count": 10,
   "metadata": {
    "id": "mHxmGGlkyKAw"
   },
   "outputs": [],
   "source": [
    "np.random.seed(937)\n",
    "import numpy as np\n",
    "from sklearn.model_selection import train_test_split\n",
    "from sklearn.datasets import load_boston\n",
    "\n",
    "X, y = load_boston(return_X_y=True)\n",
    "\n",
    "median = np.median(y)\n",
    "for i in range(len(y)):\n",
    "    if y[i] > median:\n",
    "        y[i] = 1\n",
    "    else:\n",
    "        y[i] = 0\n",
    "\n",
    "X_train, X_test, y_train, y_test = train_test_split(X,y,\n",
    "                                                    test_size=0.2,\n",
    "                                                    shuffle=True)"
   ]
  },
  {
   "cell_type": "markdown",
   "metadata": {
    "id": "bO9Dy4pByKwB"
   },
   "source": [
    "a) Use PCA to reduce the training data to one dimensions. Fit a SVM classifier on the reduced data."
   ]
  },
  {
   "cell_type": "code",
   "execution_count": 11,
   "metadata": {
    "id": "jPIIWBO1ypD9",
    "outputId": "76721e34-61cd-4cd6-81e1-e0815853e615",
    "scrolled": true
   },
   "outputs": [
    {
     "data": {
      "text/plain": [
       "SVC(C=1.0, cache_size=200, class_weight=None, coef0=0.0,\n",
       "    decision_function_shape='ovr', degree=3, gamma='auto', kernel='rbf',\n",
       "    max_iter=-1, probability=False, random_state=None, shrinking=True,\n",
       "    tol=0.001, verbose=False)"
      ]
     },
     "execution_count": 11,
     "metadata": {},
     "output_type": "execute_result"
    }
   ],
   "source": [
    "np.random.seed(99)\n",
    "from sklearn.decomposition import PCA\n",
    "from sklearn.svm import SVC\n",
    "\n",
    "# pca to one dimension\n",
    "pca_estimator = PCA(n_components = 1)\n",
    "\n",
    "# fit the model on the training data\n",
    "reduced_xtrain = pca_estimator.fit_transform(X_train)\n",
    "\n",
    "# initialize and fit svm to the reduced data\n",
    "class1 = SVC(gamma = 'auto')\n",
    "class1.fit(reduced_xtrain,y_train)"
   ]
  },
  {
   "cell_type": "markdown",
   "metadata": {
    "id": "sjd9OZ-rypot"
   },
   "source": [
    "Now evaluate the trained model on the testing data. Remember to transform the testing data using the same PCA model fitted on your training data. Report the result as a confusion matrix."
   ]
  },
  {
   "cell_type": "code",
   "execution_count": 12,
   "metadata": {
    "id": "1Qr41W2FzBiS",
    "outputId": "056e8d39-c779-46fe-c116-9a16477830e5"
   },
   "outputs": [
    {
     "data": {
      "text/plain": [
       "array([[34, 13],\n",
       "       [16, 39]])"
      ]
     },
     "execution_count": 12,
     "metadata": {},
     "output_type": "execute_result"
    }
   ],
   "source": [
    "np.random.seed(38)\n",
    "import matplotlib.pyplot as plt\n",
    "from sklearn.metrics import confusion_matrix\n",
    "\n",
    "# transform the testing data using the same PCA model\n",
    "reduced_xtest = pca_estimator.transform(X_test)\n",
    "\n",
    "# Predict results from pca model\n",
    "y_pred = class1.predict(reduced_xtest)\n",
    "\n",
    "# print performance of the svm on test data\n",
    "confusion_matrix(y_test, y_pred)"
   ]
  },
  {
   "cell_type": "markdown",
   "metadata": {
    "id": "x9izRqJzzA0n"
   },
   "source": [
    "b) Use LDA to reduce the training data to two dimensions. Fit a SVM classifier on the reduced data."
   ]
  },
  {
   "cell_type": "code",
   "execution_count": 13,
   "metadata": {
    "id": "ZaqWsymrzKkd",
    "outputId": "8dde715e-4614-4da1-b90b-f3f96db96c65"
   },
   "outputs": [
    {
     "data": {
      "text/plain": [
       "SVC(C=1.0, cache_size=200, class_weight=None, coef0=0.0,\n",
       "    decision_function_shape='ovr', degree=3, gamma='auto', kernel='rbf',\n",
       "    max_iter=-1, probability=False, random_state=None, shrinking=True,\n",
       "    tol=0.001, verbose=False)"
      ]
     },
     "execution_count": 13,
     "metadata": {},
     "output_type": "execute_result"
    }
   ],
   "source": [
    "import warnings\n",
    "warnings.filterwarnings('ignore')\n",
    "np.random.seed(34)\n",
    "from sklearn.discriminant_analysis import LinearDiscriminantAnalysis\n",
    "from sklearn.svm import SVC\n",
    "\n",
    "# initialize LDA model\n",
    "LDA_estimator = LinearDiscriminantAnalysis(n_components = 2)\n",
    "\n",
    "# fit the model on the training data\n",
    "reduced_xtrain = LDA_estimator.fit_transform(X_train, y_train)\n",
    "\n",
    "# initialize and fit svm to the reduced data\n",
    "class2 = SVC(gamma = 'auto')\n",
    "class2.fit(reduced_xtrain,y_train)"
   ]
  },
  {
   "cell_type": "markdown",
   "metadata": {
    "id": "nhf3xfdpzLCV"
   },
   "source": [
    "Similar to part **b**, evaluate the trained model on the testing data. Report the result as a confusion matrix"
   ]
  },
  {
   "cell_type": "code",
   "execution_count": 14,
   "metadata": {
    "id": "CjrGGBUvzWZC",
    "outputId": "be2a63bf-e4e4-4e61-8f01-b1bfa7e45073"
   },
   "outputs": [
    {
     "data": {
      "text/plain": [
       "array([[40,  7],\n",
       "       [19, 36]])"
      ]
     },
     "execution_count": 14,
     "metadata": {},
     "output_type": "execute_result"
    }
   ],
   "source": [
    "np.random.seed(28)\n",
    "import matplotlib.pyplot as plt\n",
    "from sklearn.metrics import confusion_matrix\n",
    "\n",
    "# transform the testing data using the same PCA model\n",
    "reduced_xtest = LDA_estimator.transform(X_test)\n",
    "\n",
    "# Predict results from lda model\n",
    "y_pred = class2.predict(reduced_xtest)\n",
    "\n",
    "# print performance of the svm on test data\n",
    "confusion_matrix(y_test, y_pred)"
   ]
  },
  {
   "cell_type": "markdown",
   "metadata": {
    "id": "6AqobdxtzWx9"
   },
   "source": [
    "c) Now without any dimensionality reduction, train a SVM model on the original data. Report the result as a confusion matrix."
   ]
  },
  {
   "cell_type": "code",
   "execution_count": 15,
   "metadata": {
    "id": "DpmM93peznh1",
    "outputId": "8efc1778-67f3-4f25-e0a4-7433821fbf1b"
   },
   "outputs": [
    {
     "data": {
      "text/plain": [
       "array([[21, 26],\n",
       "       [ 4, 51]])"
      ]
     },
     "execution_count": 15,
     "metadata": {},
     "output_type": "execute_result"
    }
   ],
   "source": [
    "np.random.seed(94)\n",
    "from sklearn.svm import SVC\n",
    "from sklearn.metrics import confusion_matrix\n",
    "\n",
    "# initialize and fit svm to original data\n",
    "class3 = SVC(gamma = 'auto')\n",
    "class3.fit(X_train,y_train)\n",
    "\n",
    "# predict results from SVM model of original data\n",
    "y_pred = class3.predict(X_test)\n",
    "\n",
    "# print performance of the svm on test data\n",
    "confusion_matrix(y_test, y_pred)"
   ]
  },
  {
   "cell_type": "markdown",
   "metadata": {
    "id": "WFyfAgaszn-h"
   },
   "source": [
    "d) Compare the confusion matrices from the three strategies. "
   ]
  },
  {
   "cell_type": "markdown",
   "metadata": {
    "id": "f0ihZkQrr9V5"
   },
   "source": [
    "# COMMENT\n",
    "_The best performance I got was with LDA dimensionality reduction where there were only 26 missclassifications. This is a smaller error compared to the PCA reduced data with 29 missclassifications and the worst performing model which was the unreduced model with 30 missclassifications. Looking at specifically the false classifications, the unreduced model has significantly more false positives that false negatives. The two other strategies showed more false positive classifications, but not by a lot like we see with the unreduced model. As for the correctly predicted values, Both LDA and the unreduced models correctly predicted more positives than negatives while the PCA reduced model correctly predicted more negatives than positives._"
   ]
  },
  {
   "cell_type": "markdown",
   "metadata": {
    "id": "f8eAV2jyz3c1"
   },
   "source": [
    "## Problem 3\n",
    "\n",
    "In this problem, you will investigate how the size of the training data on the performance of a generative model (NB) and a discriminative model (LR). **You are free to use scikit-learn's NB and LR.** \n",
    "\n",
    "\n"
   ]
  },
  {
   "cell_type": "markdown",
   "metadata": {
    "id": "VbtHCyu2d0mM"
   },
   "source": [
    "Run the following code to load and prepare the Boston dataset."
   ]
  },
  {
   "cell_type": "code",
   "execution_count": 16,
   "metadata": {
    "id": "W4n_MTk1d2PU"
   },
   "outputs": [],
   "source": [
    "np.random.seed(945)\n",
    "from sklearn.model_selection import train_test_split\n",
    "from sklearn.datasets import load_boston\n",
    "\n",
    "X, y = load_boston(return_X_y=True)\n",
    "\n",
    "median = np.median(y)\n",
    "for i in range(len(y)):\n",
    "    if y[i] > median:\n",
    "        y[i] = 1\n",
    "    else:\n",
    "        y[i] = 0\n",
    "\n",
    "X_train, X_test, y_train, y_test = train_test_split(X,y,\n",
    "                                                    test_size=0.2,\n",
    "                                                    shuffle=True)"
   ]
  },
  {
   "cell_type": "markdown",
   "metadata": {
    "id": "6ArFd7JOd2xN"
   },
   "source": [
    "a) We will train NB classifiers that use only a portion of the training data. Let's vary this portion from 1% to 100% of the training set (100 iterations). For each portion value, sample the training set according to the portion, train a NB classifer on this portion of the training set, and evaluate the model accuracy on the testing set. Notice that because the quality of the model depends on the specific subset of the training data that we draw, you will have to repeat the experiment many times for any portion value and report the average (If you repeat for a large number of times, say 100, expect your code to run for a few minutes). "
   ]
  },
  {
   "cell_type": "code",
   "execution_count": 17,
   "metadata": {
    "id": "RxqqgUARd6yW"
   },
   "outputs": [],
   "source": [
    "np.random.seed(101)\n",
    "from sklearn.naive_bayes import MultinomialNB\n",
    "\n",
    "# save a list of the performance values\n",
    "perf_vals_NB = []\n",
    "\n",
    "# iterate through all the portions of the training set\n",
    "for percent in np.arange(0.01,1.01,0.01):\n",
    "    perf_each_trial = []\n",
    "    # obtain the number of values that fit the portion of training we're trying to get\n",
    "    portion = int(round(len(X_train)*percent))\n",
    "    \n",
    "    # repeat the sampling for each portion multiple times to get an average\n",
    "    for i in range(100):\n",
    "        # randomly chose the correct portion of indicies to slice from the training sample\n",
    "        inds = np.random.choice(range(len(X_train)),portion,replace = False)\n",
    "    \n",
    "        # create the new samples of correct portion size\n",
    "        new_X = X_train[inds]\n",
    "        new_Y = y_train[inds]\n",
    "    \n",
    "        # initialize the Naive Bayes Classifier\n",
    "        gnb = MultinomialNB()\n",
    "    \n",
    "        # fit the Classifier to the portion of training and predict y from test\n",
    "        gnb.fit(new_X, new_Y)\n",
    "    \n",
    "        # obtain the score\n",
    "        curr_score = gnb.score(X_test, y_test)\n",
    "        perf_each_trial.append(curr_score)\n",
    "    perf_vals_NB.append(np.mean(perf_each_trial))"
   ]
  },
  {
   "cell_type": "markdown",
   "metadata": {
    "id": "6Mj8OsKRd95y"
   },
   "source": [
    "Plot the accuracies of the models versus the portion of the training set used. Comment on the effect of increasing the size of the training dataset on the performance of NB."
   ]
  },
  {
   "cell_type": "code",
   "execution_count": 18,
   "metadata": {
    "id": "2C0_HGo6eBMj",
    "outputId": "a48bfda0-3e00-41c6-9d88-cfb84ca508d9",
    "scrolled": true
   },
   "outputs": [
    {
     "name": "stdout",
     "output_type": "stream",
     "text": [
      "\n"
     ]
    },
    {
     "data": {
      "image/png": "[encoded data removed]",
      "text/plain": [
       "<Figure size 432x288 with 1 Axes>"
      ]
     },
     "metadata": {
      "needs_background": "light"
     },
     "output_type": "display_data"
    }
   ],
   "source": [
    "import matplotlib.pyplot as plt\n",
    "\n",
    "plt.plot(np.arange(1,101),perf_vals_NB)\n",
    "plt.xlabel('Portion of the Training Set used')\n",
    "plt.ylabel('Accuracy')\n",
    "plt.title('Accuracies of the Models vs. the Portion of the Training set used')\n",
    "plt.grid()\n",
    "print()"
   ]
  },
  {
   "cell_type": "markdown",
   "metadata": {},
   "source": [
    "# COMMENT\n",
    "_When we increase the portion of the training set used, or in a general case the size of the training set, the overall performance increases. It looks like after 10% of the training data is being used, the accuracy performance jumps more than 10%. After about 20% of the training set is being used, the accuracy performance stays stagnant at a value around 0.79._"
   ]
  },
  {
   "cell_type": "markdown",
   "metadata": {
    "id": "yWrZJvk8eBlr"
   },
   "source": [
    "b) Repeat part **b** with LR."
   ]
  },
  {
   "cell_type": "code",
   "execution_count": 19,
   "metadata": {
    "id": "2epEqcHoeGAH",
    "outputId": "e4421261-fd08-41ae-b455-e81ce0da948b"
   },
   "outputs": [],
   "source": [
    "import warnings\n",
    "warnings.filterwarnings('ignore')\n",
    "from sklearn.linear_model import LogisticRegression\n",
    "\n",
    "# save a list of the performance values\n",
    "perf_vals_LR = []\n",
    "\n",
    "# iterate through all the portions of the training set\n",
    "for percent in np.arange(0.01,1.01,0.01):\n",
    "    perf_each_portion = []\n",
    "    # obtain the number of values that fit the portion of training we're trying to get\n",
    "    portion = int(round(len(X_train)*percent))\n",
    "    \n",
    "    # repeat the sampling for each portion multiple times to get an average\n",
    "    for i in range(100):\n",
    "        # randomly chose the correct portion of indicies to slice from the training sample\n",
    "        inds = np.random.choice(range(len(X_train)),portion,replace = False)\n",
    "    \n",
    "        # create the new samples of correct portion size\n",
    "        new_X = X_train[inds]\n",
    "        new_Y = y_train[inds]\n",
    "\n",
    "        # initialize a while loop to check the number of classes in the y train\n",
    "        if len(np.unique(new_Y)) == 2:\n",
    "            # initialize the Logistic Regression Classifier\n",
    "            gnb = LogisticRegression(solver = 'liblinear', max_iter = 100)\n",
    "    \n",
    "            # fit the Classifier to the portion of training and predict y from test\n",
    "            gnb.fit(new_X, new_Y)\n",
    "    \n",
    "            # obtain the score\n",
    "            curr_score = gnb.score(X_test, y_test)\n",
    "            perf_each_portion.append(curr_score)\n",
    "    perf_vals_LR.append(np.mean(perf_each_portion))"
   ]
  },
  {
   "cell_type": "markdown",
   "metadata": {
    "id": "_TAeplQfblUR"
   },
   "source": [
    "c) Plot both the results of NB and LR on the same figure."
   ]
  },
  {
   "cell_type": "code",
   "execution_count": 20,
   "metadata": {
    "id": "ASs7HuV4bu-U"
   },
   "outputs": [
    {
     "name": "stdout",
     "output_type": "stream",
     "text": [
      "\n"
     ]
    },
    {
     "data": {
      "image/png": "[encoded data removed]",
      "text/plain": [
       "<Figure size 432x288 with 1 Axes>"
      ]
     },
     "metadata": {
      "needs_background": "light"
     },
     "output_type": "display_data"
    }
   ],
   "source": [
    "plt.plot(np.arange(1,101),perf_vals_NB, label = 'Naive Bayes')\n",
    "plt.plot(np.arange(1,101),perf_vals_LR, label = 'Logistic Regression')\n",
    "plt.xlabel('Portion of the Training Set used')\n",
    "plt.ylabel('Accuracy')\n",
    "plt.title('Accuracies of the Models vs. the Portion of the Training set used')\n",
    "plt.legend()\n",
    "print()"
   ]
  },
  {
   "cell_type": "markdown",
   "metadata": {
    "id": "oKJXojHoeGik"
   },
   "source": [
    "Between a generative model (NB) and a discriminative model (LR), which is more affected by small training dataset? Which one converges faster? Which one performs better in the long run given enough training data?"
   ]
  },
  {
   "cell_type": "markdown",
   "metadata": {},
   "source": [
    "# COMMENT\n",
    "_Towards the leftmost region of the plot (where the portion of the training set is the smallest), the performance for the discriminative model is lower than the generative model. This means that **Logistic Regression is more affected by a smaller training set**. When the training sample size increases, the Logistic Regression performance looks like it is continuously increasing and ends on this plot at 0.88. Meanwhile, the Naive Bayes performance plateaus at around 10% with a performance value of 0.78 until all the training set is used. Based on this information, I believe the **Naive Bayes model converges faster** and the **Logistic Regression model performs better in the long run**._"
   ]
  },
  {
   "cell_type": "markdown",
   "metadata": {
    "id": "bb4Ylx2x0cbv"
   },
   "source": [
    "## Problem 4\n",
    "\n",
    "In this problem, you will work on the clustering problem using Bottom-up Agglomerative clustering and K-mean clustering."
   ]
  },
  {
   "cell_type": "markdown",
   "metadata": {
    "id": "mVO0CRSd0nFv"
   },
   "source": [
    "a) A 4-D dataset is given in **'iris.csv'** with the last column being the ground truth label. Load the file. Store the data in a variable ***X*** and store the label in a variable ***y***. Because clustering is an unsupervised task, there is no need for the labels during training."
   ]
  },
  {
   "cell_type": "code",
   "execution_count": 21,
   "metadata": {
    "id": "MwJ5rRYpz7lY"
   },
   "outputs": [],
   "source": [
    "iris = pd.read_csv('iris.csv', header = None)\n",
    "iris.columns = ['Feature 1', 'Feature 2','Feature 3','Feature 4','Label']\n",
    "# helps for later when we want to use the number for cateogrizing on plots\n",
    "iris['Label'] = pd.Categorical(iris.Label)\n",
    "iris['LabelCode'] = iris.Label.cat.codes\n",
    "x = iris.iloc[:,:4]\n",
    "y = iris.iloc[:,4]\n",
    "ycode = iris.iloc[:,5]"
   ]
  },
  {
   "cell_type": "markdown",
   "metadata": {
    "id": "e5wKA4bS0pqh"
   },
   "source": [
    "b) Train a clustering model using Bottom-up Agglomerative clustering."
   ]
  },
  {
   "cell_type": "code",
   "execution_count": 22,
   "metadata": {
    "id": "R_hu3a7f0uoP",
    "outputId": "a9f84bbd-eec9-446d-afcb-13dd5e0b9095"
   },
   "outputs": [],
   "source": [
    "np.random.seed(73)\n",
    "from sklearn.cluster import AgglomerativeClustering\n",
    "\n",
    "cluster = AgglomerativeClustering(n_clusters = 3)\n",
    "y_predict = cluster.fit_predict(x)"
   ]
  },
  {
   "cell_type": "markdown",
   "metadata": {
    "id": "Oq1TiL-00wuP"
   },
   "source": [
    "Visualize your clusters on a 2-D plot. Choose any 2 dimensions from the 4 dimensions to plot. Try to pick the 2 dimensions that best separate the data. Your plot should contains all the data points with points from the same predicted cluster haveing the same color. "
   ]
  },
  {
   "cell_type": "code",
   "execution_count": 23,
   "metadata": {
    "id": "eRV5yQhnr9WX",
    "outputId": "8518e4ca-be2e-4e44-b9cd-a2a96a1dc344",
    "scrolled": true
   },
   "outputs": [
    {
     "name": "stdout",
     "output_type": "stream",
     "text": [
      "\n"
     ]
    },
    {
     "data": {
      "image/png": "[encoded data removed]",
      "text/plain": [
       "<Figure size 432x288 with 1 Axes>"
      ]
     },
     "metadata": {
      "needs_background": "light"
     },
     "output_type": "display_data"
    }
   ],
   "source": [
    "new_tab = pd.DataFrame(data = {'feat_1':x.iloc[:,2],'feat_2':x.iloc[:,3],'class':y_predict})\n",
    "class1 = new_tab[new_tab['class'] == 0]\n",
    "class2 = new_tab[new_tab['class'] == 1]\n",
    "class3 = new_tab[new_tab['class'] == 2]\n",
    "plt.scatter(class1.iloc[:,0],class1.iloc[:,1], c='red', label = 'Cluster 1')\n",
    "plt.scatter(class2.iloc[:,0],class2.iloc[:,1], c='purple', label = 'Cluster 2')\n",
    "plt.scatter(class3.iloc[:,0],class3.iloc[:,1], c='blue', label = 'Cluster 3')\n",
    "plt.legend()\n",
    "plt.title('Bottom-Up Agglomerative Clustering')\n",
    "plt.xlabel('Dimension 2')\n",
    "plt.ylabel('Dimension 3')\n",
    "print()"
   ]
  },
  {
   "cell_type": "markdown",
   "metadata": {
    "id": "aI_ukXMd04jZ"
   },
   "source": [
    "Repeat the visualization step above using the same 2 dimensions. This time, plot according to the ground truth classes. Comment on the performance of your model."
   ]
  },
  {
   "cell_type": "code",
   "execution_count": 24,
   "metadata": {
    "id": "ZqXjNKqIr9Wa",
    "outputId": "795ac834-35e2-4ea4-bcd2-b348a850468e",
    "scrolled": true
   },
   "outputs": [
    {
     "name": "stdout",
     "output_type": "stream",
     "text": [
      "\n"
     ]
    },
    {
     "data": {
      "image/png": "[encoded data removed]",
      "text/plain": [
       "<Figure size 432x288 with 1 Axes>"
      ]
     },
     "metadata": {
      "needs_background": "light"
     },
     "output_type": "display_data"
    }
   ],
   "source": [
    "class1 = iris[iris['LabelCode'] == 0]\n",
    "class2 = iris[iris['LabelCode'] == 1]\n",
    "class3 = iris[iris['LabelCode'] == 2]\n",
    "plt.scatter(class1.iloc[:,2],class1.iloc[:,3], c='red', label = 'Setosa')\n",
    "plt.scatter(class2.iloc[:,2],class2.iloc[:,3], c='purple', label = 'Versicolor')\n",
    "plt.scatter(class3.iloc[:,2],class3.iloc[:,3], c='blue', label = 'Virginica')\n",
    "plt.legend()\n",
    "plt.title('Ground Truth')\n",
    "plt.xlabel('Dimension 3')\n",
    "plt.ylabel('Dimension 4')\n",
    "print()"
   ]
  },
  {
   "cell_type": "markdown",
   "metadata": {},
   "source": [
    "# COMMENT\n",
    "_The bottom-up clustering algorithm predicted cluster 2 perfectly. Based on comparing it to the ground truth classifications, this cluster represent the Setosa flower. When predicting clusters 1 and 3, it over estimates the boundary between cluster 1 and underestimates the boundary for cluster 3 making them bigger and smaller than their respective true classifications. This clustering algorithm seems to create a boundary that is much more clean than the ground truth since the real classifications do overlap a little bit._"
   ]
  },
  {
   "cell_type": "markdown",
   "metadata": {
    "id": "R5AUQ2pi08wL"
   },
   "source": [
    "c) Train a clustering model using K-mean clustering."
   ]
  },
  {
   "cell_type": "code",
   "execution_count": 25,
   "metadata": {
    "id": "j1LW_RRR09TH"
   },
   "outputs": [],
   "source": [
    "np.random.seed(46)\n",
    "from sklearn.cluster import KMeans\n",
    "\n",
    "cluster2 = KMeans(n_clusters = 3, random_state = 42)\n",
    "y_means = cluster2.fit_predict(x)"
   ]
  },
  {
   "cell_type": "markdown",
   "metadata": {
    "id": "JwclwSFk0_0A"
   },
   "source": [
    "Visualize your clusters on a 2-D plot. Choose any 2 dimensions from the 4 dimensions to plot. Try to pick the 2 dimensions that best separate the data. Your plot should contains all the data points with points from the same predicted cluster haveing the same color."
   ]
  },
  {
   "cell_type": "code",
   "execution_count": 26,
   "metadata": {
    "id": "CzJZkA0ir9Wd",
    "outputId": "a81d00f6-b949-4081-9ea2-eb8ddf8a51f1",
    "scrolled": true
   },
   "outputs": [
    {
     "name": "stdout",
     "output_type": "stream",
     "text": [
      "\n"
     ]
    },
    {
     "data": {
      "image/png": "[encoded data removed]",
      "text/plain": [
       "<Figure size 432x288 with 1 Axes>"
      ]
     },
     "metadata": {
      "needs_background": "light"
     },
     "output_type": "display_data"
    }
   ],
   "source": [
    "new_tab = pd.DataFrame(data = {'feat_1':x.iloc[:,0],'feat_2':x.iloc[:,2],'class':y_means})\n",
    "class1 = new_tab[new_tab['class'] == 0]\n",
    "class2 = new_tab[new_tab['class'] == 1]\n",
    "class3 = new_tab[new_tab['class'] == 2]\n",
    "plt.scatter(class1.iloc[:,0],class1.iloc[:,1], c='red', label = 'Cluster 1')\n",
    "plt.scatter(class2.iloc[:,0],class2.iloc[:,1], c='purple', label = 'Cluster 2')\n",
    "plt.scatter(class3.iloc[:,0],class3.iloc[:,1], c='blue', label = 'Cluster 3')\n",
    "plt.legend()\n",
    "plt.title('K-Means Clustering')\n",
    "plt.xlabel('Dimension 2')\n",
    "plt.ylabel('Dimension 3')\n",
    "print()"
   ]
  },
  {
   "cell_type": "markdown",
   "metadata": {
    "id": "0fyO8R9m1Cv5"
   },
   "source": [
    "Repeat the visualization step above using the same 2 dimensions. This time, plot according to the ground truth classes. Comment on the performance of your model."
   ]
  },
  {
   "cell_type": "code",
   "execution_count": 27,
   "metadata": {
    "id": "yQxEKISdr9We",
    "outputId": "a94e85e5-90dc-471f-91fa-8842152d92c0",
    "scrolled": true
   },
   "outputs": [
    {
     "name": "stdout",
     "output_type": "stream",
     "text": [
      "\n"
     ]
    },
    {
     "data": {
      "image/png": "[encoded data removed]",
      "text/plain": [
       "<Figure size 432x288 with 1 Axes>"
      ]
     },
     "metadata": {
      "needs_background": "light"
     },
     "output_type": "display_data"
    }
   ],
   "source": [
    "class1 = iris[iris['LabelCode'] == 0]\n",
    "class2 = iris[iris['LabelCode'] == 1]\n",
    "class3 = iris[iris['LabelCode'] == 2]\n",
    "plt.scatter(class1.iloc[:,0],class1.iloc[:,2], c='red', label = 'Setosa')\n",
    "plt.scatter(class2.iloc[:,0],class2.iloc[:,2], c='purple', label = 'Versicolor')\n",
    "plt.scatter(class3.iloc[:,0],class3.iloc[:,2], c='blue', label = 'Virginica')\n",
    "plt.legend()\n",
    "plt.title('Ground Truth')\n",
    "plt.xlabel('Dimension 1')\n",
    "plt.ylabel('Dimension 3')\n",
    "print()"
   ]
  },
  {
   "cell_type": "markdown",
   "metadata": {},
   "source": [
    "# COMMENT\n",
    "_Similar to the bottom-up clustering, the k-means clustering algorithm classifued cluster 2 perfectly since it is separate from the other two flower types. This cluster again represents the Setosa flower type. Cluster 1 again over estimates the boundary and custers more of the values that belong to the flower associated with cluster 3. However, based on just looking at the plots, the k-means clustering algorithm has less incorrect classifications than the bottom-up method thus making it better at predicting and establishing these clusters._"
   ]
  },
  {
   "cell_type": "markdown",
   "metadata": {
    "id": "vEHZV4exzbVs"
   },
   "source": [
    "## Problem 5\n",
    "\n",
    "This problem builds on ideas from the paper: “Against prediction: Sentencing, Policing, And Punishing In An Actuarial Age,” Chicago Public Law And Legal Theory Working Paper No. 94, Harcourt, 2005. \n",
    "\n",
    "Suppose we have two groups $A$ and $B$ of student population sizes $n$ and $9n$. We find that under equal financial support, group $A$’s dropout rate is $0.2$ dropouts per year per student and that of group $B$ is $0.1$ dropout per person per year. Equal support means that out of a total of $10m$ scholarships, $m$ scholarships are granted to group $A$ and $9m$ scholarships are granted to group $B$. The support is $\\frac{m}{n}$ per capita for both groups. So, under equal support, the combined dropout rate over both groups is $0.11n$ per year. \n",
    "\n",
    "Suppose we want to bring down the overall dropout rate by increasing the support for group $A$. In order to do that we collected some data and found that we could model the rate of decrease in dropouts for group $A$ by a function as follows:\n",
    "\tIf we increase the per capita support from $\\frac{m}{n}$ to $\\frac{m}{n} (1 + \\delta_A)$, the dropout rate declines to $0.2e^{- \\alpha \\delta_A}$. ($\\alpha>0$)\n",
    "\n",
    "Similarly, we modeled the rate of increase in dropouts for group $B$ by a function under reduced support as follows:\n",
    "\tIf we decrease the per capita support from $\\frac{m}{n}$ to $\\frac{m}{n} (1 - \\delta_B)$, the dropout rate rises to $0.1e^{ \\beta \\delta_B}$. ($\\beta>0$)\n",
    "\n",
    "How would you distribute the monitors so that \n",
    "\n",
    "**a)** Both groups had the same dropout rate?\n",
    "\n",
    "**b)** The combined dropout rate was minimized?\n",
    "\n",
    "\n",
    "Consider 3 different scenarios when $\\alpha > \\beta$, $\\alpha = \\beta$, and $\\alpha < \\beta$. \n",
    "\n",
    "**c)** For each of the scenarios, which of the above solutions would you prefer and why?\n",
    "\n",
    "**TIPS**:\n",
    "- For **part a** and **part b**, answer by calculating $\\delta_A$ and $\\delta_B$.\n",
    "- Try to set up equations from the given information. This problem mostly consists of algebra.\n",
    "- If you do it correctly, **part c** should makes sense immediately."
   ]
  },
  {
   "cell_type": "markdown",
   "metadata": {
    "id": "2NxNlYwmddLF"
   },
   "source": [
    "#### A. Both Groups have the same Dropout Rate\n",
    "_For this question, I start by calculating the number of scholarships needed for group A after the increase in support. I do this by multiplying the increase in per capita support by that group's population size._\n",
    "\n",
    "$$\\frac{m}{n} (1 + \\delta_A)n = m + m\\delta_A \\text{ scholarships for group A}$$\n",
    "\n",
    "_To find the number of scholarshipsfor group B, we need to decrease the number of scholarships B already has by the change in scholarships for group A, which is_ $m\\delta_A$.\n",
    "\n",
    "$$9m - m\\delta_A \\text{ scholarships for group B}$$\n",
    "\n",
    "_The next step is to find another equation to equal the new number of scholarships for group B, which is essentially coying the first part but replace the positive change in_ $\\delta_A$ _with a negative change in_ $\\delta_B$.\n",
    "\n",
    "$$\\frac{m}{n} (1 - \\delta_B)9n = 9m + 9m\\delta_B \\text{ scholarships for group B}$$\n",
    "\n",
    "_Then, when we set the previous two equations equal to each other, we can solve for_ $\\delta_A$ _to obtain a relationship between that and_ $\\delta_B$._\n",
    "\n",
    "$$9m - m\\delta_A = 9m + 9m\\delta_B$$\n",
    "\n",
    "\n",
    "$$m(9-\\delta_A) = m(9-9\\delta_B)$$\n",
    "\n",
    "\n",
    "$$9-\\delta_A = 9-9\\delta_B$$\n",
    "\n",
    "\n",
    "$$-\\delta_A = 9-9\\delta_B - 9$$\n",
    "\n",
    "\n",
    "$$\\delta_A = 9\\delta_B$$\n",
    "\n",
    "_Now that we have a relationship between_ $\\delta_A$ and $\\delta_B$, _we can use that when setting the new dropout rates equal to each other._\n",
    "\n",
    "$$0.2e^{-\\alpha\\delta_A} = 0.1e^{\\beta\\delta_B}$$\n",
    "\n",
    "\n",
    "$$0.2e^{-9\\alpha\\delta_B} = 0.1e^{\\beta\\delta_B}$$\n",
    "\n",
    "\n",
    "$$\\frac{0.2e^{-9\\alpha\\delta_B}}{0.1} = \\frac{0.1e^{\\beta\\delta_B}}{0.1} \\Rightarrow 2e^{-9\\alpha\\delta_B} = e^{\\beta\\delta_B}$$\n",
    "\n",
    "\n",
    "$$ln(2e^{-9\\alpha\\delta_B}) = ln(e^{\\beta\\delta_B}) \\Rightarrow ln(2) + -9\\alpha\\delta_B = \\beta\\delta_B$$\n",
    "\n",
    "\n",
    "$$ln(2) = \\delta_B(\\beta + 9\\alpha)$$\n",
    "\n",
    "\n",
    "$$\\delta_B = \\frac{ln(2)}{\\beta + 9\\alpha}$$\n",
    "\n",
    "\n",
    "_So when I plug in $\\delta_B$ into the relationship with $\\delta_A$, we get_\n",
    "$$\\delta_A = 9\\frac{ln(2)}{\\beta + 9\\alpha}$$"
   ]
  },
  {
   "cell_type": "markdown",
   "metadata": {},
   "source": [
    "#### B. The combined dropout rate was minimized\n",
    "_For this question, I am taking the combined decreased dropout rate, setting it equal to zero and taking its derivative. This is the way we can find the minimized combined dropout rate._\n",
    "\n",
    "$$\\text{The combined dropout rate is: }0.2e^{-\\alpha\\delta_A}n + 0.1e^{\\beta\\delta_B}9n$$\n",
    "\n",
    "_When we plug in the_ $\\delta_A$ and $\\delta_B$ _relationship, we get_\n",
    "\n",
    "$$0.2e^{-9\\alpha\\delta_B}n + 0.1e^{\\beta\\delta_B}9n$$\n",
    "\n",
    "_After taking the derivative and setting equal to zero, we get_\n",
    "\n",
    "$$(-0.2)(\\alpha)e^{-9\\alpha\\delta_B}n + (0.1)(\\beta)e^{\\beta\\delta_B}9n = 0$$\n",
    "\n",
    "\n",
    "$$(0.1)(\\beta)(9)(n)e^{\\beta\\delta_B} = (0.2)(n)(9)(\\alpha)e^{-9\\alpha\\delta_B}$$\n",
    "\n",
    "\n",
    "$$0.1\\beta e^{\\beta\\delta_B} = 0.2\\alpha e^{-9\\alpha\\delta_B}$$\n",
    "\n",
    "\n",
    "$$\\frac{0.1\\beta e^{\\beta\\delta_B}}{0.1} = \\frac{0.2\\alpha e^{-9\\alpha\\delta_B}}{0.1} \\Rightarrow \\beta e^{\\beta\\delta_B}= 2\\alpha e^{-9\\alpha\\delta_B}$$\n",
    "\n",
    "\n",
    "$$ln(\\beta e^{\\beta\\delta_B}) = ln(2\\alpha e^{-9\\alpha\\delta_B}) \\Rightarrow ln(\\beta) + \\beta\\delta_B = ln(2\\alpha) - 9\\alpha\\delta_B$$\n",
    "\n",
    "\n",
    "$$ln(\\beta) - ln(2\\alpha) = -\\beta\\delta_B - 9\\alpha\\delta_B$$\n",
    "\n",
    "\n",
    "$$ln(2\\alpha) - ln(\\beta) = \\beta\\delta_B + 9\\alpha\\delta_B$$\n",
    "\n",
    "\n",
    "$$ln(2\\alpha) - ln(\\beta) = \\delta_B(\\beta + 9\\alpha)$$\n",
    "\n",
    "\n",
    "$$\\delta_B = \\frac{ln(2\\alpha) - ln(\\beta)}{\\beta + 9\\alpha}$$\n",
    "\n",
    "\n",
    "_Then by using the relationship computed in the previous part, we can easily calculate_ $\\delta_A$ _as_\n",
    "\n",
    "$$\\delta_A = 9\\frac{ln(2\\alpha) - ln(\\beta)}{\\beta + 9\\alpha}$$"
   ]
  },
  {
   "cell_type": "markdown",
   "metadata": {},
   "source": [
    "#### C. For each of the scenarios ($\\alpha > \\beta$, $\\alpha = \\beta$, and $\\alpha < \\beta$), which of the above solutions would you prefer and why?"
   ]
  },
  {
   "cell_type": "code",
   "execution_count": 28,
   "metadata": {
    "scrolled": true
   },
   "outputs": [],
   "source": [
    "import math\n",
    "\n",
    "# simulate an instances of each scenario and calculate the deltas and dropout rates\n",
    "alphas = [5,25,50]\n",
    "betas = [50,25,5]\n",
    "delta_a_A = []\n",
    "delta_b_A = []\n",
    "delta_a_B = []\n",
    "delta_b_B = []\n",
    "dropout_A_A = []\n",
    "dropout_B_A = []\n",
    "dropout_A_B = []\n",
    "dropout_B_B = []\n",
    "for i in range(3):\n",
    "    \n",
    "    # calculate delta_A and delta_B for each scenario\n",
    "    daa = 9*(np.log(2)/(betas[i] + 9*alphas[i]))\n",
    "    dba = np.log(2)/(betas[i] + 9*alphas[i])\n",
    "    dab = 9*((np.log(2*alphas[i]) - np.log(betas[i]))/(betas[i] + 9*alphas[i]))\n",
    "    dbb = (np.log(2*alphas[i]) - np.log(betas[i]))/(betas[i] + 9*alphas[i])\n",
    "    delta_a_A.append(daa)\n",
    "    delta_b_A.append(dba)\n",
    "    delta_a_B.append(dab)\n",
    "    delta_b_B.append(dbb)\n",
    "    dropout_A_A.append(0.2*math.e**(-alphas[i]*daa))\n",
    "    dropout_B_A.append(0.1*math.e**(betas[i]*dba))\n",
    "    dropout_A_B.append(0.2*math.e**(-alphas[i]*dab))\n",
    "    dropout_B_B.append(0.1*math.e**(betas[i]*dbb))"
   ]
  },
  {
   "cell_type": "code",
   "execution_count": 29,
   "metadata": {},
   "outputs": [
    {
     "data": {
      "text/html": [
       "<div>\n",
       "<style scoped>\n",
       "    .dataframe tbody tr th:only-of-type {\n",
       "        vertical-align: middle;\n",
       "    }\n",
       "\n",
       "    .dataframe tbody tr th {\n",
       "        vertical-align: top;\n",
       "    }\n",
       "\n",
       "    .dataframe thead th {\n",
       "        text-align: right;\n",
       "    }\n",
       "</style>\n",
       "<table border=\"1\" class=\"dataframe\">\n",
       "  <thead>\n",
       "    <tr style=\"text-align: right;\">\n",
       "      <th></th>\n",
       "      <th>Alpha</th>\n",
       "      <th>Beta</th>\n",
       "      <th>Delta A</th>\n",
       "      <th>Delta B</th>\n",
       "      <th>Dropout Rate for group A</th>\n",
       "      <th>Dropout Rate for group B</th>\n",
       "    </tr>\n",
       "  </thead>\n",
       "  <tbody>\n",
       "    <tr>\n",
       "      <th>0</th>\n",
       "      <td>5</td>\n",
       "      <td>50</td>\n",
       "      <td>0.065667</td>\n",
       "      <td>0.007296</td>\n",
       "      <td>0.144025</td>\n",
       "      <td>0.144025</td>\n",
       "    </tr>\n",
       "    <tr>\n",
       "      <th>1</th>\n",
       "      <td>25</td>\n",
       "      <td>25</td>\n",
       "      <td>0.024953</td>\n",
       "      <td>0.002773</td>\n",
       "      <td>0.107177</td>\n",
       "      <td>0.107177</td>\n",
       "    </tr>\n",
       "    <tr>\n",
       "      <th>2</th>\n",
       "      <td>50</td>\n",
       "      <td>5</td>\n",
       "      <td>0.013711</td>\n",
       "      <td>0.001523</td>\n",
       "      <td>0.100765</td>\n",
       "      <td>0.100765</td>\n",
       "    </tr>\n",
       "  </tbody>\n",
       "</table>\n",
       "</div>"
      ],
      "text/plain": [
       "   Alpha  Beta   Delta A   Delta B  Dropout Rate for group A   \\\n",
       "0      5    50  0.065667  0.007296                   0.144025   \n",
       "1     25    25  0.024953  0.002773                   0.107177   \n",
       "2     50     5  0.013711  0.001523                   0.100765   \n",
       "\n",
       "   Dropout Rate for group B  \n",
       "0                  0.144025  \n",
       "1                  0.107177  \n",
       "2                  0.100765  "
      ]
     },
     "execution_count": 29,
     "metadata": {},
     "output_type": "execute_result"
    }
   ],
   "source": [
    "eq_do_rts = pd.DataFrame({'Alpha':alphas,'Beta':betas,'Delta A':delta_a_A,\n",
    "                       'Delta B':delta_b_A,'Dropout Rate for group A ':dropout_A_A,\n",
    "                       'Dropout Rate for group B':dropout_B_A})\n",
    "eq_do_rts"
   ]
  },
  {
   "cell_type": "code",
   "execution_count": 30,
   "metadata": {
    "scrolled": true
   },
   "outputs": [
    {
     "data": {
      "text/html": [
       "<div>\n",
       "<style scoped>\n",
       "    .dataframe tbody tr th:only-of-type {\n",
       "        vertical-align: middle;\n",
       "    }\n",
       "\n",
       "    .dataframe tbody tr th {\n",
       "        vertical-align: top;\n",
       "    }\n",
       "\n",
       "    .dataframe thead th {\n",
       "        text-align: right;\n",
       "    }\n",
       "</style>\n",
       "<table border=\"1\" class=\"dataframe\">\n",
       "  <thead>\n",
       "    <tr style=\"text-align: right;\">\n",
       "      <th></th>\n",
       "      <th>Alpha</th>\n",
       "      <th>Beta</th>\n",
       "      <th>Delta A</th>\n",
       "      <th>Delta B</th>\n",
       "      <th>Dropout Rate for group A</th>\n",
       "      <th>Dropout Rate for group B</th>\n",
       "    </tr>\n",
       "  </thead>\n",
       "  <tbody>\n",
       "    <tr>\n",
       "      <th>0</th>\n",
       "      <td>5</td>\n",
       "      <td>50</td>\n",
       "      <td>-0.152473</td>\n",
       "      <td>-0.016941</td>\n",
       "      <td>0.428668</td>\n",
       "      <td>0.042867</td>\n",
       "    </tr>\n",
       "    <tr>\n",
       "      <th>1</th>\n",
       "      <td>25</td>\n",
       "      <td>25</td>\n",
       "      <td>0.024953</td>\n",
       "      <td>0.002773</td>\n",
       "      <td>0.107177</td>\n",
       "      <td>0.107177</td>\n",
       "    </tr>\n",
       "    <tr>\n",
       "      <th>2</th>\n",
       "      <td>50</td>\n",
       "      <td>5</td>\n",
       "      <td>0.059256</td>\n",
       "      <td>0.006584</td>\n",
       "      <td>0.010335</td>\n",
       "      <td>0.103347</td>\n",
       "    </tr>\n",
       "  </tbody>\n",
       "</table>\n",
       "</div>"
      ],
      "text/plain": [
       "   Alpha  Beta   Delta A   Delta B  Dropout Rate for group A  \\\n",
       "0      5    50 -0.152473 -0.016941                  0.428668   \n",
       "1     25    25  0.024953  0.002773                  0.107177   \n",
       "2     50     5  0.059256  0.006584                  0.010335   \n",
       "\n",
       "   Dropout Rate for group B  \n",
       "0                  0.042867  \n",
       "1                  0.107177  \n",
       "2                  0.103347  "
      ]
     },
     "execution_count": 30,
     "metadata": {},
     "output_type": "execute_result"
    }
   ],
   "source": [
    "min_do_rts = pd.DataFrame({'Alpha':alphas,'Beta':betas,'Delta A':delta_a_B,\n",
    "                       'Delta B':delta_b_B,'Dropout Rate for group A':dropout_A_B,\n",
    "                       'Dropout Rate for group B':dropout_B_B})\n",
    "min_do_rts"
   ]
  },
  {
   "cell_type": "markdown",
   "metadata": {},
   "source": [
    "# COMMENT\n",
    "In general,$\\delta_B$ < $\\delta_A$ for nearly every scenario and redistribution. \n",
    "\n",
    "#### $\\alpha$ < $\\beta$\n",
    "When $\\alpha$ < $\\beta$ the dropout rates are the highest. For the part A scenario, the dropout rate is 0.144 which is 6% better for group A but 4% worse for group B. However for the part B scenario, the dropout rate if 0.429 for group A which is a huge increase. Since our goal is to decrease group A's dropout rate, **we would decide not to prefer when** $\\alpha$ < $\\beta$.\n",
    "#### $\\alpha$ = $\\beta$\n",
    "When $\\alpha$ = $\\beta$, the dropout rates are the same at a value of approximately 0.107. This is a decrease in about 9% for group A and an increase in about 1% for group B. Although this is better for group A, I believe there is still more we can look into with another scenario. Thus **I would decide not to prefer when** $\\alpha$ = $\\beta$.\n",
    "#### $\\alpha$ > $\\beta$\n",
    "When $\\alpha$ > $\\beta$, the dropout rates are overall the smallest. For the part A scenario, the dropout rates for each group is 0.101 which is a decrease from when $\\alpha$ = $\\beta$. It is approximately a 10% decrease in dropout rate for group A and less than 1% increase in group B. For the part B scenario, we see the lowest dropout rate for group A with 0.0103, which is approximately 19% lower than the original dropout rate. For group B, it is barely a 1% increase in dropout rate from the original. **Because of this drastic drop in dropout rate for group A, I would prefer the scenario where $\\alpha$ > $\\beta$ to redistribute scholarships and support for each population.**"
   ]
  }
 ],
 "metadata": {
  "colab": {
   "collapsed_sections": [],
   "name": "HW2.ipynb",
   "provenance": []
  },
  "kernelspec": {
   "display_name": "Python 3",
   "language": "python",
   "name": "python3"
  },
  "language_info": {
   "codemirror_mode": {
    "name": "ipython",
    "version": 3
   },
   "file_extension": ".py",
   "mimetype": "text/x-python",
   "name": "python",
   "nbconvert_exporter": "python",
   "pygments_lexer": "ipython3",
   "version": "3.8.8"
  }
 },
 "nbformat": 4,
 "nbformat_minor": 4
}
