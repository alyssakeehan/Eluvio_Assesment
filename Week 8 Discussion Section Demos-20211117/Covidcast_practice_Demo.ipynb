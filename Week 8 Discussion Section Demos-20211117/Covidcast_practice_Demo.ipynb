{
 "cells": [
  {
   "cell_type": "markdown",
   "metadata": {
    "id": "faCq4OP7q71g"
   },
   "source": [
    "# Project Introduction Demo"
   ]
  },
  {
   "cell_type": "markdown",
   "metadata": {
    "id": "Wl72z3hcvXo4"
   },
   "source": [
    "## Logistics"
   ]
  },
  {
   "cell_type": "markdown",
   "metadata": {
    "id": "LV0N_yEDvRJt"
   },
   "source": [
    "If you haven’t already filled out this team form, please do it TODAY\n",
    "https://docs.google.com/spreadsheets/d/1EvWqolU8TT8_RMpLE9IYjQYpXbw8wkKPX2WeQ9g_xzc/edit#gid=0\n"
   ]
  },
  {
   "cell_type": "markdown",
   "metadata": {
    "id": "_lOjzYNOvxrE"
   },
   "source": [
    "## Motivation"
   ]
  },
  {
   "cell_type": "markdown",
   "metadata": {
    "id": "Kj3EPT3cv0Iq"
   },
   "source": [
    "We will be looking at COVID data to answer the following two questions:\n",
    "* Given the past data, can we build predictive models that forecast the future of the pandemic so that we can see one step ahead and prepare accordingly?\n",
    "* Which data is highly relevant to the prediction and how should that affect our policies?\n"
   ]
  },
  {
   "cell_type": "markdown",
   "metadata": {
    "id": "gpRq3ZlRv71o"
   },
   "source": [
    "### What You Will Be Doing\n",
    "You are going to build a predictive model that will uses historical COVID cases and related data to forecast the short-term future number of COVID cases in a particular region. You will do this by creating a time series forecasting model"
   ]
  },
  {
   "cell_type": "markdown",
   "metadata": {
    "id": "t9hg4LHAvbUH"
   },
   "source": [
    "## Using COVIDCast API"
   ]
  },
  {
   "cell_type": "code",
   "execution_count": 2,
   "metadata": {
    "id": "23hJx4K8ylZU"
   },
   "outputs": [
    {
     "name": "stdout",
     "output_type": "stream",
     "text": [
      "Requirement already satisfied: covidcast in /opt/anaconda3/lib/python3.8/site-packages (0.1.5)\n",
      "Requirement already satisfied: imageio-ffmpeg in /opt/anaconda3/lib/python3.8/site-packages (from covidcast) (0.4.5)\n",
      "Requirement already satisfied: imageio in /opt/anaconda3/lib/python3.8/site-packages (from covidcast) (2.9.0)\n",
      "Requirement already satisfied: descartes in /opt/anaconda3/lib/python3.8/site-packages (from covidcast) (1.1.0)\n",
      "Requirement already satisfied: pandas in /opt/anaconda3/lib/python3.8/site-packages (from covidcast) (1.2.4)\n",
      "Requirement already satisfied: requests in /opt/anaconda3/lib/python3.8/site-packages (from covidcast) (2.25.1)\n",
      "Requirement already satisfied: numpy in /opt/anaconda3/lib/python3.8/site-packages (from covidcast) (1.20.1)\n",
      "Requirement already satisfied: tqdm in /opt/anaconda3/lib/python3.8/site-packages (from covidcast) (4.59.0)\n",
      "Requirement already satisfied: epiweeks in /opt/anaconda3/lib/python3.8/site-packages (from covidcast) (2.1.3)\n",
      "Requirement already satisfied: matplotlib in /opt/anaconda3/lib/python3.8/site-packages (from covidcast) (3.3.4)\n",
      "Requirement already satisfied: delphi-epidata>=0.0.11 in /opt/anaconda3/lib/python3.8/site-packages (from covidcast) (0.3.1)\n",
      "Requirement already satisfied: geopandas in /opt/anaconda3/lib/python3.8/site-packages (from covidcast) (0.10.2)\n",
      "Requirement already satisfied: aiohttp in /opt/anaconda3/lib/python3.8/site-packages (from delphi-epidata>=0.0.11->covidcast) (3.8.1)\n",
      "Requirement already satisfied: tenacity in /opt/anaconda3/lib/python3.8/site-packages (from delphi-epidata>=0.0.11->covidcast) (8.0.1)\n",
      "Requirement already satisfied: chardet<5,>=3.0.2 in /opt/anaconda3/lib/python3.8/site-packages (from requests->covidcast) (4.0.0)\n",
      "Requirement already satisfied: idna<3,>=2.5 in /opt/anaconda3/lib/python3.8/site-packages (from requests->covidcast) (2.10)\n",
      "Requirement already satisfied: certifi>=2017.4.17 in /opt/anaconda3/lib/python3.8/site-packages (from requests->covidcast) (2020.12.5)\n",
      "Requirement already satisfied: urllib3<1.27,>=1.21.1 in /opt/anaconda3/lib/python3.8/site-packages (from requests->covidcast) (1.26.4)\n",
      "Requirement already satisfied: charset-normalizer<3.0,>=2.0 in /opt/anaconda3/lib/python3.8/site-packages (from aiohttp->delphi-epidata>=0.0.11->covidcast) (2.0.7)\n",
      "Requirement already satisfied: yarl<2.0,>=1.0 in /opt/anaconda3/lib/python3.8/site-packages (from aiohttp->delphi-epidata>=0.0.11->covidcast) (1.7.2)\n",
      "Requirement already satisfied: aiosignal>=1.1.2 in /opt/anaconda3/lib/python3.8/site-packages (from aiohttp->delphi-epidata>=0.0.11->covidcast) (1.2.0)\n",
      "Requirement already satisfied: async-timeout<5.0,>=4.0.0a3 in /opt/anaconda3/lib/python3.8/site-packages (from aiohttp->delphi-epidata>=0.0.11->covidcast) (4.0.1)\n",
      "Requirement already satisfied: multidict<7.0,>=4.5 in /opt/anaconda3/lib/python3.8/site-packages (from aiohttp->delphi-epidata>=0.0.11->covidcast) (5.2.0)\n",
      "Requirement already satisfied: attrs>=17.3.0 in /opt/anaconda3/lib/python3.8/site-packages (from aiohttp->delphi-epidata>=0.0.11->covidcast) (20.3.0)\n",
      "Requirement already satisfied: frozenlist>=1.1.1 in /opt/anaconda3/lib/python3.8/site-packages (from aiohttp->delphi-epidata>=0.0.11->covidcast) (1.2.0)\n",
      "Requirement already satisfied: typing-extensions>=3.6.5 in /opt/anaconda3/lib/python3.8/site-packages (from async-timeout<5.0,>=4.0.0a3->aiohttp->delphi-epidata>=0.0.11->covidcast) (3.7.4.3)\n",
      "Requirement already satisfied: pyproj>=2.2.0 in /opt/anaconda3/lib/python3.8/site-packages (from geopandas->covidcast) (3.2.1)\n",
      "Requirement already satisfied: fiona>=1.8 in /opt/anaconda3/lib/python3.8/site-packages (from geopandas->covidcast) (1.8.20)\n",
      "Requirement already satisfied: shapely>=1.6 in /opt/anaconda3/lib/python3.8/site-packages (from geopandas->covidcast) (1.8.0)\n",
      "Requirement already satisfied: click>=4.0 in /opt/anaconda3/lib/python3.8/site-packages (from fiona>=1.8->geopandas->covidcast) (7.1.2)\n",
      "Requirement already satisfied: click-plugins>=1.0 in /opt/anaconda3/lib/python3.8/site-packages (from fiona>=1.8->geopandas->covidcast) (1.1.1)\n",
      "Requirement already satisfied: munch in /opt/anaconda3/lib/python3.8/site-packages (from fiona>=1.8->geopandas->covidcast) (2.5.0)\n",
      "Requirement already satisfied: cligj>=0.5 in /opt/anaconda3/lib/python3.8/site-packages (from fiona>=1.8->geopandas->covidcast) (0.7.2)\n",
      "Requirement already satisfied: six>=1.7 in /opt/anaconda3/lib/python3.8/site-packages (from fiona>=1.8->geopandas->covidcast) (1.15.0)\n",
      "Requirement already satisfied: setuptools in /opt/anaconda3/lib/python3.8/site-packages (from fiona>=1.8->geopandas->covidcast) (52.0.0.post20210125)\n",
      "Requirement already satisfied: python-dateutil>=2.7.3 in /opt/anaconda3/lib/python3.8/site-packages (from pandas->covidcast) (2.8.1)\n",
      "Requirement already satisfied: pytz>=2017.3 in /opt/anaconda3/lib/python3.8/site-packages (from pandas->covidcast) (2021.1)\n",
      "Requirement already satisfied: pillow in /opt/anaconda3/lib/python3.8/site-packages (from imageio->covidcast) (8.2.0)\n",
      "Requirement already satisfied: kiwisolver>=1.0.1 in /opt/anaconda3/lib/python3.8/site-packages (from matplotlib->covidcast) (1.3.1)\n",
      "Requirement already satisfied: cycler>=0.10 in /opt/anaconda3/lib/python3.8/site-packages (from matplotlib->covidcast) (0.10.0)\n",
      "Requirement already satisfied: pyparsing!=2.0.4,!=2.1.2,!=2.1.6,>=2.0.3 in /opt/anaconda3/lib/python3.8/site-packages (from matplotlib->covidcast) (2.4.7)\n"
     ]
    }
   ],
   "source": [
    "# Installing covidcast\n",
    "!pip install covidcast"
   ]
  },
  {
   "cell_type": "code",
   "execution_count": 3,
   "metadata": {
    "id": "AUlV4a9B0BC7"
   },
   "outputs": [
    {
     "ename": "ModuleNotFoundError",
     "evalue": "No module named 'covidcast'",
     "output_type": "error",
     "traceback": [
      "\u001b[0;31m---------------------------------------------------------------------------\u001b[0m",
      "\u001b[0;31mModuleNotFoundError\u001b[0m                       Traceback (most recent call last)",
      "\u001b[0;32m<ipython-input-3-1104b8e8f069>\u001b[0m in \u001b[0;36m<module>\u001b[0;34m\u001b[0m\n\u001b[1;32m      1\u001b[0m \u001b[0;32mfrom\u001b[0m \u001b[0mdatetime\u001b[0m \u001b[0;32mimport\u001b[0m \u001b[0mdate\u001b[0m\u001b[0;34m\u001b[0m\u001b[0;34m\u001b[0m\u001b[0m\n\u001b[0;32m----> 2\u001b[0;31m \u001b[0;32mimport\u001b[0m \u001b[0mcovidcast\u001b[0m\u001b[0;34m\u001b[0m\u001b[0;34m\u001b[0m\u001b[0m\n\u001b[0m",
      "\u001b[0;31mModuleNotFoundError\u001b[0m: No module named 'covidcast'"
     ]
    }
   ],
   "source": [
    "from datetime import date\n",
    "import covidcast"
   ]
  },
  {
   "cell_type": "markdown",
   "metadata": {
    "id": "IaBjBXP9uGqu"
   },
   "source": [
    "https://cmu-delphi.github.io/delphi-epidata/api/covidcast_signals.html\n",
    "\n",
    "\n",
    "Here is a list of the signals, you can see all the documentation for each one. Going through the documentation will give you all the information you need for calling the signals. This includes information about when the first data points were collected, if the data is available on a daily, or weekly basis, what regions you can call the signal for, and so on.\n"
   ]
  },
  {
   "cell_type": "code",
   "execution_count": 6,
   "metadata": {
    "id": "z9XUwc42n40e"
   },
   "outputs": [],
   "source": [
    "# This looks at the people who reported COVID-like symptoms from their fb-survey\n",
    "# from dates 5-1-2020 to 5-7-2020 in all counties \n",
    "data = covidcast.signal(\"fb-survey\", \"smoothed_cli\",\n",
    "                        date(2020, 5, 1), date(2020, 5, 7),\n",
    "                        \"county\")"
   ]
  },
  {
   "cell_type": "code",
   "execution_count": 7,
   "metadata": {
    "colab": {
     "base_uri": "https://localhost:8080/",
     "height": 202
    },
    "id": "ctUcFX33odlf",
    "outputId": "0b9c7eb3-3ee3-4399-fbc4-aa0c8ceeaced"
   },
   "outputs": [
    {
     "data": {
      "text/html": [
       "<div>\n",
       "<style scoped>\n",
       "    .dataframe tbody tr th:only-of-type {\n",
       "        vertical-align: middle;\n",
       "    }\n",
       "\n",
       "    .dataframe tbody tr th {\n",
       "        vertical-align: top;\n",
       "    }\n",
       "\n",
       "    .dataframe thead th {\n",
       "        text-align: right;\n",
       "    }\n",
       "</style>\n",
       "<table border=\"1\" class=\"dataframe\">\n",
       "  <thead>\n",
       "    <tr style=\"text-align: right;\">\n",
       "      <th></th>\n",
       "      <th>geo_value</th>\n",
       "      <th>signal</th>\n",
       "      <th>time_value</th>\n",
       "      <th>issue</th>\n",
       "      <th>lag</th>\n",
       "      <th>missing_value</th>\n",
       "      <th>missing_stderr</th>\n",
       "      <th>missing_sample_size</th>\n",
       "      <th>value</th>\n",
       "      <th>stderr</th>\n",
       "      <th>sample_size</th>\n",
       "      <th>geo_type</th>\n",
       "      <th>data_source</th>\n",
       "    </tr>\n",
       "  </thead>\n",
       "  <tbody>\n",
       "    <tr>\n",
       "      <th>0</th>\n",
       "      <td>01000</td>\n",
       "      <td>smoothed_cli</td>\n",
       "      <td>2020-05-01</td>\n",
       "      <td>2020-09-03</td>\n",
       "      <td>125</td>\n",
       "      <td>0</td>\n",
       "      <td>0</td>\n",
       "      <td>0</td>\n",
       "      <td>0.825410</td>\n",
       "      <td>0.136003</td>\n",
       "      <td>1722.4551</td>\n",
       "      <td>county</td>\n",
       "      <td>fb-survey</td>\n",
       "    </tr>\n",
       "    <tr>\n",
       "      <th>1</th>\n",
       "      <td>01001</td>\n",
       "      <td>smoothed_cli</td>\n",
       "      <td>2020-05-01</td>\n",
       "      <td>2020-09-03</td>\n",
       "      <td>125</td>\n",
       "      <td>0</td>\n",
       "      <td>0</td>\n",
       "      <td>0</td>\n",
       "      <td>1.299425</td>\n",
       "      <td>0.967136</td>\n",
       "      <td>115.8025</td>\n",
       "      <td>county</td>\n",
       "      <td>fb-survey</td>\n",
       "    </tr>\n",
       "    <tr>\n",
       "      <th>2</th>\n",
       "      <td>01003</td>\n",
       "      <td>smoothed_cli</td>\n",
       "      <td>2020-05-01</td>\n",
       "      <td>2020-09-03</td>\n",
       "      <td>125</td>\n",
       "      <td>0</td>\n",
       "      <td>0</td>\n",
       "      <td>0</td>\n",
       "      <td>0.696597</td>\n",
       "      <td>0.324753</td>\n",
       "      <td>584.3194</td>\n",
       "      <td>county</td>\n",
       "      <td>fb-survey</td>\n",
       "    </tr>\n",
       "    <tr>\n",
       "      <th>3</th>\n",
       "      <td>01015</td>\n",
       "      <td>smoothed_cli</td>\n",
       "      <td>2020-05-01</td>\n",
       "      <td>2020-09-03</td>\n",
       "      <td>125</td>\n",
       "      <td>0</td>\n",
       "      <td>0</td>\n",
       "      <td>0</td>\n",
       "      <td>0.428271</td>\n",
       "      <td>0.548566</td>\n",
       "      <td>122.5577</td>\n",
       "      <td>county</td>\n",
       "      <td>fb-survey</td>\n",
       "    </tr>\n",
       "    <tr>\n",
       "      <th>4</th>\n",
       "      <td>01031</td>\n",
       "      <td>smoothed_cli</td>\n",
       "      <td>2020-05-01</td>\n",
       "      <td>2020-09-03</td>\n",
       "      <td>125</td>\n",
       "      <td>0</td>\n",
       "      <td>0</td>\n",
       "      <td>0</td>\n",
       "      <td>0.025579</td>\n",
       "      <td>0.360827</td>\n",
       "      <td>114.8318</td>\n",
       "      <td>county</td>\n",
       "      <td>fb-survey</td>\n",
       "    </tr>\n",
       "  </tbody>\n",
       "</table>\n",
       "</div>"
      ],
      "text/plain": [
       "  geo_value        signal time_value  ... sample_size  geo_type  data_source\n",
       "0     01000  smoothed_cli 2020-05-01  ...   1722.4551    county    fb-survey\n",
       "1     01001  smoothed_cli 2020-05-01  ...    115.8025    county    fb-survey\n",
       "2     01003  smoothed_cli 2020-05-01  ...    584.3194    county    fb-survey\n",
       "3     01015  smoothed_cli 2020-05-01  ...    122.5577    county    fb-survey\n",
       "4     01031  smoothed_cli 2020-05-01  ...    114.8318    county    fb-survey\n",
       "\n",
       "[5 rows x 13 columns]"
      ]
     },
     "execution_count": 7,
     "metadata": {},
     "output_type": "execute_result"
    }
   ],
   "source": [
    "data.head()"
   ]
  },
  {
   "cell_type": "code",
   "execution_count": 27,
   "metadata": {
    "id": "dybnMhKqpR4U"
   },
   "outputs": [],
   "source": [
    "# Here's another example of doctors visits from dates 11-19-2020 to 2-14-2021\n",
    "# If I don't specify the state it will give me visits over all states on that day\n",
    "\n",
    "data = covidcast.signal(\"doctor-visits\", \"smoothed_adj_cli\", date(2020,11,19),\n",
    "                        date(2021, 1, 1), geo_type=\"state\")\n"
   ]
  },
  {
   "cell_type": "code",
   "execution_count": 28,
   "metadata": {
    "colab": {
     "base_uri": "https://localhost:8080/",
     "height": 202
    },
    "id": "qlCQRABrp265",
    "outputId": "79d767bf-cbcf-4a04-dcc6-4fb39274a769"
   },
   "outputs": [
    {
     "data": {
      "text/html": [
       "<div>\n",
       "<style scoped>\n",
       "    .dataframe tbody tr th:only-of-type {\n",
       "        vertical-align: middle;\n",
       "    }\n",
       "\n",
       "    .dataframe tbody tr th {\n",
       "        vertical-align: top;\n",
       "    }\n",
       "\n",
       "    .dataframe thead th {\n",
       "        text-align: right;\n",
       "    }\n",
       "</style>\n",
       "<table border=\"1\" class=\"dataframe\">\n",
       "  <thead>\n",
       "    <tr style=\"text-align: right;\">\n",
       "      <th></th>\n",
       "      <th>geo_value</th>\n",
       "      <th>signal</th>\n",
       "      <th>time_value</th>\n",
       "      <th>issue</th>\n",
       "      <th>lag</th>\n",
       "      <th>missing_value</th>\n",
       "      <th>missing_stderr</th>\n",
       "      <th>missing_sample_size</th>\n",
       "      <th>value</th>\n",
       "      <th>stderr</th>\n",
       "      <th>sample_size</th>\n",
       "      <th>geo_type</th>\n",
       "      <th>data_source</th>\n",
       "    </tr>\n",
       "  </thead>\n",
       "  <tbody>\n",
       "    <tr>\n",
       "      <th>0</th>\n",
       "      <td>ak</td>\n",
       "      <td>smoothed_adj_cli</td>\n",
       "      <td>2020-11-19</td>\n",
       "      <td>2021-01-31</td>\n",
       "      <td>73</td>\n",
       "      <td>0</td>\n",
       "      <td>5</td>\n",
       "      <td>5</td>\n",
       "      <td>4.794389</td>\n",
       "      <td>None</td>\n",
       "      <td>None</td>\n",
       "      <td>state</td>\n",
       "      <td>doctor-visits</td>\n",
       "    </tr>\n",
       "    <tr>\n",
       "      <th>1</th>\n",
       "      <td>al</td>\n",
       "      <td>smoothed_adj_cli</td>\n",
       "      <td>2020-11-19</td>\n",
       "      <td>2021-01-31</td>\n",
       "      <td>73</td>\n",
       "      <td>0</td>\n",
       "      <td>5</td>\n",
       "      <td>5</td>\n",
       "      <td>8.155846</td>\n",
       "      <td>None</td>\n",
       "      <td>None</td>\n",
       "      <td>state</td>\n",
       "      <td>doctor-visits</td>\n",
       "    </tr>\n",
       "    <tr>\n",
       "      <th>2</th>\n",
       "      <td>ar</td>\n",
       "      <td>smoothed_adj_cli</td>\n",
       "      <td>2020-11-19</td>\n",
       "      <td>2021-01-31</td>\n",
       "      <td>73</td>\n",
       "      <td>0</td>\n",
       "      <td>5</td>\n",
       "      <td>5</td>\n",
       "      <td>12.353495</td>\n",
       "      <td>None</td>\n",
       "      <td>None</td>\n",
       "      <td>state</td>\n",
       "      <td>doctor-visits</td>\n",
       "    </tr>\n",
       "    <tr>\n",
       "      <th>3</th>\n",
       "      <td>az</td>\n",
       "      <td>smoothed_adj_cli</td>\n",
       "      <td>2020-11-19</td>\n",
       "      <td>2021-01-31</td>\n",
       "      <td>73</td>\n",
       "      <td>0</td>\n",
       "      <td>5</td>\n",
       "      <td>5</td>\n",
       "      <td>10.337240</td>\n",
       "      <td>None</td>\n",
       "      <td>None</td>\n",
       "      <td>state</td>\n",
       "      <td>doctor-visits</td>\n",
       "    </tr>\n",
       "    <tr>\n",
       "      <th>4</th>\n",
       "      <td>ca</td>\n",
       "      <td>smoothed_adj_cli</td>\n",
       "      <td>2020-11-19</td>\n",
       "      <td>2021-01-31</td>\n",
       "      <td>73</td>\n",
       "      <td>0</td>\n",
       "      <td>5</td>\n",
       "      <td>5</td>\n",
       "      <td>12.001913</td>\n",
       "      <td>None</td>\n",
       "      <td>None</td>\n",
       "      <td>state</td>\n",
       "      <td>doctor-visits</td>\n",
       "    </tr>\n",
       "  </tbody>\n",
       "</table>\n",
       "</div>"
      ],
      "text/plain": [
       "  geo_value            signal time_value  ... sample_size  geo_type    data_source\n",
       "0        ak  smoothed_adj_cli 2020-11-19  ...        None     state  doctor-visits\n",
       "1        al  smoothed_adj_cli 2020-11-19  ...        None     state  doctor-visits\n",
       "2        ar  smoothed_adj_cli 2020-11-19  ...        None     state  doctor-visits\n",
       "3        az  smoothed_adj_cli 2020-11-19  ...        None     state  doctor-visits\n",
       "4        ca  smoothed_adj_cli 2020-11-19  ...        None     state  doctor-visits\n",
       "\n",
       "[5 rows x 13 columns]"
      ]
     },
     "execution_count": 28,
     "metadata": {},
     "output_type": "execute_result"
    }
   ],
   "source": [
    "data.head()"
   ]
  },
  {
   "cell_type": "code",
   "execution_count": 29,
   "metadata": {
    "id": "ui0wMZICtgw3"
   },
   "outputs": [],
   "source": [
    "# Or I can specify which state I want to look at\n",
    "data = covidcast.signal(\"doctor-visits\", \"smoothed_adj_cli\", date(2020,11,19),\n",
    "                        date(2021, 2, 14), geo_type=\"state\", geo_values=\"ca\")"
   ]
  },
  {
   "cell_type": "code",
   "execution_count": 30,
   "metadata": {
    "colab": {
     "base_uri": "https://localhost:8080/",
     "height": 202
    },
    "id": "76vRgsd0tqpp",
    "outputId": "60bf1d46-a836-417e-c221-c5ab1225bc64"
   },
   "outputs": [
    {
     "data": {
      "text/html": [
       "<div>\n",
       "<style scoped>\n",
       "    .dataframe tbody tr th:only-of-type {\n",
       "        vertical-align: middle;\n",
       "    }\n",
       "\n",
       "    .dataframe tbody tr th {\n",
       "        vertical-align: top;\n",
       "    }\n",
       "\n",
       "    .dataframe thead th {\n",
       "        text-align: right;\n",
       "    }\n",
       "</style>\n",
       "<table border=\"1\" class=\"dataframe\">\n",
       "  <thead>\n",
       "    <tr style=\"text-align: right;\">\n",
       "      <th></th>\n",
       "      <th>geo_value</th>\n",
       "      <th>signal</th>\n",
       "      <th>time_value</th>\n",
       "      <th>issue</th>\n",
       "      <th>lag</th>\n",
       "      <th>missing_value</th>\n",
       "      <th>missing_stderr</th>\n",
       "      <th>missing_sample_size</th>\n",
       "      <th>value</th>\n",
       "      <th>stderr</th>\n",
       "      <th>sample_size</th>\n",
       "      <th>geo_type</th>\n",
       "      <th>data_source</th>\n",
       "    </tr>\n",
       "  </thead>\n",
       "  <tbody>\n",
       "    <tr>\n",
       "      <th>0</th>\n",
       "      <td>ca</td>\n",
       "      <td>smoothed_adj_cli</td>\n",
       "      <td>2020-11-19</td>\n",
       "      <td>2021-01-31</td>\n",
       "      <td>73</td>\n",
       "      <td>0</td>\n",
       "      <td>5</td>\n",
       "      <td>5</td>\n",
       "      <td>12.001913</td>\n",
       "      <td>None</td>\n",
       "      <td>None</td>\n",
       "      <td>state</td>\n",
       "      <td>doctor-visits</td>\n",
       "    </tr>\n",
       "    <tr>\n",
       "      <th>0</th>\n",
       "      <td>ca</td>\n",
       "      <td>smoothed_adj_cli</td>\n",
       "      <td>2020-11-20</td>\n",
       "      <td>2021-02-01</td>\n",
       "      <td>73</td>\n",
       "      <td>0</td>\n",
       "      <td>5</td>\n",
       "      <td>5</td>\n",
       "      <td>12.648509</td>\n",
       "      <td>None</td>\n",
       "      <td>None</td>\n",
       "      <td>state</td>\n",
       "      <td>doctor-visits</td>\n",
       "    </tr>\n",
       "    <tr>\n",
       "      <th>0</th>\n",
       "      <td>ca</td>\n",
       "      <td>smoothed_adj_cli</td>\n",
       "      <td>2020-11-21</td>\n",
       "      <td>2021-02-02</td>\n",
       "      <td>73</td>\n",
       "      <td>0</td>\n",
       "      <td>5</td>\n",
       "      <td>5</td>\n",
       "      <td>13.103558</td>\n",
       "      <td>None</td>\n",
       "      <td>None</td>\n",
       "      <td>state</td>\n",
       "      <td>doctor-visits</td>\n",
       "    </tr>\n",
       "    <tr>\n",
       "      <th>0</th>\n",
       "      <td>ca</td>\n",
       "      <td>smoothed_adj_cli</td>\n",
       "      <td>2020-11-22</td>\n",
       "      <td>2021-02-03</td>\n",
       "      <td>73</td>\n",
       "      <td>0</td>\n",
       "      <td>5</td>\n",
       "      <td>5</td>\n",
       "      <td>14.299251</td>\n",
       "      <td>None</td>\n",
       "      <td>None</td>\n",
       "      <td>state</td>\n",
       "      <td>doctor-visits</td>\n",
       "    </tr>\n",
       "    <tr>\n",
       "      <th>0</th>\n",
       "      <td>ca</td>\n",
       "      <td>smoothed_adj_cli</td>\n",
       "      <td>2020-11-23</td>\n",
       "      <td>2021-02-04</td>\n",
       "      <td>73</td>\n",
       "      <td>0</td>\n",
       "      <td>5</td>\n",
       "      <td>5</td>\n",
       "      <td>16.211898</td>\n",
       "      <td>None</td>\n",
       "      <td>None</td>\n",
       "      <td>state</td>\n",
       "      <td>doctor-visits</td>\n",
       "    </tr>\n",
       "  </tbody>\n",
       "</table>\n",
       "</div>"
      ],
      "text/plain": [
       "  geo_value            signal time_value  ... sample_size  geo_type    data_source\n",
       "0        ca  smoothed_adj_cli 2020-11-19  ...        None     state  doctor-visits\n",
       "0        ca  smoothed_adj_cli 2020-11-20  ...        None     state  doctor-visits\n",
       "0        ca  smoothed_adj_cli 2020-11-21  ...        None     state  doctor-visits\n",
       "0        ca  smoothed_adj_cli 2020-11-22  ...        None     state  doctor-visits\n",
       "0        ca  smoothed_adj_cli 2020-11-23  ...        None     state  doctor-visits\n",
       "\n",
       "[5 rows x 13 columns]"
      ]
     },
     "execution_count": 30,
     "metadata": {},
     "output_type": "execute_result"
    }
   ],
   "source": [
    "data.head()"
   ]
  },
  {
   "cell_type": "code",
   "execution_count": 31,
   "metadata": {
    "id": "-foksENst3-h"
   },
   "outputs": [],
   "source": [
    "# I can also look at data from a select list of states\n",
    "stateList = ['ca', 'ny', 'mo']\n",
    "data = covidcast.signal(\"doctor-visits\", \"smoothed_adj_cli\", date(2020,11,19),\n",
    "                        date(2021, 2, 14), geo_type=\"state\", geo_values= stateList)"
   ]
  },
  {
   "cell_type": "code",
   "execution_count": 32,
   "metadata": {
    "colab": {
     "base_uri": "https://localhost:8080/",
     "height": 202
    },
    "id": "ihhktp53vI8o",
    "outputId": "a834b829-4f44-49d1-979b-584fb6f21125"
   },
   "outputs": [
    {
     "data": {
      "text/html": [
       "<div>\n",
       "<style scoped>\n",
       "    .dataframe tbody tr th:only-of-type {\n",
       "        vertical-align: middle;\n",
       "    }\n",
       "\n",
       "    .dataframe tbody tr th {\n",
       "        vertical-align: top;\n",
       "    }\n",
       "\n",
       "    .dataframe thead th {\n",
       "        text-align: right;\n",
       "    }\n",
       "</style>\n",
       "<table border=\"1\" class=\"dataframe\">\n",
       "  <thead>\n",
       "    <tr style=\"text-align: right;\">\n",
       "      <th></th>\n",
       "      <th>geo_value</th>\n",
       "      <th>signal</th>\n",
       "      <th>time_value</th>\n",
       "      <th>issue</th>\n",
       "      <th>lag</th>\n",
       "      <th>missing_value</th>\n",
       "      <th>missing_stderr</th>\n",
       "      <th>missing_sample_size</th>\n",
       "      <th>value</th>\n",
       "      <th>stderr</th>\n",
       "      <th>sample_size</th>\n",
       "      <th>geo_type</th>\n",
       "      <th>data_source</th>\n",
       "    </tr>\n",
       "  </thead>\n",
       "  <tbody>\n",
       "    <tr>\n",
       "      <th>0</th>\n",
       "      <td>ca</td>\n",
       "      <td>smoothed_adj_cli</td>\n",
       "      <td>2020-11-19</td>\n",
       "      <td>2021-01-31</td>\n",
       "      <td>73</td>\n",
       "      <td>0</td>\n",
       "      <td>5</td>\n",
       "      <td>5</td>\n",
       "      <td>12.001913</td>\n",
       "      <td>None</td>\n",
       "      <td>None</td>\n",
       "      <td>state</td>\n",
       "      <td>doctor-visits</td>\n",
       "    </tr>\n",
       "    <tr>\n",
       "      <th>1</th>\n",
       "      <td>mo</td>\n",
       "      <td>smoothed_adj_cli</td>\n",
       "      <td>2020-11-19</td>\n",
       "      <td>2021-01-31</td>\n",
       "      <td>73</td>\n",
       "      <td>0</td>\n",
       "      <td>5</td>\n",
       "      <td>5</td>\n",
       "      <td>16.679426</td>\n",
       "      <td>None</td>\n",
       "      <td>None</td>\n",
       "      <td>state</td>\n",
       "      <td>doctor-visits</td>\n",
       "    </tr>\n",
       "    <tr>\n",
       "      <th>2</th>\n",
       "      <td>ny</td>\n",
       "      <td>smoothed_adj_cli</td>\n",
       "      <td>2020-11-19</td>\n",
       "      <td>2021-01-31</td>\n",
       "      <td>73</td>\n",
       "      <td>0</td>\n",
       "      <td>5</td>\n",
       "      <td>5</td>\n",
       "      <td>17.764187</td>\n",
       "      <td>None</td>\n",
       "      <td>None</td>\n",
       "      <td>state</td>\n",
       "      <td>doctor-visits</td>\n",
       "    </tr>\n",
       "    <tr>\n",
       "      <th>0</th>\n",
       "      <td>ca</td>\n",
       "      <td>smoothed_adj_cli</td>\n",
       "      <td>2020-11-20</td>\n",
       "      <td>2021-02-01</td>\n",
       "      <td>73</td>\n",
       "      <td>0</td>\n",
       "      <td>5</td>\n",
       "      <td>5</td>\n",
       "      <td>12.648509</td>\n",
       "      <td>None</td>\n",
       "      <td>None</td>\n",
       "      <td>state</td>\n",
       "      <td>doctor-visits</td>\n",
       "    </tr>\n",
       "    <tr>\n",
       "      <th>1</th>\n",
       "      <td>mo</td>\n",
       "      <td>smoothed_adj_cli</td>\n",
       "      <td>2020-11-20</td>\n",
       "      <td>2021-02-01</td>\n",
       "      <td>73</td>\n",
       "      <td>0</td>\n",
       "      <td>5</td>\n",
       "      <td>5</td>\n",
       "      <td>16.479506</td>\n",
       "      <td>None</td>\n",
       "      <td>None</td>\n",
       "      <td>state</td>\n",
       "      <td>doctor-visits</td>\n",
       "    </tr>\n",
       "  </tbody>\n",
       "</table>\n",
       "</div>"
      ],
      "text/plain": [
       "  geo_value            signal time_value  ... sample_size  geo_type    data_source\n",
       "0        ca  smoothed_adj_cli 2020-11-19  ...        None     state  doctor-visits\n",
       "1        mo  smoothed_adj_cli 2020-11-19  ...        None     state  doctor-visits\n",
       "2        ny  smoothed_adj_cli 2020-11-19  ...        None     state  doctor-visits\n",
       "0        ca  smoothed_adj_cli 2020-11-20  ...        None     state  doctor-visits\n",
       "1        mo  smoothed_adj_cli 2020-11-20  ...        None     state  doctor-visits\n",
       "\n",
       "[5 rows x 13 columns]"
      ]
     },
     "execution_count": 32,
     "metadata": {},
     "output_type": "execute_result"
    }
   ],
   "source": [
    "data.head()"
   ]
  },
  {
   "cell_type": "markdown",
   "metadata": {
    "id": "O0_fhpkgyMSw"
   },
   "source": [
    "COVIDCast has a short tutorial with a few more function calls that can be found here:\n",
    "\n",
    "https://cmu-delphi.github.io/covidcast/covidcast-py/html/getting_started.html"
   ]
  },
  {
   "cell_type": "markdown",
   "metadata": {
    "id": "HxayoEeasNut"
   },
   "source": [
    "## COVIDCast Practice Set (10 points)\n",
    "\n",
    "This ipnb is found in the project folder\n"
   ]
  },
  {
   "cell_type": "markdown",
   "metadata": {
    "id": "0OUnbdsuvown"
   },
   "source": [
    "### Working with geographic codes"
   ]
  },
  {
   "cell_type": "markdown",
   "metadata": {
    "id": "1oOBpkEBp_jI"
   },
   "source": [
    "Get the FIPS codes for Los Angeles county, Santa Barbara county, and Orange county."
   ]
  },
  {
   "cell_type": "code",
   "execution_count": null,
   "metadata": {
    "id": "9Awj0BmlqBxR"
   },
   "outputs": [],
   "source": []
  },
  {
   "cell_type": "markdown",
   "metadata": {
    "id": "CSdfx3uZqCIe"
   },
   "source": [
    "Find out which counties correspond to the FIPS 06059 and 42003."
   ]
  },
  {
   "cell_type": "code",
   "execution_count": null,
   "metadata": {
    "id": "b-aUFM5yqC5I"
   },
   "outputs": [],
   "source": []
  },
  {
   "cell_type": "markdown",
   "metadata": {
    "id": "qOfSFSECqDU6"
   },
   "source": [
    "Find the FIPS of all counties in California. Create and print out a dictionary that maps county names to FIPS for all the counties in California. Hint: Look at the last example from https://cmu-delphi.github.io/covidcast/covidcast-py/html/getting_started.html."
   ]
  },
  {
   "cell_type": "code",
   "execution_count": null,
   "metadata": {
    "id": "LEJJ1sN0qDyk"
   },
   "outputs": [],
   "source": []
  },
  {
   "cell_type": "markdown",
   "metadata": {
    "id": "QAalhYNAvubL"
   },
   "source": [
    "### Fetching and merging data"
   ]
  },
  {
   "cell_type": "markdown",
   "metadata": {
    "id": "ChCxeZUbrG1J"
   },
   "source": [
    "Get the number of daily new Covid cases in the California, New York, and Texas from May 2020 to July 2020 by fetching the \"US Facts Cases and Deaths\" data source (https://cmu-delphi.github.io/delphi-epidata/api/covidcast-signals/usa-facts.html). "
   ]
  },
  {
   "cell_type": "code",
   "execution_count": null,
   "metadata": {
    "id": "2dF9ij22rHLx"
   },
   "outputs": [],
   "source": []
  },
  {
   "cell_type": "markdown",
   "metadata": {
    "id": "S1rJHix3znJ6"
   },
   "source": [
    "Get the daily percentages of doctor visits that are related to Covid in California, New York, and Texas from May 2020 to July 2020 by fetching the \"Doctor Visits\" data source (https://cmu-delphi.github.io/delphi-epidata/api/covidcast-signals/doctor-visits.html)."
   ]
  },
  {
   "cell_type": "code",
   "execution_count": null,
   "metadata": {
    "id": "wgIwyRPC1ZBn"
   },
   "outputs": [],
   "source": []
  },
  {
   "cell_type": "markdown",
   "metadata": {
    "id": "ZT1a-KP11a1T"
   },
   "source": [
    "Merge the two tables using the covidcast.aggregate_signals method."
   ]
  },
  {
   "cell_type": "code",
   "execution_count": null,
   "metadata": {
    "id": "oFzmgNV81aDv"
   },
   "outputs": [],
   "source": []
  },
  {
   "cell_type": "markdown",
   "metadata": {
    "id": "dAJI1C4Gvpc-"
   },
   "source": [
    "## The Rest of the Project"
   ]
  },
  {
   "cell_type": "markdown",
   "metadata": {
    "id": "r64D6DO0wZig"
   },
   "source": [
    "### Data Preparation (25 points)\n",
    "* Create a notebook called data preparation.ipynb\n",
    "* Collect and merge data from the sources listed in the project description pdf\n",
    "* Calculate the ground-truth number of covid cases \n",
    "* Collect data from at least 5 signals from the data sources listed on the project description"
   ]
  },
  {
   "cell_type": "markdown",
   "metadata": {
    "id": "tZaNLEw5xDdE"
   },
   "source": [
    "### Create a Time Series Model (25 points)\n",
    "* Create a notebook named time series.ipynb\n",
    "* Create and train 2 models based on the data you collected (an interpretable model and a complex model)\n"
   ]
  },
  {
   "cell_type": "markdown",
   "metadata": {
    "id": "FmNazLSoxbXe"
   },
   "source": [
    "### Summarize Your Data (25 points)\n",
    "Write a short (1-2 pages) summary of your project"
   ]
  },
  {
   "cell_type": "markdown",
   "metadata": {
    "id": "FmnO94NQxxY1"
   },
   "source": [
    "### Poster Presentation (15 points)\n",
    "Prepare a poster about your project\n"
   ]
  }
 ],
 "metadata": {
  "colab": {
   "collapsed_sections": [],
   "name": "Covidcast_practice_Demo.ipynb",
   "provenance": []
  },
  "kernelspec": {
   "display_name": "Python 3",
   "language": "python",
   "name": "python3"
  },
  "language_info": {
   "codemirror_mode": {
    "name": "ipython",
    "version": 3
   },
   "file_extension": ".py",
   "mimetype": "text/x-python",
   "name": "python",
   "nbconvert_exporter": "python",
   "pygments_lexer": "ipython3",
   "version": "3.8.8"
  }
 },
 "nbformat": 4,
 "nbformat_minor": 4
}
